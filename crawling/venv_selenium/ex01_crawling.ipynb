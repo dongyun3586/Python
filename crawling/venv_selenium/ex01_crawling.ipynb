{
 "cells": [
  {
   "cell_type": "markdown",
   "metadata": {},
   "source": [
    "### 1. 웹 페이지 Title 가져오기"
   ]
  },
  {
   "cell_type": "code",
   "execution_count": 1,
   "metadata": {},
   "outputs": [],
   "source": [
    "# 1. 크롤링 라이브러리 임포트\n",
    "import requests                 # 웹 페이지 가져오는 라이브러리\n",
    "from bs4 import BeautifulSoup   # 웹 페이지 분석 라이브러리 "
   ]
  },
  {
   "cell_type": "code",
   "execution_count": null,
   "metadata": {},
   "outputs": [],
   "source": [
    "# 2. 웹 페이지 가져오기 => requests 모듈 사용\n",
    "res = requests.get('http://gsm.gen.hs.kr/main/main.php')\n",
    "print('res', type(res))\n",
    "print('res.content', type(res.content))\n",
    "res.content"
   ]
  },
  {
   "cell_type": "code",
   "execution_count": null,
   "metadata": {},
   "outputs": [],
   "source": [
    "# 3. 웹 페이지 파싱 => BeautifulSoup 모듈 사용\n",
    "soup = BeautifulSoup(res.content, 'html.parser')\n",
    "print('soup', type(soup))\n",
    "print(soup)"
   ]
  },
  {
   "cell_type": "code",
   "execution_count": 16,
   "metadata": {},
   "outputs": [
    {
     "name": "stdout",
     "output_type": "stream",
     "text": [
      "<class 'bs4.element.Tag'>\n",
      "<title>광주소프트웨어마이스터고등학교</title>\n",
      "광주소프트웨어마이스터고등학교\n"
     ]
    }
   ],
   "source": [
    "# 4. 필요한 데이터 추출 => BeautifulSoup 모듈 사용\n",
    "mydata = soup.find('title')      # title 태그의 내용 추출 \n",
    "print(type(mydata))\n",
    "print(mydata)\n",
    "print(mydata.text)"
   ]
  },
  {
   "cell_type": "code",
   "execution_count": 17,
   "metadata": {},
   "outputs": [
    {
     "name": "stdout",
     "output_type": "stream",
     "text": [
      "광주소프트웨어마이스터고등학교\n"
     ]
    }
   ],
   "source": [
    "# 1. 크롤링 라이브러리 임포트\n",
    "import requests                 # 웹 페이지 가져오는 라이브러리\n",
    "from bs4 import BeautifulSoup   # 웹 페이지 분석 라이브러리 \n",
    "\n",
    "# 2. 웹 페이지 가져오기 => requests 모듈 사용\n",
    "res = requests.get('http://gsm.gen.hs.kr/main/main.php')\n",
    "\n",
    "# 3. 웹 페이지 파싱 => BeautifulSoup 모듈 사용\n",
    "soup = BeautifulSoup(res.content, 'html.parser')\n",
    "\n",
    "# 4. 필요한 데이터 추출 => BeautifulSoup 모듈 사용\n",
    "mydata = soup.find('title')      \n",
    "print(mydata.text)"
   ]
  },
  {
   "cell_type": "markdown",
   "metadata": {},
   "source": [
    "### 2. HTML 페이지에서 필요한 데이터 추출 방법 살펴보기"
   ]
  },
  {
   "cell_type": "code",
   "execution_count": null,
   "metadata": {},
   "outputs": [],
   "source": [
    "from bs4 import BeautifulSoup\n",
    "\n",
    "html = '''\n",
    "<html> \n",
    "  <head>\n",
    "    <title>광주소프트웨어마이스터고등학교</title>\n",
    "  </head>\n",
    "  <body> \n",
    "    <h1 id='title'>[1]크롤링이란?</h1> \n",
    "    <p class='cssstyle'>p1 웹페이지에서 필요한 데이터를 추출하는 것</p> \n",
    "    <p id='p2' align='center'>p2 파이썬을 중심으로 다양한 웹크롤링 기술 발달</p> \n",
    "  </body> \n",
    "</html>\n",
    "'''\n",
    "\n",
    "soup = BeautifulSoup(html, 'html.parser')"
   ]
  },
  {
   "cell_type": "code",
   "execution_count": null,
   "metadata": {},
   "outputs": [
    {
     "name": "stdout",
     "output_type": "stream",
     "text": [
      "광주소프트웨어마이스터고등학교\n",
      "p1 웹페이지에서 필요한 데이터를 추출하는 것\n",
      "p1 웹페이지에서 필요한 데이터를 추출하는 것\n",
      "p2 파이썬을 중심으로 다양한 웹크롤링 기술 발달\n",
      "p2 파이썬을 중심으로 다양한 웹크롤링 기술 발달\n"
     ]
    }
   ],
   "source": [
    "# find() 함수에서 태그로 가져오기\n",
    "print(soup.find('title').get_text())\n",
    "print(soup.find('p').get_text())\n",
    "print(soup.find('p', class_='cssstyle').get_text())          # class_= '' => 생략가능(값만 적을 수 있다.)\n",
    "print(soup.find('p', attrs={'align': 'center'}).get_text())  # attrs={:} => 속성과 속성값으로 추출\n",
    "print(soup.find(id='p2').get_text())"
   ]
  },
  {
   "cell_type": "code",
   "execution_count": 25,
   "metadata": {},
   "outputs": [
    {
     "name": "stdout",
     "output_type": "stream",
     "text": [
      "p1 웹페이지에서 필요한 데이터를 추출하는 것\n",
      "p2 파이썬을 중심으로 다양한 웹크롤링 기술 발달\n"
     ]
    }
   ],
   "source": [
    "# find_all() 함수로 해당 요소 모두 가져오기\n",
    "paragraph_data = soup.find_all('p')  # 리스트 형태로 반환됨.\n",
    "\n",
    "for paragraph in paragraph_data:\n",
    "    print(paragraph.get_text())"
   ]
  },
  {
   "cell_type": "code",
   "execution_count": 32,
   "metadata": {},
   "outputs": [
    {
     "name": "stdout",
     "output_type": "stream",
     "text": [
      "교직원소개\n",
      "교무기획부\n",
      "교육연구부\n",
      "학생생활안전부\n",
      "전문교육부\n",
      "마이스터부\n",
      "취업진로교육부\n",
      "창체방과후교육부\n",
      "인문교육부\n",
      "1학년부\n",
      "2학년부\n",
      "3학년부\n",
      "개별화지원팀\n",
      "건강관리지원팀\n",
      "행정실[본관1층]\n"
     ]
    }
   ],
   "source": [
    "import requests\n",
    "from bs4 import BeautifulSoup\n",
    "\n",
    "res = requests.get('http://gsm.gen.hs.kr/sub/page.php?page_code=info_08')\n",
    "soup = BeautifulSoup(res.content, 'html.parser')\n",
    "\n",
    "all_group = soup.find_all('h4')\n",
    "\n",
    "for group in all_group:\n",
    "    print(group.get_text())"
   ]
  },
  {
   "cell_type": "markdown",
   "metadata": {},
   "source": [
    "### 3. CSS Selector 사용하기"
   ]
  },
  {
   "cell_type": "code",
   "execution_count": 1,
   "metadata": {},
   "outputs": [
    {
     "name": "stdout",
     "output_type": "stream",
     "text": [
      "교직원소개\n",
      "교무기획부\n",
      "교육연구부\n",
      "학생생활안전부\n",
      "전문교육부\n",
      "마이스터부\n",
      "취업진로교육부\n",
      "창체방과후교육부\n",
      "인문교육부\n",
      "1학년부\n",
      "2학년부\n",
      "3학년부\n",
      "개별화지원팀\n",
      "건강관리지원팀\n",
      "행정실[본관1층]\n"
     ]
    }
   ],
   "source": [
    "import requests\n",
    "from bs4 import BeautifulSoup\n",
    "\n",
    "res = requests.get('http://gsm.gen.hs.kr/sub/page.php?page_code=info_08')\n",
    "soup = BeautifulSoup(res.content, 'html.parser')\n",
    "\n",
    "all_group = soup.select('h4')\n",
    "\n",
    "for group in all_group:\n",
    "    print(group.get_text())"
   ]
  },
  {
   "cell_type": "code",
   "execution_count": 2,
   "metadata": {},
   "outputs": [
    {
     "name": "stdout",
     "output_type": "stream",
     "text": [
      "교직원소개\n",
      "교무기획부\n",
      "교육연구부\n",
      "학생생활안전부\n",
      "전문교육부\n",
      "마이스터부\n",
      "취업진로교육부\n",
      "창체방과후교육부\n",
      "인문교육부\n",
      "1학년부\n",
      "2학년부\n",
      "3학년부\n",
      "개별화지원팀\n",
      "건강관리지원팀\n",
      "행정실[본관1층]\n"
     ]
    }
   ],
   "source": [
    "items = soup.select('html body h4')  # 태그 경로 나열\n",
    "\n",
    "for item in items:\n",
    "    print (item.get_text())"
   ]
  },
  {
   "cell_type": "code",
   "execution_count": 5,
   "metadata": {},
   "outputs": [
    {
     "name": "stdout",
     "output_type": "stream",
     "text": [
      "학교소개\n"
     ]
    }
   ],
   "source": [
    "# > 바로 아래 태그 => h2 태그 바로 아래 span 태그\n",
    "items = soup.select('h2 > span')  # 'h2'\n",
    "\n",
    "for item in items:\n",
    "    print (item.get_text())"
   ]
  },
  {
   "cell_type": "code",
   "execution_count": 9,
   "metadata": {},
   "outputs": [
    {
     "name": "stdout",
     "output_type": "stream",
     "text": [
      "교직원소개\n",
      "교무기획부\n",
      "교육연구부\n",
      "학생생활안전부\n",
      "전문교육부\n",
      "마이스터부\n",
      "취업진로교육부\n",
      "창체방과후교육부\n",
      "인문교육부\n",
      "1학년부\n",
      "2학년부\n",
      "3학년부\n",
      "개별화지원팀\n",
      "건강관리지원팀\n",
      "행정실[본관1층]\n"
     ]
    }
   ],
   "source": [
    "# '.클래스명'\n",
    "items = soup.select('.cStyle.MAT20')\n",
    "\n",
    "for item in items:\n",
    "    print (item.get_text())"
   ]
  },
  {
   "cell_type": "code",
   "execution_count": 48,
   "metadata": {},
   "outputs": [
    {
     "name": "stdout",
     "output_type": "stream",
     "text": [
      "[학교소개] [입학안내] [학교소식] [교육마당] [학생마당] [연구학교] [취업/진로] [정보공개 참여] [인트라넷] \n",
      "['인사말', '학교연혁', '학교현황', '학교상징', '교훈&교가', '교육목표', '학과소개', '교직원소개', '홍보동영상', '학교규칙', '찾아오시는길', '학교알리미']\n"
     ]
    },
    {
     "ename": "ValueError",
     "evalue": "too many values to unpack (expected 2)",
     "output_type": "error",
     "traceback": [
      "\u001b[1;31m---------------------------------------------------------------------------\u001b[0m",
      "\u001b[1;31mValueError\u001b[0m                                Traceback (most recent call last)",
      "\u001b[1;32mC:\\Users\\ADMINI~1\\AppData\\Local\\Temp/ipykernel_29540/3050703205.py\u001b[0m in \u001b[0;36m<module>\u001b[1;34m\u001b[0m\n\u001b[0;32m     16\u001b[0m     \u001b[0mzzz\u001b[0m\u001b[1;33m.\u001b[0m\u001b[0mappend\u001b[0m\u001b[1;33m(\u001b[0m\u001b[1;33m[\u001b[0m\u001b[0mi\u001b[0m\u001b[1;33m.\u001b[0m\u001b[0mget_text\u001b[0m\u001b[1;33m(\u001b[0m\u001b[1;33m)\u001b[0m \u001b[1;32mfor\u001b[0m \u001b[0mi\u001b[0m \u001b[1;32min\u001b[0m \u001b[0mitems\u001b[0m\u001b[1;33m]\u001b[0m\u001b[1;33m)\u001b[0m\u001b[1;33m\u001b[0m\u001b[1;33m\u001b[0m\u001b[0m\n\u001b[0;32m     17\u001b[0m \u001b[1;33m\u001b[0m\u001b[0m\n\u001b[1;32m---> 18\u001b[1;33m \u001b[1;32mfor\u001b[0m \u001b[0mi\u001b[0m\u001b[1;33m,\u001b[0m \u001b[0mitem\u001b[0m \u001b[1;32min\u001b[0m \u001b[0mzzz\u001b[0m\u001b[1;33m:\u001b[0m\u001b[1;33m\u001b[0m\u001b[1;33m\u001b[0m\u001b[0m\n\u001b[0m\u001b[0;32m     19\u001b[0m     \u001b[0mprint\u001b[0m\u001b[1;33m(\u001b[0m\u001b[0mitem\u001b[0m\u001b[1;33m[\u001b[0m\u001b[0mi\u001b[0m\u001b[1;33m]\u001b[0m\u001b[1;33m)\u001b[0m\u001b[1;33m\u001b[0m\u001b[1;33m\u001b[0m\u001b[0m\n\u001b[0;32m     20\u001b[0m \u001b[1;33m\u001b[0m\u001b[0m\n",
      "\u001b[1;31mValueError\u001b[0m: too many values to unpack (expected 2)"
     ]
    }
   ],
   "source": [
    "# '#id명'\n",
    "top_menu = soup.select('#topMenu > li > a')\n",
    "\n",
    "for item in top_menu:\n",
    "    print (f'[{item.get_text()}]', end=' ')\n",
    "print()\n",
    "\n",
    "\n",
    "items = soup.select('#topMenu1Sub .depth_link2')\n",
    "a = [i.get_text() for i in items]\n",
    "print(a)\n",
    "\n",
    "zzz = []\n",
    "for i, item in enumerate(range(len(top_menu)), start=1):\n",
    "    items = soup.select(f'#topMenu{i}Sub .depth_link2')\n",
    "    zzz.append([i.get_text() for i in items])\n",
    "    \n",
    "for i, item in zzz:\n",
    "    print(item[i])\n",
    "\n",
    "# for item in items:\n",
    "#     print (item.get_text())\n",
    "    \n",
    "# items\n",
    "\n",
    "# sub_menus = []\n",
    "# for i in range(len(top_menu)):\n",
    "#     sub_menu = soup.select(f'#topMenu{i+1}Sub > ul > li:nth-child(1) > a')\n",
    "#     print(sub_menu)\n",
    "#     # l = [i.get_text() for i in sub_menu]\n",
    "#     # print(l)\n",
    "#     # sub_menus.append(l)\n",
    "\n",
    "# sub_menus\n",
    "\n",
    "# for i, item in enumerate(sub_menu, start=1):\n",
    "#     print (item.get_text())\n",
    "\n",
    "# items = soup.select('#topMenu1 > a')\n",
    "# # print(items, type(items))\n",
    "\n",
    "# for item in items:\n",
    "#     print (item.get_text())"
   ]
  },
  {
   "cell_type": "markdown",
   "metadata": {},
   "source": [
    "### 4. 학교 소식(공지사항) 가져오기"
   ]
  },
  {
   "cell_type": "code",
   "execution_count": null,
   "metadata": {},
   "outputs": [],
   "source": [
    "# 1. 크롤링 라이브러리 임포트\n",
    "import requests                 # 웹 페이지 가져오는 라이브러리\n",
    "from bs4 import BeautifulSoup   # 웹 페이지 분석 라이브러리 \n",
    "\n",
    "# 2. 웹 페이지 가져오기 => requests 모듈 사용\n",
    "res = requests.get('http://gsm.gen.hs.kr/xboard/board.php?tbnum=3')\n",
    "\n",
    "# 3. 웹 페이지 파싱 => BeautifulSoup 모듈 사용\n",
    "soup = BeautifulSoup(res.content, 'html.parser')\n",
    "\n",
    "# 4. 필요한 데이터 추출 => BeautifulSoup 모듈 사용\n",
    "mydata = soup.find_all('td')     \n",
    "print(type(mydata)) \n",
    "print(len(mydata))\n",
    "mydata"
   ]
  },
  {
   "cell_type": "code",
   "execution_count": null,
   "metadata": {},
   "outputs": [],
   "source": [
    "# 4. 필요한 데이터 추출 => BeautifulSoup 모듈 사용\n",
    "mydata = soup.find_all('td', class_='left')   # id='id이름', attrs = {'속성': '속성값', ...}    \n",
    "print(type(mydata)) \n",
    "print(len(mydata))\n",
    "mydata"
   ]
  },
  {
   "cell_type": "code",
   "execution_count": null,
   "metadata": {},
   "outputs": [],
   "source": [
    "for i in mydata:\n",
    "  print(i.text)"
   ]
  },
  {
   "cell_type": "code",
   "execution_count": null,
   "metadata": {},
   "outputs": [],
   "source": []
  }
 ],
 "metadata": {
  "interpreter": {
   "hash": "1b962963a6bb670d7ed207e7afec9dc3d3102a18b62a5651cb056d257a210f2c"
  },
  "kernelspec": {
   "display_name": "Python 3.8.8 64-bit (conda)",
   "language": "python",
   "name": "python3"
  },
  "language_info": {
   "codemirror_mode": {
    "name": "ipython",
    "version": 3
   },
   "file_extension": ".py",
   "mimetype": "text/x-python",
   "name": "python",
   "nbconvert_exporter": "python",
   "pygments_lexer": "ipython3",
   "version": "3.8.8"
  },
  "orig_nbformat": 4
 },
 "nbformat": 4,
 "nbformat_minor": 2
}
