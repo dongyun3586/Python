{
 "cells": [
  {
   "cell_type": "code",
   "execution_count": 1,
   "metadata": {},
   "outputs": [
    {
     "name": "stdout",
     "output_type": "stream",
     "text": [
      "입력: 0 0 출력: 0\n",
      "입력: 0 1 출력: 0\n",
      "입력: 1 0 출력: 0\n",
      "입력: 1 1 출력: 1\n"
     ]
    }
   ],
   "source": [
    "# and gate problem using singlelayer perceptron\n",
    "\n",
    "w1 = 0.5; w2 = 0.5; b = -0.5    \n",
    "\n",
    "def perceptron(x1, x2):\n",
    "    y = w1 * x1 + w2 * x2 + b\n",
    "    if y > 0:\n",
    "        return 1\n",
    "    else:\n",
    "        return 0\n",
    "    \n",
    "for x1, x2 in [(0,0), (0,1), (1,0), (1,1)]:\n",
    "    print(f'입력: {x1} {x2}', f'출력: {perceptron(x1, x2)}')"
   ]
  },
  {
   "cell_type": "code",
   "execution_count": 2,
   "metadata": {},
   "outputs": [
    {
     "name": "stdout",
     "output_type": "stream",
     "text": [
      "입력: 0 0 출력: 0\n",
      "입력: 0 1 출력: 1\n",
      "입력: 1 0 출력: 1\n",
      "입력: 1 1 출력: 1\n"
     ]
    }
   ],
   "source": [
    "# or problem using singlelayer perceptron\n",
    "\n",
    "w1 = 0.5; w2 = 0.5; b = 0      \n",
    "\n",
    "def perceptron(x1, x2):\n",
    "    y = w1 * x1 + w2 * x2 + b\n",
    "    if y > 0:\n",
    "        return 1\n",
    "    else:\n",
    "        return 0\n",
    "    \n",
    "for x1, x2 in [(0,0), (0,1), (1,0), (1,1)]:\n",
    "    print(f'입력: {x1} {x2}', f'출력: {perceptron(x1, x2)}')"
   ]
  },
  {
   "cell_type": "code",
   "execution_count": 3,
   "metadata": {},
   "outputs": [
    {
     "name": "stdout",
     "output_type": "stream",
     "text": [
      "입력: 0 0 출력: 0\n",
      "입력: 0 1 출력: 1\n",
      "입력: 1 0 출력: 1\n",
      "입력: 1 1 출력: 0\n"
     ]
    }
   ],
   "source": [
    "# xor problem using multilayer perceptron\n",
    "\n",
    "def p0(x1, x2):\n",
    "    w1 = 1; w2 = 1; b = -0.5\n",
    "    y = w1 * x1 + w2 * x2 + b\n",
    "    return 1 if y>0 else 0\n",
    "\n",
    "def p1(x1, x2):\n",
    "    w1 = 1; w2 = 1; b = -1.5\n",
    "    y = w1 * x1 + w2 * x2 + b\n",
    "    return 1 if y>0 else 0\n",
    "    \n",
    "def p2(x1, x2):\n",
    "    w1 = 1; w2 = -1; b = -0.5\n",
    "    y = w1 * x1 + w2 * x2 + b\n",
    "    return 1 if y>0 else 0\n",
    "    \n",
    "for x1, x2 in [(0,0), (0,1), (1,0), (1,1)]:\n",
    "    print(f'입력: {x1} {x2}', f'출력: {p2(p0(x1, x2), p1(x1, x2))}')"
   ]
  },
  {
   "cell_type": "code",
   "execution_count": null,
   "metadata": {},
   "outputs": [],
   "source": []
  }
 ],
 "metadata": {
  "interpreter": {
   "hash": "7a3c7b4c5e3816ac2391b7189949e6af38bce009978b7aa5979086d0284bc580"
  },
  "kernelspec": {
   "display_name": "Python 3.9.7 64-bit ('venv_selenium': venv)",
   "language": "python",
   "name": "python3"
  },
  "language_info": {
   "codemirror_mode": {
    "name": "ipython",
    "version": 3
   },
   "file_extension": ".py",
   "mimetype": "text/x-python",
   "name": "python",
   "nbconvert_exporter": "python",
   "pygments_lexer": "ipython3",
   "version": "3.9.7"
  },
  "orig_nbformat": 4
 },
 "nbformat": 4,
 "nbformat_minor": 2
}
