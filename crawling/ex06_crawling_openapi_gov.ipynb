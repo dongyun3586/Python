{
 "cells": [
  {
   "cell_type": "markdown",
   "metadata": {},
   "source": [
    "## 다양한 Open API 사용하기\n",
    "\n",
    "### 정부3.0 공공 데이터 포털 API 사용하기\n",
    "\n",
    "* 공공 데이터 포털 가입하기\n",
    "  - https://www.data.go.kr\n",
    "  - 회원가입 -> 로그인 -> '한국환경공단_대기오염정보' 으로 검색 후, 해당 Open API 페이지로 이동\n",
    "     > 공공 데이터 포털은 공인된 기관임에도 아쉽게도, 메뉴와 Open API 가 링크 등이 수시로 바뀌고 있습니다. \n",
    "  - 해당 API 에서 활용신청을 통해 인증키를 발급받은 후, 샘플코드 또는 페이지에 링크되어 있는 문서 또는 가이드를 기반으로 테스트 진행\n",
    "  \n",
    "   <img src=\"https://www.fun-coding.org/00_Images/governapi.png\" />  \n",
    "    "
   ]
  },
  {
   "cell_type": "markdown",
   "metadata": {},
   "source": [
    "- JSON 이외에 XML 포멧으로 데이터를 다루는 경우도 많음\n",
    "  - XML 관련 내용은 '다양한 데이터 읽기 - XML 파일' 참조"
   ]
  },
  {
   "cell_type": "code",
   "execution_count": null,
   "metadata": {},
   "outputs": [],
   "source": [
    "import requests\n",
    "\n",
    "service_key = 'SbodTX2jEFoJXHp33uT4jeUkGQ6R10KeZq83Nv%2FdwJFHeilpd3RHVEBzjYggD24QEj2lSYWclol78T1h%2BKD%2B4g%3D%3D'\n",
    "params = '&returnType=json&numOfRows=100&pageNo=1&sidoName=광주&ver=1.0'\n",
    "open_api = 'http://apis.data.go.kr/B552584/ArpltnInforInqireSvc/getCtprvnRltmMesureDnsty?ServiceKey=' + service_key + params\n",
    "\n",
    "res = requests.get(open_api)\n",
    "\n",
    "data = res.json()\n",
    "\n",
    "# print(data['response']['body']['items'])\n",
    "\n",
    "for item in data['response']['body']['items']:\n",
    "    print(item)"
   ]
  },
  {
   "cell_type": "markdown",
   "metadata": {},
   "source": [
    "### 공공데이터포털 Open API 예제\n",
    "- https://www.data.go.kr/data/15000581/openapi.do"
   ]
  },
  {
   "cell_type": "code",
   "execution_count": null,
   "metadata": {},
   "outputs": [],
   "source": [
    "# Python 샘플 코드 #\n",
    "\n",
    "\n",
    "from urllib2 import Request, urlopen\n",
    "from urllib import urlencode, quote_plus\n",
    "\n",
    "url = 'http://openapi.airkorea.or.kr/openapi/services/rest/ArpltnInforInqireSvc/getMsrstnAcctoRltmMesureDnsty'\n",
    "queryParams = '?' + urlencode({ quote_plus('ServiceKey') : '서비스키', quote_plus('numOfRows') : '10', quote_plus('pageNo') : '1', quote_plus('stationName') : '종로구', quote_plus('dataTerm') : 'DAILY', quote_plus('ver') : '1.3' })\n",
    "\n",
    "request = Request(url + queryParams)\n",
    "request.get_method = lambda: 'GET'\n",
    "response_body = urlopen(request).read()\n",
    "print response_body"
   ]
  },
  {
   "cell_type": "markdown",
   "metadata": {},
   "source": [
    "## 다양한 데이터 읽기 - XML"
   ]
  },
  {
   "cell_type": "markdown",
   "metadata": {},
   "source": [
    "* XML(Extensible Markup Language)\n",
    "  - 특정 목적에 따라 데이터를 태그로 감싸서 마크업하는 범용적인 포멧\n",
    "  - 마크업 언어는 태그 등을 이용하여 데이터의 구조를 기술하는 언어의 한 가지\n",
    "  - 가장 친숙한 마크업 언어가 HTML\n",
    "  - XML은 HTML과 마찬가지로 데이터를 계층 구조로 표현\n",
    "  - XML 기본 구조\n",
    "  <pre>\n",
    "  <태그 속성=\"속성값\">내용</태그>\n",
    "  </pre>"
   ]
  },
  {
   "cell_type": "markdown",
   "metadata": {},
   "source": [
    "    - 태그와 속성은 특정 목적에 따라 임의로 이름을 정해서 사용"
   ]
  },
  {
   "cell_type": "raw",
   "metadata": {},
   "source": [
    "  <product id=\"M001\" price=\"300000\">32인치 LCD 모니터</product>"
   ]
  },
  {
   "cell_type": "markdown",
   "metadata": {},
   "source": [
    "    - 다른 요소와 그룹으로 묶을 수도 있음"
   ]
  },
  {
   "cell_type": "raw",
   "metadata": {},
   "source": [
    "  <products type=\"전자제품?>\n",
    "      <product id=\"M001\" price=\"300000\">32인치 LCD 모니터</product>\n",
    "      <product id=\"M002\" price=\"210000\">24인치 LCD 모니터</product>\n",
    "  </products>"
   ]
  },
  {
   "cell_type": "code",
   "execution_count": 21,
   "metadata": {},
   "outputs": [
    {
     "name": "stdout",
     "output_type": "stream",
     "text": [
      "중구 1\n",
      "한강대로 1\n",
      "종로구 1\n",
      "청계천로 \n",
      "종로 1\n",
      "용산구 1\n",
      "광진구 1\n",
      "성동구 1\n",
      "강변북로 1\n",
      "중랑구 1\n"
     ]
    }
   ],
   "source": [
    "import requests\n",
    "from bs4 import BeautifulSoup\n",
    "\n",
    "service_key = 'WMV3wl%2BU%2BMG%2FOYQK3Wv99q1H79wjvVwIwHEjvrDV3K4gG2h9P1%2BKiB%2FFa1QoYI0yxBpJ3sm1L0OAEam9Rp2sbw%3D%3D'\n",
    "params = '&numOfRows=10&pageNo=1&sidoName=서울&searchCondition=DAILY'\n",
    "open_api = 'http://openapi.airkorea.or.kr/openapi/services/rest/ArpltnInforInqireSvc/getCtprvnRltmMesureDnsty?ServiceKey=' + service_key + params\n",
    "\n",
    "res = requests.get(open_api)\n",
    "soup = BeautifulSoup(res.content, 'html.parser')\n",
    "\n",
    "data = soup.find_all('item')\n",
    "for item in data:\n",
    "    stationname = item.find('stationname')\n",
    "    pm10grade = item.find('pm10grade')\n",
    "    print (stationname.get_text(), pm10grade.get_text())"
   ]
  },
  {
   "cell_type": "markdown",
   "metadata": {},
   "source": [
    "## 정규표현식"
   ]
  },
  {
   "cell_type": "code",
   "execution_count": 3,
   "metadata": {},
   "outputs": [
    {
     "data": {
      "text/plain": [
       "'Dave'"
      ]
     },
     "execution_count": 3,
     "metadata": {},
     "output_type": "execute_result"
    }
   ],
   "source": [
    "\n",
    "import re               # 정규 표현식 라이브러리 임포트\n",
    "string = \"(Dave)\"\n",
    "re.sub('[^A-Za-z0-9]', '', string)    # 문자, 숫자가 아닌 데이터를 찾아서, '' 로 대체해라(삭제해라)\n",
    "\n"
   ]
  },
  {
   "cell_type": "code",
   "execution_count": null,
   "metadata": {},
   "outputs": [],
   "source": [
    "string.replace(\"(\", '').replace(\")\", '')"
   ]
  },
  {
   "cell_type": "code",
   "execution_count": 2,
   "metadata": {},
   "outputs": [
    {
     "ename": "ModuleNotFoundError",
     "evalue": "No module named 'openpyxl'",
     "output_type": "error",
     "traceback": [
      "\u001b[1;31m---------------------------------------------------------------------------\u001b[0m",
      "\u001b[1;31mModuleNotFoundError\u001b[0m                       Traceback (most recent call last)",
      "\u001b[1;32mC:\\Users\\ADMINI~1\\AppData\\Local\\Temp/ipykernel_14560/2924501257.py\u001b[0m in \u001b[0;36m<module>\u001b[1;34m\u001b[0m\n\u001b[1;32m----> 1\u001b[1;33m \u001b[1;32mimport\u001b[0m \u001b[0mopenpyxl\u001b[0m\u001b[1;33m\u001b[0m\u001b[1;33m\u001b[0m\u001b[0m\n\u001b[0m\u001b[0;32m      2\u001b[0m \u001b[1;32mimport\u001b[0m \u001b[0mre\u001b[0m\u001b[1;33m\u001b[0m\u001b[1;33m\u001b[0m\u001b[0m\n\u001b[0;32m      3\u001b[0m \u001b[1;33m\u001b[0m\u001b[0m\n\u001b[0;32m      4\u001b[0m \u001b[0mregex\u001b[0m \u001b[1;33m=\u001b[0m \u001b[0mre\u001b[0m\u001b[1;33m.\u001b[0m\u001b[0mcompile\u001b[0m\u001b[1;33m(\u001b[0m\u001b[1;34m' [A-Za-z]+\\.'\u001b[0m\u001b[1;33m)\u001b[0m\u001b[1;33m\u001b[0m\u001b[1;33m\u001b[0m\u001b[0m\n\u001b[0;32m      5\u001b[0m \u001b[1;31m# 엑셀파일 열기\u001b[0m\u001b[1;33m\u001b[0m\u001b[1;33m\u001b[0m\u001b[1;33m\u001b[0m\u001b[0m\n",
      "\u001b[1;31mModuleNotFoundError\u001b[0m: No module named 'openpyxl'"
     ]
    }
   ],
   "source": [
    "import openpyxl\n",
    "import re\n",
    "\n",
    "regex = re.compile(' [A-Za-z]+\\.')\n",
    "# 엑셀파일 열기\n",
    "work_book = openpyxl.load_workbook('train.xlsx')\n",
    "\n",
    "# 현재 Active Sheet 얻기\n",
    "work_sheet = work_book.active\n",
    "\n",
    "# work_sheet.rows는 해당 쉬트의 모든 행을 객체로 가지고 있음\n",
    "for each_row in work_sheet.rows:\n",
    "    print (each_row[3].value)\n",
    "    print (regex.findall(each_row[3].value))    \n",
    "\n",
    "work_book.close()"
   ]
  },
  {
   "cell_type": "markdown",
   "metadata": {},
   "source": [
    "### 정규 표현식 패턴"
   ]
  },
  {
   "cell_type": "code",
   "execution_count": 5,
   "metadata": {},
   "outputs": [],
   "source": [
    "# 패턴 만들기\n",
    "pattern = re.compile('D.A')"
   ]
  },
  {
   "cell_type": "code",
   "execution_count": 6,
   "metadata": {},
   "outputs": [
    {
     "data": {
      "text/plain": [
       "<re.Match object; span=(0, 3), match='DAA'>"
      ]
     },
     "execution_count": 6,
     "metadata": {},
     "output_type": "execute_result"
    }
   ],
   "source": [
    "# 패턴에 매칭되는지 여부 확인하기\n",
    "pattern.search(\"DAA\")"
   ]
  },
  {
   "cell_type": "code",
   "execution_count": 7,
   "metadata": {},
   "outputs": [
    {
     "data": {
      "text/plain": [
       "<re.Match object; span=(0, 3), match='D1A'>"
      ]
     },
     "execution_count": 7,
     "metadata": {},
     "output_type": "execute_result"
    }
   ],
   "source": [
    "pattern.search(\"D1A\")"
   ]
  },
  {
   "cell_type": "code",
   "execution_count": 8,
   "metadata": {},
   "outputs": [],
   "source": [
    "pattern.search(\"D00A\")"
   ]
  },
  {
   "cell_type": "code",
   "execution_count": 9,
   "metadata": {},
   "outputs": [],
   "source": [
    "pattern.search(\"DA\")"
   ]
  },
  {
   "cell_type": "code",
   "execution_count": 10,
   "metadata": {},
   "outputs": [],
   "source": [
    "pattern.search(\"d0A\")"
   ]
  },
  {
   "cell_type": "code",
   "execution_count": 11,
   "metadata": {},
   "outputs": [
    {
     "data": {
      "text/plain": [
       "<re.Match object; span=(4, 7), match='D1A'>"
      ]
     },
     "execution_count": 11,
     "metadata": {},
     "output_type": "execute_result"
    }
   ],
   "source": [
    "pattern.search(\"d0A D1A 0111\")"
   ]
  },
  {
   "cell_type": "code",
   "execution_count": 12,
   "metadata": {},
   "outputs": [],
   "source": [
    "# 찾고 바꾸기 (특정 패턴이 매칭되는 것을 찾아서, 다른 문자열로 바꾸기)\n",
    "string = \"DDA D1A DDA DA\""
   ]
  },
  {
   "cell_type": "code",
   "execution_count": 13,
   "metadata": {},
   "outputs": [
    {
     "data": {
      "text/plain": [
       "'Dave Dave Dave DA'"
      ]
     },
     "execution_count": 13,
     "metadata": {},
     "output_type": "execute_result"
    }
   ],
   "source": [
    "# re.sub(패턴, 바꿀데이터, 원본데이터)\n",
    "re.sub('D.A', 'Dave', string)    # 문자, 숫자가 아닌 데이터를 찾아서, '' 로 대체해라(삭제해라)"
   ]
  },
  {
   "cell_type": "code",
   "execution_count": null,
   "metadata": {},
   "outputs": [],
   "source": []
  }
 ],
 "metadata": {
  "kernelspec": {
   "display_name": "Python 3",
   "language": "python",
   "name": "python3"
  },
  "language_info": {
   "codemirror_mode": {
    "name": "ipython",
    "version": 3
   },
   "file_extension": ".py",
   "mimetype": "text/x-python",
   "name": "python",
   "nbconvert_exporter": "python",
   "pygments_lexer": "ipython3",
   "version": "3.9.4"
  },
  "nbTranslate": {
   "displayLangs": [
    "*"
   ],
   "hotkey": "alt-t",
   "langInMainMenu": true,
   "sourceLang": "en",
   "targetLang": "fr",
   "useGoogleTranslate": true
  }
 },
 "nbformat": 4,
 "nbformat_minor": 2
}
