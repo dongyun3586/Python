{
 "cells": [
  {
   "cell_type": "markdown",
   "metadata": {},
   "source": [
    "## 다양한 Open API 사용하기\n",
    "\n",
    "### 정부3.0 공공 데이터 포털 API 사용하기\n",
    "\n",
    "* 공공 데이터 포털 가입하기\n",
    "  - https://www.data.go.kr\n",
    "  - 회원가입 -> 로그인 -> '한국환경공단_대기오염정보' 으로 검색 후, 해당 Open API 페이지로 이동\n",
    "     > 공공 데이터 포털은 공인된 기관임에도 아쉽게도, 메뉴와 Open API 가 링크 등이 수시로 바뀌고 있습니다. \n",
    "  - 해당 API 에서 활용신청을 통해 인증키를 발급받은 후, 샘플코드 또는 페이지에 링크되어 있는 문서 또는 가이드를 기반으로 테스트 진행\n",
    "  \n",
    "   <img src=\"https://www.fun-coding.org/00_Images/governapi.png\" />  \n",
    "    "
   ]
  },
  {
   "cell_type": "markdown",
   "metadata": {},
   "source": [
    "- JSON 이외에 XML 포멧으로 데이터를 다루는 경우도 많음\n",
    "  - XML 관련 내용은 '다양한 데이터 읽기 - XML 파일' 참조"
   ]
  },
  {
   "cell_type": "code",
   "execution_count": 14,
   "metadata": {},
   "outputs": [
    {
     "name": "stdout",
     "output_type": "stream",
     "text": [
      "{'so2Grade': '1', 'coFlag': None, 'khaiValue': '42', 'so2Value': '0.004', 'coValue': '0.6', 'pm25Flag': None, 'pm10Flag': None, 'o3Grade': '1', 'pm10Value': '23', 'khaiGrade': '1', 'pm25Value': '11', 'sidoName': '광주', 'no2Flag': None, 'no2Grade': '1', 'o3Flag': None, 'pm25Grade': '1', 'so2Flag': None, 'dataTime': '2021-12-05 13:00', 'coGrade': '1', 'no2Value': '0.018', 'stationName': '서석동', 'pm10Grade': '1', 'o3Value': '0.025'}\n",
      "{'so2Grade': '1', 'coFlag': None, 'khaiValue': '-', 'so2Value': '0.003', 'coValue': '0.5', 'pm25Flag': '자료이상', 'pm10Flag': None, 'o3Grade': '1', 'pm10Value': '11', 'khaiGrade': None, 'pm25Value': '-', 'sidoName': '광주', 'no2Flag': None, 'no2Grade': '1', 'o3Flag': None, 'pm25Grade': None, 'so2Flag': None, 'dataTime': '2021-12-05 13:00', 'coGrade': '1', 'no2Value': '0.020', 'stationName': '농성동', 'pm10Grade': '1', 'o3Value': '0.020'}\n",
      "{'so2Grade': '1', 'coFlag': None, 'khaiValue': '69', 'so2Value': '0.003', 'coValue': '0.4', 'pm25Flag': None, 'pm10Flag': None, 'o3Grade': '1', 'pm10Value': '40', 'khaiGrade': '2', 'pm25Value': '27', 'sidoName': '광주', 'no2Flag': None, 'no2Grade': '1', 'o3Flag': None, 'pm25Grade': '2', 'so2Flag': None, 'dataTime': '2021-12-05 13:00', 'coGrade': '1', 'no2Value': '0.025', 'stationName': '치평동', 'pm10Grade': '2', 'o3Value': '0.019'}\n",
      "{'so2Grade': '1', 'coFlag': None, 'khaiValue': '47', 'so2Value': '0.003', 'coValue': '0.5', 'pm25Flag': None, 'pm10Flag': None, 'o3Grade': '1', 'pm10Value': '20', 'khaiGrade': '1', 'pm25Value': '12', 'sidoName': '광주', 'no2Flag': None, 'no2Grade': '1', 'o3Flag': None, 'pm25Grade': '1', 'so2Flag': None, 'dataTime': '2021-12-05 13:00', 'coGrade': '1', 'no2Value': '0.017', 'stationName': '노대동', 'pm10Grade': '1', 'o3Value': '0.028'}\n",
      "{'so2Grade': '1', 'coFlag': None, 'khaiValue': '61', 'so2Value': '0.004', 'coValue': '0.5', 'pm25Flag': None, 'pm10Flag': None, 'o3Grade': '2', 'pm10Value': '34', 'khaiGrade': '2', 'pm25Value': '22', 'sidoName': '광주', 'no2Flag': None, 'no2Grade': '1', 'o3Flag': None, 'pm25Grade': '2', 'so2Flag': None, 'dataTime': '2021-12-05 13:00', 'coGrade': '1', 'no2Value': '0.014', 'stationName': '유촌동', 'pm10Grade': '1', 'o3Value': '0.032'}\n",
      "{'so2Grade': '1', 'coFlag': None, 'khaiValue': '47', 'so2Value': '0.004', 'coValue': '0.6', 'pm25Flag': '자료이상', 'pm10Flag': None, 'o3Grade': '1', 'pm10Value': '15', 'khaiGrade': '1', 'pm25Value': '-', 'sidoName': '광주', 'no2Flag': None, 'no2Grade': '1', 'o3Flag': None, 'pm25Grade': '1', 'so2Flag': None, 'dataTime': '2021-12-05 13:00', 'coGrade': '1', 'no2Value': '0.018', 'stationName': '두암동', 'pm10Grade': '1', 'o3Value': '0.028'}\n",
      "{'so2Grade': '1', 'coFlag': None, 'khaiValue': '59', 'so2Value': '0.003', 'coValue': '0.6', 'pm25Flag': None, 'pm10Flag': None, 'o3Grade': '1', 'pm10Value': '39', 'khaiGrade': '2', 'pm25Value': '24', 'sidoName': '광주', 'no2Flag': None, 'no2Grade': '1', 'o3Flag': None, 'pm25Grade': '2', 'so2Flag': None, 'dataTime': '2021-12-05 13:00', 'coGrade': '1', 'no2Value': '0.026', 'stationName': '운암동', 'pm10Grade': '2', 'o3Value': '0.013'}\n",
      "{'so2Grade': '1', 'coFlag': None, 'khaiValue': '54', 'so2Value': '0.003', 'coValue': '0.4', 'pm25Flag': None, 'pm10Flag': None, 'o3Grade': '1', 'pm10Value': '17', 'khaiGrade': '2', 'pm25Value': '16', 'sidoName': '광주', 'no2Flag': None, 'no2Grade': '1', 'o3Flag': None, 'pm25Grade': '2', 'so2Flag': None, 'dataTime': '2021-12-05 13:00', 'coGrade': '1', 'no2Value': '0.006', 'stationName': '건국동', 'pm10Grade': '1', 'o3Value': '0.014'}\n",
      "{'so2Grade': '1', 'coFlag': None, 'khaiValue': '-', 'so2Value': '0.003', 'coValue': '0.4', 'pm25Flag': None, 'pm10Flag': None, 'o3Grade': '2', 'pm10Value': '20', 'khaiGrade': None, 'pm25Value': '14', 'sidoName': '광주', 'no2Flag': None, 'no2Grade': '1', 'o3Flag': None, 'pm25Grade': None, 'so2Flag': None, 'dataTime': '2021-12-05 13:00', 'coGrade': '1', 'no2Value': '0.008', 'stationName': '일곡동', 'pm10Grade': '1', 'o3Value': '0.031'}\n",
      "{'so2Grade': '1', 'coFlag': None, 'khaiValue': '58', 'so2Value': '0.003', 'coValue': '0.5', 'pm25Flag': None, 'pm10Flag': None, 'o3Grade': '2', 'pm10Value': '18', 'khaiGrade': '2', 'pm25Value': '10', 'sidoName': '광주', 'no2Flag': None, 'no2Grade': '1', 'o3Flag': None, 'pm25Grade': '1', 'so2Flag': None, 'dataTime': '2021-12-05 13:00', 'coGrade': '1', 'no2Value': '0.008', 'stationName': '오선동', 'pm10Grade': '1', 'o3Value': '0.039'}\n",
      "{'so2Grade': '1', 'coFlag': None, 'khaiValue': '54', 'so2Value': '0.003', 'coValue': '0.4', 'pm25Flag': None, 'pm10Flag': None, 'o3Grade': '1', 'pm10Value': '25', 'khaiGrade': '2', 'pm25Value': '11', 'sidoName': '광주', 'no2Flag': None, 'no2Grade': '1', 'o3Flag': None, 'pm25Grade': '2', 'so2Flag': None, 'dataTime': '2021-12-05 13:00', 'coGrade': '1', 'no2Value': '0.013', 'stationName': '우산동(광주)', 'pm10Grade': '1', 'o3Value': '0.029'}\n",
      "{'so2Grade': '1', 'coFlag': None, 'khaiValue': '61', 'so2Value': '0.004', 'coValue': '0.5', 'pm25Flag': None, 'pm10Flag': None, 'o3Grade': '2', 'pm10Value': '28', 'khaiGrade': '2', 'pm25Value': '24', 'sidoName': '광주', 'no2Flag': None, 'no2Grade': '1', 'o3Flag': None, 'pm25Grade': '2', 'so2Flag': None, 'dataTime': '2021-12-05 13:00', 'coGrade': '1', 'no2Value': '0.009', 'stationName': '평동', 'pm10Grade': '1', 'o3Value': '0.035'}\n",
      "{'so2Grade': '1', 'coFlag': None, 'khaiValue': '50', 'so2Value': '0.003', 'coValue': '0.5', 'pm25Flag': None, 'pm10Flag': None, 'o3Grade': '1', 'pm10Value': '17', 'khaiGrade': '1', 'pm25Value': '13', 'sidoName': '광주', 'no2Flag': None, 'no2Grade': '1', 'o3Flag': None, 'pm25Grade': '1', 'so2Flag': None, 'dataTime': '2021-12-05 13:00', 'coGrade': '1', 'no2Value': '0.022', 'stationName': '주월동', 'pm10Grade': '1', 'o3Value': '0.022'}\n"
     ]
    }
   ],
   "source": [
    "import requests\n",
    "\n",
    "service_key = 'SbodTX2jEFoJXHp33uT4jeUkGQ6R10KeZq83Nv%2FdwJFHeilpd3RHVEBzjYggD24QEj2lSYWclol78T1h%2BKD%2B4g%3D%3D'\n",
    "params = '&returnType=json&numOfRows=100&pageNo=1&sidoName=광주&ver=1.0'\n",
    "open_api = 'http://apis.data.go.kr/B552584/ArpltnInforInqireSvc/getCtprvnRltmMesureDnsty?ServiceKey=' + service_key + params\n",
    "\n",
    "res = requests.get(open_api)\n",
    "\n",
    "data = res.json()\n",
    "\n",
    "# print(data['response']['body']['items'])\n",
    "\n",
    "for item in data['response']['body']['items']:\n",
    "    print(item)"
   ]
  },
  {
   "cell_type": "markdown",
   "metadata": {},
   "source": [
    "### 공공데이터포털 Open API 예제\n",
    "- https://www.data.go.kr/data/15000581/openapi.do"
   ]
  },
  {
   "cell_type": "code",
   "execution_count": null,
   "metadata": {},
   "outputs": [],
   "source": [
    "# Python 샘플 코드 #\n",
    "\n",
    "\n",
    "from urllib2 import Request, urlopen\n",
    "from urllib import urlencode, quote_plus\n",
    "\n",
    "url = 'http://openapi.airkorea.or.kr/openapi/services/rest/ArpltnInforInqireSvc/getMsrstnAcctoRltmMesureDnsty'\n",
    "queryParams = '?' + urlencode({ quote_plus('ServiceKey') : '서비스키', quote_plus('numOfRows') : '10', quote_plus('pageNo') : '1', quote_plus('stationName') : '종로구', quote_plus('dataTerm') : 'DAILY', quote_plus('ver') : '1.3' })\n",
    "\n",
    "request = Request(url + queryParams)\n",
    "request.get_method = lambda: 'GET'\n",
    "response_body = urlopen(request).read()\n",
    "print response_body"
   ]
  },
  {
   "cell_type": "markdown",
   "metadata": {},
   "source": [
    "## 다양한 데이터 읽기 - XML"
   ]
  },
  {
   "cell_type": "markdown",
   "metadata": {},
   "source": [
    "* XML(Extensible Markup Language)\n",
    "  - 특정 목적에 따라 데이터를 태그로 감싸서 마크업하는 범용적인 포멧\n",
    "  - 마크업 언어는 태그 등을 이용하여 데이터의 구조를 기술하는 언어의 한 가지\n",
    "  - 가장 친숙한 마크업 언어가 HTML\n",
    "  - XML은 HTML과 마찬가지로 데이터를 계층 구조로 표현\n",
    "  - XML 기본 구조\n",
    "  <pre>\n",
    "  <태그 속성=\"속성값\">내용</태그>\n",
    "  </pre>"
   ]
  },
  {
   "cell_type": "markdown",
   "metadata": {},
   "source": [
    "    - 태그와 속성은 특정 목적에 따라 임의로 이름을 정해서 사용"
   ]
  },
  {
   "cell_type": "raw",
   "metadata": {},
   "source": [
    "  <product id=\"M001\" price=\"300000\">32인치 LCD 모니터</product>"
   ]
  },
  {
   "cell_type": "markdown",
   "metadata": {},
   "source": [
    "    - 다른 요소와 그룹으로 묶을 수도 있음"
   ]
  },
  {
   "cell_type": "raw",
   "metadata": {},
   "source": [
    "  <products type=\"전자제품?>\n",
    "      <product id=\"M001\" price=\"300000\">32인치 LCD 모니터</product>\n",
    "      <product id=\"M002\" price=\"210000\">24인치 LCD 모니터</product>\n",
    "  </products>"
   ]
  },
  {
   "cell_type": "code",
   "execution_count": 21,
   "metadata": {},
   "outputs": [
    {
     "name": "stdout",
     "output_type": "stream",
     "text": [
      "중구 1\n",
      "한강대로 1\n",
      "종로구 1\n",
      "청계천로 \n",
      "종로 1\n",
      "용산구 1\n",
      "광진구 1\n",
      "성동구 1\n",
      "강변북로 1\n",
      "중랑구 1\n"
     ]
    }
   ],
   "source": [
    "import requests\n",
    "from bs4 import BeautifulSoup\n",
    "\n",
    "service_key = 'WMV3wl%2BU%2BMG%2FOYQK3Wv99q1H79wjvVwIwHEjvrDV3K4gG2h9P1%2BKiB%2FFa1QoYI0yxBpJ3sm1L0OAEam9Rp2sbw%3D%3D'\n",
    "params = '&numOfRows=10&pageNo=1&sidoName=서울&searchCondition=DAILY'\n",
    "open_api = 'http://openapi.airkorea.or.kr/openapi/services/rest/ArpltnInforInqireSvc/getCtprvnRltmMesureDnsty?ServiceKey=' + service_key + params\n",
    "\n",
    "res = requests.get(open_api)\n",
    "soup = BeautifulSoup(res.content, 'html.parser')\n",
    "\n",
    "data = soup.find_all('item')\n",
    "for item in data:\n",
    "    stationname = item.find('stationname')\n",
    "    pm10grade = item.find('pm10grade')\n",
    "    print (stationname.get_text(), pm10grade.get_text())"
   ]
  },
  {
   "cell_type": "code",
   "execution_count": null,
   "metadata": {},
   "outputs": [],
   "source": []
  },
  {
   "cell_type": "code",
   "execution_count": null,
   "metadata": {},
   "outputs": [],
   "source": [
    "\n",
    "\n",
    "\n"
   ]
  },
  {
   "cell_type": "code",
   "execution_count": null,
   "metadata": {},
   "outputs": [],
   "source": []
  },
  {
   "cell_type": "code",
   "execution_count": null,
   "metadata": {},
   "outputs": [],
   "source": []
  }
 ],
 "metadata": {
  "kernelspec": {
   "display_name": "Python 3",
   "language": "python",
   "name": "python3"
  },
  "language_info": {
   "codemirror_mode": {
    "name": "ipython",
    "version": 3
   },
   "file_extension": ".py",
   "mimetype": "text/x-python",
   "name": "python",
   "nbconvert_exporter": "python",
   "pygments_lexer": "ipython3",
   "version": "3.10.0"
  },
  "nbTranslate": {
   "displayLangs": [
    "*"
   ],
   "hotkey": "alt-t",
   "langInMainMenu": true,
   "sourceLang": "en",
   "targetLang": "fr",
   "useGoogleTranslate": true
  }
 },
 "nbformat": 4,
 "nbformat_minor": 2
}
