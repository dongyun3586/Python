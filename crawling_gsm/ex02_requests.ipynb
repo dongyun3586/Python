{
 "cells": [
  {
   "cell_type": "code",
   "execution_count": 4,
   "metadata": {},
   "outputs": [
    {
     "name": "stdout",
     "output_type": "stream",
     "text": [
      "res:  200\n"
     ]
    }
   ],
   "source": [
    "import requests\n",
    "res = requests.get(\"https://naver.com\")\n",
    "print(\"res: \", res.status_code)\n",
    "\n",
    "print(len(res.text))"
   ]
  },
  {
   "cell_type": "code",
   "execution_count": null,
   "metadata": {},
   "outputs": [],
   "source": [
    "import requests\n",
    "res = requests.get(\"https://naver.com\")\n",
    "print(\"res: \", res.status_code)\n",
    "res.raise_for_status()                     # 응답에 문제가 발생하면 종료됨.\n",
    "\n",
    "\n",
    "print(len(res.text))"
   ]
  },
  {
   "cell_type": "code",
   "execution_count": 5,
   "metadata": {},
   "outputs": [
    {
     "name": "stdout",
     "output_type": "stream",
     "text": [
      "res:  200\n"
     ]
    }
   ],
   "source": [
    "import requests\n",
    "res = requests.get(\"https://naver.com\")\n",
    "print(\"res: \", res.status_code)\n",
    "res.raise_for_status()                     # 응답에 문제가 발생하면 종료됨.\n",
    "\n",
    "# 파일로 저장\n",
    "with open('naver.html', 'w', encoding='utf8') as f:\n",
    "    f.write(res.text)   "
   ]
  },
  {
   "cell_type": "code",
   "execution_count": null,
   "metadata": {},
   "outputs": [],
   "source": [
    "pip show lxml"
   ]
  },
  {
   "cell_type": "code",
   "execution_count": null,
   "metadata": {},
   "outputs": [],
   "source": [
    "import requests\n",
    "from bs4 import BeautifulSoup\n",
    "\n",
    "url = 'https://comic.naver.com/index'     # 네이버 웹툰\n",
    "res = requests.get(url)\n",
    "print(res.status_code)\n",
    "res.raise_for_status()\n",
    "\n",
    "soup = BeautifulSoup(res.text, 'lxml')\n",
    "# soup = BeautifulSoup(res.content, 'html.parser')\n",
    "print(soup.title)                   # title 태그 값 가져오기\n",
    "print(soup.title.get_text())        # title 태그에서 텍스트만 추출하기\n",
    "print(soup.a)                       # 가장 먼저 발견되는 a 태그 가져오기\n",
    "print(soup.a.attrs)                 # a 태그의 속성 가져오기\n",
    "print(soup.a['href'])               # a 태그의 'href' 속성값 가져오기\n",
    "\n",
    "print(soup.find('h3', attrs={'class':'sub_tit'}))   # find()함수로 특정 요소 가져오기 => 태그와 class명으로 검색"
   ]
  }
 ],
 "metadata": {
  "interpreter": {
   "hash": "5fca21ad9a88cea9ca2415063f0b9d5458bbf828e19cdb66b895214e4b1718d2"
  },
  "kernelspec": {
   "display_name": "Python 3.10.0 64-bit",
   "language": "python",
   "name": "python3"
  },
  "language_info": {
   "codemirror_mode": {
    "name": "ipython",
    "version": 3
   },
   "file_extension": ".py",
   "mimetype": "text/x-python",
   "name": "python",
   "nbconvert_exporter": "python",
   "pygments_lexer": "ipython3",
   "version": "3.10.0"
  },
  "orig_nbformat": 4
 },
 "nbformat": 4,
 "nbformat_minor": 2
}
