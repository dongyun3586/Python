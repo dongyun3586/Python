{
 "cells": [
  {
   "cell_type": "code",
   "execution_count": 3,
   "metadata": {},
   "outputs": [
    {
     "name": "stdout",
     "output_type": "stream",
     "text": [
      "9.86\n",
      "9.78\n",
      "9.74\n",
      "9.76\n",
      "9.74\n",
      "9.77\n",
      "9.87\n",
      "9.69\n",
      "9.69\n",
      "9.77\n",
      "평점 평균: 9.767\n"
     ]
    }
   ],
   "source": [
    "# (실습 1) 화요웹툰 [쇼미더럭키짱!]의 평점 평균 계산하기\n",
    "import requests\n",
    "from bs4 import BeautifulSoup\n",
    "\n",
    "url = 'https://comic.naver.com/webtoon/list?titleId=783054&weekday=tue'     \n",
    "res = requests.get(url)\n",
    "res.raise_for_status()\n",
    "\n",
    "soup = BeautifulSoup(res.content, 'html.parser')\n",
    "\n",
    "rows = soup.find_all('div', attrs={'class':'rating_type'})    \n",
    "\n",
    "sum_rating = 0\n",
    "for row in rows:\n",
    "    rating = row.find('strong').get_text()\n",
    "    print(rating)\n",
    "    sum_rating += float(rating)\n",
    "\n",
    "print(f'평점 평균: {sum_rating/len(rows)}')"
   ]
  },
  {
   "cell_type": "code",
   "execution_count": 11,
   "metadata": {},
   "outputs": [
    {
     "name": "stdout",
     "output_type": "stream",
     "text": [
      "200\n",
      "2화 이게 서울의 선빵이냐? https://comic.naver.com/webtoon/detail?titleId=783054&no=2&weekday=mon\n",
      "1화 친절! 봉사! 선행! https://comic.naver.com/webtoon/detail?titleId=783054&no=1&weekday=mon\n"
     ]
    }
   ],
   "source": [
    "# (실습 2) ‘쇼미더릭키짱!’ 1화 페이지 목록 출력하기\n",
    "import requests\n",
    "from bs4 import BeautifulSoup\n",
    "\n",
    "url = 'https://comic.naver.com/webtoon/list?titleId=783054&page=5'     \n",
    "res = requests.get(url)\n",
    "print(res.status_code)\n",
    "res.raise_for_status()\n",
    "\n",
    "soup = BeautifulSoup(res.text, 'lxml')\n",
    "\n",
    "rows = soup.find_all('td', attrs={'class':'title'})    \n",
    "\n",
    "for row in rows:\n",
    "    title = row.find('a').get_text()\n",
    "    link = 'https://comic.naver.com' + row.find('a')['href']\n",
    "    print(title, link)\n"
   ]
  },
  {
   "cell_type": "code",
   "execution_count": 15,
   "metadata": {},
   "outputs": [
    {
     "name": "stdout",
     "output_type": "stream",
     "text": [
      "2화 이게 서울의 선빵이냐? https://comic.naver.com/webtoon/detail?titleId=783054&no=2&weekday=mon\n",
      "1화 친절! 봉사! 선행! https://comic.naver.com/webtoon/detail?titleId=783054&no=1&weekday=mon\n",
      "12화 빨아봐! 기분이 좋아져! https://comic.naver.com/webtoon/detail?titleId=783054&no=12&weekday=mon\n",
      "11화 빨면 안 돼 강건마! https://comic.naver.com/webtoon/detail?titleId=783054&no=11&weekday=mon\n",
      "10화 분석충! 의사 불러! https://comic.naver.com/webtoon/detail?titleId=783054&no=10&weekday=mon\n",
      "9화 해골 원위치! https://comic.naver.com/webtoon/detail?titleId=783054&no=9&weekday=mon\n",
      "8화 아기상어 뚜루루뚜루! https://comic.naver.com/webtoon/detail?titleId=783054&no=8&weekday=mon\n",
      "7화 안경 안 벗어? https://comic.naver.com/webtoon/detail?titleId=783054&no=7&weekday=mon\n",
      "6화 마치 박태준 쇼핑몰 https://comic.naver.com/webtoon/detail?titleId=783054&no=6&weekday=mon\n",
      "5화 괄약근을 맞았어! https://comic.naver.com/webtoon/detail?titleId=783054&no=5&weekday=mon\n",
      "4화 안경잡이 주제에 나를 속여?! https://comic.naver.com/webtoon/detail?titleId=783054&no=4&weekday=mon\n",
      "3화 머리! 가슴! 몸통! https://comic.naver.com/webtoon/detail?titleId=783054&no=3&weekday=mon\n",
      "22화 아 ㅅ발 꼭지도네?! https://comic.naver.com/webtoon/detail?titleId=783054&no=22&weekday=mon\n",
      "21화 오랜만에 꼭지 돌게 하는군...! https://comic.naver.com/webtoon/detail?titleId=783054&no=21&weekday=mon\n",
      "20화 워싱칭따오 https://comic.naver.com/webtoon/detail?titleId=783054&no=20&weekday=mon\n",
      "19화 역시 막 사는 놈답게 화끈하군! https://comic.naver.com/webtoon/detail?titleId=783054&no=19&weekday=mon\n",
      "18화 안경 벗어 https://comic.naver.com/webtoon/detail?titleId=783054&no=18&weekday=mon\n",
      "17화 드래곤 주먹! https://comic.naver.com/webtoon/detail?titleId=783054&no=17&weekday=mon\n",
      "16화 안경 안 벗어? https://comic.naver.com/webtoon/detail?titleId=783054&no=16&weekday=mon\n",
      "15화 낄낄낄 껠껠껠 https://comic.naver.com/webtoon/detail?titleId=783054&no=15&weekday=mon\n",
      "14화 똥물에도 파도가 있는 법! https://comic.naver.com/webtoon/detail?titleId=783054&no=14&weekday=mon\n",
      "13화 랩과 갱은 태초부터 하나! https://comic.naver.com/webtoon/detail?titleId=783054&no=13&weekday=mon\n",
      "32화 이... 이럴 수가! https://comic.naver.com/webtoon/detail?titleId=783054&no=32&weekday=mon\n",
      "31화 더 이상 컷 낭비는 없다! https://comic.naver.com/webtoon/detail?titleId=783054&no=31&weekday=mon\n",
      "30화 똥이나 닦고 왓! https://comic.naver.com/webtoon/detail?titleId=783054&no=30&weekday=mon\n",
      "29화 난 상대가 초등학생이라도 최선을 다한다! https://comic.naver.com/webtoon/detail?titleId=783054&no=29&weekday=mon\n",
      "28화 엄마! 엄마 걸고 새끼야! https://comic.naver.com/webtoon/detail?titleId=783054&no=28&weekday=mon\n",
      "27화 나 마영웅의 꼭지를 보여주마!!! https://comic.naver.com/webtoon/detail?titleId=783054&no=27&weekday=mon\n",
      "26화 자! 다음 상대는 누구냐! https://comic.naver.com/webtoon/detail?titleId=783054&no=26&weekday=mon\n",
      "25화 아 오바지 이건 ㅆ발! https://comic.naver.com/webtoon/detail?titleId=783054&no=25&weekday=mon\n",
      "24화 핥짝 https://comic.naver.com/webtoon/detail?titleId=783054&no=24&weekday=mon\n",
      "23화 대통령 선거 시작이다 https://comic.naver.com/webtoon/detail?titleId=783054&no=23&weekday=mon\n",
      "42화 응애 응애 https://comic.naver.com/webtoon/detail?titleId=783054&no=42&weekday=mon\n",
      "41화 108콤보 압축 주먹!! https://comic.naver.com/webtoon/detail?titleId=783054&no=41&weekday=mon\n",
      "40화 야 가서 지게 가져와! https://comic.naver.com/webtoon/detail?titleId=783054&no=40&weekday=mon\n",
      "39화 이 ㅅ끼가 라임을? https://comic.naver.com/webtoon/detail?titleId=783054&no=39&weekday=mon\n",
      "38화 이게 촉법소년의 힘이라는 거다! https://comic.naver.com/webtoon/detail?titleId=783054&no=38&weekday=mon\n",
      "37화 ㅆ바꺼 잘못하면 맞아야지! https://comic.naver.com/webtoon/detail?titleId=783054&no=37&weekday=mon\n",
      "36화 젊은이들 여긴 무신ㅅ가 아니야 https://comic.naver.com/webtoon/detail?titleId=783054&no=36&weekday=mon\n",
      "35화 싸가지 없는 놈! https://comic.naver.com/webtoon/detail?titleId=783054&no=35&weekday=mon\n",
      "34화 힙합을 하는 거다! https://comic.naver.com/webtoon/detail?titleId=783054&no=34&weekday=mon\n",
      "33화 지대호가 죽었다! https://comic.naver.com/webtoon/detail?titleId=783054&no=33&weekday=mon\n"
     ]
    }
   ],
   "source": [
    "# (실습 3) ‘쇼미더릭키짱!’ 모든 회차 목록 출력하기\n",
    "import requests\n",
    "from bs4 import BeautifulSoup\n",
    "\n",
    "for i in range(5, 0, -1):\n",
    "    url = 'https://comic.naver.com/webtoon/list?titleId=783054&page='     \n",
    "    res = requests.get(url + str(i))\n",
    "    res.raise_for_status()\n",
    "\n",
    "    soup = BeautifulSoup(res.text, 'lxml')\n",
    "\n",
    "    rows = soup.find_all('td', attrs={'class':'title'})    \n",
    "\n",
    "    for row in rows:\n",
    "        title = row.find('a').get_text()\n",
    "        link = 'https://comic.naver.com' + row.find('a')['href']\n",
    "        print(title, link)"
   ]
  },
  {
   "cell_type": "code",
   "execution_count": 16,
   "metadata": {},
   "outputs": [],
   "source": [
    "# (실습 4) ‘쇼미더릭키짱!’ 모든 회차 정보 csv 파일로 저장하기\n",
    "import requests\n",
    "from bs4 import BeautifulSoup\n",
    "import csv\n",
    "\n",
    "# 결과 csv 파일 생성\n",
    "file_name = 'webtoon.csv'\n",
    "f = open(file_name, 'w', encoding='utf8', newline='')\n",
    "writer = csv.writer(f)\n",
    "\n",
    "for i in range(5, 0, -1):\n",
    "    url = 'https://comic.naver.com/webtoon/list?titleId=783054&page='     \n",
    "    res = requests.get(url + str(i))\n",
    "    res.raise_for_status()\n",
    "\n",
    "    soup = BeautifulSoup(res.text, 'lxml')\n",
    "\n",
    "    rows = soup.find_all('td', attrs={'class':'title'})    \n",
    "\n",
    "    for row in rows:\n",
    "        title = row.find('a').get_text()\n",
    "        link = 'https://comic.naver.com' + row.find('a')['href']\n",
    "        # print(title, link)\n",
    "        writer.writerow([title, link])\n",
    "\n",
    "f.close()"
   ]
  },
  {
   "cell_type": "code",
   "execution_count": null,
   "metadata": {},
   "outputs": [],
   "source": []
  }
 ],
 "metadata": {
  "kernelspec": {
   "display_name": "Python 3.10.2 64-bit",
   "language": "python",
   "name": "python3"
  },
  "language_info": {
   "codemirror_mode": {
    "name": "ipython",
    "version": 3
   },
   "file_extension": ".py",
   "mimetype": "text/x-python",
   "name": "python",
   "nbconvert_exporter": "python",
   "pygments_lexer": "ipython3",
   "version": "3.10.2"
  },
  "orig_nbformat": 4,
  "vscode": {
   "interpreter": {
    "hash": "b95ceaaf507324f6eb38cf945572491426bdd43777f41a708ca87b1b76dbdbc8"
   }
  }
 },
 "nbformat": 4,
 "nbformat_minor": 2
}
