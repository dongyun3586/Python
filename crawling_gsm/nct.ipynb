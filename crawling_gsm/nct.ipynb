{
 "cells": [
  {
   "cell_type": "code",
   "execution_count": 2,
   "metadata": {},
   "outputs": [],
   "source": [
    "# DBpia 사이트 띄우기\n",
    "from selenium import webdriver\n",
    "from selenium.webdriver.common.keys import Keys\n",
    "\n",
    "driver = webdriver.Chrome()    \n",
    "driver.get(\"https://www.yes24.com/Templates/FTLogin.aspx?ReturnURL=http://ticket.yes24.com/Pages/MyPage/MyPageMain.aspx\")\n"
   ]
  },
  {
   "cell_type": "code",
   "execution_count": 44,
   "metadata": {},
   "outputs": [
    {
     "name": "stdout",
     "output_type": "stream",
     "text": [
      "<selenium.webdriver.remote.webelement.WebElement (session=\"0b15b0ac3fab895f26d89bee836b1561\", element=\"3400a002-35c2-499d-aafa-848fbe7b07d8\")>\n"
     ]
    }
   ],
   "source": [
    "# 검색창에 원하는 키워드 입력하기\n",
    "from selenium import webdriver\n",
    "from selenium.webdriver.common.keys import Keys\n",
    "from selenium.webdriver.support.ui import Select\n",
    "from selenium.webdriver.common.by import By\n",
    "import time\n",
    "\n",
    "options = webdriver.ChromeOptions()\n",
    "options.add_argument('window-size=1920,1080')\n",
    "driver = webdriver.Chrome('chromedriver', options=options)    \n",
    "driver.get(\"https://www.yes24.com/Templates/FTLogin.aspx?ReturnURL=http://ticket.yes24.com/Pages/MyPage/MyPageMain.aspx\")\n",
    "\n",
    "# 아이디 입력\n",
    "elem = driver.find_element(By.ID, 'SMemberID')\n",
    "elem.send_keys(\"olivia0428\")\n",
    "\n",
    "# 패스워드 입력\n",
    "elem = driver.find_element(By.ID, 'SMemberPassword')\n",
    "elem.click()\n",
    "elem.send_keys(\"olivia3586@@\")\n",
    "elem.send_keys(Keys.RETURN)\n",
    "\n",
    "elem = driver.find_element(By.ID, 'searchWord')\n",
    "elem.click()\n",
    "elem.send_keys(\"nct\")\n",
    "elem.send_keys(Keys.RETURN)\n",
    "\n",
    "href = driver.find_element(By.XPATH, '//*[@id=\"viewPerf\"]/div[1]/div[2]/div[2]/p[2]/a')\n",
    "print(f'{href}')\n",
    "time.sleep(0.2)\n",
    "\n",
    "# element = driver.switch_to.active_element\n",
    "# driver.switch_to.( driver.window_handles[1] )\n",
    "# print(driver.find_element(By.XPATH, '//*[@id=\"mainForm\"]/div[7]/div/div[2]/p'))\n",
    "# driver.switch_to.window(driver.window_handles[0])\n",
    "# driver.find_element(By.XPATH, '//*[@id=\"mainForm\"]/div[9]/div/div[4]/a[4]').click()\n",
    "\n",
    "\n",
    "# # 100개씩 \n",
    "# time.sleep(2)\n",
    "# driver.find_element(By.XPATH, '//*[@id=\"contents\"]/div[2]/div[2]/div[3]/div[1]/div[2]/div[2]/div[2]').click()\n",
    "# driver.find_element(By.XPATH, '//*[@id=\"100\"]').click()\n",
    "\n"
   ]
  },
  {
   "cell_type": "code",
   "execution_count": null,
   "metadata": {},
   "outputs": [],
   "source": []
  }
 ],
 "metadata": {
  "kernelspec": {
   "display_name": "Python 3.10.2 64-bit",
   "language": "python",
   "name": "python3"
  },
  "language_info": {
   "codemirror_mode": {
    "name": "ipython",
    "version": 3
   },
   "file_extension": ".py",
   "mimetype": "text/x-python",
   "name": "python",
   "nbconvert_exporter": "python",
   "pygments_lexer": "ipython3",
   "version": "3.10.2"
  },
  "orig_nbformat": 4,
  "vscode": {
   "interpreter": {
    "hash": "b95ceaaf507324f6eb38cf945572491426bdd43777f41a708ca87b1b76dbdbc8"
   }
  }
 },
 "nbformat": 4,
 "nbformat_minor": 2
}
