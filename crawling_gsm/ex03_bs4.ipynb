{
 "cells": [
  {
   "cell_type": "code",
   "execution_count": 8,
   "metadata": {},
   "outputs": [
    {
     "name": "stdout",
     "output_type": "stream",
     "text": [
      "200\n",
      "<title>네이버 만화 &gt; 요일별  웹툰 &gt; 전체웹툰</title>\n",
      "네이버 만화 > 요일별  웹툰 > 전체웹툰\n",
      "<a href=\"#menu\" onclick=\"document.getElementById('menu').tabIndex=-1;document.getElementById('menu').focus();return false;\"><span>메인 메뉴로 바로가기</span></a>\n",
      "{'href': '#menu', 'onclick': \"document.getElementById('menu').tabIndex=-1;document.getElementById('menu').focus();return false;\"}\n",
      "#menu\n",
      "메인 메뉴로 바로가기\n"
     ]
    }
   ],
   "source": [
    "import requests\n",
    "from bs4 import BeautifulSoup\n",
    "\n",
    "url = 'https://comic.naver.com/webtoon/weekday'     # 네이버 웹툰\n",
    "res = requests.get(url)\n",
    "print(res.status_code)\n",
    "res.raise_for_status()\n",
    "soup = BeautifulSoup(res.text, 'lxml')\n",
    "\n",
    "print(soup.title)                                   # title 태그 값 가져오기\n",
    "print(soup.title.get_text())                        # title 태그에서 텍스트만 추출하기\n",
    "\n",
    "print(soup.a)                                       # 가장 먼저 발견되는 a 태그 가져오기\n",
    "print(soup.a.attrs)                                 # a 태그의 속성 가져오기\n",
    "print(soup.a['href'])                               # a 태그의 'href' 속성값 가져오기\n",
    "print(soup.a.get_text())"
   ]
  },
  {
   "cell_type": "code",
   "execution_count": 10,
   "metadata": {},
   "outputs": [
    {
     "name": "stdout",
     "output_type": "stream",
     "text": [
      "<a class=\"Nbtn_upload\" href=\"/mypage/myActivity\" onclick=\"nclk_v2(event,'olk.upload');\">웹툰 올리기</a>\n",
      "<a class=\"Nbtn_upload\" href=\"/mypage/myActivity\" onclick=\"nclk_v2(event,'olk.upload');\">웹툰 올리기</a>\n"
     ]
    }
   ],
   "source": [
    "# soun.find() 함수: 태그와 속성으로 [웹툰 올리기] 버튼 가져오기\n",
    "print(soup.find('a', attrs={'class':'Nbtn_upload'}))    # a태그 중 class값이 'Nbtn_upload'인 요소\n",
    "print(soup.find(attrs={'class':'Nbtn_upload'}))         # class값이 'Nbtn_upload'인 요소"
   ]
  },
  {
   "cell_type": "code",
   "execution_count": 17,
   "metadata": {},
   "outputs": [
    {
     "name": "stdout",
     "output_type": "stream",
     "text": [
      "<a href=\"/webtoon/detail?titleId=758037&amp;no=62\" onclick=\"nclk_v2(event,'rnk*p.cont','758037','1')\" title=\"참교육-62화\">참교육-62화</a>\n"
     ]
    }
   ],
   "source": [
    "# inner 텍스트로 가져오기\n",
    "print(soup.find('a', text='참교육-62화'))"
   ]
  },
  {
   "cell_type": "code",
   "execution_count": null,
   "metadata": {},
   "outputs": [],
   "source": [
    "# 요일별 전체 웹툰의 모든 제목 가져오기\n",
    "import requests\n",
    "from bs4 import BeautifulSoup\n",
    "\n",
    "url = 'https://comic.naver.com/webtoon/weekday'     \n",
    "res = requests.get(url)\n",
    "res.raise_for_status()\n",
    "\n",
    "soup = BeautifulSoup(res.content, 'html.parser')\n",
    "\n",
    "# a 태그 중 class='title'인 모든 요소 가져오기\n",
    "webtoon_title = soup.find_all('a', attrs={'class':'title'})     \n",
    "\n",
    "for i in webtoon_title:\n",
    "    print(i.get_text(), end=', ')"
   ]
  },
  {
   "cell_type": "code",
   "execution_count": 24,
   "metadata": {},
   "outputs": [
    {
     "name": "stdout",
     "output_type": "stream",
     "text": [
      "41화 108콤보 압축 주먹!! https://comic.naver.com//webtoon/detail?titleId=783054&no=41&weekday=tue\n",
      "40화 야 가서 지게 가져와! https://comic.naver.com//webtoon/detail?titleId=783054&no=40&weekday=tue\n",
      "39화 이 ㅅ끼가 라임을? https://comic.naver.com//webtoon/detail?titleId=783054&no=39&weekday=tue\n",
      "38화 이게 촉법소년의 힘이라는 거다! https://comic.naver.com//webtoon/detail?titleId=783054&no=38&weekday=tue\n",
      "37화 ㅆ바꺼 잘못하면 맞아야지! https://comic.naver.com//webtoon/detail?titleId=783054&no=37&weekday=tue\n",
      "36화 젊은이들 여긴 무신ㅅ가 아니야 https://comic.naver.com//webtoon/detail?titleId=783054&no=36&weekday=tue\n",
      "35화 싸가지 없는 놈! https://comic.naver.com//webtoon/detail?titleId=783054&no=35&weekday=tue\n",
      "34화 힙합을 하는 거다! https://comic.naver.com//webtoon/detail?titleId=783054&no=34&weekday=tue\n",
      "33화 지대호가 죽었다! https://comic.naver.com//webtoon/detail?titleId=783054&no=33&weekday=tue\n",
      "32화 이... 이럴 수가! https://comic.naver.com//webtoon/detail?titleId=783054&no=32&weekday=tue\n"
     ]
    }
   ],
   "source": [
    "# 화요 웹툰 '쇼미더럭키짱!' 페이지의 목록 가져오기\n",
    "import requests\n",
    "from bs4 import BeautifulSoup\n",
    "\n",
    "url = 'https://comic.naver.com/webtoon/list?titleId=783054&weekday=tue'     \n",
    "res = requests.get(url)\n",
    "res.raise_for_status()\n",
    "\n",
    "soup = BeautifulSoup(res.content, 'html.parser')\n",
    "\n",
    "# a 태그 중 class='title'인 모든 요소 가져오기\n",
    "rows = soup.find_all('td', attrs={'class':'title'})    \n",
    "# title_list = rows[0].a.get_text()                       # 첫 번째 요소만 출력해보기\n",
    "# link = cartoons[0].a['href']\n",
    "# print(title_list) \n",
    "\n",
    "for row in rows:\n",
    "    title = row.a.get_text()\n",
    "    link = row.a['href']\n",
    "    print(title, 'https://comic.naver.com/' + link)\n"
   ]
  },
  {
   "cell_type": "code",
   "execution_count": 26,
   "metadata": {},
   "outputs": [
    {
     "name": "stdout",
     "output_type": "stream",
     "text": [
      "9.79\n",
      "9.74\n",
      "9.76\n",
      "9.74\n",
      "9.77\n",
      "9.87\n",
      "9.69\n",
      "9.69\n",
      "9.77\n",
      "9.68\n",
      "평점 평균: 9.75\n"
     ]
    }
   ],
   "source": [
    "# 화요웹툰 [쇼미더럭키짱!]의 평점 평균 계산하기\n",
    "import requests\n",
    "from bs4 import BeautifulSoup\n",
    "\n",
    "url = 'https://comic.naver.com/webtoon/list?titleId=783054&weekday=tue'     \n",
    "res = requests.get(url)\n",
    "res.raise_for_status()\n",
    "\n",
    "soup = BeautifulSoup(res.content, 'html.parser')\n",
    "\n",
    "rows = soup.find_all('div', attrs={'class':'rating_type'})    \n",
    "\n",
    "sum_rating = 0\n",
    "for row in rows:\n",
    "    rating = row.find('strong').get_text()\n",
    "    print(rating)\n",
    "    sum_rating += float(rating)\n",
    "\n",
    "print(f'평점 평균: {sum_rating/len(rows)}')\n"
   ]
  },
  {
   "cell_type": "code",
   "execution_count": 1,
   "metadata": {},
   "outputs": [
    {
     "name": "stdout",
     "output_type": "stream",
     "text": [
      "쇼미더럭키짱!, 참교육, 신의 탑, 2022 서브병에 빠지다!, 소녀의 세계, 퀘스트지상주의, 장씨세가 호위무사, 백수세끼, 팔이피플, 앵무살수, 만렙돌파, 잔불의 기사, 리턴 투 플레이어, 요리GO, 칼가는 소녀, 더블클릭, 히어로메이커, 똑 닮은 딸, 결혼생활 그림일기, 이별 후 사내 결혼, 물어보는 사이, 평범한 8반, 황제와의 하룻밤, 신군, 제왕: 빛과 그림자, 꼬리잡기, 악녀 18세 공략기, 꿈의 기업, 레지나레나 - 용서받지 못한 그대에게, 원작은 완결난 지 한참 됐습니다만, 순정말고 순종, 장난감, 아, 쫌 참으세요 영주님!, 아는 여자애, 말박왕, 바퀴, 오빠집이 비어서, 이제야 연애, 슈퍼스타 천대리, 와이키키 뱀파이어, 하루의 하루, 야생천사 보호구역, 달로 만든 아이, 착한건 돈이된다, 또다시, 계약 부부, 최후의 금빛아이, 왕따협상, 남주서치, 원하는 건 너 하나, 라서드, 이중첩자, 홍천기, 모스크바의 여명, 드로잉 레시피, 백호랑, 역주행!, 마지막 지수, 중독연구소, 바로 보지 않는, 개밥 먹는 남자, 그림자 신부, 모락모락 왕세자님, 사막에 핀 달, 이탄국의 자청비, 오로지 오로라, 트리거, 보살님이 캐리해!, 헬로맨스, 기사님을 지켜줘, 쇼미더럭키짱!, 여신강림, 김부장, 1을 줄게, 2022 서브병에 빠지다!, 한림체육관, 내가 키운 S급들, 사신소년, 하루만 네가 되고 싶어, 중증외상센터 : 골든 아워, 용사가 돌아왔다, 달콤살벌한 부부, 랜덤채팅의 그녀!, 엽총소년, 신도림, 니나의 마법서랍, 삼국지톡, 헬58, 소극적 인간, 하북팽가 막내아들, 택배 왔습니다, 호랑이 들어와요, 애옹식당, 덴큐, 원주민 공포만화, 집이 없어, 윌유메리미, 몬스터, 100, 위아더좀비, 하우스키퍼, 빌런투킬, 견우와 선녀, 시벨롬 리스트, 대공님, 실수였어요!, 용왕님의 셰프가 되었습니다, 또 다른 사랑, 3cm 헌터, 빅맨, 은주의 방 2~3부, 이븐 모어, 그 남주와 이별하는 방법, 이상형은 아닙니다, 미신, 플레이, 플리, 제로게임, 나타나주세요!, 성인초딩, 정년이, 숲속의 담, 오파츠, 나의 최애를 지켜줘, 연우의 순정, 나의 플랏메이트, 아이즈, 아이레, 안식의 밤, 열녀박씨 계약결혼뎐, 나는 어디에나 있다, 필리아로제 - 가시왕관의 예언, 자판귀, 그녀석 정복기, 기계증식증, 프린스 메이커, 급식러너, 풋내기들, 대신 심부름을 해다오, 지원이들, 교환학생, NG불가, 고등매직, 다꾸남, 피로만땅, 하나in세인, 연애는 전쟁!, 찐:종합게임동아리, 쇼미더럭키짱!, 전지적 독자 시점, 조조코믹스, 헬퍼 2 : 킬베로스, 화산귀환, 스파이더맨 단편선, 먹는 인생, 여고생 드래곤, 캐슬, 튜토리얼 탑의 고인물, 급식아빠, 남주의 첫날밤을 가져버렸다, 일렉시드, 66666년 만에 환생한 흑마법사, 고삼무쌍, 나쁜사람, 연놈, 빌드업, 세상은 돈과 권력, 여주실격!, 고등단편.zip, 마른 가지에 바람처럼, 내 남편과 결혼해줘, 비인간, 더 퀸즈, 미래의 골동품 가게, 잿빛도 색이다, 사상최강, 판타지 여동생!, 내가 죽기로 결심한 것은, 귀곡의 문, 변방의 외노자, 탈영일지, 아도나이, 언덕 위의 제임스, 하렘의 남자들, 새벽 두 시의 신데렐라, 마녀와 용의 신혼일기, 헤어지면 죽음, 칼부림, 밤낚시, 혁명 뒤 공주는, 오징어도 사랑이 되나요?, 방탈출, 엔딩 후 서브남을 주웠다, 로어 올림푸스, 관종교장, 괴물공작의 딸, 수요웹툰의 나강림, 블랙홀과 3만원, 내 룸메이트는 마네킹, 하지만 너는 2D잖아, 반귀, 얼굴천재, 속보입니다, 범이올시다!, 화가 살리에르, 두 번 사는 프로듀서, 구사일생 로맨스, 사랑과 평강의 온달!, 뱀은 꽃을 먹는가, 무용과 남학생, 스캔들, 웰컴 온보드, 반짝반짝 작은 눈, 구주, 천도, 재난소년, 오직, 밝은 미래, 해귀, 수호하는 너에게, 시효완성, 나의 계절, 쇼미더럭키짱!, 독립일기, 연애혁명, 더 복서, 나노마신, 기기괴괴, 신림/남/22, 이두나!, 나 혼자 네크로맨서, 현실퀘스트, 정글쥬스, 천마육성, 무사만리행, 묵시의 인플루언서, 포식동물, 겟백, 국세청 망나니, 별을 삼킨 너에게, 쿠베라, 오빠세끼, 꽃만 키우는데 너무강함, 최강전설 강해효, 침묵의 밤, 불편한 관계, 마왕까지 한 걸음, 만능잡캐, 신비, 흑막 여주가 날 새엄마로 만들려고 해, 하드캐리, 완벽한 결혼의 정석, 온에어, 가상&RPG, 만물의 영장, 해시의 신루, 던전 씹어먹는 아티팩트, 선남친 후연애, 나쁜 마법사의 꿈, 안개무덤, 마계인섬, 마법사랑해, 시월드 판타지, 마녀의 심판은 꽃이 된다, 로그아웃, 배트맨: 웨인 패밀리 어드벤처, 환상연가, 야만의 시대, 네가 죽기를 바랄 때가 있었다, 그 개, 만두, 루커피쳐, 킬더킹, 달의 요람, 소녀180, THE 런웨이, 시에라, 그 황제가 시곗바늘을 되돌린 사연, 겟라이프, 어차피 남편은!, 소년의 기록, 성스러운 아이돌, 폭탄주먹 변대장, 아빠같은 남자, 혼모노트, 유리와 유리와 유리, 온새미로, 카루나, 평범한 낙원, 돌아온 여기사, 보물과 괴물의 도시, 어느날 네가 떠올라!, 온실 속 화초, 모어 라이프, 멸망X초이스, 쇼미더럭키짱!, 외모지상주의, 나 혼자 만렙 뉴비, 2022 서브병에 빠지다!, 내과 박원장, 데드퀸, 광마회귀, 재혼 황후, 갓 오브 하이스쿨, 1초, 개를 낳았다, 죽지 않으려면, 삼국지톡, 낙향문사전, 서울역 드루이드, 상위1%, 소극적 인간, 세기말 풋사과 보습학원, 푸쉬오프, 더 게이머, 상남자, 뫼신 사냥꾼, 쌈빡, 말년용사, 구남친이 내게 반했다, A.I. 닥터, 플레이어, 히어로 킬러, 역대급 영지 설계사, 희란국연가, 가슴털 로망스, 그들이 사귀는 세상, 스포, 그 기사가 레이디로 사는 법, 리트리츠, 후덜덜덜 남극전자, 여름여자 하보이, 미혼남녀의 효율적 만남, 식인귀, 여우놀이, 사람의 조각, 골든 체인지, 버그: 스티그마, 재앙의 날, 오!너의 리스크, 피와 나비, 엽사:요괴사냥꾼, 이게 아닌데, 짝사랑 마들렌, 도무지 그애는, 감자마을, 백년게임, 너의 미소가 함정, 악몽일기, 네버엔딩달링, 로판 빙의 만화, 미친 후작을 길들이고 말았다, 주님, 악마가 되게 해주세요!, 인피니티, 달이 없는 나라, 태권보이, 트럼프, 빨리감기, 아찔한 전남편, 빨간맛 로맨스, 히트포인트, 나쁜 쪽으로, 팬시X팬시, 합법해적 파르페, 꽃 피우는 남자, 킬러방 : 퍼스트 킬, 강림전기 개정기, 매지컬 메디컬, 행운을 빌어요, 용사님!, 다름이 아니라, 조조코믹스, 2022 서브병에 빠지다!, 취사병 전설이 되다, 프리드로우, 먹는 인생, 여고생 드래곤, 신림/남/22, 스퍼맨 : 전하지 못한 이야기, 초인의 시대, 망나니 소교주로 환생했다, 니나의 마법서랍, 아사, 은탄, 청춘 블라썸, 나이트런, 윌유메리미, 아홉수 우리들, 존잘주의, 용사참수인, 소년 검사, 최면학교, 반드시 해피엔딩, 배달의 신, 소공녀 민트, 나태 공자, 노력 천재 되다, 나를 바꿔줘, 좀비 파이트, 탑코너, 스터디그룹, 물위의 우리, 엑스애쉬, 피라미드 게임, 어글리후드, 지옥급식, 태백 : 튜토리얼 맨, 은둔코인, 최강부캐, 홍시는 날 좋아해!, 메트로헌터, 봐선 안되는 것, 공유몽, 묘령의 황자, 왕세자 입학도, 감 비서가 고장났다, 남편을 만렙으로 키우려 합니다, 전생연분, 저무는 해, 시린 눈, 내게 필요한 NO맨스, 지구식 구원자 전형, 같은 학교 친구, 중매쟁이 아가 황녀님, 팔려 온 신부, 키스 식스 센스, 주욱 같은 하루, 스트릿 워크아웃, 홍대 바이브, 오늘부터 천생연분, 좋은데 어떡해, 힙한남자, 더 나우, 안녕, 이바다씨, 사서고생!, 숨겨진 성녀, 실버 쥬얼, 아가사, 밤을 깨우는 마법, 2-3승강장, 인간졸업, 광해의 연인, 나를 길들여 봐, 차비서, 먹지마세요, 아침을 지나 밤으로, 독립일기, 싸움독학, 스파이더맨 단편선, 입학용병, 존망코인, 약한영웅, 투신전생기, 그 해 우리는 - 초여름이 좋아!, 수희0(tngmlek0), 이번 생도 잘 부탁해, 열렙전사, 일타강사 백사부, 무서운게 딱좋아!, 어느날 갑자기 서울은, 소녀재판, 오로지 너를 이기고 싶어, 나만 보여!, 곱게 키웠더니, 짐승, 테러대부활, 별이삼샵, 내일, 경자 전성시대, 살아남은 로맨스, 합격시켜주세용, 판사 이한영, 벚꽃이 흩날릴 무렵, 가비지타임, 구해줘, 호구!, 시월드가 내게 집착한다, 생존고백, 로어 올림푸스, 여우애담, 위닝샷!, 학교정벌, 사실 마법이었던 거임, 동생친구, 천치전능, 생존로그, 전설의 화석, 돌&아이, 몸이 바뀌는 사정, 결혼까지 망상했어!, 후궁 스캔들, 예쁜 사나이, 굿 리스너, 사람은 고쳐 쓰는 게 아니야!, 오른눈이 보는 세계, 신이 담긴 아이, 조선여우스캔들, 불순물, 라커, 오프너, 혀로 만난 사이, 황제에게 하트를 심어주세요, 보스의 노골적 취향, 당신의 여자가 되고 싶어요, 가짜인간, 취향 소개소, 거래하실래요?, 데이즈, 보통아이, 다시 또 봄, 독신마법사 기숙아파트, 샤인 스타, 제타, 호수의 인어, 랑데뷰, 짝사랑의 유서, 푸른불꽃, 패션쇼, "
     ]
    }
   ],
   "source": [
    "# 요일별 전체 웹툰의 모든 제목 가져오기\n",
    "import requests\n",
    "from bs4 import BeautifulSoup\n",
    "\n",
    "url = 'https://comic.naver.com/webtoon/weekday'     \n",
    "res = requests.get(url)\n",
    "res.raise_for_status()\n",
    "\n",
    "soup = BeautifulSoup(res.content, 'html.parser')\n",
    "\n",
    "# a 태그 중 class='title'인 모든 요소 가져오기\n",
    "webtoon_title = soup.find_all('a', attrs={'class':'title'})     \n",
    "\n",
    "for i in webtoon_title:\n",
    "    print(i.get_text(), end=', ')"
   ]
  },
  {
   "cell_type": "code",
   "execution_count": null,
   "metadata": {},
   "outputs": [],
   "source": []
  }
 ],
 "metadata": {
  "interpreter": {
   "hash": "369f2c481f4da34e4445cda3fffd2e751bd1c4d706f27375911949ba6bb62e1c"
  },
  "kernelspec": {
   "display_name": "Python 3.10.2 64-bit",
   "language": "python",
   "name": "python3"
  },
  "language_info": {
   "codemirror_mode": {
    "name": "ipython",
    "version": 3
   },
   "file_extension": ".py",
   "mimetype": "text/x-python",
   "name": "python",
   "nbconvert_exporter": "python",
   "pygments_lexer": "ipython3",
   "version": "3.10.2"
  },
  "orig_nbformat": 4
 },
 "nbformat": 4,
 "nbformat_minor": 2
}
