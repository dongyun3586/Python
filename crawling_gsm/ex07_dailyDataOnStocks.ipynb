{
 "cells": [
  {
   "cell_type": "code",
   "execution_count": 7,
   "metadata": {},
   "outputs": [
    {
     "name": "stdout",
     "output_type": "stream",
     "text": [
      "끝났다 643\n"
     ]
    }
   ],
   "source": [
    "import requests                 \n",
    "from bs4 import BeautifulSoup   \n",
    "import time\n",
    "import csv\n",
    "\n",
    "page_number = 635\n",
    "prev_date_time_set = set()\n",
    "\n",
    "my_headers = {\n",
    "    \"referer\": \"https://finance.naver.com/item/sise_day.nhn?code=005930&page=3\",\n",
    "    \"upgrade-insecure-requests\": \"1\",\n",
    "    \"user-agent\": \"Mozilla/5.0 (Windows NT 10.0; Win64; x64) AppleWebKit/537.36 (KHTML, like Gecko) Chrome/97.0.4692.71 Safari/537.36\",\n",
    "}\n",
    "\n",
    "# csv 파일 생성\n",
    "file_name = 'samsungStockPrice.csv'\n",
    "f = open(file_name, 'w', encoding='utf8', newline='')\n",
    "writer = csv.writer(f)\n",
    "\n",
    "while True:\n",
    "    url = \"https://finance.naver.com/item/sise_day.naver?code=005930&page={}\".format(page_number)\n",
    "    res = requests.get(url=url, headers=my_headers)\n",
    "    \n",
    "    soup = BeautifulSoup(res.text)\n",
    "    tr_elements = soup.select(\"table.type2 > tr[onmouseover='mouseOver(this)']\")\n",
    "    \n",
    "    current_date_time_set = set() \n",
    "    temp_total_data_list = []\n",
    "    for e in tr_elements:\n",
    "        td_elements = e.select(\"td\")\n",
    "        data_list = []\n",
    "        for i, td_e in enumerate(td_elements):\n",
    "            if i == 0:\n",
    "                # 날짜데이터를 넣는다\n",
    "                current_date_time_set.add(td_e.text.strip())\n",
    "            data_list.append(td_e.text.strip()) \n",
    "        temp_total_data_list.append(data_list)\n",
    "    \n",
    "    if prev_date_time_set == current_date_time_set:\n",
    "        print(\"끝났다\", page_number) \n",
    "        break\n",
    "    else:\n",
    "        for data in temp_total_data_list:\n",
    "            writer.writerow(data)  \n",
    "        prev_date_time_set = current_date_time_set\n",
    "\n",
    "    time.sleep(1)\n",
    "    page_number += 1\n",
    "\n",
    "f.close()"
   ]
  },
  {
   "cell_type": "code",
   "execution_count": 1,
   "metadata": {},
   "outputs": [
    {
     "name": "stdout",
     "output_type": "stream",
     "text": [
      "Note: you may need to restart the kernel to use updated packages.\n"
     ]
    },
    {
     "name": "stderr",
     "output_type": "stream",
     "text": [
      "WARNING: Package(s) not found: jupyter\n"
     ]
    }
   ],
   "source": [
    "pip install jupyter"
   ]
  },
  {
   "cell_type": "code",
   "execution_count": null,
   "metadata": {},
   "outputs": [],
   "source": []
  }
 ],
 "metadata": {
  "interpreter": {
   "hash": "5fca21ad9a88cea9ca2415063f0b9d5458bbf828e19cdb66b895214e4b1718d2"
  },
  "kernelspec": {
   "display_name": "Python 3.10.0 64-bit",
   "language": "python",
   "name": "python3"
  },
  "language_info": {
   "codemirror_mode": {
    "name": "ipython",
    "version": 3
   },
   "file_extension": ".py",
   "mimetype": "text/x-python",
   "name": "python",
   "nbconvert_exporter": "python",
   "pygments_lexer": "ipython3",
   "version": "3.10.0"
  },
  "orig_nbformat": 4
 },
 "nbformat": 4,
 "nbformat_minor": 2
}
