{
 "cells": [
  {
   "cell_type": "code",
   "execution_count": 1,
   "metadata": {},
   "outputs": [],
   "source": [
    "# (실습 1) 구글 이미지 검색 사이트 띄우기\n",
    "from selenium import webdriver\n",
    "from selenium.webdriver.common.keys import Keys\n",
    "\n",
    "driver = webdriver.Chrome()    \n",
    "driver.get(\"https://www.google.co.kr/imghp?hl=ko&ogbl\")"
   ]
  },
  {
   "cell_type": "code",
   "execution_count": 2,
   "metadata": {},
   "outputs": [
    {
     "name": "stderr",
     "output_type": "stream",
     "text": [
      "C:\\Users\\ldy\\AppData\\Local\\Temp/ipykernel_22108/4267792544.py:8: DeprecationWarning: find_element_by_* commands are deprecated. Please use find_element() instead\n",
      "  elem = driver.find_element_by_name(\"q\")\n"
     ]
    }
   ],
   "source": [
    "# (실습 2) 이미지 검색창에 원하는 키워드 입력하기\n",
    "from selenium import webdriver\n",
    "from selenium.webdriver.common.keys import Keys\n",
    "\n",
    "driver = webdriver.Chrome()    \n",
    "driver.get(\"https://www.google.co.kr/imghp?hl=ko&ogbl\") \n",
    "\n",
    "elem = driver.find_element_by_name(\"q\")\n",
    "elem.send_keys(\"iu\")\n",
    "elem.send_keys(Keys.RETURN)"
   ]
  },
  {
   "cell_type": "code",
   "execution_count": 3,
   "metadata": {},
   "outputs": [
    {
     "name": "stderr",
     "output_type": "stream",
     "text": [
      "C:\\Users\\ldy\\AppData\\Local\\Temp/ipykernel_22108/4238708667.py:7: DeprecationWarning: find_element_by_* commands are deprecated. Please use find_element() instead\n",
      "  elem = driver.find_element_by_name(\"q\")\n",
      "C:\\Users\\ldy\\AppData\\Local\\Temp/ipykernel_22108/4238708667.py:11: DeprecationWarning: find_elements_by_* commands are deprecated. Please use find_elements() instead\n",
      "  driver.find_elements_by_css_selector(\".rg_i.Q4LuWd\")[0].click()\n"
     ]
    }
   ],
   "source": [
    "# (실습 3) 첫 번째 작은 이미지 선택 및 클릭 기능 구현\n",
    "from selenium import webdriver\n",
    "from selenium.webdriver.common.keys import Keys\n",
    "\n",
    "driver = webdriver.Chrome()    \n",
    "driver.get(\"https://www.google.co.kr/imghp?hl=ko&ogbl\") \n",
    "\n",
    "elem = driver.find_element_by_name(\"q\")\n",
    "elem.send_keys(\"iu\")\n",
    "elem.send_keys(Keys.RETURN)\n",
    "\n",
    "driver.find_elements_by_css_selector(\".rg_i.Q4LuWd\")[0].click()"
   ]
  },
  {
   "cell_type": "code",
   "execution_count": 5,
   "metadata": {},
   "outputs": [
    {
     "name": "stderr",
     "output_type": "stream",
     "text": [
      "C:\\Users\\ldy\\AppData\\Local\\Temp/ipykernel_22108/1283983252.py:9: DeprecationWarning: find_element_by_* commands are deprecated. Please use find_element() instead\n",
      "  elem = driver.find_element_by_name(\"q\")\n",
      "C:\\Users\\ldy\\AppData\\Local\\Temp/ipykernel_22108/1283983252.py:13: DeprecationWarning: find_elements_by_* commands are deprecated. Please use find_elements() instead\n",
      "  driver.find_elements_by_css_selector(\".rg_i.Q4LuWd\")[0].click()\n",
      "C:\\Users\\ldy\\AppData\\Local\\Temp/ipykernel_22108/1283983252.py:15: DeprecationWarning: find_element_by_* commands are deprecated. Please use find_element() instead\n",
      "  print(\"주소: \", driver.find_element_by_css_selector(\".n3VNCb\").get_attribute(\"src\"))\n"
     ]
    },
    {
     "name": "stdout",
     "output_type": "stream",
     "text": [
      "주소:  https://w.namu.la/s/40de86374ddd74756b31d4694a7434ee9398baa51fa5ae72d28f2eeeafdadf0c475c55c58e29a684920e0d6a42602b339f8aaf6d19764b04405a0f8bee7f598d2922db9475579419aac4635d0a71fdb8a4b2343cb550e6ed93e13c1a05cede75\n"
     ]
    }
   ],
   "source": [
    "# (실습 4) 콘솔에 큰 이미지 주소 출력하기\n",
    "from selenium import webdriver\n",
    "from selenium.webdriver.common.keys import Keys\n",
    "import time\n",
    "\n",
    "driver = webdriver.Chrome()    \n",
    "driver.get(\"https://www.google.co.kr/imghp?hl=ko&ogbl\") \n",
    "\n",
    "elem = driver.find_element_by_name(\"q\")\n",
    "elem.send_keys(\"iu\")\n",
    "elem.send_keys(Keys.RETURN)\n",
    "\n",
    "driver.find_elements_by_css_selector(\".rg_i.Q4LuWd\")[0].click()\n",
    "time.sleep(2)\n",
    "print(\"주소: \", driver.find_element_by_css_selector(\".n3VNCb\").get_attribute(\"src\"))\n",
    "\n",
    "driver.close()"
   ]
  },
  {
   "cell_type": "code",
   "execution_count": 7,
   "metadata": {},
   "outputs": [
    {
     "name": "stderr",
     "output_type": "stream",
     "text": [
      "C:\\Users\\ldy\\AppData\\Local\\Temp/ipykernel_22108/500027611.py:10: DeprecationWarning: find_element_by_* commands are deprecated. Please use find_element() instead\n",
      "  elem = driver.find_element_by_name(\"q\")\n",
      "C:\\Users\\ldy\\AppData\\Local\\Temp/ipykernel_22108/500027611.py:14: DeprecationWarning: find_elements_by_* commands are deprecated. Please use find_elements() instead\n",
      "  driver.find_elements_by_css_selector(\".rg_i.Q4LuWd\")[0].click()\n",
      "C:\\Users\\ldy\\AppData\\Local\\Temp/ipykernel_22108/500027611.py:16: DeprecationWarning: find_element_by_* commands are deprecated. Please use find_element() instead\n",
      "  image_url = driver.find_element_by_css_selector(\".n3VNCb\").get_attribute(\"src\")\n"
     ]
    }
   ],
   "source": [
    "# (실습 5) 하나의 이미지 다운로드 코드 구현\n",
    "from selenium import webdriver\n",
    "from selenium.webdriver.common.keys import Keys\n",
    "import time\n",
    "import requests\n",
    "\n",
    "driver = webdriver.Chrome()    \n",
    "driver.get(\"https://www.google.co.kr/imghp?hl=ko&ogbl\") \n",
    "\n",
    "elem = driver.find_element_by_name(\"q\")\n",
    "elem.send_keys(\"iu\")\n",
    "elem.send_keys(Keys.RETURN)\n",
    "\n",
    "driver.find_elements_by_css_selector(\".rg_i.Q4LuWd\")[0].click()\n",
    "time.sleep(2)\n",
    "image_url = driver.find_element_by_css_selector(\".n3VNCb\").get_attribute(\"src\")\n",
    "r = requests.get(image_url)\n",
    "with open('test.jpg', 'wb') as f:\n",
    "    f.write(r.content)\n",
    "\n",
    "driver.close()"
   ]
  },
  {
   "cell_type": "code",
   "execution_count": null,
   "metadata": {},
   "outputs": [],
   "source": [
    "# (실습 6) 현재 페이지의 이미지 다운로드 코드 구현\n",
    "from selenium import webdriver\n",
    "from selenium.webdriver.common.keys import Keys\n",
    "import time\n",
    "import requests\n",
    "\n",
    "driver = webdriver.Chrome()    \n",
    "driver.get(\"https://www.google.co.kr/imghp?hl=ko&ogbl\") \n",
    "\n",
    "elem = driver.find_element_by_name(\"q\")\n",
    "elem.send_keys(\"iu\")\n",
    "elem.send_keys(Keys.RETURN)\n",
    "\n",
    "images = driver.find_elements_by_css_selector(\".rg_i.Q4LuWd\")\n",
    "img_number = 1\n",
    "    \n",
    "for image in images:\n",
    "    try:\n",
    "        image.click()\n",
    "        time.sleep(2)\n",
    "        image_url = driver.find_element_by_css_selector(\"#Sva75c > div > div > div.pxAole > div.tvh9oe.BIB1wf > c-wiz > div > div.OUZ5W > div.zjoqD > div.qdnLaf.isv-id > div > a > img\").get_attribute(\"src\")\n",
    "        r = requests.get(image_url)\n",
    "        image_name = f'./download_images/img{img_number}.jpg'\n",
    "        with open(image_name, 'wb') as f:\n",
    "            f.write(r.content)\n",
    "        img_number += 1\n",
    "    except Exception as e:\n",
    "        print('에러 발생', e)"
   ]
  },
  {
   "cell_type": "code",
   "execution_count": null,
   "metadata": {},
   "outputs": [],
   "source": [
    "# (실습 7) 스크롤을 내려 더 많은 이미지 다운로드 코드 구현\n",
    "from selenium import webdriver\n",
    "from selenium.webdriver.common.keys import Keys\n",
    "import time\n",
    "import requests\n",
    "\n",
    "driver = webdriver.Chrome()    \n",
    "driver.get(\"https://www.google.co.kr/imghp?hl=ko&ogbl\") \n",
    "\n",
    "elem = driver.find_element_by_name(\"q\")\n",
    "elem.send_keys(\"iu\")\n",
    "elem.send_keys(Keys.RETURN)\n",
    "\n",
    "SCROLL_PAUSE_TIME = 1\n",
    "\n",
    "# Get scroll height\n",
    "last_height = driver.execute_script(\"return document.body.scrollHeight\")\n",
    "\n",
    "while True:\n",
    "    # Scroll down to bottom\n",
    "    driver.execute_script(\"window.scrollTo(0, document.body.scrollHeight);\")\n",
    "\n",
    "    # Wait to load page\n",
    "    time.sleep(SCROLL_PAUSE_TIME)\n",
    "\n",
    "    # Calculate new scroll height and compare with last scroll height\n",
    "    new_height = driver.execute_script(\"return document.body.scrollHeight\")\n",
    "    if new_height == last_height:\n",
    "        try:\n",
    "            driver.find_element_by_css_selector('.mye4qd').click()\n",
    "        except:\n",
    "            break\n",
    "    last_height = new_height\n",
    "\n",
    "images = driver.find_elements_by_css_selector(\".rg_i.Q4LuWd\")\n",
    "img_number = 1\n",
    "    \n",
    "for image in images:\n",
    "    try:\n",
    "        image.click()\n",
    "        time.sleep(2)\n",
    "        image_url = driver.find_element_by_css_selector(\"#Sva75c > div > div > div.pxAole > div.tvh9oe.BIB1wf > c-wiz > div > div.OUZ5W > div.zjoqD > div.qdnLaf.isv-id > div > a > img\").get_attribute(\"src\")\n",
    "        r = requests.get(image_url)\n",
    "        image_name = f'./download_images/img{img_number}.jpg'\n",
    "        with open(image_name, 'wb') as f:\n",
    "            f.write(r.content)\n",
    "        img_number += 1\n",
    "    except Exception as e:\n",
    "        print('에러 발생', e)\n",
    "\n",
    "driver.close()"
   ]
  },
  {
   "cell_type": "code",
   "execution_count": null,
   "metadata": {},
   "outputs": [],
   "source": []
  }
 ],
 "metadata": {
  "interpreter": {
   "hash": "5fca21ad9a88cea9ca2415063f0b9d5458bbf828e19cdb66b895214e4b1718d2"
  },
  "kernelspec": {
   "display_name": "Python 3.10.0 64-bit",
   "language": "python",
   "name": "python3"
  },
  "language_info": {
   "codemirror_mode": {
    "name": "ipython",
    "version": 3
   },
   "file_extension": ".py",
   "mimetype": "text/x-python",
   "name": "python",
   "nbconvert_exporter": "python",
   "pygments_lexer": "ipython3",
   "version": "3.10.0"
  },
  "orig_nbformat": 4
 },
 "nbformat": 4,
 "nbformat_minor": 2
}
