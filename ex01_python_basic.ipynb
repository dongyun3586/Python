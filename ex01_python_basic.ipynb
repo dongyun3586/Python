{
 "cells": [
  {
   "cell_type": "markdown",
   "metadata": {},
   "source": [
    "### List Comprehension"
   ]
  },
  {
   "cell_type": "markdown",
   "metadata": {},
   "source": [
    "- 기존 리스트를 기반으로 새로운 리스트를 만들어내는 구문\n",
    "- List Comprehension은 람다 표현식에 map이나 filter를 섞어서 사용하는 것에 비해 가독성이 높다."
   ]
  },
  {
   "cell_type": "code",
   "execution_count": 1,
   "metadata": {},
   "outputs": [
    {
     "data": {
      "text/plain": [
       "[11, 12, 13]"
      ]
     },
     "execution_count": 1,
     "metadata": {},
     "output_type": "execute_result"
    }
   ],
   "source": [
    "list(map(lambda x: x+10, [1,2,3]))"
   ]
  },
  {
   "cell_type": "code",
   "execution_count": 2,
   "metadata": {},
   "outputs": [
    {
     "data": {
      "text/plain": [
       "[2, 6, 10, 14, 18]"
      ]
     },
     "execution_count": 2,
     "metadata": {},
     "output_type": "execute_result"
    }
   ],
   "source": [
    "a = []\n",
    "for n in range(1, 10+1):\n",
    "  if n % 2 == 1:\n",
    "    a.append(n*2)\n",
    "a"
   ]
  },
  {
   "cell_type": "code",
   "execution_count": 4,
   "metadata": {},
   "outputs": [
    {
     "data": {
      "text/plain": [
       "[2, 6, 10, 14, 18]"
      ]
     },
     "execution_count": 4,
     "metadata": {},
     "output_type": "execute_result"
    }
   ],
   "source": [
    "[n * 2 for n in range(1, 10+1) if n % 2 == 1]"
   ]
  },
  {
   "cell_type": "code",
   "execution_count": 8,
   "metadata": {},
   "outputs": [],
   "source": [
    "original = {'a':1, 'b':2, 'c':3}"
   ]
  },
  {
   "cell_type": "code",
   "execution_count": 9,
   "metadata": {},
   "outputs": [
    {
     "data": {
      "text/plain": [
       "{'a': 1, 'b': 2, 'c': 3}"
      ]
     },
     "execution_count": 9,
     "metadata": {},
     "output_type": "execute_result"
    }
   ],
   "source": [
    "a = {}\n",
    "for key, value in original.items():\n",
    "  a[key] = value\n",
    "a"
   ]
  },
  {
   "cell_type": "code",
   "execution_count": 12,
   "metadata": {},
   "outputs": [
    {
     "data": {
      "text/plain": [
       "{'a': 1, 'b': 2, 'c': 3}"
      ]
     },
     "execution_count": 12,
     "metadata": {},
     "output_type": "execute_result"
    }
   ],
   "source": [
    "b = {key: value for key, value in original.items()}\n",
    "b"
   ]
  },
  {
   "cell_type": "markdown",
   "metadata": {},
   "source": [
    "- 리스트 컴프리핸션은 특유의 문법과 의미를 축약하여 나타내는 특징 탓에 지나치게 남발하게 되면 코드의 가독성을 떨어뜨리는 요인이된다.\n",
    "- 리스트 컴프리핸션은 대체로 표현식이 2개를 넘지 않아야 한다."
   ]
  },
  {
   "cell_type": "code",
   "execution_count": 48,
   "metadata": {},
   "outputs": [],
   "source": [
    "str1 = 'Hello World'"
   ]
  },
  {
   "cell_type": "code",
   "execution_count": 52,
   "metadata": {},
   "outputs": [
    {
     "data": {
      "text/plain": [
       "['he', 'el', 'll', 'lo', 'wo', 'or', 'rl', 'ld']"
      ]
     },
     "execution_count": 52,
     "metadata": {},
     "output_type": "execute_result"
    }
   ],
   "source": [
    "import re\n",
    "\n",
    "str1s = [str1[i:i + 2].lower() for i in range(len(str1) - 1) if re.findall('[a-z]{2}', str1[i:i+2].lower())]\n",
    "str1s"
   ]
  },
  {
   "cell_type": "code",
   "execution_count": 53,
   "metadata": {},
   "outputs": [
    {
     "data": {
      "text/plain": [
       "['he', 'el', 'll', 'lo', 'wo', 'or', 'rl', 'ld']"
      ]
     },
     "execution_count": 53,
     "metadata": {},
     "output_type": "execute_result"
    }
   ],
   "source": [
    "# 코드 가독성을 위해 다음과 같이 줄바꿈을 하여 코드를 정리해보자.\n",
    "str2s = [\n",
    "  str1[i:i + 2].lower() for i in range(len(str1) - 1)\n",
    "  if re.findall('[a-z]{2}', str1[i:i+2].lower())\n",
    "]\n",
    "str2s"
   ]
  },
  {
   "cell_type": "code",
   "execution_count": 54,
   "metadata": {},
   "outputs": [
    {
     "data": {
      "text/plain": [
       "['he', 'el', 'll', 'lo', 'wo', 'or', 'rl', 'ld']"
      ]
     },
     "execution_count": 54,
     "metadata": {},
     "output_type": "execute_result"
    }
   ],
   "source": [
    "# 차라리 모두 풀어서 쓰는 것도 가독성을 위해서라면 나쁘지 않다.\n",
    "str3s = []\n",
    "for i in range(len(str1) - 1):\n",
    "  if re.findall('[a-z]{2}', str1[i:i + 2].lower()):\n",
    "    str3s.append(str1[i:i + 2].lower())\n",
    "    \n",
    "str3s"
   ]
  },
  {
   "cell_type": "markdown",
   "metadata": {},
   "source": [
    "### 제너레이터(Generator)"
   ]
  },
  {
   "cell_type": "markdown",
   "metadata": {},
   "source": [
    "- 루프의 반복(Iteration) 동작을 제어할 수 있는 루틴 형태\n",
    "- 임의의 조건으로 숫자 1억개를 만들어내는 프로그램을 작성한다고 할때, 제너레이터가 없다면 메모리에 숫자 1억개를 저장하고 있어야 한다. 그러나 제너레이터를 이용하면 제너레이터만 생성해두고 필요할 때 언제든 숫자를 만들어낼 수 있다. "
   ]
  },
  {
   "cell_type": "code",
   "execution_count": 13,
   "metadata": {},
   "outputs": [
    {
     "data": {
      "text/plain": [
       "<generator object get_natural_number at 0x00000234FC9BA740>"
      ]
     },
     "execution_count": 13,
     "metadata": {},
     "output_type": "execute_result"
    }
   ],
   "source": [
    "def get_natural_number():\n",
    "  n = 0\n",
    "  while True:\n",
    "    n += 1\n",
    "    yield n   # yield 구문을 사용하면 제너레이터를 리턴할 수 있다. (여기까지 실행중이던 값 내보냄.)\n",
    "    \n",
    "get_natural_number()  # 함수의 리턴값은 generator 객체가 된다."
   ]
  },
  {
   "cell_type": "code",
   "execution_count": 14,
   "metadata": {},
   "outputs": [
    {
     "name": "stdout",
     "output_type": "stream",
     "text": [
      "1 2 3 4 5 6 7 8 9 10 11 12 13 14 15 16 17 18 19 20 21 22 23 24 25 26 27 28 29 30 31 32 33 34 35 36 37 38 39 40 41 42 43 44 45 46 47 48 49 50 51 52 53 54 55 56 57 58 59 60 61 62 63 64 65 66 67 68 69 70 71 72 73 74 75 76 77 78 79 80 81 82 83 84 85 86 87 88 89 90 91 92 93 94 95 96 97 98 99 100 "
     ]
    }
   ],
   "source": [
    "# generator 객체를 이용하여 다음 값을 생성하려면 next()로 추출하면 된다.\n",
    "g = get_natural_number()\n",
    "for _ in range(0, 100):\n",
    "  print(next(g), end=' ')"
   ]
  },
  {
   "cell_type": "code",
   "execution_count": 27,
   "metadata": {},
   "outputs": [],
   "source": [
    "# generator는 여러 타입의 값을 하나의 함수에서 생성하는 것도 가능\n",
    "def generator():\n",
    "  yield 1\n",
    "  yield 'string'\n",
    "  yield True"
   ]
  },
  {
   "cell_type": "code",
   "execution_count": 28,
   "metadata": {},
   "outputs": [
    {
     "data": {
      "text/plain": [
       "<generator object generator at 0x00000234FC9D6120>"
      ]
     },
     "execution_count": 28,
     "metadata": {},
     "output_type": "execute_result"
    }
   ],
   "source": [
    "g = generator()\n",
    "g"
   ]
  },
  {
   "cell_type": "code",
   "execution_count": 29,
   "metadata": {},
   "outputs": [
    {
     "name": "stdout",
     "output_type": "stream",
     "text": [
      "1 string True "
     ]
    }
   ],
   "source": [
    "for _ in range(3):\n",
    "  print(next(g), end=' ')"
   ]
  },
  {
   "cell_type": "code",
   "execution_count": 30,
   "metadata": {},
   "outputs": [
    {
     "name": "stdout",
     "output_type": "stream",
     "text": [
      "1000000 1000000 True\n",
      "<class 'list'> <class 'range'>\n",
      "8448728 48\n"
     ]
    }
   ],
   "source": [
    "# 제너레이터 방식을 활용하는 대표적인 함수로 range()가 있다.\n",
    "a = [n for n in range(1000000)]\n",
    "b = range(1000000)\n",
    "\n",
    "print(len(a), len(b), len(a) == len(b))\n",
    "print(type(a), type(b))\n",
    "print(sys.getsizeof(a), sys.getsizeof(b))   # 메모리 점유율"
   ]
  },
  {
   "cell_type": "code",
   "execution_count": null,
   "metadata": {},
   "outputs": [],
   "source": []
  },
  {
   "cell_type": "markdown",
   "metadata": {},
   "source": [
    "### enumerate"
   ]
  },
  {
   "cell_type": "markdown",
   "metadata": {},
   "source": [
    "- 여러가지 자료형(list, set, tuple 등)을 인덱스를 포함한 enumerate 객체로 리턴한다."
   ]
  },
  {
   "cell_type": "code",
   "execution_count": 31,
   "metadata": {},
   "outputs": [
    {
     "data": {
      "text/plain": [
       "<enumerate at 0x234fb418e80>"
      ]
     },
     "execution_count": 31,
     "metadata": {},
     "output_type": "execute_result"
    }
   ],
   "source": [
    "a = [1,2,3,4,5,6]\n",
    "enumerate(a)"
   ]
  },
  {
   "cell_type": "code",
   "execution_count": 32,
   "metadata": {},
   "outputs": [
    {
     "data": {
      "text/plain": [
       "[(0, 1), (1, 2), (2, 3), (3, 4), (4, 5), (5, 6)]"
      ]
     },
     "execution_count": 32,
     "metadata": {},
     "output_type": "execute_result"
    }
   ],
   "source": [
    "list(enumerate(a))  # 인덱스 번호를 자동으로 부여해주기 때문에 매우 편리하다."
   ]
  },
  {
   "cell_type": "code",
   "execution_count": 34,
   "metadata": {},
   "outputs": [
    {
     "name": "stdout",
     "output_type": "stream",
     "text": [
      "0 1\n",
      "1 2\n",
      "2 3\n",
      "3 4\n",
      "4 5\n",
      "5 6\n"
     ]
    }
   ],
   "source": [
    "for i, v in enumerate(a):\n",
    "  print(i, v)"
   ]
  },
  {
   "cell_type": "markdown",
   "metadata": {},
   "source": [
    "### 나눗셈 연산자 //"
   ]
  },
  {
   "cell_type": "code",
   "execution_count": 38,
   "metadata": {},
   "outputs": [
    {
     "name": "stdout",
     "output_type": "stream",
     "text": [
      "1.6666666666666667\n",
      "<class 'float'>\n"
     ]
    }
   ],
   "source": [
    "print(5/3)\n",
    "print(type(5/3))"
   ]
  },
  {
   "cell_type": "code",
   "execution_count": 39,
   "metadata": {},
   "outputs": [
    {
     "name": "stdout",
     "output_type": "stream",
     "text": [
      "1\n",
      "<class 'int'>\n"
     ]
    }
   ],
   "source": [
    "print(5//3)\n",
    "print(type(5//3))"
   ]
  },
  {
   "cell_type": "code",
   "execution_count": 40,
   "metadata": {},
   "outputs": [
    {
     "data": {
      "text/plain": [
       "(1, 2)"
      ]
     },
     "execution_count": 40,
     "metadata": {},
     "output_type": "execute_result"
    }
   ],
   "source": [
    "# 몫과 나머지를 동시에 구하려면 divmod() 함수를 사용하면 된다.\n",
    "divmod(5, 3)"
   ]
  },
  {
   "cell_type": "markdown",
   "metadata": {},
   "source": [
    "### print"
   ]
  },
  {
   "cell_type": "code",
   "execution_count": 43,
   "metadata": {},
   "outputs": [
    {
     "name": "stdout",
     "output_type": "stream",
     "text": [
      "A1, B2, C3\n"
     ]
    }
   ],
   "source": [
    "print('A1', 'B2', 'C3', sep=', ')"
   ]
  },
  {
   "cell_type": "code",
   "execution_count": 44,
   "metadata": {},
   "outputs": [
    {
     "name": "stdout",
     "output_type": "stream",
     "text": [
      "A, B, C\n"
     ]
    }
   ],
   "source": [
    "# 리스트를 출력할 때는 join()으로 묶어서 처리한다.\n",
    "a = ['A', 'B', 'C']\n",
    "print(', '.join(a))"
   ]
  },
  {
   "cell_type": "markdown",
   "metadata": {},
   "source": [
    "### pass"
   ]
  },
  {
   "cell_type": "code",
   "execution_count": 45,
   "metadata": {},
   "outputs": [],
   "source": [
    "class MyClass(object):\n",
    "  def method_a(self):\n",
    "    pass  # 아무것도 없으면 error, pass는 Null Operation으로 아무것도 하지 않는 기능\n",
    "  \n",
    "  def method_b(self):\n",
    "    print('Method B')\n",
    "    \n",
    "c = MyClass()"
   ]
  },
  {
   "cell_type": "markdown",
   "metadata": {},
   "source": [
    "### locals()"
   ]
  },
  {
   "cell_type": "markdown",
   "metadata": {},
   "source": [
    "- 로컬 심볼 테이블 딕셔너리를 가져오는 메소드\n",
    "- 로컬에 선언된 모든 변수를 조회할 수 있는 기능으로 디버깅에 도움이 된다.\n",
    "- 로컬 스코프에 제한해 정보를 조회하기 때문에 클래스의 특정 메소드 내부에서나 함수 내부에 잘못된 부분이 있는지 확인할 수 있다."
   ]
  },
  {
   "cell_type": "code",
   "execution_count": 46,
   "metadata": {},
   "outputs": [
    {
     "name": "stdout",
     "output_type": "stream",
     "text": [
      "{'In': ['',\n",
      "        'list(map(lambda x: x+10, [1,2,3]))',\n",
      "        'a = []\\n'\n",
      "        'for n in range(1, 10+1):\\n'\n",
      "        '  if n % 2 == 1:\\n'\n",
      "        '    a.append(n*2)\\n'\n",
      "        'a',\n",
      "        '[n * 2 for n in range(1, 10+1) if n % 2 == 0]',\n",
      "        '[n * 2 for n in range(1, 10+1) if n % 2 == 1]',\n",
      "        'a = {}\\nfor key, value in original.items():\\n  a[key] = value\\na',\n",
      "        'original = {a:1, b:2, c:3}',\n",
      "        \"original = {'a'':1, 'b':2, 'c':3}\",\n",
      "        \"original = {'a':1, 'b':2, 'c':3}\",\n",
      "        'a = {}\\nfor key, value in original.items():\\n  a[key] = value\\na',\n",
      "        'a = {key: value for key, value in original.items()}',\n",
      "        'a = {key: value for key, value in original.items()}\\na',\n",
      "        'b = {key: value for key, value in original.items()}\\nb',\n",
      "        'def get_natural_number():\\n'\n",
      "        '  n = 0\\n'\n",
      "        '  while True:\\n'\n",
      "        '    n += 1\\n'\n",
      "        '    yield n\\n'\n",
      "        'get_natural_number()',\n",
      "        '# generator 객체를 이용하여 다음 값을 생성하려면 next()로 추출하면 된다.\\n'\n",
      "        'g = get_natural_number()\\n'\n",
      "        'for _ in range(0, 100):\\n'\n",
      "        \"  print(next(g), end=' ')\",\n",
      "        '# generator는 여러 타입의 값을 하나의 함수에서 생성하는 것도 가능\\n'\n",
      "        'def generator():\\n'\n",
      "        '  i = 0\\n'\n",
      "        '    yield i += 1\\n'\n",
      "        \"    yield 'string'+i\\n\"\n",
      "        '    yield Ture',\n",
      "        '# generator는 여러 타입의 값을 하나의 함수에서 생성하는 것도 가능\\n'\n",
      "        'def generator():\\n'\n",
      "        '  i = 0\\n'\n",
      "        '  yield i += 1\\n'\n",
      "        \"  yield 'string'+i\\n\"\n",
      "        '  yield Ture',\n",
      "        '# generator는 여러 타입의 값을 하나의 함수에서 생성하는 것도 가능\\n'\n",
      "        'def generator():\\n'\n",
      "        '  yield 1\\n'\n",
      "        \"  yield 'string'\\n\"\n",
      "        '  yield Ture',\n",
      "        'g = generator()\\ng',\n",
      "        \"for _ in range(10):\\n  print(next(g), end=' ')\",\n",
      "        '# generator는 여러 타입의 값을 하나의 함수에서 생성하는 것도 가능\\n'\n",
      "        'def generator():\\n'\n",
      "        '  yield 1\\n'\n",
      "        \"  yield 'string'\\n\"\n",
      "        '  yield True',\n",
      "        'g = generator()\\ng',\n",
      "        \"for _ in range(10):\\n  print(next(g), end=' ')\",\n",
      "        'next(g)',\n",
      "        '# generator는 여러 타입의 값을 하나의 함수에서 생성하는 것도 가능\\n'\n",
      "        'def generator():\\n'\n",
      "        '  yield 1\\n'\n",
      "        \"  yield 'string'\\n\"\n",
      "        '  yield True',\n",
      "        'g = generator()\\ng',\n",
      "        \"for _ in range(10):\\n  print(next(g), end=' ')\",\n",
      "        '# generator는 여러 타입의 값을 하나의 함수에서 생성하는 것도 가능\\n'\n",
      "        'def generator():\\n'\n",
      "        '  yield 1\\n'\n",
      "        \"  yield 'string'\\n\"\n",
      "        '  yield True',\n",
      "        'g = generator()\\ng',\n",
      "        \"for _ in range(3):\\n  print(next(g), end=' ')\",\n",
      "        '# 제너레이터 방식을 활용하는 대표적인 함수로 range()가 있다.\\n'\n",
      "        'a = [n for n in range(1000000)]\\n'\n",
      "        'b = range(1000000)\\n'\n",
      "        '\\n'\n",
      "        'print(len(a), len(b), len(a) == len(b))\\n'\n",
      "        'print(type(a), type(b))\\n'\n",
      "        'print(sys.getsizeof(a), sys.getsizeof(b))',\n",
      "        'a = [1,2,3,4,5,6]\\nenumerate(a)',\n",
      "        'list(enumerate(a))',\n",
      "        'for i, v enumerate(a):\\n  print(i, v)',\n",
      "        'for i, v in enumerate(a):\\n  print(i, v)',\n",
      "        '5/3',\n",
      "        'type(5/3)',\n",
      "        'print(type(5/3))',\n",
      "        'print(5/3)\\nprint(type(5/3))',\n",
      "        'print(5//3)\\nprint(type(5//3))',\n",
      "        '# 몫과 나머지를 동시에 구하려면 divmod() 함수를 사용하면 된다.\\ndivmod(5, 3)',\n",
      "        \"print('A1', 'B2', sep=',')\",\n",
      "        \"print('A1', 'B2', sep=', ')\",\n",
      "        \"print('A1', 'B2', 'C3', sep=', ')\",\n",
      "        '# 리스트를 출력할 때는 join()으로 묶어서 처리한다.\\n'\n",
      "        \"a = ['A', 'B', 'C']\\n\"\n",
      "        \"print(', '.join(a))\",\n",
      "        'class MyClass(object):\\n'\n",
      "        '  def method_a(self):\\n'\n",
      "        '    pass  # 아무것도 없으면 error\\n'\n",
      "        '  \\n'\n",
      "        '  def method_b(self):\\n'\n",
      "        \"    print('Method B')\\n\"\n",
      "        '    \\n'\n",
      "        'c = MyClass()',\n",
      "        'import pprint\\n\\npprint.pprint(locals())'],\n",
      " 'MyClass': <class '__main__.MyClass'>,\n",
      " 'Out': {1: [11, 12, 13],\n",
      "         2: [2, 6, 10, 14, 18],\n",
      "         3: [4, 8, 12, 16, 20],\n",
      "         4: [2, 6, 10, 14, 18],\n",
      "         9: {'a': 1, 'b': 2, 'c': 3},\n",
      "         11: {'a': 1, 'b': 2, 'c': 3},\n",
      "         12: {'a': 1, 'b': 2, 'c': 3},\n",
      "         13: <generator object get_natural_number at 0x00000234FC9BA740>,\n",
      "         18: <generator object generator at 0x00000234FC9E26D0>,\n",
      "         21: <generator object generator at 0x00000234FC9D60B0>,\n",
      "         25: <generator object generator at 0x00000234FC9D6040>,\n",
      "         28: <generator object generator at 0x00000234FC9D6120>,\n",
      "         31: <enumerate object at 0x00000234FB418E80>,\n",
      "         32: [(0, 1), (1, 2), (2, 3), (3, 4), (4, 5), (5, 6)],\n",
      "         35: 1.6666666666666667,\n",
      "         36: <class 'float'>,\n",
      "         40: (1, 2)},\n",
      " '_': 2,\n",
      " '_1': [11, 12, 13],\n",
      " '_11': {'a': 1, 'b': 2, 'c': 3},\n",
      " '_12': {'a': 1, 'b': 2, 'c': 3},\n",
      " '_13': <generator object get_natural_number at 0x00000234FC9BA740>,\n",
      " '_18': <generator object generator at 0x00000234FC9E26D0>,\n",
      " '_2': [2, 6, 10, 14, 18],\n",
      " '_21': <generator object generator at 0x00000234FC9D60B0>,\n",
      " '_25': <generator object generator at 0x00000234FC9D6040>,\n",
      " '_28': <generator object generator at 0x00000234FC9D6120>,\n",
      " '_3': [4, 8, 12, 16, 20],\n",
      " '_31': <enumerate object at 0x00000234FB418E80>,\n",
      " '_32': [(0, 1), (1, 2), (2, 3), (3, 4), (4, 5), (5, 6)],\n",
      " '_35': 1.6666666666666667,\n",
      " '_36': <class 'float'>,\n",
      " '_4': [2, 6, 10, 14, 18],\n",
      " '_40': (1, 2),\n",
      " '_9': {'a': 1, 'b': 2, 'c': 3},\n",
      " '__': {'a': 1, 'b': 2, 'c': 3},\n",
      " '___': {'a': 1, 'b': 2, 'c': 3},\n",
      " '__builtin__': <module 'builtins' (built-in)>,\n",
      " '__builtins__': <module 'builtins' (built-in)>,\n",
      " '__doc__': 'Automatically created module for IPython interactive environment',\n",
      " '__loader__': None,\n",
      " '__name__': '__main__',\n",
      " '__package__': None,\n",
      " '__spec__': None,\n",
      " '__vsc_ipynb_file__': 'd:\\\\Repository\\\\Python\\\\python01.ipynb',\n",
      " '_dh': ['d:\\\\Repository\\\\Python'],\n",
      " '_i': 'class MyClass(object):\\n'\n",
      "       '  def method_a(self):\\n'\n",
      "       '    pass  # 아무것도 없으면 error\\n'\n",
      "       '  \\n'\n",
      "       '  def method_b(self):\\n'\n",
      "       \"    print('Method B')\\n\"\n",
      "       '    \\n'\n",
      "       'c = MyClass()',\n",
      " '_i1': 'list(map(lambda x: x+10, [1,2,3]))',\n",
      " '_i10': 'a = {key: value for key, value in original.items()}',\n",
      " '_i11': 'a = {key: value for key, value in original.items()}\\na',\n",
      " '_i12': 'b = {key: value for key, value in original.items()}\\nb',\n",
      " '_i13': 'def get_natural_number():\\n'\n",
      "         '  n = 0\\n'\n",
      "         '  while True:\\n'\n",
      "         '    n += 1\\n'\n",
      "         '    yield n\\n'\n",
      "         'get_natural_number()',\n",
      " '_i14': '# generator 객체를 이용하여 다음 값을 생성하려면 next()로 추출하면 된다.\\n'\n",
      "         'g = get_natural_number()\\n'\n",
      "         'for _ in range(0, 100):\\n'\n",
      "         \"  print(next(g), end=' ')\",\n",
      " '_i15': '# generator는 여러 타입의 값을 하나의 함수에서 생성하는 것도 가능\\n'\n",
      "         'def generator():\\n'\n",
      "         '  i = 0\\n'\n",
      "         '    yield i += 1\\n'\n",
      "         \"    yield 'string'+i\\n\"\n",
      "         '    yield Ture',\n",
      " '_i16': '# generator는 여러 타입의 값을 하나의 함수에서 생성하는 것도 가능\\n'\n",
      "         'def generator():\\n'\n",
      "         '  i = 0\\n'\n",
      "         '  yield i += 1\\n'\n",
      "         \"  yield 'string'+i\\n\"\n",
      "         '  yield Ture',\n",
      " '_i17': '# generator는 여러 타입의 값을 하나의 함수에서 생성하는 것도 가능\\n'\n",
      "         'def generator():\\n'\n",
      "         '  yield 1\\n'\n",
      "         \"  yield 'string'\\n\"\n",
      "         '  yield Ture',\n",
      " '_i18': 'g = generator()\\ng',\n",
      " '_i19': \"for _ in range(10):\\n  print(next(g), end=' ')\",\n",
      " '_i2': 'a = []\\n'\n",
      "        'for n in range(1, 10+1):\\n'\n",
      "        '  if n % 2 == 1:\\n'\n",
      "        '    a.append(n*2)\\n'\n",
      "        'a',\n",
      " '_i20': '# generator는 여러 타입의 값을 하나의 함수에서 생성하는 것도 가능\\n'\n",
      "         'def generator():\\n'\n",
      "         '  yield 1\\n'\n",
      "         \"  yield 'string'\\n\"\n",
      "         '  yield True',\n",
      " '_i21': 'g = generator()\\ng',\n",
      " '_i22': \"for _ in range(10):\\n  print(next(g), end=' ')\",\n",
      " '_i23': 'next(g)',\n",
      " '_i24': '# generator는 여러 타입의 값을 하나의 함수에서 생성하는 것도 가능\\n'\n",
      "         'def generator():\\n'\n",
      "         '  yield 1\\n'\n",
      "         \"  yield 'string'\\n\"\n",
      "         '  yield True',\n",
      " '_i25': 'g = generator()\\ng',\n",
      " '_i26': \"for _ in range(10):\\n  print(next(g), end=' ')\",\n",
      " '_i27': '# generator는 여러 타입의 값을 하나의 함수에서 생성하는 것도 가능\\n'\n",
      "         'def generator():\\n'\n",
      "         '  yield 1\\n'\n",
      "         \"  yield 'string'\\n\"\n",
      "         '  yield True',\n",
      " '_i28': 'g = generator()\\ng',\n",
      " '_i29': \"for _ in range(3):\\n  print(next(g), end=' ')\",\n",
      " '_i3': '[n * 2 for n in range(1, 10+1) if n % 2 == 0]',\n",
      " '_i30': '# 제너레이터 방식을 활용하는 대표적인 함수로 range()가 있다.\\n'\n",
      "         'a = [n for n in range(1000000)]\\n'\n",
      "         'b = range(1000000)\\n'\n",
      "         '\\n'\n",
      "         'print(len(a), len(b), len(a) == len(b))\\n'\n",
      "         'print(type(a), type(b))\\n'\n",
      "         'print(sys.getsizeof(a), sys.getsizeof(b))',\n",
      " '_i31': 'a = [1,2,3,4,5,6]\\nenumerate(a)',\n",
      " '_i32': 'list(enumerate(a))',\n",
      " '_i33': 'for i, v enumerate(a):\\n  print(i, v)',\n",
      " '_i34': 'for i, v in enumerate(a):\\n  print(i, v)',\n",
      " '_i35': '5/3',\n",
      " '_i36': 'type(5/3)',\n",
      " '_i37': 'print(type(5/3))',\n",
      " '_i38': 'print(5/3)\\nprint(type(5/3))',\n",
      " '_i39': 'print(5//3)\\nprint(type(5//3))',\n",
      " '_i4': '[n * 2 for n in range(1, 10+1) if n % 2 == 1]',\n",
      " '_i40': '# 몫과 나머지를 동시에 구하려면 divmod() 함수를 사용하면 된다.\\ndivmod(5, 3)',\n",
      " '_i41': \"print('A1', 'B2', sep=',')\",\n",
      " '_i42': \"print('A1', 'B2', sep=', ')\",\n",
      " '_i43': \"print('A1', 'B2', 'C3', sep=', ')\",\n",
      " '_i44': '# 리스트를 출력할 때는 join()으로 묶어서 처리한다.\\n'\n",
      "         \"a = ['A', 'B', 'C']\\n\"\n",
      "         \"print(', '.join(a))\",\n",
      " '_i45': 'class MyClass(object):\\n'\n",
      "         '  def method_a(self):\\n'\n",
      "         '    pass  # 아무것도 없으면 error\\n'\n",
      "         '  \\n'\n",
      "         '  def method_b(self):\\n'\n",
      "         \"    print('Method B')\\n\"\n",
      "         '    \\n'\n",
      "         'c = MyClass()',\n",
      " '_i46': 'import pprint\\n\\npprint.pprint(locals())',\n",
      " '_i5': 'a = {}\\nfor key, value in original.items():\\n  a[key] = value\\na',\n",
      " '_i6': 'original = {a:1, b:2, c:3}',\n",
      " '_i7': \"original = {'a'':1, 'b':2, 'c':3}\",\n",
      " '_i8': \"original = {'a':1, 'b':2, 'c':3}\",\n",
      " '_i9': 'a = {}\\nfor key, value in original.items():\\n  a[key] = value\\na',\n",
      " '_ih': ['',\n",
      "         'list(map(lambda x: x+10, [1,2,3]))',\n",
      "         'a = []\\n'\n",
      "         'for n in range(1, 10+1):\\n'\n",
      "         '  if n % 2 == 1:\\n'\n",
      "         '    a.append(n*2)\\n'\n",
      "         'a',\n",
      "         '[n * 2 for n in range(1, 10+1) if n % 2 == 0]',\n",
      "         '[n * 2 for n in range(1, 10+1) if n % 2 == 1]',\n",
      "         'a = {}\\nfor key, value in original.items():\\n  a[key] = value\\na',\n",
      "         'original = {a:1, b:2, c:3}',\n",
      "         \"original = {'a'':1, 'b':2, 'c':3}\",\n",
      "         \"original = {'a':1, 'b':2, 'c':3}\",\n",
      "         'a = {}\\nfor key, value in original.items():\\n  a[key] = value\\na',\n",
      "         'a = {key: value for key, value in original.items()}',\n",
      "         'a = {key: value for key, value in original.items()}\\na',\n",
      "         'b = {key: value for key, value in original.items()}\\nb',\n",
      "         'def get_natural_number():\\n'\n",
      "         '  n = 0\\n'\n",
      "         '  while True:\\n'\n",
      "         '    n += 1\\n'\n",
      "         '    yield n\\n'\n",
      "         'get_natural_number()',\n",
      "         '# generator 객체를 이용하여 다음 값을 생성하려면 next()로 추출하면 된다.\\n'\n",
      "         'g = get_natural_number()\\n'\n",
      "         'for _ in range(0, 100):\\n'\n",
      "         \"  print(next(g), end=' ')\",\n",
      "         '# generator는 여러 타입의 값을 하나의 함수에서 생성하는 것도 가능\\n'\n",
      "         'def generator():\\n'\n",
      "         '  i = 0\\n'\n",
      "         '    yield i += 1\\n'\n",
      "         \"    yield 'string'+i\\n\"\n",
      "         '    yield Ture',\n",
      "         '# generator는 여러 타입의 값을 하나의 함수에서 생성하는 것도 가능\\n'\n",
      "         'def generator():\\n'\n",
      "         '  i = 0\\n'\n",
      "         '  yield i += 1\\n'\n",
      "         \"  yield 'string'+i\\n\"\n",
      "         '  yield Ture',\n",
      "         '# generator는 여러 타입의 값을 하나의 함수에서 생성하는 것도 가능\\n'\n",
      "         'def generator():\\n'\n",
      "         '  yield 1\\n'\n",
      "         \"  yield 'string'\\n\"\n",
      "         '  yield Ture',\n",
      "         'g = generator()\\ng',\n",
      "         \"for _ in range(10):\\n  print(next(g), end=' ')\",\n",
      "         '# generator는 여러 타입의 값을 하나의 함수에서 생성하는 것도 가능\\n'\n",
      "         'def generator():\\n'\n",
      "         '  yield 1\\n'\n",
      "         \"  yield 'string'\\n\"\n",
      "         '  yield True',\n",
      "         'g = generator()\\ng',\n",
      "         \"for _ in range(10):\\n  print(next(g), end=' ')\",\n",
      "         'next(g)',\n",
      "         '# generator는 여러 타입의 값을 하나의 함수에서 생성하는 것도 가능\\n'\n",
      "         'def generator():\\n'\n",
      "         '  yield 1\\n'\n",
      "         \"  yield 'string'\\n\"\n",
      "         '  yield True',\n",
      "         'g = generator()\\ng',\n",
      "         \"for _ in range(10):\\n  print(next(g), end=' ')\",\n",
      "         '# generator는 여러 타입의 값을 하나의 함수에서 생성하는 것도 가능\\n'\n",
      "         'def generator():\\n'\n",
      "         '  yield 1\\n'\n",
      "         \"  yield 'string'\\n\"\n",
      "         '  yield True',\n",
      "         'g = generator()\\ng',\n",
      "         \"for _ in range(3):\\n  print(next(g), end=' ')\",\n",
      "         '# 제너레이터 방식을 활용하는 대표적인 함수로 range()가 있다.\\n'\n",
      "         'a = [n for n in range(1000000)]\\n'\n",
      "         'b = range(1000000)\\n'\n",
      "         '\\n'\n",
      "         'print(len(a), len(b), len(a) == len(b))\\n'\n",
      "         'print(type(a), type(b))\\n'\n",
      "         'print(sys.getsizeof(a), sys.getsizeof(b))',\n",
      "         'a = [1,2,3,4,5,6]\\nenumerate(a)',\n",
      "         'list(enumerate(a))',\n",
      "         'for i, v enumerate(a):\\n  print(i, v)',\n",
      "         'for i, v in enumerate(a):\\n  print(i, v)',\n",
      "         '5/3',\n",
      "         'type(5/3)',\n",
      "         'print(type(5/3))',\n",
      "         'print(5/3)\\nprint(type(5/3))',\n",
      "         'print(5//3)\\nprint(type(5//3))',\n",
      "         '# 몫과 나머지를 동시에 구하려면 divmod() 함수를 사용하면 된다.\\ndivmod(5, 3)',\n",
      "         \"print('A1', 'B2', sep=',')\",\n",
      "         \"print('A1', 'B2', sep=', ')\",\n",
      "         \"print('A1', 'B2', 'C3', sep=', ')\",\n",
      "         '# 리스트를 출력할 때는 join()으로 묶어서 처리한다.\\n'\n",
      "         \"a = ['A', 'B', 'C']\\n\"\n",
      "         \"print(', '.join(a))\",\n",
      "         'class MyClass(object):\\n'\n",
      "         '  def method_a(self):\\n'\n",
      "         '    pass  # 아무것도 없으면 error\\n'\n",
      "         '  \\n'\n",
      "         '  def method_b(self):\\n'\n",
      "         \"    print('Method B')\\n\"\n",
      "         '    \\n'\n",
      "         'c = MyClass()',\n",
      "         'import pprint\\n\\npprint.pprint(locals())'],\n",
      " '_ii': '# 리스트를 출력할 때는 join()으로 묶어서 처리한다.\\n'\n",
      "        \"a = ['A', 'B', 'C']\\n\"\n",
      "        \"print(', '.join(a))\",\n",
      " '_iii': \"print('A1', 'B2', 'C3', sep=', ')\",\n",
      " '_oh': {1: [11, 12, 13],\n",
      "         2: [2, 6, 10, 14, 18],\n",
      "         3: [4, 8, 12, 16, 20],\n",
      "         4: [2, 6, 10, 14, 18],\n",
      "         9: {'a': 1, 'b': 2, 'c': 3},\n",
      "         11: {'a': 1, 'b': 2, 'c': 3},\n",
      "         12: {'a': 1, 'b': 2, 'c': 3},\n",
      "         13: <generator object get_natural_number at 0x00000234FC9BA740>,\n",
      "         18: <generator object generator at 0x00000234FC9E26D0>,\n",
      "         21: <generator object generator at 0x00000234FC9D60B0>,\n",
      "         25: <generator object generator at 0x00000234FC9D6040>,\n",
      "         28: <generator object generator at 0x00000234FC9D6120>,\n",
      "         31: <enumerate object at 0x00000234FB418E80>,\n",
      "         32: [(0, 1), (1, 2), (2, 3), (3, 4), (4, 5), (5, 6)],\n",
      "         35: 1.6666666666666667,\n",
      "         36: <class 'float'>,\n",
      "         40: (1, 2)},\n",
      " 'a': ['A', 'B', 'C'],\n",
      " 'b': range(0, 1000000),\n",
      " 'c': <__main__.MyClass object at 0x00000234FB8AE5E0>,\n",
      " 'exit': <IPython.core.autocall.ZMQExitAutocall object at 0x00000234FB88D580>,\n",
      " 'g': <generator object generator at 0x00000234FC9D6120>,\n",
      " 'generator': <function generator at 0x00000234FC9B5B80>,\n",
      " 'get_ipython': <bound method InteractiveShell.get_ipython of <ipykernel.zmqshell.ZMQInteractiveShell object at 0x00000234FB87B3A0>>,\n",
      " 'get_natural_number': <function get_natural_number at 0x00000234FC9B5310>,\n",
      " 'i': 5,\n",
      " 'key': 'c',\n",
      " 'n': 10,\n",
      " 'original': {'a': 1, 'b': 2, 'c': 3},\n",
      " 'os': <module 'os' from 'c:\\\\Anaconda3\\\\lib\\\\os.py'>,\n",
      " 'pprint': <module 'pprint' from 'c:\\\\Anaconda3\\\\lib\\\\pprint.py'>,\n",
      " 'quit': <IPython.core.autocall.ZMQExitAutocall object at 0x00000234FB88D580>,\n",
      " 'sys': <module 'sys' (built-in)>,\n",
      " 'v': 6,\n",
      " 'value': 3}\n"
     ]
    }
   ],
   "source": [
    "import pprint   \n",
    "\n",
    "pprint.pprint(locals())   # pprint()를 사용하면 보기 좋게 줄바꿈해서 보여준다."
   ]
  },
  {
   "cell_type": "markdown",
   "metadata": {},
   "source": [
    "### 변수명과 주석"
   ]
  },
  {
   "cell_type": "code",
   "execution_count": 56,
   "metadata": {},
   "outputs": [],
   "source": [
    "# def numMatchingSubseq(self, S: str, words: List[str]) -> int:\n",
    "#   matched_count = 0\n",
    "  \n",
    "#   for word in words:\n",
    "#     pos = 0\n",
    "#     for i in range(len(word)):\n",
    "#       # Find matching position for each character.\n",
    "#       found_pos = S[pos:].find(word[i])\n",
    "#       if found_pos < 0:\n",
    "#         matched_count -= 1\n",
    "#         break\n",
    "#       else: # If found, take step position forword.\n",
    "#         pos += found_pos + 1\n",
    "#     matched_count += 1\n",
    "# return matched_count\n",
    "\n",
    "# numMatchingSubseq('hello', ['Hello World', 'hello world', 'hello'])"
   ]
  },
  {
   "cell_type": "code",
   "execution_count": null,
   "metadata": {},
   "outputs": [],
   "source": []
  },
  {
   "cell_type": "code",
   "execution_count": null,
   "metadata": {},
   "outputs": [],
   "source": []
  },
  {
   "cell_type": "code",
   "execution_count": null,
   "metadata": {},
   "outputs": [],
   "source": []
  },
  {
   "cell_type": "code",
   "execution_count": null,
   "metadata": {},
   "outputs": [],
   "source": []
  },
  {
   "cell_type": "code",
   "execution_count": null,
   "metadata": {},
   "outputs": [],
   "source": []
  },
  {
   "cell_type": "code",
   "execution_count": null,
   "metadata": {},
   "outputs": [],
   "source": []
  },
  {
   "cell_type": "code",
   "execution_count": null,
   "metadata": {},
   "outputs": [],
   "source": []
  },
  {
   "cell_type": "code",
   "execution_count": null,
   "metadata": {},
   "outputs": [],
   "source": []
  },
  {
   "cell_type": "code",
   "execution_count": null,
   "metadata": {},
   "outputs": [],
   "source": []
  },
  {
   "cell_type": "code",
   "execution_count": null,
   "metadata": {},
   "outputs": [],
   "source": []
  },
  {
   "cell_type": "code",
   "execution_count": null,
   "metadata": {},
   "outputs": [],
   "source": []
  },
  {
   "cell_type": "code",
   "execution_count": null,
   "metadata": {},
   "outputs": [],
   "source": []
  }
 ],
 "metadata": {
  "kernelspec": {
   "display_name": "Python 3.9.7 ('base')",
   "language": "python",
   "name": "python3"
  },
  "language_info": {
   "codemirror_mode": {
    "name": "ipython",
    "version": 3
   },
   "file_extension": ".py",
   "mimetype": "text/x-python",
   "name": "python",
   "nbconvert_exporter": "python",
   "pygments_lexer": "ipython3",
   "version": "3.9.7"
  },
  "orig_nbformat": 4,
  "vscode": {
   "interpreter": {
    "hash": "e4cce46d6be9934fbd27f9ca0432556941ea5bdf741d4f4d64c6cd7f8dfa8fba"
   }
  }
 },
 "nbformat": 4,
 "nbformat_minor": 2
}
