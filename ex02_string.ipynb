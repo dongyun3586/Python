{
 "cells": [
  {
   "cell_type": "markdown",
   "metadata": {},
   "source": [
    "### Palindrome"
   ]
  },
  {
   "cell_type": "code",
   "execution_count": 6,
   "metadata": {},
   "outputs": [],
   "source": [
    "# 풀이 1. 리스트로 변환\n",
    "def isPalindrome(s: str) -> bool:\n",
    "  # 알파벳과 숫자만 소문자로 변환하여 리스트에 저장\n",
    "  strs = []\n",
    "  for char in s:\n",
    "    if char.isalnum():\n",
    "      strs.append(char.lower())\n",
    "      \n",
    "  # 팰린드롬 여부 판별\n",
    "  while len(strs) > 1:\n",
    "    if strs.pop(0) != strs.pop():\n",
    "      return False\n",
    "  \n",
    "  return True"
   ]
  },
  {
   "cell_type": "code",
   "execution_count": 7,
   "metadata": {},
   "outputs": [
    {
     "name": "stdout",
     "output_type": "stream",
     "text": [
      "True\n",
      "False\n"
     ]
    }
   ],
   "source": [
    "print(isPalindrome(\"A man, a plan, a canal: Panama\"))\n",
    "print(isPalindrome(\"race a car\"))"
   ]
  },
  {
   "cell_type": "code",
   "execution_count": 16,
   "metadata": {},
   "outputs": [],
   "source": [
    "# 풀이 2. 데크 자료형을 이용한 최적화\n",
    "import collections\n",
    "def isPalindrome(s: str) -> bool:\n",
    "  # 리스트 대신 데크로 선언\n",
    "  strs: Deque = collections.deque()\n",
    "  for char in s:\n",
    "    if char.isalnum():\n",
    "      strs.append(char.lower())\n",
    "      \n",
    "  # 팰린드롬 여부 판별\n",
    "  while len(strs) > 1:\n",
    "    if strs.popleft() != strs.pop():\n",
    "      return False\n",
    "  \n",
    "  return True"
   ]
  },
  {
   "cell_type": "code",
   "execution_count": 17,
   "metadata": {},
   "outputs": [
    {
     "name": "stdout",
     "output_type": "stream",
     "text": [
      "True\n",
      "False\n"
     ]
    }
   ],
   "source": [
    "print(isPalindrome(\"A man, a plan, a canal: Panama\"))\n",
    "print(isPalindrome(\"race a car\"))"
   ]
  },
  {
   "cell_type": "code",
   "execution_count": 18,
   "metadata": {},
   "outputs": [],
   "source": [
    "# 풀이 3. 슬라이싱 사용\n",
    "import re\n",
    "def isPalindrome(s: str) -> bool:\n",
    "  s = s.lower()\n",
    "  # 정규식으로 불필요한 문자 필터링\n",
    "  s = re.sub('[^a-z0-9]', '', s)\n",
    "  \n",
    "  return s == s[::-1]   # 슬라이싱으로 문자열을 뒤집어 비교"
   ]
  },
  {
   "cell_type": "code",
   "execution_count": 19,
   "metadata": {},
   "outputs": [
    {
     "name": "stdout",
     "output_type": "stream",
     "text": [
      "True\n",
      "False\n"
     ]
    }
   ],
   "source": [
    "print(isPalindrome(\"A man, a plan, a canal: Panama\"))\n",
    "print(isPalindrome(\"race a car\"))"
   ]
  },
  {
   "cell_type": "markdown",
   "metadata": {},
   "source": [
    "- 파이썬에서는 문자열 슬라이싱이라는 매우 편리한 기능을 제공한다. 무엇보다 내부적으로 매우 빠르게 동작한다.\n",
    "- 문자열을 조작할 때는 항상 슬라이싱을 우선으로 사용하는 편이 속도 개선에 유리하다."
   ]
  },
  {
   "cell_type": "markdown",
   "metadata": {},
   "source": [
    "### 문자열 뒤집기"
   ]
  },
  {
   "cell_type": "code",
   "execution_count": 20,
   "metadata": {},
   "outputs": [],
   "source": [
    "# 풀이1. 투 포인터를 이용한 swap\n",
    "def reverseString(s:list[str]) -> None:\n",
    "  left, right = 0, len(s) - 1\n",
    "  while left < right:\n",
    "    s[left], s[right] = s[right], s[left]\n",
    "    left += 1\n",
    "    right -= 1"
   ]
  },
  {
   "cell_type": "code",
   "execution_count": 22,
   "metadata": {},
   "outputs": [
    {
     "data": {
      "text/plain": [
       "['o', 'l', 'l', 'e', 'h']"
      ]
     },
     "execution_count": 22,
     "metadata": {},
     "output_type": "execute_result"
    }
   ],
   "source": [
    "str = [\"h\", \"e\", \"l\", \"l\", \"o\"]\n",
    "reverseString(str)\n",
    "str"
   ]
  },
  {
   "cell_type": "code",
   "execution_count": 26,
   "metadata": {},
   "outputs": [],
   "source": [
    "# 풀이2. 파이썬다운 방식\n",
    "def reverseString(s:list[str]) -> None:\n",
    "  s.reverse()"
   ]
  },
  {
   "cell_type": "code",
   "execution_count": 27,
   "metadata": {},
   "outputs": [
    {
     "data": {
      "text/plain": [
       "['o', 'l', 'l', 'e', 'h']"
      ]
     },
     "execution_count": 27,
     "metadata": {},
     "output_type": "execute_result"
    }
   ],
   "source": [
    "str = [\"h\", \"e\", \"l\", \"l\", \"o\"]\n",
    "reverseString(str)\n",
    "str"
   ]
  },
  {
   "cell_type": "markdown",
   "metadata": {},
   "source": [
    "### 로그 파일 재정렬"
   ]
  },
  {
   "cell_type": "markdown",
   "metadata": {},
   "source": [
    "1. 로그의 가장 앞 부분은 식별자다.\n",
    "2. 문자로 구성된 로그가 숫자 로그보다 앞에 온다.\n",
    "3. 식별자는 순서에 영향을 끼치지 않지만, 문자가 동일할 경우 식별자 순으로 한다.\n",
    "4. 숫자 로그는 입력 순서대로 한다."
   ]
  },
  {
   "cell_type": "code",
   "execution_count": 29,
   "metadata": {},
   "outputs": [],
   "source": [
    "# 람다와 + 연산자를 이용\n",
    "def reorderLogFiles(logs: list[str]) -> list[str]:\n",
    "  letters, digits = [], []\n",
    "  for log in logs:\n",
    "    if log.split()[1].isdigit():  # 공백으로 구분된 리스트로 만들고, 두 번째 요소가 숫자인지 검사\n",
    "      digits.append(log)          # 숫자로 구성된 로그 저장(숫자 로그는 입력 순서대로)\n",
    "    else:\n",
    "      letters.append(log)         # 문자로 구성된 로그 저장(문자가 동일한 경우 식별자순으로 정렬해야함.)\n",
    "      \n",
    "  # 2개의 키를 람다 표현식으로 정렬(식별자를 제외한 문자열 [1:]을 키로 하여 정렬, 동일한 경우 후순위로 식별자 [0]으로 정렬)\n",
    "  letters.sort(key = lambda x: (x.split()[1:], x.split()[0]))\n",
    "  return letters + digits         # 두 리스트를 이어 붙여서 리턴"
   ]
  },
  {
   "cell_type": "code",
   "execution_count": 30,
   "metadata": {},
   "outputs": [
    {
     "data": {
      "text/plain": [
       "['let1 art can',\n",
       " 'let3 art zero',\n",
       " 'let2 own kit dig',\n",
       " 'dig1 8 1 5 1',\n",
       " 'dig2 3 6']"
      ]
     },
     "execution_count": 30,
     "metadata": {},
     "output_type": "execute_result"
    }
   ],
   "source": [
    "logs = [\"dig1 8 1 5 1\", \"let1 art can\", \"dig2 3 6\", \"let2 own kit dig\", \"let3 art zero\"]\n",
    "reorder_logs = reorderLogFiles(logs)\n",
    "reorder_logs"
   ]
  },
  {
   "cell_type": "code",
   "execution_count": 31,
   "metadata": {},
   "outputs": [
    {
     "name": "stdout",
     "output_type": "stream",
     "text": [
      "digits.append(dig1 8 1 5 1)\n"
     ]
    }
   ],
   "source": [
    "log = \"dig1 8 1 5 1\"\n",
    "if log.split()[1].isdigit():\n",
    "  print(f'digits.append({log})')\n",
    "else:\n",
    "  print(f'letters.append({log})')"
   ]
  },
  {
   "cell_type": "code",
   "execution_count": 32,
   "metadata": {},
   "outputs": [
    {
     "data": {
      "text/plain": [
       "['dig1', '8', '1', '5', '1']"
      ]
     },
     "execution_count": 32,
     "metadata": {},
     "output_type": "execute_result"
    }
   ],
   "source": [
    "log = \"dig1 8 1 5 1\"\n",
    "log.split()"
   ]
  },
  {
   "cell_type": "code",
   "execution_count": 33,
   "metadata": {},
   "outputs": [
    {
     "data": {
      "text/plain": [
       "'8'"
      ]
     },
     "execution_count": 33,
     "metadata": {},
     "output_type": "execute_result"
    }
   ],
   "source": [
    "log = \"dig1 8 1 5 1\"\n",
    "log.split()[1]"
   ]
  },
  {
   "cell_type": "markdown",
   "metadata": {},
   "source": [
    "### 가장 흔한 단어"
   ]
  },
  {
   "cell_type": "markdown",
   "metadata": {},
   "source": [
    "금지된 단어를 제외한 가장 흔하게 등장하는 단어를 출력하라. 대소문자 구분을 하지 않으며, 구두점(마침표, 쉼표 등) 또한 무시한다."
   ]
  },
  {
   "cell_type": "code",
   "execution_count": 34,
   "metadata": {},
   "outputs": [],
   "source": [
    "def mostCommonWord(paragraph: str, banned: list[str]) -> str:\n",
    "  words = [word for word in re.sub(r'[^\\w]', ' ', paragraph)\n",
    "           .lower().split()\n",
    "                    if word not in banned]\n",
    "  \n",
    "  counts = collections.Counter(words)\n",
    "  # 가장 흔하게 등장하는 단어의 첫 번째 인덱스 리턴\n",
    "  return counts.most_common(1)[0][0]"
   ]
  },
  {
   "cell_type": "code",
   "execution_count": 35,
   "metadata": {},
   "outputs": [
    {
     "data": {
      "text/plain": [
       "'ball'"
      ]
     },
     "execution_count": 35,
     "metadata": {},
     "output_type": "execute_result"
    }
   ],
   "source": [
    "paragraph = \"Bob hit a ball, the hit BALL flew far after it was hit.\"\n",
    "banned = [\"hit\"]\n",
    "mostCommonWord(paragraph, banned)"
   ]
  },
  {
   "cell_type": "code",
   "execution_count": null,
   "metadata": {},
   "outputs": [],
   "source": []
  },
  {
   "cell_type": "code",
   "execution_count": null,
   "metadata": {},
   "outputs": [],
   "source": []
  },
  {
   "cell_type": "code",
   "execution_count": null,
   "metadata": {},
   "outputs": [],
   "source": []
  },
  {
   "cell_type": "code",
   "execution_count": null,
   "metadata": {},
   "outputs": [],
   "source": []
  },
  {
   "cell_type": "code",
   "execution_count": null,
   "metadata": {},
   "outputs": [],
   "source": []
  },
  {
   "cell_type": "code",
   "execution_count": null,
   "metadata": {},
   "outputs": [],
   "source": []
  },
  {
   "cell_type": "code",
   "execution_count": null,
   "metadata": {},
   "outputs": [],
   "source": []
  },
  {
   "cell_type": "code",
   "execution_count": null,
   "metadata": {},
   "outputs": [],
   "source": []
  },
  {
   "cell_type": "code",
   "execution_count": null,
   "metadata": {},
   "outputs": [],
   "source": []
  },
  {
   "cell_type": "code",
   "execution_count": null,
   "metadata": {},
   "outputs": [],
   "source": []
  },
  {
   "cell_type": "code",
   "execution_count": null,
   "metadata": {},
   "outputs": [],
   "source": []
  },
  {
   "cell_type": "code",
   "execution_count": null,
   "metadata": {},
   "outputs": [],
   "source": []
  },
  {
   "cell_type": "code",
   "execution_count": null,
   "metadata": {},
   "outputs": [],
   "source": []
  }
 ],
 "metadata": {
  "kernelspec": {
   "display_name": "Python 3.9.7 ('base')",
   "language": "python",
   "name": "python3"
  },
  "language_info": {
   "codemirror_mode": {
    "name": "ipython",
    "version": 3
   },
   "file_extension": ".py",
   "mimetype": "text/x-python",
   "name": "python",
   "nbconvert_exporter": "python",
   "pygments_lexer": "ipython3",
   "version": "3.9.7"
  },
  "orig_nbformat": 4,
  "vscode": {
   "interpreter": {
    "hash": "e4cce46d6be9934fbd27f9ca0432556941ea5bdf741d4f4d64c6cd7f8dfa8fba"
   }
  }
 },
 "nbformat": 4,
 "nbformat_minor": 2
}
