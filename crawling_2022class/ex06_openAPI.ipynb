{
 "cells": [
  {
   "cell_type": "markdown",
   "metadata": {},
   "source": [
    "### json"
   ]
  },
  {
   "cell_type": "code",
   "execution_count": 9,
   "metadata": {},
   "outputs": [],
   "source": [
    "import json"
   ]
  },
  {
   "cell_type": "code",
   "execution_count": 10,
   "metadata": {},
   "outputs": [
    {
     "name": "stdout",
     "output_type": "stream",
     "text": [
      "{'name': 'John', 'age': 30, 'city': 'New York'}\n",
      "30\n"
     ]
    }
   ],
   "source": [
    "### Convert from JSON to Python\n",
    "\n",
    "# some JSON:\n",
    "x =  '{ \"name\":\"John\", \"age\":30, \"city\":\"New York\"}'\n",
    "\n",
    "# parse x:\n",
    "y = json.loads(x)\n",
    "print(y)\n",
    "\n",
    "# the result is a Python dictionary:\n",
    "print(y[\"age\"])"
   ]
  },
  {
   "cell_type": "code",
   "execution_count": 12,
   "metadata": {},
   "outputs": [
    {
     "name": "stdout",
     "output_type": "stream",
     "text": [
      "{\"name\": \"John\", \"age\": 30, \"city\": \"New York\"} <class 'str'>\n"
     ]
    }
   ],
   "source": [
    "### Convert from Python to JSON\n",
    "\n",
    "import json\n",
    "\n",
    "# a Python object (dict):\n",
    "x = {\n",
    "  \"name\": \"John\",\n",
    "  \"age\": 30,\n",
    "  \"city\": \"New York\"\n",
    "}\n",
    "\n",
    "# convert into JSON:\n",
    "y = json.dumps(x)\n",
    "\n",
    "# the result is a JSON string:\n",
    "print(y)"
   ]
  },
  {
   "cell_type": "code",
   "execution_count": 15,
   "metadata": {},
   "outputs": [
    {
     "name": "stdout",
     "output_type": "stream",
     "text": [
      "{\n",
      "    \"name\": \"John\",\n",
      "    \"age\": 30,\n",
      "    \"married\": true,\n",
      "    \"divorced\": false,\n",
      "    \"children\": [\n",
      "        \"Ann\",\n",
      "        \"Billy\"\n",
      "    ],\n",
      "    \"pets\": null,\n",
      "    \"cars\": [\n",
      "        {\n",
      "            \"model\": \"BMW 230\",\n",
      "            \"mpg\": 27.5\n",
      "        },\n",
      "        {\n",
      "            \"model\": \"Ford Edge\",\n",
      "            \"mpg\": 24.1\n",
      "        }\n",
      "    ]\n",
      "}\n"
     ]
    }
   ],
   "source": [
    "### Convert a Python object containing all the legal data types\n",
    "\n",
    "import json\n",
    "\n",
    "x = {\n",
    "  \"name\": \"John\",\n",
    "  \"age\": 30,\n",
    "  \"married\": True,\n",
    "  \"divorced\": False,\n",
    "  \"children\": (\"Ann\",\"Billy\"),\n",
    "  \"pets\": None,\n",
    "  \"cars\": [\n",
    "    {\"model\": \"BMW 230\", \"mpg\": 27.5},\n",
    "    {\"model\": \"Ford Edge\", \"mpg\": 24.1}\n",
    "  ]\n",
    "}\n",
    "\n",
    "print(json.dumps(x, indent=4))"
   ]
  },
  {
   "cell_type": "code",
   "execution_count": 23,
   "metadata": {},
   "outputs": [
    {
     "name": "stdout",
     "output_type": "stream",
     "text": [
      "Mon, 01 Aug 2022 22:13:34 +0900\n",
      "{'title': '누리꾼들이 한 목소리로 말하는 &apos;이상한 변호사 <b>우영우</b>&apos;의 성공 요인', 'originallink': 'https://www.wikitree.co.kr/articles/772065', 'link': 'https://www.wikitree.co.kr/articles/772065', 'description': '드라마 &apos;이상한 변호사 <b>우영우</b>(이하 &apos;<b>우영우</b>&apos;)&apos;가 화제 몰이 중이다. &apos;<b>우영우</b>&apos;의 인기 비결은 복합적이다.\\xa0그중 하나는 간결한 스토리 구성이다. 매회 <b>우영우</b> 변호사가 새로운 사건을 맡게 되고, 새로운 관점과 독특한... ', 'pubDate': 'Mon, 01 Aug 2022 21:56:00 +0900'}\n",
      "0 누리꾼들이 한 목소리로 말하는 &apos;이상한 변호사 <b>우영우</b>&apos;의 성공 요인 https://www.wikitree.co.kr/articles/772065\n",
      "1 J리그 <b>우영우</b> 세레모니 화제 &quot;우 to the 영 to the 우&quot; http://www.ggilbo.com/news/articleView.html?idxno=926128\n",
      "2 &quot;만 5세 초교 등교, 사회적 합의기구서 결정해야&quot; https://www.idaegu.co.kr/news/articleView.html?idxno=390289\n",
      "3 드라마 &apos;이상한 변호사 <b>우영우</b>&apos;의 실제 모델, 이 사람입니다 (사진) https://www.wikitree.co.kr/articles/775051\n",
      "4 <b>우영우</b>♥이준호 데이트 장면, 드라마 방영 전 이미 공개했었다 (+영상) https://www.wikitree.co.kr/articles/776892\n",
      "5 KT, 9년여 만에 시총 10조원 탈환…&quot;5G 끌고 디지코 밀고“ http://www.g-enews.com/ko-kr/news/article/news_all/20220801202312822006941316ce_1/article.html\n",
      "6 기적의 숨은 주역은 감정적인 태도 http://www.kihoilbo.co.kr/news/articleView.html?idxno=990492\n",
      "7 [메아리]드라마처럼 일한다면? http://sjbnews.com/news/news.php?number=752960\n",
      "8 유튜브에서 사라진 &apos;<b>우영우</b>&apos;?…ENA, 정말 억울한 상황 처했다 (+해명) https://www.wikitree.co.kr/articles/776880\n",
      "9 KT, 9년여 만 시총 10조 회복…‘디지코’ 전략 통했다 http://www.segyebiz.com/newsView/20220801523697?OutUrl=naver\n"
     ]
    }
   ],
   "source": [
    "import json\n",
    "\n",
    "data = \"\"\"\n",
    "{\n",
    "    \"lastBuildDate\": \"Mon, 01 Aug 2022 22:13:34 +0900\",\n",
    "    \"total\": 9341,\n",
    "    \"start\": 1,\n",
    "    \"display\": 10,\n",
    "    \"items\": [\n",
    "        {\n",
    "            \"title\": \"누리꾼들이 한 목소리로 말하는 &apos;이상한 변호사 <b>우영우</b>&apos;의 성공 요인\",\n",
    "            \"originallink\": \"https://www.wikitree.co.kr/articles/772065\",\n",
    "            \"link\": \"https://www.wikitree.co.kr/articles/772065\",\n",
    "            \"description\": \"드라마 &apos;이상한 변호사 <b>우영우</b>(이하 &apos;<b>우영우</b>&apos;)&apos;가 화제 몰이 중이다. &apos;<b>우영우</b>&apos;의 인기 비결은 복합적이다. 그중 하나는 간결한 스토리 구성이다. 매회 <b>우영우</b> 변호사가 새로운 사건을 맡게 되고, 새로운 관점과 독특한... \",\n",
    "            \"pubDate\": \"Mon, 01 Aug 2022 21:56:00 +0900\"\n",
    "        },\n",
    "        {\n",
    "            \"title\": \"J리그 <b>우영우</b> 세레모니 화제 &quot;우 to the 영 to the 우&quot;\",\n",
    "            \"originallink\": \"http://www.ggilbo.com/news/articleView.html?idxno=926128\",\n",
    "            \"link\": \"http://www.ggilbo.com/news/articleView.html?idxno=926128\",\n",
    "            \"description\": \"J리그 <b>우영우</b> 세레모니 화제 &quot;우 to the 영 to the 우&quot; 사진=온라인 커뮤니티 J리그에 등장한 <b>우영우</b> 세레모니가 화제를 모으고 있다. 지난달 31일 일본 시즈오카시 시미즈구의 IAI 스타디움 니혼다이라에서는 시미즈... \",\n",
    "            \"pubDate\": \"Mon, 01 Aug 2022 21:56:00 +0900\"\n",
    "        },\n",
    "        {\n",
    "            \"title\": \"&quot;만 5세 초교 등교, 사회적 합의기구서 결정해야&quot;\",\n",
    "            \"originallink\": \"https://www.idaegu.co.kr/news/articleView.html?idxno=390289\",\n",
    "            \"link\": \"https://www.idaegu.co.kr/news/articleView.html?idxno=390289\",\n",
    "            \"description\": \"사교육자 등 이해 관계자들이 모두 모여 사회적 합의를 해나가는 지혜를 발휘해야 한다&quot;고 밝혔다. 그는 &quot;&apos;이상한 변호사 <b>우영우</b>&apos;가 말한 대로, 연령에만 &apos;초점을 맞추면 문제를 풀 수 없다. 핵심을 봐야 한다&apos;&quot;고 덧붙였다.\",\n",
    "            \"pubDate\": \"Mon, 01 Aug 2022 21:44:00 +0900\"\n",
    "        },\n",
    "        {\n",
    "            \"title\": \"드라마 &apos;이상한 변호사 <b>우영우</b>&apos;의 실제 모델, 이 사람입니다 (사진)\",\n",
    "            \"originallink\": \"https://www.wikitree.co.kr/articles/775051\",\n",
    "            \"link\": \"https://www.wikitree.co.kr/articles/775051\",\n",
    "            \"description\": \"ENA 드라마 &apos;이상한 변호사 <b>우영우</b>&apos;의 주인공 <b>우영우</b>의 실제 모델로 알려진 동물학자 템플 그랜딘이 주목받고 있다.   세계적 동물학자 템플 그랜딘은 현재 미국 콜로라도 주립대에서 교수로 재직 중이다. 그는 자폐... \",\n",
    "            \"pubDate\": \"Mon, 01 Aug 2022 20:56:00 +0900\"\n",
    "        },\n",
    "        {\n",
    "            \"title\": \"<b>우영우</b>♥이준호 데이트 장면, 드라마 방영 전 이미 공개했었다 (+영상)\",\n",
    "            \"originallink\": \"https://www.wikitree.co.kr/articles/776892\",\n",
    "            \"link\": \"https://www.wikitree.co.kr/articles/776892\",\n",
    "            \"description\": \"&apos;이상한 변호사 <b>우영우</b>&apos; 방영 전 공개된 예고편에 <b>우영우</b>-이준호의 데이트가 일부 담겼다. 지난달 28일 방송된 ENA 수목드라마 &apos;이상한 변호사 <b>우영우</b>&apos;에서는 <b>우영우</b>(박은빈)와 이준호(강태오)가 본격적으로 사귀는 장면이... \",\n",
    "            \"pubDate\": \"Mon, 01 Aug 2022 20:32:00 +0900\"\n",
    "        },\n",
    "        {\n",
    "            \"title\": \"KT, 9년여 만에 시총 10조원 탈환…&quot;5G 끌고 디지코 밀고“\",\n",
    "            \"originallink\": \"http://www.g-enews.com/ko-kr/news/article/news_all/20220801202312822006941316ce_1/article.html\",\n",
    "            \"link\": \"http://www.g-enews.com/ko-kr/news/article/news_all/20220801202312822006941316ce_1/article.html\",\n",
    "            \"description\": \"최근에는 미디어콘텐츠 자회사 KT스튜디오지니가 투자한 &apos;이상한 변호사 <b>우영우</b>&apos;가 선전하면서 미디어·콘텐츠 사업에서도 두각을 나타내고 있다. 또 온라인동영상서비스(OTT) 시즌을 CJ ENM의 티빙에... \",\n",
    "            \"pubDate\": \"Mon, 01 Aug 2022 20:28:00 +0900\"\n",
    "        },\n",
    "        {\n",
    "            \"title\": \"기적의 숨은 주역은 감정적인 태도\",\n",
    "            \"originallink\": \"http://www.kihoilbo.co.kr/news/articleView.html?idxno=990492\",\n",
    "            \"link\": \"http://www.kihoilbo.co.kr/news/articleView.html?idxno=990492\",\n",
    "            \"description\": \"최근 인기를 끄는 드라마 &apos;이상한 변호사 <b>우영우</b>&apos;에서도 감정적인 태도가 놀라운 성과를 끌어낸 에피소드가 등장한다. 자폐를 가져 타인에게 쉽사리 공감하지 못하는 변호사 &apos;<b>우영우</b>&apos;는 동료 변호사 &apos;최수연&apos;과 함께... \",\n",
    "            \"pubDate\": \"Mon, 01 Aug 2022 20:26:00 +0900\"\n",
    "        },\n",
    "        {\n",
    "            \"title\": \"[메아리]드라마처럼 일한다면?\",\n",
    "            \"originallink\": \"http://sjbnews.com/news/news.php?number=752960\",\n",
    "            \"link\": \"http://sjbnews.com/news/news.php?number=752960\",\n",
    "            \"description\": \"‘<b>우영우</b>’도 그렇고 ‘비밀의 숲’에서도 그랬다. ‘슬의생’과 ‘낭만닥터’에 의사들은 며칠을 날을 새면서 환자를 돌보고 수술을 한다. 드라마에 경찰은 집에 들어가는 모습을 보지를 못했다. 매일 잠복하며 범인... \",\n",
    "            \"pubDate\": \"Mon, 01 Aug 2022 20:16:00 +0900\"\n",
    "        },\n",
    "        {\n",
    "            \"title\": \"유튜브에서 사라진 &apos;<b>우영우</b>&apos;?…ENA, 정말 억울한 상황 처했다 (+해명)\",\n",
    "            \"originallink\": \"https://www.wikitree.co.kr/articles/776880\",\n",
    "            \"link\": \"https://www.wikitree.co.kr/articles/776880\",\n",
    "            \"description\": \"ENA 수목드라마 &apos;이상한 변호사 <b>우영우</b>&apos;의 유튜브 클립 영상이 삭제됐다가 재업로드 됐다는 주장에 ENA 측이 입장을 밝혔다. 최근 온라인 커뮤니티에서는 ENA 유튜브 채널에 올라와 있던 &apos;<b>우영우</b>&apos;의 클립 영상이 모두... \",\n",
    "            \"pubDate\": \"Mon, 01 Aug 2022 20:06:00 +0900\"\n",
    "        },\n",
    "        {\n",
    "            \"title\": \"KT, 9년여 만 시총 10조 회복…‘디지코’ 전략 통했다\",\n",
    "            \"originallink\": \"http://www.segyebiz.com/newsView/20220801523697?OutUrl=naver\",\n",
    "            \"link\": \"http://www.segyebiz.com/newsView/20220801523697?OutUrl=naver\",\n",
    "            \"description\": \"최근에는 미디어콘텐츠 자회사 KT스튜디오지니가 투자한 &apos;이상한 변호사 <b>우영우</b>&apos;가 선전하면서 미디어·콘텐츠 사업에서도 두각을 나타내고 있다. 또 온라인동영상서비스(OTT) 시즌을 CJ ENM의 티빙에... \",\n",
    "            \"pubDate\": \"Mon, 01 Aug 2022 20:04:00 +0900\"\n",
    "        }\n",
    "    ]\n",
    "}\n",
    "\"\"\"\n",
    "\n",
    "data = json.loads(data)\n",
    "print(data['lastBuildDate'])\n",
    "print(data['items'][0])\n",
    "\n",
    "for i, v in enumerate(data['items']):\n",
    "  print(i, v['title'], v['link'])\n"
   ]
  },
  {
   "cell_type": "markdown",
   "metadata": {},
   "source": [
    "### 네이버 Open API"
   ]
  },
  {
   "cell_type": "code",
   "execution_count": 2,
   "metadata": {},
   "outputs": [
    {
     "name": "stdout",
     "output_type": "stream",
     "text": [
      "qTmx0IBOj_4PHdrpI_uK\n"
     ]
    }
   ],
   "source": [
    "from myNaverkey import *\n",
    "\n",
    "print(my_id)"
   ]
  },
  {
   "cell_type": "code",
   "execution_count": 3,
   "metadata": {},
   "outputs": [
    {
     "name": "stdout",
     "output_type": "stream",
     "text": [
      "my_key my_pwd qTmx0IBOj_4PHdrpI_uK QT8BOCfKPa\n"
     ]
    }
   ],
   "source": [
    "from myNaverkey import key, pwd, my_id, my_secret \n",
    "\n",
    "print(key, pwd, my_id, my_secret)"
   ]
  },
  {
   "cell_type": "code",
   "execution_count": null,
   "metadata": {},
   "outputs": [],
   "source": [
    "# 네이버 검색 API예제는 블로그를 비롯 전문자료까지 호출방법이 동일하므로 blog검색만 대표로 예제를 올렸습니다.\n",
    "# 네이버 검색 Open API 예제 - 블로그 검색\n",
    "import os\n",
    "import sys\n",
    "import urllib.request\n",
    "from myNaverkey import my_id, my_secret\n",
    "\n",
    "client_id = my_id\n",
    "client_secret = my_secret\n",
    "encText = urllib.parse.quote(\"우영우\")\n",
    "url = \"https://openapi.naver.com/v1/search/blog?query=\" + encText # json 결과\n",
    "# url = \"https://openapi.naver.com/v1/search/blog.xml?query=\" + encText # xml 결과\n",
    "\n",
    "request = urllib.request.Request(url)\n",
    "request.add_header(\"X-Naver-Client-Id\",client_id)\n",
    "request.add_header(\"X-Naver-Client-Secret\",client_secret)\n",
    "response = urllib.request.urlopen(request)\n",
    "rescode = response.getcode()\n",
    "if(rescode==200):\n",
    "    response_body = response.read()\n",
    "    print(response_body.decode('utf-8'))\n",
    "else:\n",
    "    print(\"Error Code:\" + rescode)"
   ]
  },
  {
   "cell_type": "code",
   "execution_count": 20,
   "metadata": {},
   "outputs": [
    {
     "name": "stdout",
     "output_type": "stream",
     "text": [
      "{'lastBuildDate': 'Mon, 01 Aug 2022 23:45:49 +0900', 'total': 114019, 'start': 1, 'display': 10, 'items': [{'title': '(스포포함)&apos;이상한 변호사 <b>우영우</b>&apos;속 범고래, 그의 이름은... ', 'link': 'https://blog.naver.com/mechwar?Redirect=Log&logNo=222833025525', 'description': '이상한 변호사 <b>우영우</b>.. 저도 아주 재미있게 보고 있습니다. 매화마다 고래에 관한 재미있고 신기한 사실들을 활기찬 모습으로 설명해주는 <b>우영우</b> 변호사! 고래에 대해 이야기할때면 그 어떤 순간보다도... ', 'bloggername': 'Violet Shrine', 'bloggerlink': 'https://blog.naver.com/mechwar', 'postdate': '20220728'}, {'title': '이상한 변호사 <b>우영우</b> 10화 리뷰, 영우의 선택 누구를 위한... ', 'link': 'https://blog.naver.com/dream44?Redirect=Log&logNo=222835633832', 'description': \"이상한 변호사 <b>우영우</b> 10화는 '지적장애인을 사랑한 일반인'간의 성행위가 '사랑'이었나 '성폭행' 이었나를 두고 법정공방을 벌이는 다소 무거운(?) 주제 였죠. 그럼 지금부터 #이상한변호사<b>우영우</b>10화리뷰... \", 'bloggername': 'LoggiaLife+', 'bloggerlink': 'https://blog.naver.com/dream44', 'postdate': '20220731'}, {'title': '<b>우영우</b> 인사법 챌린지 인스타그램 릴스 하는법', 'link': 'https://blog.naver.com/aimei96?Redirect=Log&logNo=222834204722', 'description': '혹시 이상한 변호사 <b>우영우</b> 즐겨 보시는 이웃님들 계신가요?? 저는 몰랐다가 얼마 전 너튜브에서 우연히... *.* 그러다가 요즘 유행하는 인스타그램 릴스인 <b>우영우</b> 인사법 챌린지를 접하게 되었는데요. 둘이서... ', 'bloggername': '메이의 뷰스트잇(Beauty/it)', 'bloggerlink': 'https://blog.naver.com/aimei96', 'postdate': '20220730'}, {'title': '<b>우영우</b> 관련주 대장주 주목해야 할 이유!', 'link': 'https://blog.naver.com/dfdfadfas78?Redirect=Log&logNo=222835436570', 'description': '<b>우영우</b> 관련주 대장주 주목해야 할 이유! 22년 투자 노하우도 공유! 7월도 거의 끝나가네요^^ 어제... © yousafbhutta, 출처 Pixabay 오늘은 현재 우리 생활 에서 가장 이슈인 드라마인 <b>우영우</b> 관련주 기업들에... ', 'bloggername': '나만의공간~~', 'bloggerlink': 'https://blog.naver.com/dfdfadfas78', 'postdate': '20220731'}, {'title': '<b>우영우</b>가 사랑한 고래, 그리고 고래가 보내는 메시지', 'link': 'https://blog.naver.com/open_kbsi?Redirect=Log&logNo=222833748866', 'description': \"사진: '이상한 변호사 <b>우영우</b>' 공식 홈페이지 (http://ena.skylifetv.co.kr/) 최근 천재적인 두뇌와 자폐스펙트럼을 동시에 가진 신입 변호사 <b>우영우</b>의 대형 로펌 생존기를 담은 드라마 ‘이상한 변호사 <b>우영우</b>’가... \", 'bloggername': '한국기초과학지원연구원 공식 블로그', 'bloggerlink': 'https://blog.naver.com/open_kbsi', 'postdate': '20220729'}, {'title': '에이스토리 주가, <b>우영우</b> 관련주 정리', 'link': 'https://blog.naver.com/sexyaa42?Redirect=Log&logNo=222835497131', 'description': '에이스토리 주가, <b>우영우</b> 관련주 정리! 요새 <b>우영우</b> 관련주로 에이스토리외 주가들이 매우 뜨겁습니다. 간략하게 에이스토리에 대한 분석과 <b>우영우</b> 관련주를 정리하고 가봅니다. <b>우영우</b> 관련주 정리... ', 'bloggername': '클루나', 'bloggerlink': 'https://blog.naver.com/sexyaa42', 'postdate': '20220731'}, {'title': '상속세와 증여세 계산법 이상한 변호사 <b>우영우</b> 편', 'link': 'https://blog.naver.com/1day1study?Redirect=Log&logNo=222835142465', 'description': '<b>우영우</b>가 아주 재미있습니다. 법정 드라마인 만큼 우리 주변에서 실제 일어날 수 있을 법한 사건들을 시원하게 해결하며, 우리 모두에게 재미와 감동을 선사해 주고 있는데요. 그 에피소드 중 하나인 <b>우영우</b>... ', 'bloggername': '새삶조각사의 그냥쫌해', 'bloggerlink': 'https://blog.naver.com/1day1study', 'postdate': '20220801'}, {'title': '행궁동 <b>우영우</b> 김밥 - 이상한 변호사 <b>우영우</b> 촬영지, 카자구르마... ', 'link': 'https://blog.naver.com/kjy8317?Redirect=Log&logNo=222836598685', 'description': '오늘은 정말 핫플레이스 행궁동 <b>우영우</b> 김밥에 다녀왔어요! 요즘 저도 본방사수하면서 열심히 보고 있는 이상한 변호사 <b>우영우</b>! 이상한 변호사 <b>우영우</b> 포스터 공홈 다운로드 극중 <b>우영우</b> 아버지가 운영중인... ', 'bloggername': '킴지의 일상기록', 'bloggerlink': 'https://blog.naver.com/kjy8317', 'postdate': '20220801'}, {'title': '<b>우영우</b>와 프리 윌리', 'link': 'https://blog.naver.com/jebijami?Redirect=Log&logNo=222834677975', 'description': \"요새 드라마 '이상한 변호사 <b>우영우</b>'가 핫하다 못해 타이완 사람들까지도 챙겨보는 지경에 이르러 나도... 변호사 <b>우영우</b>를 말하는 것이었을 줄이야. 뒤늦게 <b>우영우</b> 대열에 합류한 나는 단번에 최신화까지 보게... \", 'bloggername': '일인여유（一人旅遊）', 'bloggerlink': 'https://blog.naver.com/jebijami', 'postdate': '20220730'}, {'title': '<b>우영우</b> 보다가 김밥 싸먹는 주간일기', 'link': 'https://blog.naver.com/xox_dorothy?Redirect=Log&logNo=222835784103', 'description': '저녁은 네네치킨 파닭 먹으면서 <b>우영우</b> 보기 너무 소스가 매워서 다시는 먹지 않으리... 생각할거리가 많은 드라마. <b>우영우</b> 아빠가 태수미한테 화내는거 보고 왜저래??싶었다. 태수미 입장에서는 낳아만 주면... ', 'bloggername': 'Studio Mignon', 'bloggerlink': 'https://blog.naver.com/xox_dorothy', 'postdate': '20220731'}]}\n"
     ]
    }
   ],
   "source": [
    "import requests\n",
    "from myNaverkey import my_id, my_secret\n",
    "\n",
    "client_id = my_id\n",
    "client_secret = my_secret\n",
    "\n",
    "url = \"https://openapi.naver.com/v1/search/blog?query=\" + '우영우' # json 결과\n",
    "header_params = {\"X-Naver-Client-Id\":client_id, \"X-Naver-Client-Secret\":client_secret}\n",
    "\n",
    "res = requests.get(url, headers=header_params)\n",
    "if(res.status_code == 200):\n",
    "    data = res.json()\n",
    "    print(data)\n",
    "else:\n",
    "    print(\"Error Code:\" + rescode)"
   ]
  },
  {
   "cell_type": "code",
   "execution_count": 12,
   "metadata": {},
   "outputs": [
    {
     "name": "stdout",
     "output_type": "stream",
     "text": [
      "{'display': 10,\n",
      " 'items': [{'bloggerlink': 'https://blog.naver.com/mechwar',\n",
      "            'bloggername': 'Violet Shrine',\n",
      "            'description': '이상한 변호사 <b>우영우</b>.. 저도 아주 재미있게 보고 있습니다. 매화마다 고래에 '\n",
      "                           '관한 재미있고 신기한 사실들을 활기찬 모습으로 설명해주는 <b>우영우</b> 변호사! '\n",
      "                           '고래에 대해 이야기할때면 그 어떤 순간보다도... ',\n",
      "            'link': 'https://blog.naver.com/mechwar?Redirect=Log&logNo=222833025525',\n",
      "            'postdate': '20220728',\n",
      "            'title': '(스포포함)&apos;이상한 변호사 <b>우영우</b>&apos;속 범고래, 그의 이름은... '},\n",
      "           {'bloggerlink': 'https://blog.naver.com/dream44',\n",
      "            'bloggername': 'LoggiaLife+',\n",
      "            'description': \"이상한 변호사 <b>우영우</b> 10화는 '지적장애인을 사랑한 일반인'간의 성행위가 \"\n",
      "                           \"'사랑'이었나 '성폭행' 이었나를 두고 법정공방을 벌이는 다소 무거운(?) 주제 였죠. \"\n",
      "                           '그럼 지금부터 #이상한변호사<b>우영우</b>10화리뷰... ',\n",
      "            'link': 'https://blog.naver.com/dream44?Redirect=Log&logNo=222835633832',\n",
      "            'postdate': '20220731',\n",
      "            'title': '이상한 변호사 <b>우영우</b> 10화 리뷰, 영우의 선택 누구를 위한... '},\n",
      "           {'bloggerlink': 'https://blog.naver.com/aimei96',\n",
      "            'bloggername': '메이의 뷰스트잇(Beauty/it)',\n",
      "            'description': '혹시 이상한 변호사 <b>우영우</b> 즐겨 보시는 이웃님들 계신가요?? 저는 몰랐다가 '\n",
      "                           '얼마 전 너튜브에서 우연히... *.* 그러다가 요즘 유행하는 인스타그램 릴스인 '\n",
      "                           '<b>우영우</b> 인사법 챌린지를 접하게 되었는데요. 둘이서... ',\n",
      "            'link': 'https://blog.naver.com/aimei96?Redirect=Log&logNo=222834204722',\n",
      "            'postdate': '20220730',\n",
      "            'title': '<b>우영우</b> 인사법 챌린지 인스타그램 릴스 하는법'},\n",
      "           {'bloggerlink': 'https://blog.naver.com/dfdfadfas78',\n",
      "            'bloggername': '나만의공간~~',\n",
      "            'description': '<b>우영우</b> 관련주 대장주 주목해야 할 이유! 22년 투자 노하우도 공유! 7월도 '\n",
      "                           '거의 끝나가네요^^ 어제... © yousafbhutta, 출처 Pixabay 오늘은 현재 '\n",
      "                           '우리 생활 에서 가장 이슈인 드라마인 <b>우영우</b> 관련주 기업들에... ',\n",
      "            'link': 'https://blog.naver.com/dfdfadfas78?Redirect=Log&logNo=222835436570',\n",
      "            'postdate': '20220731',\n",
      "            'title': '<b>우영우</b> 관련주 대장주 주목해야 할 이유!'},\n",
      "           {'bloggerlink': 'https://blog.naver.com/open_kbsi',\n",
      "            'bloggername': '한국기초과학지원연구원 공식 블로그',\n",
      "            'description': \"사진: '이상한 변호사 <b>우영우</b>' 공식 홈페이지 \"\n",
      "                           '(http://ena.skylifetv.co.kr/) 최근 천재적인 두뇌와 자폐스펙트럼을 '\n",
      "                           '동시에 가진 신입 변호사 <b>우영우</b>의 대형 로펌 생존기를 담은 드라마 ‘이상한 '\n",
      "                           '변호사 <b>우영우</b>’가... ',\n",
      "            'link': 'https://blog.naver.com/open_kbsi?Redirect=Log&logNo=222833748866',\n",
      "            'postdate': '20220729',\n",
      "            'title': '<b>우영우</b>가 사랑한 고래, 그리고 고래가 보내는 메시지'},\n",
      "           {'bloggerlink': 'https://blog.naver.com/sexyaa42',\n",
      "            'bloggername': '클루나',\n",
      "            'description': '에이스토리 주가, <b>우영우</b> 관련주 정리! 요새 <b>우영우</b> 관련주로 '\n",
      "                           '에이스토리외 주가들이 매우 뜨겁습니다. 간략하게 에이스토리에 대한 분석과 '\n",
      "                           '<b>우영우</b> 관련주를 정리하고 가봅니다. <b>우영우</b> 관련주 정리... ',\n",
      "            'link': 'https://blog.naver.com/sexyaa42?Redirect=Log&logNo=222835497131',\n",
      "            'postdate': '20220731',\n",
      "            'title': '에이스토리 주가, <b>우영우</b> 관련주 정리'},\n",
      "           {'bloggerlink': 'https://blog.naver.com/1day1study',\n",
      "            'bloggername': '새삶조각사의 그냥쫌해',\n",
      "            'description': '<b>우영우</b>가 아주 재미있습니다. 법정 드라마인 만큼 우리 주변에서 실제 일어날 수 '\n",
      "                           '있을 법한 사건들을 시원하게 해결하며, 우리 모두에게 재미와 감동을 선사해 주고 있는데요. '\n",
      "                           '그 에피소드 중 하나인 <b>우영우</b>... ',\n",
      "            'link': 'https://blog.naver.com/1day1study?Redirect=Log&logNo=222835142465',\n",
      "            'postdate': '20220801',\n",
      "            'title': '상속세와 증여세 계산법 이상한 변호사 <b>우영우</b> 편'},\n",
      "           {'bloggerlink': 'https://blog.naver.com/kjy8317',\n",
      "            'bloggername': '킴지의 일상기록',\n",
      "            'description': '오늘은 정말 핫플레이스 행궁동 <b>우영우</b> 김밥에 다녀왔어요! 요즘 저도 '\n",
      "                           '본방사수하면서 열심히 보고 있는 이상한 변호사 <b>우영우</b>! 이상한 변호사 '\n",
      "                           '<b>우영우</b> 포스터 공홈 다운로드 극중 <b>우영우</b> 아버지가 운영중인... ',\n",
      "            'link': 'https://blog.naver.com/kjy8317?Redirect=Log&logNo=222836598685',\n",
      "            'postdate': '20220801',\n",
      "            'title': '행궁동 <b>우영우</b> 김밥 - 이상한 변호사 <b>우영우</b> 촬영지, 카자구르마... '},\n",
      "           {'bloggerlink': 'https://blog.naver.com/jebijami',\n",
      "            'bloggername': '일인여유（一人旅遊）',\n",
      "            'description': \"요새 드라마 '이상한 변호사 <b>우영우</b>'가 핫하다 못해 타이완 사람들까지도 \"\n",
      "                           '챙겨보는 지경에 이르러 나도... 변호사 <b>우영우</b>를 말하는 것이었을 줄이야. '\n",
      "                           '뒤늦게 <b>우영우</b> 대열에 합류한 나는 단번에 최신화까지 보게... ',\n",
      "            'link': 'https://blog.naver.com/jebijami?Redirect=Log&logNo=222834677975',\n",
      "            'postdate': '20220730',\n",
      "            'title': '<b>우영우</b>와 프리 윌리'},\n",
      "           {'bloggerlink': 'https://blog.naver.com/xox_dorothy',\n",
      "            'bloggername': 'Studio Mignon',\n",
      "            'description': '저녁은 네네치킨 파닭 먹으면서 <b>우영우</b> 보기 너무 소스가 매워서 다시는 먹지 '\n",
      "                           '않으리... 생각할거리가 많은 드라마. <b>우영우</b> 아빠가 태수미한테 화내는거 보고 '\n",
      "                           '왜저래??싶었다. 태수미 입장에서는 낳아만 주면... ',\n",
      "            'link': 'https://blog.naver.com/xox_dorothy?Redirect=Log&logNo=222835784103',\n",
      "            'postdate': '20220731',\n",
      "            'title': '<b>우영우</b> 보다가 김밥 싸먹는 주간일기'}],\n",
      " 'lastBuildDate': 'Mon, 01 Aug 2022 23:38:54 +0900',\n",
      " 'start': 1,\n",
      " 'total': 113992}\n"
     ]
    }
   ],
   "source": [
    "import requests\n",
    "import pprint\n",
    "from myNaverkey import my_id, my_secret\n",
    "\n",
    "client_id = my_id\n",
    "client_secret = my_secret\n",
    "\n",
    "url = \"https://openapi.naver.com/v1/search/blog?query=\" + '우영우' # json 결과\n",
    "header_params = {\"X-Naver-Client-Id\":client_id, \"X-Naver-Client-Secret\":client_secret}\n",
    "\n",
    "res = requests.get(url, headers=header_params)\n",
    "if(res.status_code == 200):\n",
    "    data = res.json()\n",
    "    pprint.pprint(data)\n",
    "else:\n",
    "    print(\"Error Code:\" + rescode)"
   ]
  },
  {
   "cell_type": "code",
   "execution_count": 18,
   "metadata": {},
   "outputs": [
    {
     "name": "stdout",
     "output_type": "stream",
     "text": [
      "1 (스포포함)&apos;이상한 변호사 <b>우영우</b>&apos;속 범고래, 그의 이름은... \n",
      "https://blog.naver.com/mechwar?Redirect=Log&logNo=222833025525\n",
      "2 이상한 변호사 <b>우영우</b> 10화 리뷰, 영우의 선택 누구를 위한... \n",
      "https://blog.naver.com/dream44?Redirect=Log&logNo=222835633832\n",
      "3 <b>우영우</b> 인사법 챌린지 인스타그램 릴스 하는법\n",
      "https://blog.naver.com/aimei96?Redirect=Log&logNo=222834204722\n",
      "4 <b>우영우</b> 관련주 대장주 주목해야 할 이유!\n",
      "https://blog.naver.com/dfdfadfas78?Redirect=Log&logNo=222835436570\n",
      "5 <b>우영우</b>가 사랑한 고래, 그리고 고래가 보내는 메시지\n",
      "https://blog.naver.com/open_kbsi?Redirect=Log&logNo=222833748866\n",
      "6 에이스토리 주가, <b>우영우</b> 관련주 정리\n",
      "https://blog.naver.com/sexyaa42?Redirect=Log&logNo=222835497131\n",
      "7 상속세와 증여세 계산법 이상한 변호사 <b>우영우</b> 편\n",
      "https://blog.naver.com/1day1study?Redirect=Log&logNo=222835142465\n",
      "8 행궁동 <b>우영우</b> 김밥 - 이상한 변호사 <b>우영우</b> 촬영지, 카자구르마... \n",
      "https://blog.naver.com/kjy8317?Redirect=Log&logNo=222836598685\n",
      "9 <b>우영우</b>와 프리 윌리\n",
      "https://blog.naver.com/jebijami?Redirect=Log&logNo=222834677975\n",
      "10 <b>우영우</b> 보다가 김밥 싸먹는 주간일기\n",
      "https://blog.naver.com/xox_dorothy?Redirect=Log&logNo=222835784103\n"
     ]
    }
   ],
   "source": [
    "import requests\n",
    "import pprint\n",
    "from myNaverkey import my_id, my_secret\n",
    "\n",
    "client_id = my_id\n",
    "client_secret = my_secret\n",
    "\n",
    "url = \"https://openapi.naver.com/v1/search/blog?query=\" + '우영우' # json 결과\n",
    "header_params = {\"X-Naver-Client-Id\":client_id, \"X-Naver-Client-Secret\":client_secret}\n",
    "\n",
    "res = requests.get(url, headers=header_params)\n",
    "if(res.status_code == 200):\n",
    "    data = res.json()\n",
    "    for i, v in enumerate(data['items']):\n",
    "        print(i+1, v['title'])\n",
    "        print(v['link'])\n",
    "else:\n",
    "    print(\"Error Code:\" + rescode)"
   ]
  },
  {
   "cell_type": "code",
   "execution_count": 23,
   "metadata": {},
   "outputs": [],
   "source": [
    "import requests\n",
    "import csv\n",
    "from myNaverkey import my_id, my_secret\n",
    "\n",
    "client_id = my_id\n",
    "client_secret = my_secret\n",
    "\n",
    "# csv 파일 생성\n",
    "file_name = 'naver_notebook.csv'\n",
    "f = open(file_name, 'w', encoding='utf-8-sig', newline='')\n",
    "writer = csv.writer(f)\n",
    "writer.writerow([\"상품명\", \"가격\", \"링크\"])  \n",
    "\n",
    "start_num = 1\n",
    "\n",
    "for i in range(10):\n",
    "    url = 'https://openapi.naver.com/v1/search/shop.json?query=노트북&display=100&start={}'.format(start_num)\n",
    "    header_params = {\"X-Naver-Client-Id\":client_id, \"X-Naver-Client-Secret\":client_secret}\n",
    "    res = requests.get(url, headers=header_params)\n",
    "    \n",
    "    if res.status_code == 200:\n",
    "        data = res.json()\n",
    "        for item in data['items']:\n",
    "            name = item['title']\n",
    "            price = item['lprice']\n",
    "            link = item['link']\n",
    "            \n",
    "            # 상품정보 csv 파일에 쓰기\n",
    "            writer.writerow([name, price, link])   \n",
    "    else:\n",
    "        print (\"Error Code:\", res.status_code)\n",
    "    \n",
    "    start_num = start_num + 100\n",
    "\n",
    "f.close()"
   ]
  },
  {
   "cell_type": "code",
   "execution_count": 22,
   "metadata": {},
   "outputs": [],
   "source": [
    "import requests\n",
    "import openpyxl\n",
    "from myNaverkey import my_id, my_secret\n",
    "\n",
    "client_id = my_id\n",
    "client_secret = my_secret\n",
    "start, num = 1, 0\n",
    "\n",
    "excel_file = openpyxl.Workbook()\n",
    "excel_sheet = excel_file.active\n",
    "excel_sheet.column_dimensions['B'].width = 100\n",
    "excel_sheet.column_dimensions['C'].width = 100\n",
    "excel_sheet.append(['랭킹', '제목', '링크'])\n",
    "\n",
    "for index in range(10):\n",
    "    start_number = start + (index * 100)\n",
    "    url = 'https://openapi.naver.com/v1/search/shop.json?query=노트북&display=100&start=' + str(start_number)\n",
    "    header_params = {\"X-Naver-Client-Id\":client_id, \"X-Naver-Client-Secret\":client_secret}\n",
    "    res = requests.get(url, headers=header_params)\n",
    "    if res.status_code == 200:\n",
    "        data = res.json()\n",
    "        for item in data['items']:\n",
    "            num += 1\n",
    "            excel_sheet.append([num, item['title'], item['link']])\n",
    "    else:\n",
    "        print (\"Error Code:\", res.status_code)\n",
    "\n",
    "excel_file.save('IT.xlsx')\n",
    "excel_file.close()"
   ]
  },
  {
   "cell_type": "code",
   "execution_count": null,
   "metadata": {},
   "outputs": [],
   "source": []
  }
 ],
 "metadata": {
  "kernelspec": {
   "display_name": "Python 3.10.2 64-bit",
   "language": "python",
   "name": "python3"
  },
  "language_info": {
   "codemirror_mode": {
    "name": "ipython",
    "version": 3
   },
   "file_extension": ".py",
   "mimetype": "text/x-python",
   "name": "python",
   "nbconvert_exporter": "python",
   "pygments_lexer": "ipython3",
   "version": "3.10.2"
  },
  "orig_nbformat": 4,
  "vscode": {
   "interpreter": {
    "hash": "b95ceaaf507324f6eb38cf945572491426bdd43777f41a708ca87b1b76dbdbc8"
   }
  }
 },
 "nbformat": 4,
 "nbformat_minor": 2
}
