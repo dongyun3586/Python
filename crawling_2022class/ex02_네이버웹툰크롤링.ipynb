{
 "cells": [
  {
   "cell_type": "markdown",
   "metadata": {},
   "source": [
    "### 1. requests 모듈 사용방법"
   ]
  },
  {
   "cell_type": "code",
   "execution_count": 5,
   "metadata": {},
   "outputs": [
    {
     "name": "stdout",
     "output_type": "stream",
     "text": [
      "Name: requests\n",
      "Version: 2.26.0\n",
      "Summary: Python HTTP for Humans.\n",
      "Home-page: https://requests.readthedocs.io\n",
      "Author: Kenneth Reitz\n",
      "Author-email: me@kennethreitz.org\n",
      "License: Apache 2.0\n",
      "Location: c:\\users\\ldy\\appdata\\local\\programs\\python\\python310\\lib\\site-packages\n",
      "Requires: certifi, charset-normalizer, idna, urllib3\n",
      "Required-by: \n",
      "Note: you may need to restart the kernel to use updated packages.\n"
     ]
    }
   ],
   "source": [
    "pip show requests"
   ]
  },
  {
   "cell_type": "code",
   "execution_count": 3,
   "metadata": {},
   "outputs": [
    {
     "name": "stdout",
     "output_type": "stream",
     "text": [
      "res:  200\n",
      "198434\n"
     ]
    }
   ],
   "source": [
    "import requests\n",
    "res = requests.get(\"https://naver.com\")\n",
    "print(\"res: \", res.status_code)\n",
    "\n",
    "print(len(res.text))"
   ]
  },
  {
   "cell_type": "code",
   "execution_count": 4,
   "metadata": {},
   "outputs": [],
   "source": [
    "# 파일로 저장\n",
    "with open('crawledPage1.html', 'w', encoding='utf8') as f:\n",
    "    f.write(res.text)   "
   ]
  },
  {
   "cell_type": "code",
   "execution_count": null,
   "metadata": {},
   "outputs": [],
   "source": [
    "print(res.content)"
   ]
  },
  {
   "cell_type": "markdown",
   "metadata": {},
   "source": [
    "### 2. beautifulSoup4 모듈 사용방법"
   ]
  },
  {
   "cell_type": "code",
   "execution_count": 60,
   "metadata": {},
   "outputs": [
    {
     "name": "stdout",
     "output_type": "stream",
     "text": [
      "200\n"
     ]
    }
   ],
   "source": [
    "import requests\n",
    "from bs4 import BeautifulSoup\n",
    "\n",
    "url = 'https://comic.naver.com/webtoon/weekday'     # 네이버 웹툰\n",
    "res = requests.get(url)\n",
    "print(res.status_code)\n",
    "res.raise_for_status()\n",
    "soup = BeautifulSoup(res.text, 'lxml')"
   ]
  },
  {
   "cell_type": "markdown",
   "metadata": {},
   "source": [
    "#### 태그로 값 가져오기"
   ]
  },
  {
   "cell_type": "code",
   "execution_count": 15,
   "metadata": {},
   "outputs": [
    {
     "name": "stdout",
     "output_type": "stream",
     "text": [
      "<title>네이버 웹툰 &gt; 요일별  웹툰 &gt; 전체웹툰</title>\n"
     ]
    }
   ],
   "source": [
    "print(soup.title)                                   # title 태그 값 가져오기"
   ]
  },
  {
   "cell_type": "code",
   "execution_count": 9,
   "metadata": {},
   "outputs": [
    {
     "name": "stdout",
     "output_type": "stream",
     "text": [
      "<a href=\"#menu\" onclick=\"document.getElementById('menu').tabIndex=-1;document.getElementById('menu').focus();return false;\"><span>메인 메뉴로 바로가기</span></a>\n"
     ]
    }
   ],
   "source": [
    "print(soup.a)                                       # 가장 먼저 발견되는 a 태그 가져오기"
   ]
  },
  {
   "cell_type": "code",
   "execution_count": 14,
   "metadata": {},
   "outputs": [
    {
     "name": "stdout",
     "output_type": "stream",
     "text": [
      "네이버 웹툰 > 요일별  웹툰 > 전체웹툰\n"
     ]
    }
   ],
   "source": [
    "print(soup.title.get_text())                        # title 태그에서 텍스트만 추출하기"
   ]
  },
  {
   "cell_type": "code",
   "execution_count": 10,
   "metadata": {},
   "outputs": [
    {
     "name": "stdout",
     "output_type": "stream",
     "text": [
      "{'href': '#menu', 'onclick': \"document.getElementById('menu').tabIndex=-1;document.getElementById('menu').focus();return false;\"}\n"
     ]
    }
   ],
   "source": [
    "print(soup.a.attrs)                                 # a 태그의 속성 가져오기"
   ]
  },
  {
   "cell_type": "code",
   "execution_count": 11,
   "metadata": {},
   "outputs": [
    {
     "name": "stdout",
     "output_type": "stream",
     "text": [
      "#menu\n"
     ]
    }
   ],
   "source": [
    "print(soup.a['href'])                               # a 태그의 'href' 속성값 가져오기"
   ]
  },
  {
   "cell_type": "code",
   "execution_count": 12,
   "metadata": {},
   "outputs": [
    {
     "name": "stdout",
     "output_type": "stream",
     "text": [
      "메인 메뉴로 바로가기\n"
     ]
    }
   ],
   "source": [
    "print(soup.a.get_text())                            # a 태그의 innerHTML값 가져오기"
   ]
  },
  {
   "cell_type": "markdown",
   "metadata": {},
   "source": [
    "#### find()로 값 가져오기"
   ]
  },
  {
   "cell_type": "code",
   "execution_count": 22,
   "metadata": {},
   "outputs": [
    {
     "name": "stdout",
     "output_type": "stream",
     "text": [
      "<a href=\"#menu\" onclick=\"document.getElementById('menu').tabIndex=-1;document.getElementById('menu').focus();return false;\"><span>메인 메뉴로 바로가기</span></a>\n"
     ]
    }
   ],
   "source": [
    "print(soup.find('a'))"
   ]
  },
  {
   "cell_type": "code",
   "execution_count": 16,
   "metadata": {},
   "outputs": [
    {
     "name": "stdout",
     "output_type": "stream",
     "text": [
      "<a class=\"Nbtn_upload\" href=\"/mypage/myActivity\" onclick=\"nclk_v2(event,'olk.upload');\">웹툰 올리기</a>\n",
      "<a class=\"Nbtn_upload\" href=\"/mypage/myActivity\" onclick=\"nclk_v2(event,'olk.upload');\">웹툰 올리기</a>\n"
     ]
    }
   ],
   "source": [
    "# soun.find() 함수: 태그와 속성으로 [웹툰 올리기] 버튼 가져오기\n",
    "print(soup.find('a', attrs={'class':'Nbtn_upload'}))    # a태그 중 class값이 'Nbtn_upload'인 요소\n",
    "print(soup.find(attrs={'class':'Nbtn_upload'}))         # class값이 'Nbtn_upload'인 요소"
   ]
  },
  {
   "cell_type": "code",
   "execution_count": 23,
   "metadata": {},
   "outputs": [
    {
     "name": "stdout",
     "output_type": "stream",
     "text": [
      "<a class=\"title\" href=\"/webtoon/list?titleId=758037&amp;weekday=mon\" onclick=\"nclk_v2(event,'thm*m.tit','','1')\" title=\"참교육\">참교육</a>\n"
     ]
    }
   ],
   "source": [
    "# inner 텍스트로 가져오기\n",
    "print(soup.find('a', text='참교육'))"
   ]
  },
  {
   "cell_type": "code",
   "execution_count": 61,
   "metadata": {},
   "outputs": [
    {
     "name": "stdout",
     "output_type": "stream",
     "text": [
      "싸움독학-138화 : 적인가?!\n"
     ]
    }
   ],
   "source": [
    "# 인기 급상승 웹툰 목록 가져오기\n",
    "rank1 = soup.find('li', attrs={\"class\":\"rank01\"})\n",
    "print(rank1.a.text)"
   ]
  },
  {
   "cell_type": "code",
   "execution_count": null,
   "metadata": {},
   "outputs": [],
   "source": [
    "# 요일별 전체 웹툰의 모든 제목 가져오기\n",
    "import requests\n",
    "from bs4 import BeautifulSoup\n",
    "\n",
    "url = 'https://comic.naver.com/webtoon/weekday'     \n",
    "res = requests.get(url)\n",
    "res.raise_for_status()\n",
    "\n",
    "# soup = BeautifulSoup(res.content, 'html.parser')\n",
    "soup = BeautifulSoup(res.text, 'lxml')\n",
    "\n",
    "# a 태그 중 class='title'인 모든 요소 가져오기\n",
    "webtoon_title = soup.findAll('a', attrs={'class':'title'})     \n",
    "\n",
    "for i in webtoon_title:\n",
    "    print(i.get_text(), end=', ')"
   ]
  },
  {
   "cell_type": "code",
   "execution_count": 75,
   "metadata": {},
   "outputs": [
    {
     "name": "stdout",
     "output_type": "stream",
     "text": [
      "싸움독학-138화 : 적인가?!\n",
      "독립일기-시즌2 86화 미친 습도와 미친 호르몬\n",
      "입학용병-90화\n",
      "이번 생도 잘 부탁해-102화\n",
      "투신전생기-57화\n",
      "사형소년-10화_저승사자\n",
      "약한영웅-201화\n",
      "2022 스크롤금지-21.거꾸로 서는 자 - 단우 작가\n",
      "존망코인-39화 왓유어네임?\n",
      "수희0(tngmlek0)-57화\n"
     ]
    }
   ],
   "source": [
    "# 인기급상승 웹툰 목록 가져오기\n",
    "import requests\n",
    "from bs4 import BeautifulSoup\n",
    "\n",
    "url = 'https://comic.naver.com/webtoon/weekday'     \n",
    "res = requests.get(url)\n",
    "res.raise_for_status()\n",
    "\n",
    "soup = BeautifulSoup(res.text, 'lxml')\n",
    "\n",
    "webtoon_list = soup.find('ol', attrs={'id':'realTimeRankFavorite'})\n",
    "# print(type(webtoon_list))\n",
    "# print(webtoon_list)\n",
    "lst = webtoon_list.findAll('li')\n",
    "# print(lst[1])\n",
    "for i in lst:\n",
    "  print(i.a.get_text())\n",
    "  \n"
   ]
  },
  {
   "cell_type": "markdown",
   "metadata": {},
   "source": [
    "### 3. 네이버 웹툰 크롤링"
   ]
  },
  {
   "cell_type": "code",
   "execution_count": 50,
   "metadata": {},
   "outputs": [
    {
     "name": "stdout",
     "output_type": "stream",
     "text": [
      "시즌2 86화 미친 습도와 미친 호르몬\n",
      "/webtoon/detail?titleId=748105&no=189&weekday=thu\n",
      "https://comic.naver.com//webtoon/detail?titleId=748105&no=189&weekday=thu\n",
      "시즌2 86화 미친 습도와 미친 호르몬 https://comic.naver.com//webtoon/detail?titleId=748105&no=189&weekday=thu\n",
      "시즌2 85화 빨래에서 뭔가 나왔다 https://comic.naver.com//webtoon/detail?titleId=748105&no=188&weekday=thu\n",
      "시즌2 84화 어서 와 우리 집은 처음이지 https://comic.naver.com//webtoon/detail?titleId=748105&no=187&weekday=thu\n",
      "시즌2 83화 이사 준비 https://comic.naver.com//webtoon/detail?titleId=748105&no=186&weekday=thu\n",
      "시즌2 82화 추억 팔이 https://comic.naver.com//webtoon/detail?titleId=748105&no=185&weekday=thu\n",
      "시즌2 81화 잠자는 집 속의 강아지 https://comic.naver.com//webtoon/detail?titleId=748105&no=184&weekday=thu\n",
      "시즌2 80화 제주여행 6일차 https://comic.naver.com//webtoon/detail?titleId=748105&no=183&weekday=thu\n",
      "시즌2 79화 제주여행 5일차 https://comic.naver.com//webtoon/detail?titleId=748105&no=182&weekday=thu\n",
      "시즌2 78화 제주여행 4일차 https://comic.naver.com//webtoon/detail?titleId=748105&no=181&weekday=thu\n",
      "시즌2 77화 제주여행 3일차 https://comic.naver.com//webtoon/detail?titleId=748105&no=180&weekday=thu\n"
     ]
    }
   ],
   "source": [
    "# 목요 웹툰 '독립일기' 페이지의 최신 목록 가져오기\n",
    "import requests\n",
    "from bs4 import BeautifulSoup\n",
    "\n",
    "url = 'https://comic.naver.com/webtoon/list?titleId=748105&weekday=thu'     \n",
    "res = requests.get(url)\n",
    "res.raise_for_status()\n",
    "\n",
    "soup = BeautifulSoup(res.content, 'html.parser')\n",
    "\n",
    "# a 태그 중 class='title'인 모든 요소 가져오기\n",
    "rows = soup.findAll('td', attrs={'class':'title'})    \n",
    "# print(rows)\n",
    "print(rows[0].a.get_text())                       # 첫 번째 요소만 출력해보기\n",
    "link = rows[0].a['href']\n",
    "print(link)\n",
    "print('https://comic.naver.com/' + link)\n",
    "\n",
    "for row in rows:\n",
    "    title = row.a.get_text()\n",
    "    link = row.a['href']\n",
    "    print(title, 'https://comic.naver.com/' + link)"
   ]
  },
  {
   "cell_type": "code",
   "execution_count": 51,
   "metadata": {},
   "outputs": [
    {
     "name": "stdout",
     "output_type": "stream",
     "text": [
      "9.96\n",
      "9.96\n",
      "9.97\n",
      "9.98\n",
      "9.98\n",
      "9.97\n",
      "9.97\n",
      "9.97\n",
      "9.97\n",
      "9.97\n",
      "평점 평균: 9.97\n"
     ]
    }
   ],
   "source": [
    "# 목요 웹툰 '독립일기'의 평점 평균 계산하기\n",
    "import requests\n",
    "from bs4 import BeautifulSoup\n",
    "\n",
    "url = 'https://comic.naver.com/webtoon/list?titleId=748105&weekday=thu'     \n",
    "res = requests.get(url)\n",
    "res.raise_for_status()\n",
    "\n",
    "soup = BeautifulSoup(res.content, 'html.parser')\n",
    "\n",
    "rows = soup.find_all('div', attrs={'class':'rating_type'})    \n",
    "\n",
    "sum_rating = 0\n",
    "for row in rows:\n",
    "    rating = row.find('strong').get_text()\n",
    "    print(rating)\n",
    "    sum_rating += float(rating)\n",
    "\n",
    "print(f'평점 평균: {sum_rating / len(rows)}')"
   ]
  },
  {
   "cell_type": "code",
   "execution_count": 52,
   "metadata": {},
   "outputs": [
    {
     "name": "stdout",
     "output_type": "stream",
     "text": [
      "200\n",
      "8화 1인 가구 요리 꿀팁 https://comic.naver.com/webtoon/detail?titleId=748105&no=9&weekday=thu\n",
      "7화 집들이 선물 https://comic.naver.com/webtoon/detail?titleId=748105&no=8&weekday=thu\n",
      "6화 나홀로 집에 https://comic.naver.com/webtoon/detail?titleId=748105&no=7&weekday=thu\n",
      "5화 이사 셋째 날 https://comic.naver.com/webtoon/detail?titleId=748105&no=6&weekday=thu\n",
      "4화 이사 둘째 날 https://comic.naver.com/webtoon/detail?titleId=748105&no=5&weekday=thu\n",
      "3화 이사 첫날 https://comic.naver.com/webtoon/detail?titleId=748105&no=4&weekday=thu\n",
      "2화 부동산 대모험 https://comic.naver.com/webtoon/detail?titleId=748105&no=3&weekday=thu\n",
      "1화 나도 혼자 산다 https://comic.naver.com/webtoon/detail?titleId=748105&no=2&weekday=thu\n",
      "예고편 https://comic.naver.com/webtoon/detail?titleId=748105&no=1&weekday=thu\n"
     ]
    }
   ],
   "source": [
    "# 목요 웹툰 '독립일기'의 1화 페이지 목록 출력하기\n",
    "import requests\n",
    "from bs4 import BeautifulSoup\n",
    "\n",
    "url = 'https://comic.naver.com/webtoon/list?titleId=748105&weekday=thu&page=19'     \n",
    "res = requests.get(url)\n",
    "print(res.status_code)\n",
    "res.raise_for_status()\n",
    "\n",
    "soup = BeautifulSoup(res.text, 'lxml')\n",
    "\n",
    "rows = soup.find_all('td', attrs={'class':'title'})    \n",
    "\n",
    "for row in rows:\n",
    "    title = row.find('a').get_text()\n",
    "    link = 'https://comic.naver.com' + row.find('a')['href']\n",
    "    print(title, link)"
   ]
  },
  {
   "cell_type": "code",
   "execution_count": 55,
   "metadata": {},
   "outputs": [
    {
     "name": "stdout",
     "output_type": "stream",
     "text": [
      "8화 1인 가구 요리 꿀팁 https://comic.naver.com/webtoon/detail?titleId=748105&no=9&weekday=thu\n",
      "7화 집들이 선물 https://comic.naver.com/webtoon/detail?titleId=748105&no=8&weekday=thu\n",
      "6화 나홀로 집에 https://comic.naver.com/webtoon/detail?titleId=748105&no=7&weekday=thu\n",
      "5화 이사 셋째 날 https://comic.naver.com/webtoon/detail?titleId=748105&no=6&weekday=thu\n",
      "4화 이사 둘째 날 https://comic.naver.com/webtoon/detail?titleId=748105&no=5&weekday=thu\n",
      "3화 이사 첫날 https://comic.naver.com/webtoon/detail?titleId=748105&no=4&weekday=thu\n",
      "2화 부동산 대모험 https://comic.naver.com/webtoon/detail?titleId=748105&no=3&weekday=thu\n",
      "1화 나도 혼자 산다 https://comic.naver.com/webtoon/detail?titleId=748105&no=2&weekday=thu\n",
      "예고편 https://comic.naver.com/webtoon/detail?titleId=748105&no=1&weekday=thu\n",
      "18화 엄마의 방문 https://comic.naver.com/webtoon/detail?titleId=748105&no=19&weekday=thu\n",
      "17화 브라이덜 샤워 https://comic.naver.com/webtoon/detail?titleId=748105&no=18&weekday=thu\n",
      "16화 점잖개 https://comic.naver.com/webtoon/detail?titleId=748105&no=17&weekday=thu\n",
      "15화 빨래 https://comic.naver.com/webtoon/detail?titleId=748105&no=16&weekday=thu\n",
      "14화 그래도 우리 집이 최고 https://comic.naver.com/webtoon/detail?titleId=748105&no=15&weekday=thu\n",
      "13화 집밥이 그리우면 https://comic.naver.com/webtoon/detail?titleId=748105&no=14&weekday=thu\n",
      "12화 수챗구멍 청소 https://comic.naver.com/webtoon/detail?titleId=748105&no=13&weekday=thu\n",
      "11화 밥공기 딜레마 https://comic.naver.com/webtoon/detail?titleId=748105&no=12&weekday=thu\n",
      "10화 창문 필름 셀프 시공 https://comic.naver.com/webtoon/detail?titleId=748105&no=11&weekday=thu\n",
      "9화 벌레 퇴치 https://comic.naver.com/webtoon/detail?titleId=748105&no=10&weekday=thu\n",
      "28화 머리할 때 됐다 https://comic.naver.com/webtoon/detail?titleId=748105&no=29&weekday=thu\n",
      "27화 인테리어를 부탁해 https://comic.naver.com/webtoon/detail?titleId=748105&no=28&weekday=thu\n",
      "26화 극강의 자유 https://comic.naver.com/webtoon/detail?titleId=748105&no=27&weekday=thu\n",
      "25화 혼자 아픈 날 https://comic.naver.com/webtoon/detail?titleId=748105&no=26&weekday=thu\n",
      "24화 쓰레기 줄이기 https://comic.naver.com/webtoon/detail?titleId=748105&no=25&weekday=thu\n",
      "23화 엄마의 전화 https://comic.naver.com/webtoon/detail?titleId=748105&no=24&weekday=thu\n",
      "22화 고양이가 있는 집 https://comic.naver.com/webtoon/detail?titleId=748105&no=23&weekday=thu\n",
      "21화 음식물 쓰레기 https://comic.naver.com/webtoon/detail?titleId=748105&no=22&weekday=thu\n",
      "20화 가구 채우기 https://comic.naver.com/webtoon/detail?titleId=748105&no=21&weekday=thu\n",
      "19화 손빨래 https://comic.naver.com/webtoon/detail?titleId=748105&no=20&weekday=thu\n",
      "38화 퇴근시간 교대역 환승하기 https://comic.naver.com/webtoon/detail?titleId=748105&no=39&weekday=thu\n",
      "37화 게스트하우스 https://comic.naver.com/webtoon/detail?titleId=748105&no=38&weekday=thu\n",
      "36화 공간 활용 https://comic.naver.com/webtoon/detail?titleId=748105&no=37&weekday=thu\n",
      "35화 아빠의 생일 https://comic.naver.com/webtoon/detail?titleId=748105&no=36&weekday=thu\n",
      "34화 반찬 https://comic.naver.com/webtoon/detail?titleId=748105&no=35&weekday=thu\n",
      "33화 시내버스 적응기 https://comic.naver.com/webtoon/detail?titleId=748105&no=34&weekday=thu\n",
      "32화 고운 말 챌린지 https://comic.naver.com/webtoon/detail?titleId=748105&no=33&weekday=thu\n",
      "31화 경찰서에서 나왔습니다 https://comic.naver.com/webtoon/detail?titleId=748105&no=32&weekday=thu\n",
      "30화 노동이 필요해 https://comic.naver.com/webtoon/detail?titleId=748105&no=31&weekday=thu\n",
      "29화 비둘기 https://comic.naver.com/webtoon/detail?titleId=748105&no=30&weekday=thu\n",
      "48화 응급실 실려가서 수술받은 썰 푼다 (2) https://comic.naver.com/webtoon/detail?titleId=748105&no=49&weekday=thu\n",
      "47화 응급실 실려가서 수술받은 썰 푼다 (1) https://comic.naver.com/webtoon/detail?titleId=748105&no=48&weekday=thu\n",
      "46화 벽간 소음 https://comic.naver.com/webtoon/detail?titleId=748105&no=47&weekday=thu\n",
      "45화 과일 https://comic.naver.com/webtoon/detail?titleId=748105&no=46&weekday=thu\n",
      "44화 난방이 낯설다 https://comic.naver.com/webtoon/detail?titleId=748105&no=45&weekday=thu\n",
      "43화 치과 찾아 삼만리 https://comic.naver.com/webtoon/detail?titleId=748105&no=44&weekday=thu\n",
      "42화 요리 https://comic.naver.com/webtoon/detail?titleId=748105&no=43&weekday=thu\n",
      "41화 물리치료 https://comic.naver.com/webtoon/detail?titleId=748105&no=42&weekday=thu\n",
      "40화 서울의 자연 https://comic.naver.com/webtoon/detail?titleId=748105&no=41&weekday=thu\n",
      "39화 아침을 건강하게 https://comic.naver.com/webtoon/detail?titleId=748105&no=40&weekday=thu\n",
      "58화 건강한 식단 https://comic.naver.com/webtoon/detail?titleId=748105&no=59&weekday=thu\n",
      "57화 반려 식물 https://comic.naver.com/webtoon/detail?titleId=748105&no=58&weekday=thu\n",
      "56화 온라인 신년회 https://comic.naver.com/webtoon/detail?titleId=748105&no=57&weekday=thu\n",
      "55화 연말의 원룸 https://comic.naver.com/webtoon/detail?titleId=748105&no=56&weekday=thu\n",
      "54화 변기 막혔다 https://comic.naver.com/webtoon/detail?titleId=748105&no=55&weekday=thu\n",
      "53화 코로나19 익명검사 해봄 https://comic.naver.com/webtoon/detail?titleId=748105&no=54&weekday=thu\n",
      "52화 한강 산책 https://comic.naver.com/webtoon/detail?titleId=748105&no=53&weekday=thu\n",
      "51화 휴재는 이렇게 https://comic.naver.com/webtoon/detail?titleId=748105&no=52&weekday=thu\n",
      "50화 응급실 실려가서 수술받은 썰 푼다 (끝) https://comic.naver.com/webtoon/detail?titleId=748105&no=51&weekday=thu\n",
      "49화 응급실 실려가서 수술받은 썰 푼다 (3) https://comic.naver.com/webtoon/detail?titleId=748105&no=50&weekday=thu\n",
      "68화 조금 싸갈래? https://comic.naver.com/webtoon/detail?titleId=748105&no=69&weekday=thu\n",
      "67화 보석 십자수 https://comic.naver.com/webtoon/detail?titleId=748105&no=68&weekday=thu\n",
      "66화 새벽의 원룸 https://comic.naver.com/webtoon/detail?titleId=748105&no=67&weekday=thu\n",
      "65화 어르신개 https://comic.naver.com/webtoon/detail?titleId=748105&no=66&weekday=thu\n",
      "64화 혼자라서 난감한 https://comic.naver.com/webtoon/detail?titleId=748105&no=65&weekday=thu\n",
      "63화 엄마의 생일 https://comic.naver.com/webtoon/detail?titleId=748105&no=64&weekday=thu\n",
      "62화 눈 온다 https://comic.naver.com/webtoon/detail?titleId=748105&no=63&weekday=thu\n",
      "61화 동네 친구 https://comic.naver.com/webtoon/detail?titleId=748105&no=62&weekday=thu\n",
      "60화 중고거래 https://comic.naver.com/webtoon/detail?titleId=748105&no=61&weekday=thu\n",
      "59화 겨울밤 https://comic.naver.com/webtoon/detail?titleId=748105&no=60&weekday=thu\n",
      "78화 호르몬 죽어 https://comic.naver.com/webtoon/detail?titleId=748105&no=79&weekday=thu\n",
      "77화 장보기 https://comic.naver.com/webtoon/detail?titleId=748105&no=78&weekday=thu\n",
      "76화 체력이 줄었다 https://comic.naver.com/webtoon/detail?titleId=748105&no=77&weekday=thu\n",
      "75화 곤란한 행인들 https://comic.naver.com/webtoon/detail?titleId=748105&no=76&weekday=thu\n",
      "74화 이건 되는 꿈이다 https://comic.naver.com/webtoon/detail?titleId=748105&no=75&weekday=thu\n",
      "73화 경기버스 https://comic.naver.com/webtoon/detail?titleId=748105&no=74&weekday=thu\n",
      "72화 집안일의 굴레 https://comic.naver.com/webtoon/detail?titleId=748105&no=73&weekday=thu\n",
      "71화 햄버거 배달 https://comic.naver.com/webtoon/detail?titleId=748105&no=72&weekday=thu\n",
      "70화 외출 체크리스트 https://comic.naver.com/webtoon/detail?titleId=748105&no=71&weekday=thu\n",
      "69화 1호선 빌런 https://comic.naver.com/webtoon/detail?titleId=748105&no=70&weekday=thu\n",
      "88화 장롱면허 부활 https://comic.naver.com/webtoon/detail?titleId=748105&no=89&weekday=thu\n",
      "87화 배달음식 https://comic.naver.com/webtoon/detail?titleId=748105&no=88&weekday=thu\n",
      "86화 건강을 위하여 https://comic.naver.com/webtoon/detail?titleId=748105&no=87&weekday=thu\n",
      "85화 실내 취미 https://comic.naver.com/webtoon/detail?titleId=748105&no=86&weekday=thu\n",
      "84화 만우절 쿠키 만들기 https://comic.naver.com/webtoon/detail?titleId=748105&no=85&weekday=thu\n",
      "83화 벚꽃이 왜 벌써 https://comic.naver.com/webtoon/detail?titleId=748105&no=84&weekday=thu\n",
      "82화 방광염 죽어 (2) https://comic.naver.com/webtoon/detail?titleId=748105&no=83&weekday=thu\n",
      "81화 방광염 죽어 (1) https://comic.naver.com/webtoon/detail?titleId=748105&no=82&weekday=thu\n",
      "80화 자취템 추천 https://comic.naver.com/webtoon/detail?titleId=748105&no=81&weekday=thu\n",
      "79화 가족의 거리 https://comic.naver.com/webtoon/detail?titleId=748105&no=80&weekday=thu\n",
      "98화 체험 육아 현장 https://comic.naver.com/webtoon/detail?titleId=748105&no=99&weekday=thu\n",
      "97화 하루가 길다 https://comic.naver.com/webtoon/detail?titleId=748105&no=98&weekday=thu\n",
      "96화 생일 https://comic.naver.com/webtoon/detail?titleId=748105&no=97&weekday=thu\n",
      "95화 항문외과 다녀왔습니다 https://comic.naver.com/webtoon/detail?titleId=748105&no=96&weekday=thu\n",
      "94화 친구의 결혼 https://comic.naver.com/webtoon/detail?titleId=748105&no=95&weekday=thu\n",
      "93화 어버이날 https://comic.naver.com/webtoon/detail?titleId=748105&no=94&weekday=thu\n",
      "92화 왜 없어 https://comic.naver.com/webtoon/detail?titleId=748105&no=93&weekday=thu\n",
      "91화 밥도둑 만들기 https://comic.naver.com/webtoon/detail?titleId=748105&no=92&weekday=thu\n",
      "90화 왜 점점 귀여운데 https://comic.naver.com/webtoon/detail?titleId=748105&no=91&weekday=thu\n",
      "89화 우울한 날 https://comic.naver.com/webtoon/detail?titleId=748105&no=90&weekday=thu\n",
      "시즌2 6화 수목원 https://comic.naver.com/webtoon/detail?titleId=748105&no=109&weekday=thu\n",
      "시즌2 5화 한강 자전거 https://comic.naver.com/webtoon/detail?titleId=748105&no=108&weekday=thu\n",
      "시즌2 4화 감자캐기 https://comic.naver.com/webtoon/detail?titleId=748105&no=107&weekday=thu\n",
      "시즌2 3화 PT (2) https://comic.naver.com/webtoon/detail?titleId=748105&no=106&weekday=thu\n",
      "시즌2 2화 PT (1) https://comic.naver.com/webtoon/detail?titleId=748105&no=105&weekday=thu\n",
      "시즌2 1화 부모님의 백신 접종 https://comic.naver.com/webtoon/detail?titleId=748105&no=104&weekday=thu\n",
      "시즌2 예고편 https://comic.naver.com/webtoon/detail?titleId=748105&no=103&weekday=thu\n",
      "QnA https://comic.naver.com/webtoon/detail?titleId=748105&no=102&weekday=thu\n",
      "100화 독립을 돌아보며 https://comic.naver.com/webtoon/detail?titleId=748105&no=101&weekday=thu\n",
      "99화 영양제 https://comic.naver.com/webtoon/detail?titleId=748105&no=100&weekday=thu\n",
      "시즌2 16화  송이버섯에 얽힌 옛날이야기 https://comic.naver.com/webtoon/detail?titleId=748105&no=119&weekday=thu\n",
      "시즌2 15화 가을이었다 https://comic.naver.com/webtoon/detail?titleId=748105&no=118&weekday=thu\n",
      "시즌2 14화 2차 접종 후기 https://comic.naver.com/webtoon/detail?titleId=748105&no=117&weekday=thu\n",
      "시즌2 13화 송편 빚기 https://comic.naver.com/webtoon/detail?titleId=748105&no=116&weekday=thu\n",
      "시즌2 12화 건강검진 https://comic.naver.com/webtoon/detail?titleId=748105&no=115&weekday=thu\n",
      "시즌2 11화 잔여백신 접종 이후 https://comic.naver.com/webtoon/detail?titleId=748105&no=114&weekday=thu\n",
      "시즌2 10화 얼떨결에 잔여백신 https://comic.naver.com/webtoon/detail?titleId=748105&no=113&weekday=thu\n",
      "시즌2 9화 복근 만들기 https://comic.naver.com/webtoon/detail?titleId=748105&no=112&weekday=thu\n",
      "시즌2 8화 반려견 운동장 https://comic.naver.com/webtoon/detail?titleId=748105&no=111&weekday=thu\n",
      "시즌2 7화 물물교환 https://comic.naver.com/webtoon/detail?titleId=748105&no=110&weekday=thu\n",
      "시즌2 26화 첫 고속도로 운전 (1) https://comic.naver.com/webtoon/detail?titleId=748105&no=129&weekday=thu\n",
      "시즌2 25화 마음 비우기 https://comic.naver.com/webtoon/detail?titleId=748105&no=128&weekday=thu\n",
      "시즌2 24화 불 켜놓고 잠든 밤 https://comic.naver.com/webtoon/detail?titleId=748105&no=127&weekday=thu\n",
      "시즌2 23화 산책 https://comic.naver.com/webtoon/detail?titleId=748105&no=126&weekday=thu\n",
      "시즌2 22화 최악의 식습관 https://comic.naver.com/webtoon/detail?titleId=748105&no=125&weekday=thu\n",
      "시즌2 21화 엄마와 호캉스 https://comic.naver.com/webtoon/detail?titleId=748105&no=124&weekday=thu\n",
      "시즌2 20화 금주 https://comic.naver.com/webtoon/detail?titleId=748105&no=123&weekday=thu\n",
      "시즌2 19화 재물손괴 https://comic.naver.com/webtoon/detail?titleId=748105&no=122&weekday=thu\n",
      "시즌2 18화 입맛의 변화 https://comic.naver.com/webtoon/detail?titleId=748105&no=121&weekday=thu\n",
      "시즌2 17화 사주 https://comic.naver.com/webtoon/detail?titleId=748105&no=120&weekday=thu\n",
      "시즌2 36화 나의 20대 (1) https://comic.naver.com/webtoon/detail?titleId=748105&no=139&weekday=thu\n",
      "시즌2 35화 내스타일 https://comic.naver.com/webtoon/detail?titleId=748105&no=138&weekday=thu\n",
      "시즌2 34화 바다에서 노는 법 (2) https://comic.naver.com/webtoon/detail?titleId=748105&no=137&weekday=thu\n",
      "시즌2 33화 바다에서 노는 법 (1) https://comic.naver.com/webtoon/detail?titleId=748105&no=136&weekday=thu\n",
      "시즌2 32화 우정 사진 재도전 https://comic.naver.com/webtoon/detail?titleId=748105&no=135&weekday=thu\n",
      "시즌2 31화 에어컨 청소 https://comic.naver.com/webtoon/detail?titleId=748105&no=134&weekday=thu\n",
      "시즌2 30화 게임 좋아 https://comic.naver.com/webtoon/detail?titleId=748105&no=133&weekday=thu\n",
      "시즌2 29화 그런 친구 https://comic.naver.com/webtoon/detail?titleId=748105&no=132&weekday=thu\n",
      "시즌2 28화 김장 https://comic.naver.com/webtoon/detail?titleId=748105&no=131&weekday=thu\n",
      "시즌2 27화 첫 고속도로 운전 (2) https://comic.naver.com/webtoon/detail?titleId=748105&no=130&weekday=thu\n",
      "시즌2 46화 코로나 시대에 적응하는 법 https://comic.naver.com/webtoon/detail?titleId=748105&no=149&weekday=thu\n",
      "시즌2 45화 엄마 생일 미역국 끓이기 https://comic.naver.com/webtoon/detail?titleId=748105&no=148&weekday=thu\n",
      "시즌2 44화 신년 맞이 스케일링 https://comic.naver.com/webtoon/detail?titleId=748105&no=147&weekday=thu\n",
      "시즌2 43화 부모님 가르쳐드리기 https://comic.naver.com/webtoon/detail?titleId=748105&no=146&weekday=thu\n",
      "시즌2 42화 시간제 캠핑 https://comic.naver.com/webtoon/detail?titleId=748105&no=145&weekday=thu\n",
      "시즌2 41화 우리 집 산타 https://comic.naver.com/webtoon/detail?titleId=748105&no=144&weekday=thu\n",
      "시즌2 40화 깐부 https://comic.naver.com/webtoon/detail?titleId=748105&no=143&weekday=thu\n",
      "시즌2 39화 세상의 모든 알람 https://comic.naver.com/webtoon/detail?titleId=748105&no=142&weekday=thu\n",
      "시즌2 38화 만두 만들기 https://comic.naver.com/webtoon/detail?titleId=748105&no=141&weekday=thu\n",
      "시즌2 37화 나의 20대 (2) https://comic.naver.com/webtoon/detail?titleId=748105&no=140&weekday=thu\n",
      "시즌2 56화 야식 참기 https://comic.naver.com/webtoon/detail?titleId=748105&no=159&weekday=thu\n",
      "시즌2 55화 헤어 클리닉 https://comic.naver.com/webtoon/detail?titleId=748105&no=158&weekday=thu\n",
      "시즌2 54화 인간 사료 https://comic.naver.com/webtoon/detail?titleId=748105&no=157&weekday=thu\n",
      "시즌2 53화 된장 만들기 https://comic.naver.com/webtoon/detail?titleId=748105&no=156&weekday=thu\n",
      "시즌2 52화 4시에 자는 이유 https://comic.naver.com/webtoon/detail?titleId=748105&no=155&weekday=thu\n",
      "시즌2 51화 설 연휴는 이렇게 (3) https://comic.naver.com/webtoon/detail?titleId=748105&no=154&weekday=thu\n",
      "시즌2 50화 설 연휴는 이렇게 (2) https://comic.naver.com/webtoon/detail?titleId=748105&no=153&weekday=thu\n",
      "시즌2 49화 설 연휴는 이렇게 (1) https://comic.naver.com/webtoon/detail?titleId=748105&no=152&weekday=thu\n",
      "시즌2 48화 제발 드셔주세요 https://comic.naver.com/webtoon/detail?titleId=748105&no=151&weekday=thu\n",
      "시즌2 47화 결막염 https://comic.naver.com/webtoon/detail?titleId=748105&no=150&weekday=thu\n",
      "시즌2 66화 엄마랑 바다여행 (1) https://comic.naver.com/webtoon/detail?titleId=748105&no=169&weekday=thu\n",
      "시즌2 65화 타코야끼 트럭을 찾아서 https://comic.naver.com/webtoon/detail?titleId=748105&no=168&weekday=thu\n",
      "시즌2 64화 아빠의 정년퇴직 (2) https://comic.naver.com/webtoon/detail?titleId=748105&no=167&weekday=thu\n",
      "시즌2 63화 아빠의 정년퇴직 (1) https://comic.naver.com/webtoon/detail?titleId=748105&no=166&weekday=thu\n",
      "시즌2 62화 스티커 빵 https://comic.naver.com/webtoon/detail?titleId=748105&no=165&weekday=thu\n",
      "시즌2 61화 기름 https://comic.naver.com/webtoon/detail?titleId=748105&no=164&weekday=thu\n",
      "시즌2 60화 선인장 https://comic.naver.com/webtoon/detail?titleId=748105&no=163&weekday=thu\n",
      "시즌2 59화 릴레이 꿈 https://comic.naver.com/webtoon/detail?titleId=748105&no=162&weekday=thu\n",
      "시즌2 58화 식물을 키운다는 것 https://comic.naver.com/webtoon/detail?titleId=748105&no=161&weekday=thu\n",
      "시즌2 57화 투표 https://comic.naver.com/webtoon/detail?titleId=748105&no=160&weekday=thu\n",
      "시즌2 76화 제주여행 2일차 https://comic.naver.com/webtoon/detail?titleId=748105&no=179&weekday=thu\n",
      "시즌2 75화 제주여행 1일차 https://comic.naver.com/webtoon/detail?titleId=748105&no=178&weekday=thu\n",
      "시즌2 74화 무선 이어폰 적응기 https://comic.naver.com/webtoon/detail?titleId=748105&no=177&weekday=thu\n",
      "시즌2 73화 아빠 퇴직 이후 https://comic.naver.com/webtoon/detail?titleId=748105&no=176&weekday=thu\n",
      "시즌2 72화 아이스크림의 계절 https://comic.naver.com/webtoon/detail?titleId=748105&no=175&weekday=thu\n",
      "시즌2 71화 토끼네 방문 https://comic.naver.com/webtoon/detail?titleId=748105&no=174&weekday=thu\n",
      "시즌2 70화 여유로운 주말 아침 https://comic.naver.com/webtoon/detail?titleId=748105&no=173&weekday=thu\n",
      "시즌2 69화 연등회 https://comic.naver.com/webtoon/detail?titleId=748105&no=172&weekday=thu\n",
      "시즌2 68화 엄마랑 바다여행 (3) https://comic.naver.com/webtoon/detail?titleId=748105&no=171&weekday=thu\n",
      "시즌2 67화 엄마랑 바다여행 (2) https://comic.naver.com/webtoon/detail?titleId=748105&no=170&weekday=thu\n",
      "시즌2 86화 미친 습도와 미친 호르몬 https://comic.naver.com/webtoon/detail?titleId=748105&no=189&weekday=thu\n",
      "시즌2 85화 빨래에서 뭔가 나왔다 https://comic.naver.com/webtoon/detail?titleId=748105&no=188&weekday=thu\n",
      "시즌2 84화 어서 와 우리 집은 처음이지 https://comic.naver.com/webtoon/detail?titleId=748105&no=187&weekday=thu\n",
      "시즌2 83화 이사 준비 https://comic.naver.com/webtoon/detail?titleId=748105&no=186&weekday=thu\n",
      "시즌2 82화 추억 팔이 https://comic.naver.com/webtoon/detail?titleId=748105&no=185&weekday=thu\n",
      "시즌2 81화 잠자는 집 속의 강아지 https://comic.naver.com/webtoon/detail?titleId=748105&no=184&weekday=thu\n",
      "시즌2 80화 제주여행 6일차 https://comic.naver.com/webtoon/detail?titleId=748105&no=183&weekday=thu\n",
      "시즌2 79화 제주여행 5일차 https://comic.naver.com/webtoon/detail?titleId=748105&no=182&weekday=thu\n",
      "시즌2 78화 제주여행 4일차 https://comic.naver.com/webtoon/detail?titleId=748105&no=181&weekday=thu\n",
      "시즌2 77화 제주여행 3일차 https://comic.naver.com/webtoon/detail?titleId=748105&no=180&weekday=thu\n"
     ]
    }
   ],
   "source": [
    "# 목요 웹툰 '독립일기'의 모든 회차 목록 출력하기\n",
    "import requests\n",
    "from bs4 import BeautifulSoup\n",
    "\n",
    "for i in range(19, 0, -1):\n",
    "    url = 'https://comic.naver.com/webtoon/list?titleId=748105&weekday=thu&page='     \n",
    "    res = requests.get(url + str(i))\n",
    "    res.raise_for_status()\n",
    "\n",
    "    soup = BeautifulSoup(res.text, 'lxml')\n",
    "\n",
    "    rows = soup.find_all('td', attrs={'class':'title'})    \n",
    "\n",
    "    for row in rows:\n",
    "        title = row.find('a').get_text()\n",
    "        link = 'https://comic.naver.com' + row.find('a')['href']\n",
    "        print(title, link)"
   ]
  },
  {
   "cell_type": "code",
   "execution_count": 56,
   "metadata": {},
   "outputs": [
    {
     "name": "stdout",
     "output_type": "stream",
     "text": [
      "예고편 https://comic.naver.com/webtoon/detail?titleId=748105&no=1&weekday=thu\n",
      "1화 나도 혼자 산다 https://comic.naver.com/webtoon/detail?titleId=748105&no=2&weekday=thu\n",
      "2화 부동산 대모험 https://comic.naver.com/webtoon/detail?titleId=748105&no=3&weekday=thu\n",
      "3화 이사 첫날 https://comic.naver.com/webtoon/detail?titleId=748105&no=4&weekday=thu\n",
      "4화 이사 둘째 날 https://comic.naver.com/webtoon/detail?titleId=748105&no=5&weekday=thu\n",
      "5화 이사 셋째 날 https://comic.naver.com/webtoon/detail?titleId=748105&no=6&weekday=thu\n",
      "6화 나홀로 집에 https://comic.naver.com/webtoon/detail?titleId=748105&no=7&weekday=thu\n",
      "7화 집들이 선물 https://comic.naver.com/webtoon/detail?titleId=748105&no=8&weekday=thu\n",
      "8화 1인 가구 요리 꿀팁 https://comic.naver.com/webtoon/detail?titleId=748105&no=9&weekday=thu\n",
      "9화 벌레 퇴치 https://comic.naver.com/webtoon/detail?titleId=748105&no=10&weekday=thu\n",
      "10화 창문 필름 셀프 시공 https://comic.naver.com/webtoon/detail?titleId=748105&no=11&weekday=thu\n",
      "11화 밥공기 딜레마 https://comic.naver.com/webtoon/detail?titleId=748105&no=12&weekday=thu\n",
      "12화 수챗구멍 청소 https://comic.naver.com/webtoon/detail?titleId=748105&no=13&weekday=thu\n",
      "13화 집밥이 그리우면 https://comic.naver.com/webtoon/detail?titleId=748105&no=14&weekday=thu\n",
      "14화 그래도 우리 집이 최고 https://comic.naver.com/webtoon/detail?titleId=748105&no=15&weekday=thu\n",
      "15화 빨래 https://comic.naver.com/webtoon/detail?titleId=748105&no=16&weekday=thu\n",
      "16화 점잖개 https://comic.naver.com/webtoon/detail?titleId=748105&no=17&weekday=thu\n",
      "17화 브라이덜 샤워 https://comic.naver.com/webtoon/detail?titleId=748105&no=18&weekday=thu\n",
      "18화 엄마의 방문 https://comic.naver.com/webtoon/detail?titleId=748105&no=19&weekday=thu\n",
      "19화 손빨래 https://comic.naver.com/webtoon/detail?titleId=748105&no=20&weekday=thu\n",
      "20화 가구 채우기 https://comic.naver.com/webtoon/detail?titleId=748105&no=21&weekday=thu\n",
      "21화 음식물 쓰레기 https://comic.naver.com/webtoon/detail?titleId=748105&no=22&weekday=thu\n",
      "22화 고양이가 있는 집 https://comic.naver.com/webtoon/detail?titleId=748105&no=23&weekday=thu\n",
      "23화 엄마의 전화 https://comic.naver.com/webtoon/detail?titleId=748105&no=24&weekday=thu\n",
      "24화 쓰레기 줄이기 https://comic.naver.com/webtoon/detail?titleId=748105&no=25&weekday=thu\n",
      "25화 혼자 아픈 날 https://comic.naver.com/webtoon/detail?titleId=748105&no=26&weekday=thu\n",
      "26화 극강의 자유 https://comic.naver.com/webtoon/detail?titleId=748105&no=27&weekday=thu\n",
      "27화 인테리어를 부탁해 https://comic.naver.com/webtoon/detail?titleId=748105&no=28&weekday=thu\n",
      "28화 머리할 때 됐다 https://comic.naver.com/webtoon/detail?titleId=748105&no=29&weekday=thu\n",
      "29화 비둘기 https://comic.naver.com/webtoon/detail?titleId=748105&no=30&weekday=thu\n",
      "30화 노동이 필요해 https://comic.naver.com/webtoon/detail?titleId=748105&no=31&weekday=thu\n",
      "31화 경찰서에서 나왔습니다 https://comic.naver.com/webtoon/detail?titleId=748105&no=32&weekday=thu\n",
      "32화 고운 말 챌린지 https://comic.naver.com/webtoon/detail?titleId=748105&no=33&weekday=thu\n",
      "33화 시내버스 적응기 https://comic.naver.com/webtoon/detail?titleId=748105&no=34&weekday=thu\n",
      "34화 반찬 https://comic.naver.com/webtoon/detail?titleId=748105&no=35&weekday=thu\n",
      "35화 아빠의 생일 https://comic.naver.com/webtoon/detail?titleId=748105&no=36&weekday=thu\n",
      "36화 공간 활용 https://comic.naver.com/webtoon/detail?titleId=748105&no=37&weekday=thu\n",
      "37화 게스트하우스 https://comic.naver.com/webtoon/detail?titleId=748105&no=38&weekday=thu\n",
      "38화 퇴근시간 교대역 환승하기 https://comic.naver.com/webtoon/detail?titleId=748105&no=39&weekday=thu\n",
      "39화 아침을 건강하게 https://comic.naver.com/webtoon/detail?titleId=748105&no=40&weekday=thu\n",
      "40화 서울의 자연 https://comic.naver.com/webtoon/detail?titleId=748105&no=41&weekday=thu\n",
      "41화 물리치료 https://comic.naver.com/webtoon/detail?titleId=748105&no=42&weekday=thu\n",
      "42화 요리 https://comic.naver.com/webtoon/detail?titleId=748105&no=43&weekday=thu\n",
      "43화 치과 찾아 삼만리 https://comic.naver.com/webtoon/detail?titleId=748105&no=44&weekday=thu\n",
      "44화 난방이 낯설다 https://comic.naver.com/webtoon/detail?titleId=748105&no=45&weekday=thu\n",
      "45화 과일 https://comic.naver.com/webtoon/detail?titleId=748105&no=46&weekday=thu\n",
      "46화 벽간 소음 https://comic.naver.com/webtoon/detail?titleId=748105&no=47&weekday=thu\n",
      "47화 응급실 실려가서 수술받은 썰 푼다 (1) https://comic.naver.com/webtoon/detail?titleId=748105&no=48&weekday=thu\n",
      "48화 응급실 실려가서 수술받은 썰 푼다 (2) https://comic.naver.com/webtoon/detail?titleId=748105&no=49&weekday=thu\n",
      "49화 응급실 실려가서 수술받은 썰 푼다 (3) https://comic.naver.com/webtoon/detail?titleId=748105&no=50&weekday=thu\n",
      "50화 응급실 실려가서 수술받은 썰 푼다 (끝) https://comic.naver.com/webtoon/detail?titleId=748105&no=51&weekday=thu\n",
      "51화 휴재는 이렇게 https://comic.naver.com/webtoon/detail?titleId=748105&no=52&weekday=thu\n",
      "52화 한강 산책 https://comic.naver.com/webtoon/detail?titleId=748105&no=53&weekday=thu\n",
      "53화 코로나19 익명검사 해봄 https://comic.naver.com/webtoon/detail?titleId=748105&no=54&weekday=thu\n",
      "54화 변기 막혔다 https://comic.naver.com/webtoon/detail?titleId=748105&no=55&weekday=thu\n",
      "55화 연말의 원룸 https://comic.naver.com/webtoon/detail?titleId=748105&no=56&weekday=thu\n",
      "56화 온라인 신년회 https://comic.naver.com/webtoon/detail?titleId=748105&no=57&weekday=thu\n",
      "57화 반려 식물 https://comic.naver.com/webtoon/detail?titleId=748105&no=58&weekday=thu\n",
      "58화 건강한 식단 https://comic.naver.com/webtoon/detail?titleId=748105&no=59&weekday=thu\n",
      "59화 겨울밤 https://comic.naver.com/webtoon/detail?titleId=748105&no=60&weekday=thu\n",
      "60화 중고거래 https://comic.naver.com/webtoon/detail?titleId=748105&no=61&weekday=thu\n",
      "61화 동네 친구 https://comic.naver.com/webtoon/detail?titleId=748105&no=62&weekday=thu\n",
      "62화 눈 온다 https://comic.naver.com/webtoon/detail?titleId=748105&no=63&weekday=thu\n",
      "63화 엄마의 생일 https://comic.naver.com/webtoon/detail?titleId=748105&no=64&weekday=thu\n",
      "64화 혼자라서 난감한 https://comic.naver.com/webtoon/detail?titleId=748105&no=65&weekday=thu\n",
      "65화 어르신개 https://comic.naver.com/webtoon/detail?titleId=748105&no=66&weekday=thu\n",
      "66화 새벽의 원룸 https://comic.naver.com/webtoon/detail?titleId=748105&no=67&weekday=thu\n",
      "67화 보석 십자수 https://comic.naver.com/webtoon/detail?titleId=748105&no=68&weekday=thu\n",
      "68화 조금 싸갈래? https://comic.naver.com/webtoon/detail?titleId=748105&no=69&weekday=thu\n",
      "69화 1호선 빌런 https://comic.naver.com/webtoon/detail?titleId=748105&no=70&weekday=thu\n",
      "70화 외출 체크리스트 https://comic.naver.com/webtoon/detail?titleId=748105&no=71&weekday=thu\n",
      "71화 햄버거 배달 https://comic.naver.com/webtoon/detail?titleId=748105&no=72&weekday=thu\n",
      "72화 집안일의 굴레 https://comic.naver.com/webtoon/detail?titleId=748105&no=73&weekday=thu\n",
      "73화 경기버스 https://comic.naver.com/webtoon/detail?titleId=748105&no=74&weekday=thu\n",
      "74화 이건 되는 꿈이다 https://comic.naver.com/webtoon/detail?titleId=748105&no=75&weekday=thu\n",
      "75화 곤란한 행인들 https://comic.naver.com/webtoon/detail?titleId=748105&no=76&weekday=thu\n",
      "76화 체력이 줄었다 https://comic.naver.com/webtoon/detail?titleId=748105&no=77&weekday=thu\n",
      "77화 장보기 https://comic.naver.com/webtoon/detail?titleId=748105&no=78&weekday=thu\n",
      "78화 호르몬 죽어 https://comic.naver.com/webtoon/detail?titleId=748105&no=79&weekday=thu\n",
      "79화 가족의 거리 https://comic.naver.com/webtoon/detail?titleId=748105&no=80&weekday=thu\n",
      "80화 자취템 추천 https://comic.naver.com/webtoon/detail?titleId=748105&no=81&weekday=thu\n",
      "81화 방광염 죽어 (1) https://comic.naver.com/webtoon/detail?titleId=748105&no=82&weekday=thu\n",
      "82화 방광염 죽어 (2) https://comic.naver.com/webtoon/detail?titleId=748105&no=83&weekday=thu\n",
      "83화 벚꽃이 왜 벌써 https://comic.naver.com/webtoon/detail?titleId=748105&no=84&weekday=thu\n",
      "84화 만우절 쿠키 만들기 https://comic.naver.com/webtoon/detail?titleId=748105&no=85&weekday=thu\n",
      "85화 실내 취미 https://comic.naver.com/webtoon/detail?titleId=748105&no=86&weekday=thu\n",
      "86화 건강을 위하여 https://comic.naver.com/webtoon/detail?titleId=748105&no=87&weekday=thu\n",
      "87화 배달음식 https://comic.naver.com/webtoon/detail?titleId=748105&no=88&weekday=thu\n",
      "88화 장롱면허 부활 https://comic.naver.com/webtoon/detail?titleId=748105&no=89&weekday=thu\n",
      "89화 우울한 날 https://comic.naver.com/webtoon/detail?titleId=748105&no=90&weekday=thu\n",
      "90화 왜 점점 귀여운데 https://comic.naver.com/webtoon/detail?titleId=748105&no=91&weekday=thu\n",
      "91화 밥도둑 만들기 https://comic.naver.com/webtoon/detail?titleId=748105&no=92&weekday=thu\n",
      "92화 왜 없어 https://comic.naver.com/webtoon/detail?titleId=748105&no=93&weekday=thu\n",
      "93화 어버이날 https://comic.naver.com/webtoon/detail?titleId=748105&no=94&weekday=thu\n",
      "94화 친구의 결혼 https://comic.naver.com/webtoon/detail?titleId=748105&no=95&weekday=thu\n",
      "95화 항문외과 다녀왔습니다 https://comic.naver.com/webtoon/detail?titleId=748105&no=96&weekday=thu\n",
      "96화 생일 https://comic.naver.com/webtoon/detail?titleId=748105&no=97&weekday=thu\n",
      "97화 하루가 길다 https://comic.naver.com/webtoon/detail?titleId=748105&no=98&weekday=thu\n",
      "98화 체험 육아 현장 https://comic.naver.com/webtoon/detail?titleId=748105&no=99&weekday=thu\n",
      "99화 영양제 https://comic.naver.com/webtoon/detail?titleId=748105&no=100&weekday=thu\n",
      "100화 독립을 돌아보며 https://comic.naver.com/webtoon/detail?titleId=748105&no=101&weekday=thu\n",
      "QnA https://comic.naver.com/webtoon/detail?titleId=748105&no=102&weekday=thu\n",
      "시즌2 예고편 https://comic.naver.com/webtoon/detail?titleId=748105&no=103&weekday=thu\n",
      "시즌2 1화 부모님의 백신 접종 https://comic.naver.com/webtoon/detail?titleId=748105&no=104&weekday=thu\n",
      "시즌2 2화 PT (1) https://comic.naver.com/webtoon/detail?titleId=748105&no=105&weekday=thu\n",
      "시즌2 3화 PT (2) https://comic.naver.com/webtoon/detail?titleId=748105&no=106&weekday=thu\n",
      "시즌2 4화 감자캐기 https://comic.naver.com/webtoon/detail?titleId=748105&no=107&weekday=thu\n",
      "시즌2 5화 한강 자전거 https://comic.naver.com/webtoon/detail?titleId=748105&no=108&weekday=thu\n",
      "시즌2 6화 수목원 https://comic.naver.com/webtoon/detail?titleId=748105&no=109&weekday=thu\n",
      "시즌2 7화 물물교환 https://comic.naver.com/webtoon/detail?titleId=748105&no=110&weekday=thu\n",
      "시즌2 8화 반려견 운동장 https://comic.naver.com/webtoon/detail?titleId=748105&no=111&weekday=thu\n",
      "시즌2 9화 복근 만들기 https://comic.naver.com/webtoon/detail?titleId=748105&no=112&weekday=thu\n",
      "시즌2 10화 얼떨결에 잔여백신 https://comic.naver.com/webtoon/detail?titleId=748105&no=113&weekday=thu\n",
      "시즌2 11화 잔여백신 접종 이후 https://comic.naver.com/webtoon/detail?titleId=748105&no=114&weekday=thu\n",
      "시즌2 12화 건강검진 https://comic.naver.com/webtoon/detail?titleId=748105&no=115&weekday=thu\n",
      "시즌2 13화 송편 빚기 https://comic.naver.com/webtoon/detail?titleId=748105&no=116&weekday=thu\n",
      "시즌2 14화 2차 접종 후기 https://comic.naver.com/webtoon/detail?titleId=748105&no=117&weekday=thu\n",
      "시즌2 15화 가을이었다 https://comic.naver.com/webtoon/detail?titleId=748105&no=118&weekday=thu\n",
      "시즌2 16화  송이버섯에 얽힌 옛날이야기 https://comic.naver.com/webtoon/detail?titleId=748105&no=119&weekday=thu\n",
      "시즌2 17화 사주 https://comic.naver.com/webtoon/detail?titleId=748105&no=120&weekday=thu\n",
      "시즌2 18화 입맛의 변화 https://comic.naver.com/webtoon/detail?titleId=748105&no=121&weekday=thu\n",
      "시즌2 19화 재물손괴 https://comic.naver.com/webtoon/detail?titleId=748105&no=122&weekday=thu\n",
      "시즌2 20화 금주 https://comic.naver.com/webtoon/detail?titleId=748105&no=123&weekday=thu\n",
      "시즌2 21화 엄마와 호캉스 https://comic.naver.com/webtoon/detail?titleId=748105&no=124&weekday=thu\n",
      "시즌2 22화 최악의 식습관 https://comic.naver.com/webtoon/detail?titleId=748105&no=125&weekday=thu\n",
      "시즌2 23화 산책 https://comic.naver.com/webtoon/detail?titleId=748105&no=126&weekday=thu\n",
      "시즌2 24화 불 켜놓고 잠든 밤 https://comic.naver.com/webtoon/detail?titleId=748105&no=127&weekday=thu\n",
      "시즌2 25화 마음 비우기 https://comic.naver.com/webtoon/detail?titleId=748105&no=128&weekday=thu\n",
      "시즌2 26화 첫 고속도로 운전 (1) https://comic.naver.com/webtoon/detail?titleId=748105&no=129&weekday=thu\n",
      "시즌2 27화 첫 고속도로 운전 (2) https://comic.naver.com/webtoon/detail?titleId=748105&no=130&weekday=thu\n",
      "시즌2 28화 김장 https://comic.naver.com/webtoon/detail?titleId=748105&no=131&weekday=thu\n",
      "시즌2 29화 그런 친구 https://comic.naver.com/webtoon/detail?titleId=748105&no=132&weekday=thu\n",
      "시즌2 30화 게임 좋아 https://comic.naver.com/webtoon/detail?titleId=748105&no=133&weekday=thu\n",
      "시즌2 31화 에어컨 청소 https://comic.naver.com/webtoon/detail?titleId=748105&no=134&weekday=thu\n",
      "시즌2 32화 우정 사진 재도전 https://comic.naver.com/webtoon/detail?titleId=748105&no=135&weekday=thu\n",
      "시즌2 33화 바다에서 노는 법 (1) https://comic.naver.com/webtoon/detail?titleId=748105&no=136&weekday=thu\n",
      "시즌2 34화 바다에서 노는 법 (2) https://comic.naver.com/webtoon/detail?titleId=748105&no=137&weekday=thu\n",
      "시즌2 35화 내스타일 https://comic.naver.com/webtoon/detail?titleId=748105&no=138&weekday=thu\n",
      "시즌2 36화 나의 20대 (1) https://comic.naver.com/webtoon/detail?titleId=748105&no=139&weekday=thu\n",
      "시즌2 37화 나의 20대 (2) https://comic.naver.com/webtoon/detail?titleId=748105&no=140&weekday=thu\n",
      "시즌2 38화 만두 만들기 https://comic.naver.com/webtoon/detail?titleId=748105&no=141&weekday=thu\n",
      "시즌2 39화 세상의 모든 알람 https://comic.naver.com/webtoon/detail?titleId=748105&no=142&weekday=thu\n",
      "시즌2 40화 깐부 https://comic.naver.com/webtoon/detail?titleId=748105&no=143&weekday=thu\n",
      "시즌2 41화 우리 집 산타 https://comic.naver.com/webtoon/detail?titleId=748105&no=144&weekday=thu\n",
      "시즌2 42화 시간제 캠핑 https://comic.naver.com/webtoon/detail?titleId=748105&no=145&weekday=thu\n",
      "시즌2 43화 부모님 가르쳐드리기 https://comic.naver.com/webtoon/detail?titleId=748105&no=146&weekday=thu\n",
      "시즌2 44화 신년 맞이 스케일링 https://comic.naver.com/webtoon/detail?titleId=748105&no=147&weekday=thu\n",
      "시즌2 45화 엄마 생일 미역국 끓이기 https://comic.naver.com/webtoon/detail?titleId=748105&no=148&weekday=thu\n",
      "시즌2 46화 코로나 시대에 적응하는 법 https://comic.naver.com/webtoon/detail?titleId=748105&no=149&weekday=thu\n",
      "시즌2 47화 결막염 https://comic.naver.com/webtoon/detail?titleId=748105&no=150&weekday=thu\n",
      "시즌2 48화 제발 드셔주세요 https://comic.naver.com/webtoon/detail?titleId=748105&no=151&weekday=thu\n",
      "시즌2 49화 설 연휴는 이렇게 (1) https://comic.naver.com/webtoon/detail?titleId=748105&no=152&weekday=thu\n",
      "시즌2 50화 설 연휴는 이렇게 (2) https://comic.naver.com/webtoon/detail?titleId=748105&no=153&weekday=thu\n",
      "시즌2 51화 설 연휴는 이렇게 (3) https://comic.naver.com/webtoon/detail?titleId=748105&no=154&weekday=thu\n",
      "시즌2 52화 4시에 자는 이유 https://comic.naver.com/webtoon/detail?titleId=748105&no=155&weekday=thu\n",
      "시즌2 53화 된장 만들기 https://comic.naver.com/webtoon/detail?titleId=748105&no=156&weekday=thu\n",
      "시즌2 54화 인간 사료 https://comic.naver.com/webtoon/detail?titleId=748105&no=157&weekday=thu\n",
      "시즌2 55화 헤어 클리닉 https://comic.naver.com/webtoon/detail?titleId=748105&no=158&weekday=thu\n",
      "시즌2 56화 야식 참기 https://comic.naver.com/webtoon/detail?titleId=748105&no=159&weekday=thu\n",
      "시즌2 57화 투표 https://comic.naver.com/webtoon/detail?titleId=748105&no=160&weekday=thu\n",
      "시즌2 58화 식물을 키운다는 것 https://comic.naver.com/webtoon/detail?titleId=748105&no=161&weekday=thu\n",
      "시즌2 59화 릴레이 꿈 https://comic.naver.com/webtoon/detail?titleId=748105&no=162&weekday=thu\n",
      "시즌2 60화 선인장 https://comic.naver.com/webtoon/detail?titleId=748105&no=163&weekday=thu\n",
      "시즌2 61화 기름 https://comic.naver.com/webtoon/detail?titleId=748105&no=164&weekday=thu\n",
      "시즌2 62화 스티커 빵 https://comic.naver.com/webtoon/detail?titleId=748105&no=165&weekday=thu\n",
      "시즌2 63화 아빠의 정년퇴직 (1) https://comic.naver.com/webtoon/detail?titleId=748105&no=166&weekday=thu\n",
      "시즌2 64화 아빠의 정년퇴직 (2) https://comic.naver.com/webtoon/detail?titleId=748105&no=167&weekday=thu\n",
      "시즌2 65화 타코야끼 트럭을 찾아서 https://comic.naver.com/webtoon/detail?titleId=748105&no=168&weekday=thu\n",
      "시즌2 66화 엄마랑 바다여행 (1) https://comic.naver.com/webtoon/detail?titleId=748105&no=169&weekday=thu\n",
      "시즌2 67화 엄마랑 바다여행 (2) https://comic.naver.com/webtoon/detail?titleId=748105&no=170&weekday=thu\n",
      "시즌2 68화 엄마랑 바다여행 (3) https://comic.naver.com/webtoon/detail?titleId=748105&no=171&weekday=thu\n",
      "시즌2 69화 연등회 https://comic.naver.com/webtoon/detail?titleId=748105&no=172&weekday=thu\n",
      "시즌2 70화 여유로운 주말 아침 https://comic.naver.com/webtoon/detail?titleId=748105&no=173&weekday=thu\n",
      "시즌2 71화 토끼네 방문 https://comic.naver.com/webtoon/detail?titleId=748105&no=174&weekday=thu\n",
      "시즌2 72화 아이스크림의 계절 https://comic.naver.com/webtoon/detail?titleId=748105&no=175&weekday=thu\n",
      "시즌2 73화 아빠 퇴직 이후 https://comic.naver.com/webtoon/detail?titleId=748105&no=176&weekday=thu\n",
      "시즌2 74화 무선 이어폰 적응기 https://comic.naver.com/webtoon/detail?titleId=748105&no=177&weekday=thu\n",
      "시즌2 75화 제주여행 1일차 https://comic.naver.com/webtoon/detail?titleId=748105&no=178&weekday=thu\n",
      "시즌2 76화 제주여행 2일차 https://comic.naver.com/webtoon/detail?titleId=748105&no=179&weekday=thu\n",
      "시즌2 77화 제주여행 3일차 https://comic.naver.com/webtoon/detail?titleId=748105&no=180&weekday=thu\n",
      "시즌2 78화 제주여행 4일차 https://comic.naver.com/webtoon/detail?titleId=748105&no=181&weekday=thu\n",
      "시즌2 79화 제주여행 5일차 https://comic.naver.com/webtoon/detail?titleId=748105&no=182&weekday=thu\n",
      "시즌2 80화 제주여행 6일차 https://comic.naver.com/webtoon/detail?titleId=748105&no=183&weekday=thu\n",
      "시즌2 81화 잠자는 집 속의 강아지 https://comic.naver.com/webtoon/detail?titleId=748105&no=184&weekday=thu\n",
      "시즌2 82화 추억 팔이 https://comic.naver.com/webtoon/detail?titleId=748105&no=185&weekday=thu\n",
      "시즌2 83화 이사 준비 https://comic.naver.com/webtoon/detail?titleId=748105&no=186&weekday=thu\n",
      "시즌2 84화 어서 와 우리 집은 처음이지 https://comic.naver.com/webtoon/detail?titleId=748105&no=187&weekday=thu\n",
      "시즌2 85화 빨래에서 뭔가 나왔다 https://comic.naver.com/webtoon/detail?titleId=748105&no=188&weekday=thu\n",
      "시즌2 86화 미친 습도와 미친 호르몬 https://comic.naver.com/webtoon/detail?titleId=748105&no=189&weekday=thu\n"
     ]
    }
   ],
   "source": [
    "# 목요 웹툰 '독립일기'의 모든 회차 목록 출력하기\n",
    "import requests\n",
    "from bs4 import BeautifulSoup\n",
    "\n",
    "for i in range(19, 0, -1):\n",
    "    url = 'https://comic.naver.com/webtoon/list?titleId=748105&weekday=thu&page='     \n",
    "    res = requests.get(url + str(i))\n",
    "    res.raise_for_status()\n",
    "\n",
    "    soup = BeautifulSoup(res.text, 'lxml')\n",
    "\n",
    "    rows = soup.find_all('td', attrs={'class':'title'})    \n",
    "\n",
    "    lst = []\n",
    "    for row in rows:\n",
    "        title = row.find('a').get_text()\n",
    "        link = 'https://comic.naver.com' + row.find('a')['href']\n",
    "        # print(title, link)\n",
    "        lst.append([title, link])\n",
    "    lst.reverse()\n",
    "    for i in lst:\n",
    "        print(i[0], i[1])"
   ]
  },
  {
   "cell_type": "code",
   "execution_count": 76,
   "metadata": {},
   "outputs": [],
   "source": [
    "# 목요 웹툰 '독립일기'의 모든 회차 정보 csv 파일로 저장하기\n",
    "import requests\n",
    "from bs4 import BeautifulSoup\n",
    "import csv\n",
    "\n",
    "# 결과 csv 파일 생성\n",
    "file_name = 'webtoon.csv'\n",
    "f = open(file_name, 'w', encoding='utf-8-sig', newline='')\n",
    "writer = csv.writer(f)\n",
    "\n",
    "for i in range(19, 0, -1):\n",
    "    url = 'https://comic.naver.com/webtoon/list?titleId=748105&weekday=thu&page='     \n",
    "    res = requests.get(url + str(i))\n",
    "    res.raise_for_status()\n",
    "\n",
    "    soup = BeautifulSoup(res.text, 'lxml')\n",
    "\n",
    "    rows = soup.find_all('td', attrs={'class':'title'})    \n",
    "\n",
    "    lst = []\n",
    "    for row in rows:\n",
    "        title = row.find('a').get_text()\n",
    "        link = 'https://comic.naver.com' + row.find('a')['href']\n",
    "        # print(title, link)\n",
    "        lst.append([title, link])\n",
    "    lst.reverse()\n",
    "    \n",
    "    for i in lst:\n",
    "        writer.writerow([i[0], i[1]])\n",
    "        # writer.writerow([title, link])\n",
    "\n",
    "f.close()"
   ]
  }
 ],
 "metadata": {
  "kernelspec": {
   "display_name": "Python 3.10.2 64-bit",
   "language": "python",
   "name": "python3"
  },
  "language_info": {
   "codemirror_mode": {
    "name": "ipython",
    "version": 3
   },
   "file_extension": ".py",
   "mimetype": "text/x-python",
   "name": "python",
   "nbconvert_exporter": "python",
   "pygments_lexer": "ipython3",
   "version": "3.10.2"
  },
  "orig_nbformat": 4,
  "vscode": {
   "interpreter": {
    "hash": "b95ceaaf507324f6eb38cf945572491426bdd43777f41a708ca87b1b76dbdbc8"
   }
  }
 },
 "nbformat": 4,
 "nbformat_minor": 2
}
