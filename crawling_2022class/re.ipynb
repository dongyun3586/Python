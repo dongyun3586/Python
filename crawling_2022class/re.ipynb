{
 "cells": [
  {
   "cell_type": "code",
   "execution_count": 1,
   "metadata": {},
   "outputs": [],
   "source": [
    "import re"
   ]
  },
  {
   "cell_type": "code",
   "execution_count": null,
   "metadata": {},
   "outputs": [],
   "source": [
    "# 정규식 패턴\n",
    "# . (ca.e) : 하나의 문자 의미 > care, cafe, case (O) | caffe (x)\n",
    "# ^ (^de) : 문자열의 시작 의미 > dest, destination (O) | fade (x)\n",
    "# $ (se$) : 문자열의 끝 의미 > case, base (O) | face (x)"
   ]
  },
  {
   "cell_type": "code",
   "execution_count": null,
   "metadata": {},
   "outputs": [],
   "source": [
    "# 1. p = re.compile(\"정규식 패턴\")\n",
    "# 2. m = p.match(\"비교할 문자열\") : 문자열의 처음부터 일치하는지 확인\n",
    "# 3. m = p.search(\"비교할 문자열\") : 문자열 중에 일치하는게 있는지 확인\n",
    "# 4. lst = p.findall(\"비교할 문자열\") : 문자열에서 패턴과 일치하는 모든 문자열을 리스트 형태로 반환"
   ]
  },
  {
   "cell_type": "code",
   "execution_count": 20,
   "metadata": {},
   "outputs": [],
   "source": [
    "# re.compile(\"패턴\") : 정규식 패턴 만들기\n",
    "p = re.compile(\"ca.e\")  # 정규식 패턴 만들기\n",
    "\n",
    "def print_match(m):\n",
    "  if m:\n",
    "    print(\"m.group(): \", m.group())   # 일치하는 문자열 반환\n",
    "    print(\"m.string: \", m.string)     # 입력받은 문자열 반환\n",
    "    print(\"m.start(): \", m.start())   # 일치하는 문자열의 시작 index\n",
    "    print(\"m.end(): \", m.end())       # 일치하는 문자열의 끝 index\n",
    "    print(\"m.span(): \", m.span())     # 일치하는 문자열의 시작/끝 index\n",
    "  else:\n",
    "    print(\"매칭되지 않음\")"
   ]
  },
  {
   "cell_type": "code",
   "execution_count": 21,
   "metadata": {},
   "outputs": [
    {
     "name": "stdout",
     "output_type": "stream",
     "text": [
      "m.group():  case\n",
      "m.string:  case\n",
      "m.start():  0\n",
      "m.end():  4\n",
      "m.span():  (0, 4)\n",
      "매칭되지 않음\n"
     ]
    }
   ],
   "source": [
    "# 정규식패턴.match(\"문자열\") : 정규식 패턴을 이용하여 주어진 문자열에서 처음부터 일치하는지 확인\n",
    "m = p.match(\"case\")  # 주어진 문자열에서 처음부터 일치하는지 확인\n",
    "print_match(m)\n",
    "\n",
    "m = p.match(\"caffe\")\n",
    "print_match(m)"
   ]
  },
  {
   "cell_type": "code",
   "execution_count": 22,
   "metadata": {},
   "outputs": [
    {
     "name": "stdout",
     "output_type": "stream",
     "text": [
      "m.group():  care\n",
      "m.string:  good care\n",
      "m.start():  5\n",
      "m.end():  9\n",
      "m.span():  (5, 9)\n",
      "m.group():  care\n",
      "m.string:  careless\n",
      "m.start():  0\n",
      "m.end():  4\n",
      "m.span():  (0, 4)\n"
     ]
    }
   ],
   "source": [
    "# 정규식패턴.search(\"문자열\") : 주어진 문자열 중에 일치하는게 있는지 확인\n",
    "m = p.search(\"good care\")\n",
    "print_match(m)\n",
    "\n",
    "m = p.search(\"careless\")\n",
    "print_match(m)"
   ]
  },
  {
   "cell_type": "code",
   "execution_count": 25,
   "metadata": {},
   "outputs": [
    {
     "name": "stdout",
     "output_type": "stream",
     "text": [
      "['care', 'cafe']\n"
     ]
    }
   ],
   "source": [
    "# 패턴.findall(\"문자열\") : 일치하는 모든 것을 리스트 형태로 반환\n",
    "lst = p.findall(\"good care cafe\")\n",
    "print(lst)"
   ]
  },
  {
   "cell_type": "code",
   "execution_count": null,
   "metadata": {},
   "outputs": [],
   "source": []
  }
 ],
 "metadata": {
  "kernelspec": {
   "display_name": "Python 3.10.2 64-bit",
   "language": "python",
   "name": "python3"
  },
  "language_info": {
   "codemirror_mode": {
    "name": "ipython",
    "version": 3
   },
   "file_extension": ".py",
   "mimetype": "text/x-python",
   "name": "python",
   "nbconvert_exporter": "python",
   "pygments_lexer": "ipython3",
   "version": "3.10.2"
  },
  "orig_nbformat": 4,
  "vscode": {
   "interpreter": {
    "hash": "b95ceaaf507324f6eb38cf945572491426bdd43777f41a708ca87b1b76dbdbc8"
   }
  }
 },
 "nbformat": 4,
 "nbformat_minor": 2
}
