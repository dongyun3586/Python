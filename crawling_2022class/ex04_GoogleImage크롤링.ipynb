{
 "cells": [
  {
   "cell_type": "code",
   "execution_count": 19,
   "metadata": {},
   "outputs": [
    {
     "name": "stdout",
     "output_type": "stream",
     "text": [
      "끝났다 656\n"
     ]
    },
    {
     "data": {
      "text/plain": [
       "[['1996.07.09', '71,700', '800', '70,900', '71,700', '70,100', '64,910'],\n",
       " ['1996.07.08', '70,900', '600', '71,600', '71,600', '70,800', '62,100'],\n",
       " ['1996.07.06', '71,500', '200', '71,300', '72,700', '71,300', '35,510'],\n",
       " ['1996.07.05', '71,300', '600', '72,000', '72,300', '71,000', '77,960'],\n",
       " ['1996.07.04', '71,900', '600', '72,800', '73,000', '71,500', '80,830'],\n",
       " ['1996.07.03', '72,500', '400', '72,900', '73,200', '71,700', '100,330'],\n",
       " ['1996.07.02', '72,900', '900', '72,000', '74,100', '72,000', '276,270'],\n",
       " ['1996.07.01', '72,000', '3,500', '69,000', '72,300', '68,800', '147,310'],\n",
       " ['1996.06.29', '68,500', '400', '68,100', '69,100', '67,100', '96,710'],\n",
       " ['1996.06.28', '68,100', '1,200', '67,300', '68,500', '67,200', '138,430'],\n",
       " ['1996.06.27', '66,900', '800', '67,500', '67,700', '66,700', '155,450'],\n",
       " ['1996.06.26', '67,700', '200', '67,600', '67,900', '66,000', '136,630'],\n",
       " ['1996.06.25', '67,500', '0', '66,500', '68,300', '65,600', '112,960'],\n",
       " ['', '', '', '', '', '', ''],\n",
       " ['', '', '', '', '', '', ''],\n",
       " ['', '', '', '', '', '', ''],\n",
       " ['', '', '', '', '', '', ''],\n",
       " ['', '', '', '', '', '', ''],\n",
       " ['', '', '', '', '', '', ''],\n",
       " ['', '', '', '', '', '', '']]"
      ]
     },
     "execution_count": 19,
     "metadata": {},
     "output_type": "execute_result"
    }
   ],
   "source": [
    "# 1. 크롤링 라이브러리 임포트\n",
    "import requests                 # 웹 페이지 가져오는 라이브러리\n",
    "from bs4 import BeautifulSoup   # 웹 페이지 분석 라이브러리 \n",
    "\n",
    "my_headers = {\n",
    "    \"referer\": \"https://finance.naver.com/item/sise_day.nhn?code=005930&page=3\",\n",
    "    \"upgrade-insecure-requests\": \"1\",\n",
    "    \"user-agent\": \"Mozilla/5.0 (Windows NT 10.0; Win64; x64) AppleWebKit/537.36 (KHTML, like Gecko) Chrome/97.0.4692.71 Safari/537.36\",\n",
    "}\n",
    "\n",
    "res = requests.get(\n",
    "    url=\"https://finance.naver.com/item/sise_day.nhn?code=005930&page=4\",\n",
    "    headers=my_headers\n",
    ")\n",
    "\n",
    "soup = BeautifulSoup(res.text)\n",
    "tr_elements = soup.find(\"table\", class_=\"type2\").find_all(\"tr\", {\"onmouseover\": 'mouseOver(this)'})\n",
    "len(tr_elements)\n",
    "# soup\n",
    "\n",
    "import time\n",
    "\n",
    "total_data_list = []\n",
    "page_number = 655\n",
    "prev_date_time_set = set()\n",
    "\n",
    "while True:\n",
    "    url = \"https://finance.naver.com/item/sise_day.naver?code=005930&page={}\".format(page_number)\n",
    "    res = requests.get(url=url, headers=my_headers)\n",
    "    \n",
    "    soup = BeautifulSoup(res.text)\n",
    "    tr_elements = soup.select(\"table.type2 > tr[onmouseover='mouseOver(this)']\")\n",
    "    \n",
    "    current_date_time_set = set() \n",
    "    temp_total_data_list = []\n",
    "    for e in tr_elements:\n",
    "        td_elements = e.select(\"td\")\n",
    "        data_list = []\n",
    "        for i, td_e in enumerate(td_elements):\n",
    "            if i == 0:\n",
    "                # 날짜데이터를 넣는다\n",
    "                current_date_time_set.add(td_e.text.strip())\n",
    "            data_list.append(td_e.text.strip()) \n",
    "        temp_total_data_list.append(data_list)\n",
    "    \n",
    "    if prev_date_time_set == current_date_time_set:\n",
    "        print(\"끝났다\", page_number-1) \n",
    "        break\n",
    "    else:\n",
    "        for data in temp_total_data_list:\n",
    "            total_data_list.append(data)\n",
    "        prev_date_time_set = current_date_time_set\n",
    "\n",
    "    time.sleep(1)\n",
    "    page_number += 1\n",
    "\n",
    "total_data_list"
   ]
  },
  {
   "cell_type": "code",
   "execution_count": null,
   "metadata": {},
   "outputs": [],
   "source": []
  }
 ],
 "metadata": {
  "kernelspec": {
   "display_name": "Python 3.10.2 64-bit",
   "language": "python",
   "name": "python3"
  },
  "language_info": {
   "codemirror_mode": {
    "name": "ipython",
    "version": 3
   },
   "file_extension": ".py",
   "mimetype": "text/x-python",
   "name": "python",
   "nbconvert_exporter": "python",
   "pygments_lexer": "ipython3",
   "version": "3.10.2"
  },
  "orig_nbformat": 4,
  "vscode": {
   "interpreter": {
    "hash": "b95ceaaf507324f6eb38cf945572491426bdd43777f41a708ca87b1b76dbdbc8"
   }
  }
 },
 "nbformat": 4,
 "nbformat_minor": 2
}
