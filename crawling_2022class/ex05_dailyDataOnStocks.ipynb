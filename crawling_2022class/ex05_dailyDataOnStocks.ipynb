{
 "cells": [
  {
   "cell_type": "code",
   "execution_count": null,
   "metadata": {},
   "outputs": [],
   "source": [
    "# 1. 크롤링 라이브러리 임포트\n",
    "import requests                 # 웹 페이지 가져오는 라이브러리\n",
    "from bs4 import BeautifulSoup   # 웹 페이지 분석 라이브러리 \n",
    "\n",
    "my_headers = {\n",
    "    \"referer\": \"https://finance.naver.com/item/sise_day.nhn?code=005930&page=3\",\n",
    "    \"upgrade-insecure-requests\": \"1\",\n",
    "    \"user-agent\": \"Mozilla/5.0 (Windows NT 10.0; Win64; x64) AppleWebKit/537.36 (KHTML, like Gecko) Chrome/97.0.4692.71 Safari/537.36\",\n",
    "}\n",
    "\n",
    "res = requests.get(\n",
    "    url=\"https://finance.naver.com/item/sise_day.nhn?code=005930&page=4\",\n",
    "    headers=my_headers\n",
    ")\n",
    "\n",
    "soup = BeautifulSoup(res.text)\n",
    "tr_elements = soup.find(\"table\", class_=\"type2\").find_all(\"tr\", {\"onmouseover\": 'mouseOver(this)'})\n",
    "len(tr_elements)\n",
    "# soup\n",
    "\n",
    "import time\n",
    "\n",
    "total_data_list = []\n",
    "page_number = 655\n",
    "prev_date_time_set = set()\n",
    "\n",
    "while True:\n",
    "    url = \"https://finance.naver.com/item/sise_day.naver?code=005930&page={}\".format(page_number)\n",
    "    res = requests.get(url=url, headers=my_headers)\n",
    "    \n",
    "    soup = BeautifulSoup(res.text)\n",
    "    tr_elements = soup.select(\"table.type2 > tr[onmouseover='mouseOver(this)']\")\n",
    "    \n",
    "    current_date_time_set = set() \n",
    "    temp_total_data_list = []\n",
    "    for e in tr_elements:\n",
    "        td_elements = e.select(\"td\")\n",
    "        data_list = []\n",
    "        for i, td_e in enumerate(td_elements):\n",
    "            if i == 0:\n",
    "                # 날짜데이터를 넣는다\n",
    "                current_date_time_set.add(td_e.text.strip())\n",
    "            data_list.append(td_e.text.strip()) \n",
    "        temp_total_data_list.append(data_list)\n",
    "    \n",
    "    if prev_date_time_set == current_date_time_set:\n",
    "        print(\"끝났다\", page_number-1) \n",
    "        break\n",
    "    else:\n",
    "        for data in temp_total_data_list:\n",
    "            total_data_list.append(data)\n",
    "        prev_date_time_set = current_date_time_set\n",
    "\n",
    "    time.sleep(1)\n",
    "    page_number += 1\n",
    "\n",
    "total_data_list"
   ]
  }
 ],
 "metadata": {
  "kernelspec": {
   "display_name": "Python 3.10.2 64-bit",
   "language": "python",
   "name": "python3"
  },
  "language_info": {
   "name": "python",
   "version": "3.10.2"
  },
  "orig_nbformat": 4,
  "vscode": {
   "interpreter": {
    "hash": "b95ceaaf507324f6eb38cf945572491426bdd43777f41a708ca87b1b76dbdbc8"
   }
  }
 },
 "nbformat": 4,
 "nbformat_minor": 2
}
