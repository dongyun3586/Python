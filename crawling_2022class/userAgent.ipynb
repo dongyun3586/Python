{
 "cells": [
  {
   "cell_type": "markdown",
   "metadata": {},
   "source": [
    "서버는 User-Agent에 따라서 제대로된 정보를 주지 않을 수 있다.\n",
    "따라서 requests.get()으로 웹페이지를 가져올 때 정상적인 브라우저인 것처럼 User-Agent를 지정해줄 필요가 있을 수 있다."
   ]
  },
  {
   "cell_type": "code",
   "execution_count": 1,
   "metadata": {},
   "outputs": [],
   "source": [
    "import requests\n",
    "url = \"http://nadocoding.tistory.com\"\n",
    "headers = {\"User-Agent\":\"Mozilla/5.0 (Windows NT 10.0; Win64; x64) AppleWebKit/537.36 (KHTML, like Gecko) Chrome/103.0.0.0 Safari/537.36\"}\n",
    "\n",
    "res = requests.get(url, headers)\n",
    "res.raise_for_status()\n",
    "with open(\"nadocoding.html\", \"w\", encoding=\"utf8\") as f:\n",
    "  f.write(res.text)"
   ]
  }
 ],
 "metadata": {
  "kernelspec": {
   "display_name": "Python 3.10.2 64-bit",
   "language": "python",
   "name": "python3"
  },
  "language_info": {
   "codemirror_mode": {
    "name": "ipython",
    "version": 3
   },
   "file_extension": ".py",
   "mimetype": "text/x-python",
   "name": "python",
   "nbconvert_exporter": "python",
   "pygments_lexer": "ipython3",
   "version": "3.10.2"
  },
  "orig_nbformat": 4,
  "vscode": {
   "interpreter": {
    "hash": "b95ceaaf507324f6eb38cf945572491426bdd43777f41a708ca87b1b76dbdbc8"
   }
  }
 },
 "nbformat": 4,
 "nbformat_minor": 2
}
