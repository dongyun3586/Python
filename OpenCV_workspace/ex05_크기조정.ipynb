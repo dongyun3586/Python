{
 "cells": [
  {
   "cell_type": "markdown",
   "metadata": {},
   "source": [
    "### 이미지 크기 조정"
   ]
  },
  {
   "cell_type": "code",
   "execution_count": 1,
   "metadata": {},
   "outputs": [],
   "source": [
    "# 고정크기로 설정\n",
    "import cv2\n",
    "img = cv2.imread('iu.jpg')\n",
    "resize_img = cv2.resize(img, (400, 500)) # width, height 고정 크기\n",
    "\n",
    "cv2.imshow('img', img)\n",
    "cv2.imshow('resize', resize_img)\n",
    "cv2.waitKey(0)\n",
    "cv2.destroyAllWindows()"
   ]
  },
  {
   "cell_type": "code",
   "execution_count": 2,
   "metadata": {},
   "outputs": [],
   "source": [
    "# 비율로 설정\n",
    "import cv2\n",
    "img = cv2.imread('iu.jpg')\n",
    "resize_img = cv2.resize(img, None, fx=0.5, fy=0.5) #  x, y의 비율 정의 (0.5배로 축소)\n",
    "\n",
    "cv2.imshow('img', img)\n",
    "cv2.imshow('resize', resize_img)\n",
    "cv2.waitKey(0)\n",
    "cv2.destroyAllWindows()"
   ]
  },
  {
   "cell_type": "markdown",
   "metadata": {},
   "source": [
    "### 동영상 크기 조정"
   ]
  },
  {
   "cell_type": "code",
   "execution_count": 5,
   "metadata": {},
   "outputs": [],
   "source": [
    "# 고정크기로 설정\n",
    "import cv2\n",
    "cap = cv2.VideoCapture('video.mp4')\n",
    "\n",
    "while cap.isOpened():\n",
    "  ret, frame = cap.read()\n",
    "  if not ret:\n",
    "    break\n",
    "  \n",
    "  resized_frame = cv2.resize(frame, (500, 400))\n",
    "  \n",
    "  cv2.imshow('video', resized_frame)\n",
    "  if cv2.waitKey(1) == ord('q'):\n",
    "    break\n",
    "  \n",
    "cap.release()\n",
    "cv2.destroyAllWindows()"
   ]
  },
  {
   "cell_type": "code",
   "execution_count": 6,
   "metadata": {},
   "outputs": [],
   "source": [
    "# 비율로 설정\n",
    "import cv2\n",
    "cap = cv2.VideoCapture('video.mp4')\n",
    "\n",
    "while cap.isOpened():\n",
    "  ret, frame = cap.read()\n",
    "  if not ret:\n",
    "    break\n",
    "  \n",
    "  resized_frame = cv2.resize(frame, None, fx=1.5, fy=1.5, interpolation=cv2.INTER_CUBIC)\n",
    "  \n",
    "  cv2.imshow('video', resized_frame)\n",
    "  if cv2.waitKey(1) == ord('q'):\n",
    "    break\n",
    "  \n",
    "cap.release()\n",
    "cv2.destroyAllWindows()"
   ]
  },
  {
   "cell_type": "code",
   "execution_count": null,
   "metadata": {},
   "outputs": [],
   "source": []
  }
 ],
 "metadata": {
  "kernelspec": {
   "display_name": "Python 3.10.2 64-bit",
   "language": "python",
   "name": "python3"
  },
  "language_info": {
   "codemirror_mode": {
    "name": "ipython",
    "version": 3
   },
   "file_extension": ".py",
   "mimetype": "text/x-python",
   "name": "python",
   "nbconvert_exporter": "python",
   "pygments_lexer": "ipython3",
   "version": "3.10.2"
  },
  "orig_nbformat": 4,
  "vscode": {
   "interpreter": {
    "hash": "b95ceaaf507324f6eb38cf945572491426bdd43777f41a708ca87b1b76dbdbc8"
   }
  }
 },
 "nbformat": 4,
 "nbformat_minor": 2
}
