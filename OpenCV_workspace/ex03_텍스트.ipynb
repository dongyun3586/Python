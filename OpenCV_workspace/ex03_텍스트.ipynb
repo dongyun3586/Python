{
 "cells": [
  {
   "cell_type": "code",
   "execution_count": 2,
   "metadata": {},
   "outputs": [],
   "source": [
    "import cv2\n",
    "import numpy as np\n",
    "\n",
    "img = np.zeros((480, 640, 3), dtype=np.uint8)\n",
    "\n",
    "scale = 1                   # 크기\n",
    "color = (255, 255, 255)     # 흰색\n",
    "thickness = 1               # 두께\n",
    "\n",
    "cv2.putText(img, \"HERSHEY_SIMPLEX\", (20, 50), cv2.FONT_HERSHEY_SIMPLEX, scale, color, thickness)\n",
    "# 캔버스, 문자열, 시작 위치, 폰트 종류, 크기, 색, 두께\n",
    "\n",
    "cv2.imshow('img', img)\n",
    "cv2.waitKey(0)\n",
    "cv2.destroyAllWindows()"
   ]
  },
  {
   "cell_type": "code",
   "execution_count": 5,
   "metadata": {},
   "outputs": [],
   "source": [
    "import cv2\n",
    "import numpy as np\n",
    "\n",
    "img = np.zeros((480, 640, 3), dtype=np.uint8)\n",
    "\n",
    "scale = 1                   # 크기\n",
    "color = (255, 255, 255)     # 흰색\n",
    "thickness = 1               # 두께\n",
    "\n",
    "cv2.putText(img, \"HERSHEY_SIMPLEX\", (20, 50), cv2.FONT_HERSHEY_SIMPLEX, scale, color, thickness)\n",
    "cv2.putText(img, \"HERSHEY_SIMPLEX\", (20, 100), cv2.FONT_HERSHEY_PLAIN, scale, color, thickness)\n",
    "cv2.putText(img, \"HERSHEY_SIMPLEX\", (20, 150), cv2.FONT_HERSHEY_SCRIPT_SIMPLEX, scale, color, thickness)\n",
    "cv2.putText(img, \"HERSHEY_SIMPLEX\", (20, 200), cv2.FONT_HERSHEY_TRIPLEX, scale, color, thickness)\n",
    "cv2.putText(img, \"HERSHEY_SIMPLEX\", (20, 250), cv2.FONT_HERSHEY_TRIPLEX | cv2.FONT_ITALIC, scale, color, thickness)\n",
    "# 캔버스, 문자열, 시작 위치, 폰트 종류, 크기, 색, 두께\n",
    "\n",
    "cv2.imshow('img', img)\n",
    "cv2.waitKey(0)\n",
    "cv2.destroyAllWindows()"
   ]
  },
  {
   "cell_type": "code",
   "execution_count": 4,
   "metadata": {},
   "outputs": [],
   "source": [
    "import cv2\n",
    "import numpy as np\n",
    "# PIL(Python Image Library)\n",
    "from PIL import ImageFont, ImageDraw, Image\n",
    "\n",
    "def myPutText(src, text, pos, font_size, font_color):\n",
    "  img_pil = Image.fromarray(src)\n",
    "  draw = ImageDraw.Draw(img_pil)\n",
    "  font = ImageFont.truetype('fonts/gulim.ttc', font_size)\n",
    "  draw.text(pos, text, font=font, fill=font_color)\n",
    "  return np.array(img_pil)\n",
    "\n",
    "img = np.zeros((480, 640, 3), dtype=np.uint8)\n",
    "\n",
    "font_size = 30                   # 크기\n",
    "color = (255, 255, 255)     # 흰색\n",
    "thickness = 1               # 두께\n",
    "\n",
    "img = myPutText(img, '안녕하세요',(20, 50), font_size, color)\n",
    "# 캔버스, 문자열, 시작 위치, 폰트 종류, 크기, 색, 두께 \n",
    "\n",
    "cv2.imshow('img', img)\n",
    "cv2.waitKey(0)\n",
    "cv2.destroyAllWindows()"
   ]
  },
  {
   "cell_type": "code",
   "execution_count": null,
   "metadata": {},
   "outputs": [],
   "source": []
  }
 ],
 "metadata": {
  "kernelspec": {
   "display_name": "Python 3.10.2 64-bit",
   "language": "python",
   "name": "python3"
  },
  "language_info": {
   "codemirror_mode": {
    "name": "ipython",
    "version": 3
   },
   "file_extension": ".py",
   "mimetype": "text/x-python",
   "name": "python",
   "nbconvert_exporter": "python",
   "pygments_lexer": "ipython3",
   "version": "3.10.2"
  },
  "orig_nbformat": 4,
  "vscode": {
   "interpreter": {
    "hash": "b95ceaaf507324f6eb38cf945572491426bdd43777f41a708ca87b1b76dbdbc8"
   }
  }
 },
 "nbformat": 4,
 "nbformat_minor": 2
}
