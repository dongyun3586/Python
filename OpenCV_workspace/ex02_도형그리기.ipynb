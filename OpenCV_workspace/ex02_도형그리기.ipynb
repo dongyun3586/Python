{
 "cells": [
  {
   "cell_type": "markdown",
   "metadata": {},
   "source": [
    "## 빈 스케치북 그리기"
   ]
  },
  {
   "cell_type": "code",
   "execution_count": 7,
   "metadata": {},
   "outputs": [],
   "source": [
    "import cv2\n",
    "import numpy as np\n",
    "\n",
    "# 세로 480 * 가로 640, Channel(RGB)의 스케치북 만들기\n",
    "img = np.zeros((480, 640, 3), dtype=np.uint8)\n",
    "img[:] = (0, 0, 255)  # 전체 공간(B, G, R)을 흰색으로 채우기\n",
    "# print(img) \n",
    "cv2.imshow('img', img)\n",
    "cv2.waitKey(0)\n",
    "cv2.destroyAllWindows()"
   ]
  },
  {
   "cell_type": "markdown",
   "metadata": {},
   "source": [
    "## 일부 영역 색칠하기"
   ]
  },
  {
   "cell_type": "code",
   "execution_count": 9,
   "metadata": {},
   "outputs": [],
   "source": [
    "import cv2\n",
    "import numpy as np\n",
    "\n",
    "img = np.zeros((480, 640, 3), dtype=np.uint8)\n",
    "img[100:200, 200:300] = (255, 255, 255)  # 일부 영역 흰색으로 \n",
    "# print(img) \n",
    "\n",
    "cv2.imshow('img', img)\n",
    "cv2.waitKey(0)\n",
    "cv2.destroyAllWindows()"
   ]
  },
  {
   "cell_type": "markdown",
   "metadata": {},
   "source": [
    "## 직선 그리기"
   ]
  },
  {
   "cell_type": "markdown",
   "metadata": {},
   "source": [
    "1. cv2.LINE_4 : 상하좌우 4 방향으로 연결된 선\n",
    "2. cv2.LINE_8 : 대각선을 포함한 8 방향으로 연결된 선\n",
    "3. cv2.LINE_AA : 부드러운 선(anti-aliasing)"
   ]
  },
  {
   "cell_type": "code",
   "execution_count": 12,
   "metadata": {},
   "outputs": [],
   "source": [
    "import cv2\n",
    "import numpy as np\n",
    "\n",
    "img = np.zeros((480, 640, 3), dtype=np.uint8)\n",
    "\n",
    "color = (0, 255, 255)     # BGR : Yellow\n",
    "thickness = 3             # 선 두께\n",
    "\n",
    "cv2.line(img, (50, 100), (400, 50), color, thickness, cv2.LINE_8)\n",
    "cv2.line(img, (50, 200), (400, 150), color, thickness, cv2.LINE_4)\n",
    "cv2.line(img, (50, 300), (400, 250), color, thickness, cv2.LINE_AA)\n",
    "\n",
    "cv2.imshow('img', img)\n",
    "cv2.waitKey(0)\n",
    "cv2.destroyAllWindows()"
   ]
  },
  {
   "cell_type": "markdown",
   "metadata": {},
   "source": [
    "## 원 그리기"
   ]
  },
  {
   "cell_type": "code",
   "execution_count": 14,
   "metadata": {},
   "outputs": [],
   "source": [
    "import cv2\n",
    "import numpy as np\n",
    "\n",
    "img = np.zeros((480, 640, 3), dtype=np.uint8)\n",
    "\n",
    "color = (255, 255, 0)     # BGR : 옥색\n",
    "thickness = 10            # 두께\n",
    "radius = 50               # 반지름\n",
    "\n",
    "cv2.circle(img, (200, 100), radius, color, thickness, cv2.LINE_AA)    # 속이 빈 원\n",
    "cv2.circle(img, (400, 100), radius, color, cv2.FILLED, cv2.LINE_AA)   # 속이 꽉찬 원\n",
    "\n",
    "cv2.imshow('img', img)\n",
    "cv2.waitKey(0)\n",
    "cv2.destroyAllWindows()"
   ]
  },
  {
   "cell_type": "markdown",
   "metadata": {},
   "source": [
    "## 사각형 그리기"
   ]
  },
  {
   "cell_type": "code",
   "execution_count": 20,
   "metadata": {},
   "outputs": [],
   "source": [
    "import cv2\n",
    "import numpy as np\n",
    "\n",
    "img = np.zeros((480, 640, 3), dtype=np.uint8)\n",
    "\n",
    "color = (0, 255, 0)     # BGR : Green\n",
    "thickness = 4           # 두께\n",
    "\n",
    "# 왼쪽 위 좌표, 오른쪽 아래 좌표, 색, 두께\n",
    "cv2.rectangle(img, (100, 100), (200, 200), color, thickness)    # 속이 빈 사각형\n",
    "cv2.rectangle(img, (300, 100), (400, 300), color, cv2.FILLED)   # 속이 꽉찬 사각형\n",
    "\n",
    "cv2.imshow('img', img)\n",
    "cv2.waitKey(0)\n",
    "cv2.destroyAllWindows()"
   ]
  },
  {
   "cell_type": "markdown",
   "metadata": {},
   "source": [
    "## 다각형 그리기"
   ]
  },
  {
   "cell_type": "code",
   "execution_count": 26,
   "metadata": {},
   "outputs": [],
   "source": [
    "import cv2\n",
    "import numpy as np\n",
    "\n",
    "img = np.zeros((480, 640, 3), dtype=np.uint8)\n",
    "\n",
    "color = (0, 0, 255)     # BGR : Red\n",
    "thickness = 3           # 두께\n",
    "\n",
    "# 다각형 좌표\n",
    "points1 = np.array([[100,100],[200,100],[100,200]])  # 삼각형 좌표\n",
    "points2 = np.array([[300,100],[400,100],[300,200]])  # 삼각형 좌표\n",
    "\n",
    "# 캔버스, 좌표들, 닫힘 여부, 색, 두께, 선 모양\n",
    "cv2.polylines(img, [points1], True, color, thickness, cv2.LINE_AA)    # 속이 빈 연결된 사각형\n",
    "cv2.polylines(img, [points2], False, color, thickness, cv2.LINE_AA)   # 속이 빈 연결되지 않은 삼각형\n",
    "\n",
    "cv2.imshow('img', img)\n",
    "cv2.waitKey(0)\n",
    "cv2.destroyAllWindows()"
   ]
  },
  {
   "cell_type": "code",
   "execution_count": 28,
   "metadata": {},
   "outputs": [],
   "source": [
    "import cv2\n",
    "import numpy as np\n",
    "\n",
    "img = np.zeros((480, 640, 3), dtype=np.uint8)\n",
    "\n",
    "color = (0, 0, 255)     # BGR : Red\n",
    "thickness = 3           # 두께\n",
    "\n",
    "# 다각형 좌표\n",
    "points1 = np.array([[100,100],[200,100],[100,200]])  # 삼각형 좌표\n",
    "points2 = np.array([[300,100],[400,100],[300,200]])  # 삼각형 좌표\n",
    "\n",
    "# 캔버스, 좌표들, 닫힘 여부, 색, 두께, 선 모양\n",
    "cv2.polylines(img, [points1, points2], True, color, thickness, cv2.LINE_AA)    # 속이 빈 연결된 사각형\n",
    "\n",
    "cv2.imshow('img', img)\n",
    "cv2.waitKey(0)\n",
    "cv2.destroyAllWindows()"
   ]
  },
  {
   "cell_type": "code",
   "execution_count": 33,
   "metadata": {},
   "outputs": [
    {
     "ename": "",
     "evalue": "",
     "output_type": "error",
     "traceback": [
      "현재 셀 또는 이전 셀에서 코드를 실행하는 동안 Kernel이 충돌했습니다. 셀의 코드를 검토하여 오류의 가능한 원인을 식별하세요. 자세한 내용을 보려면 <a href='https://aka.ms/vscodeJupyterKernelCrash'> 여기 </a> 를 클릭하세요. 자세한 내용은 Jupyter <a href='command:jupyter.viewOutput'>로그</a>를 참조하세요."
     ]
    }
   ],
   "source": [
    "import cv2\n",
    "import numpy as np\n",
    "\n",
    "img = np.zeros((480, 640, 3), dtype=np.uint8)\n",
    "\n",
    "color = (0, 0, 255)     # BGR : Red\n",
    "thickness = 3           # 두께\n",
    "\n",
    "# 다각형 좌표\n",
    "points1 = np.array([[100,100],[200,100],[100,200]])  # 삼각형 좌표\n",
    "points2 = np.array([[300,100],[400,100],[300,200]])  # 삼각형 좌표\n",
    "points3 = np.array([[[100,300],[200,300],[100,400]], [[300,300],[400,300],[300,400]]])  \n",
    "\n",
    "# 캔버스, 좌표들, 닫힘 여부, 색, 두께, 선 모양\n",
    "cv2.polylines(img, [points1, points2], True, color, thickness, cv2.LINE_AA)    # 속이 빈 연결된 사각형\n",
    "# 캔버스, 좌표들, 색, 선 모양\n",
    "cv2.fillPoly(img, points3, color, cv2.LINE_AA)    # 속이 꽉찬 연결된 사각형\n",
    "\n",
    "cv2.imshow('img', img)\n",
    "cv2.waitKey(0)\n",
    "cv2.destroyAllWindows()"
   ]
  },
  {
   "cell_type": "code",
   "execution_count": null,
   "metadata": {},
   "outputs": [],
   "source": []
  }
 ],
 "metadata": {
  "kernelspec": {
   "display_name": "Python 3.10.2 64-bit",
   "language": "python",
   "name": "python3"
  },
  "language_info": {
   "codemirror_mode": {
    "name": "ipython",
    "version": 3
   },
   "file_extension": ".py",
   "mimetype": "text/x-python",
   "name": "python",
   "nbconvert_exporter": "python",
   "pygments_lexer": "ipython3",
   "version": "3.10.2"
  },
  "orig_nbformat": 4,
  "vscode": {
   "interpreter": {
    "hash": "b95ceaaf507324f6eb38cf945572491426bdd43777f41a708ca87b1b76dbdbc8"
   }
  }
 },
 "nbformat": 4,
 "nbformat_minor": 2
}
