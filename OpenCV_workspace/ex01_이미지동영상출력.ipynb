{
 "cells": [
  {
   "cell_type": "markdown",
   "metadata": {},
   "source": [
    "# 1. 이미지 출력"
   ]
  },
  {
   "cell_type": "markdown",
   "metadata": {},
   "source": [
    "## 기본 코드"
   ]
  },
  {
   "cell_type": "code",
   "execution_count": 2,
   "metadata": {},
   "outputs": [],
   "source": [
    "import cv2\n",
    "img = cv2.imread('elephant.jpg')  # 해당 경로의 파일 읽어오기\n",
    "cv2.imshow('elephant', img)       # 'elephant'라는 창에 이미지 출력하기\n",
    "cv2.waitKey(0)                    # 지정된 시간 동안 키 입력 대기\n",
    "cv2.destroyAllWindows()           # 모든 창 닫기"
   ]
  },
  {
   "cell_type": "code",
   "execution_count": 3,
   "metadata": {},
   "outputs": [
    {
     "name": "stdout",
     "output_type": "stream",
     "text": [
      "97\n"
     ]
    }
   ],
   "source": [
    "import cv2\n",
    "img = cv2.imread('elephant.jpg')  # 해당 경로의 파일 읽어오기\n",
    "cv2.imshow('elephant', img)       # 'elephant'라는 창에 이미지 출력하기\n",
    "key =   cv2.waitKey(0)            # 지정된 시간 동안 키 입력 대기\n",
    "print(key)\n",
    "cv2.destroyAllWindows()           # 모든 창 닫기"
   ]
  },
  {
   "cell_type": "markdown",
   "metadata": {},
   "source": [
    "## 읽기 옵션"
   ]
  },
  {
   "cell_type": "markdown",
   "metadata": {},
   "source": [
    "1. cv2.IMREAD_COLOR : 컬러 이미지(투명 영역은 무시됨)\n",
    "2. cv2.IMREAD_GRAYSCALE : 흑백 이미지\n",
    "3. cv2.IMREAD_UNCHANGED : 그대로 읽어옴(투명 영역이 있으면 그대로)"
   ]
  },
  {
   "cell_type": "code",
   "execution_count": 5,
   "metadata": {},
   "outputs": [],
   "source": [
    "import cv2\n",
    "img_color = cv2.imread('iu.jpg', cv2.IMREAD_COLOR)          # 컬러 이미지(투명 영역은 무시됨)\n",
    "img_grayscale = cv2.imread('iu.jpg', cv2.IMREAD_GRAYSCALE)  # 흑백 이미지\n",
    "img_unchanged = cv2.imread('iu.jpg', cv2.IMREAD_UNCHANGED)  # 그대로 읽어옴(투명 영역이 있으면 그대로)\n",
    "\n",
    "cv2.imshow('IMREAD_COLOR', img_color)     \n",
    "cv2.imshow('IMREAD_GRAYSCALE', img_grayscale)  \n",
    "cv2.imshow('IMREAD_UNCHANGED', img_unchanged)  \n",
    " \n",
    "cv2.waitKey(0)    \n",
    "cv2.destroyAllWindows()     "
   ]
  },
  {
   "cell_type": "markdown",
   "metadata": {},
   "source": [
    "## Shape (이미지의 height, width, channel 정보)"
   ]
  },
  {
   "cell_type": "code",
   "execution_count": 6,
   "metadata": {},
   "outputs": [
    {
     "data": {
      "text/plain": [
       "(1000, 1000, 3)"
      ]
     },
     "execution_count": 6,
     "metadata": {},
     "output_type": "execute_result"
    }
   ],
   "source": [
    "import cv2\n",
    "img = cv2.imread('iu.jpg')  \n",
    "img.shape   # width, height, channel"
   ]
  },
  {
   "cell_type": "markdown",
   "metadata": {},
   "source": [
    "# 2. 동영상 출력 "
   ]
  },
  {
   "cell_type": "markdown",
   "metadata": {},
   "source": [
    "## 동영상 파일 출력"
   ]
  },
  {
   "cell_type": "code",
   "execution_count": 12,
   "metadata": {},
   "outputs": [
    {
     "name": "stdout",
     "output_type": "stream",
     "text": [
      "사용자 입력에 의해 종료합니다.\n"
     ]
    }
   ],
   "source": [
    "import cv2\n",
    "cap = cv2.VideoCapture('video.mp4')\n",
    "\n",
    "while cap.isOpened():       # 동영상 파일이 열려있다면 반복\n",
    "  ret, frame = cap.read()   # ret : 성공 여부, frame : 받아온 이미지(프레임)\n",
    "  if not ret:\n",
    "    print('더 이상 가져올 프레임이 없어요')\n",
    "    break\n",
    "  \n",
    "  cv2.imshow('video', frame)\n",
    "  \n",
    "  if cv2.waitKey(1) == ord('q'):              # ord('q') : 'q'의 ASCII CODE값 반환\n",
    "    print('사용자 입력에 의해 종료합니다.')\n",
    "    break\n",
    "  \n",
    "cap.release()               # 동영상 자원 해제\n",
    "cv2.destroyAllWindows()"
   ]
  },
  {
   "cell_type": "code",
   "execution_count": 13,
   "metadata": {},
   "outputs": [
    {
     "name": "stdout",
     "output_type": "stream",
     "text": [
      "사용자 입력에 의해 종료합니다.\n"
     ]
    }
   ],
   "source": []
  },
  {
   "cell_type": "code",
   "execution_count": null,
   "metadata": {},
   "outputs": [],
   "source": []
  }
 ],
 "metadata": {
  "kernelspec": {
   "display_name": "Python 3.10.2 64-bit",
   "language": "python",
   "name": "python3"
  },
  "language_info": {
   "codemirror_mode": {
    "name": "ipython",
    "version": 3
   },
   "file_extension": ".py",
   "mimetype": "text/x-python",
   "name": "python",
   "nbconvert_exporter": "python",
   "pygments_lexer": "ipython3",
   "version": "3.10.2"
  },
  "orig_nbformat": 4,
  "vscode": {
   "interpreter": {
    "hash": "b95ceaaf507324f6eb38cf945572491426bdd43777f41a708ca87b1b76dbdbc8"
   }
  }
 },
 "nbformat": 4,
 "nbformat_minor": 2
}
