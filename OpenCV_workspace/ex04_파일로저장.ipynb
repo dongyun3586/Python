{
 "cells": [
  {
   "cell_type": "code",
   "execution_count": 1,
   "metadata": {},
   "outputs": [],
   "source": [
    "# 이미지 저장\n",
    "import cv2\n",
    "\n",
    "img = cv2.imread('iu.jpg', cv2.IMREAD_GRAYSCALE)    # 흑백 이미지로 불러오기\n",
    "cv2.imshow('iu', img)\n",
    "cv2.waitKey(0)\n",
    "cv2.destroyAllWindows()\n",
    "\n",
    "result = cv2.imwrite('saveGrayscaleImg.jpg', img)\n",
    "print(result)"
   ]
  },
  {
   "cell_type": "code",
   "execution_count": 3,
   "metadata": {},
   "outputs": [],
   "source": [
    "# 동영상 저장\n",
    "import cv2\n",
    "\n",
    "cap = cv2.VideoCapture('video.mp4')\n",
    "\n",
    "# 코덱 정의\n",
    "fourcc = cv2.VideoWriter_fourcc(*'DIVX')\n",
    "\n",
    "# 프레임 크기, FPS\n",
    "width = round(cap.get(cv2.CAP_PROP_FRAME_WIDTH))\n",
    "height = round(cap.get(cv2.CAP_PROP_FRAME_HEIGHT))\n",
    "fps = cap.get(cv2.CAP_PROP_FPS)\n",
    "\n",
    "out = cv2.VideoWriter('output.avi', fourcc, fps, (width, height))\n",
    "# 저장 파일명, 코덱, fps, 크기(width, height)\n",
    "\n",
    "while cap.isOpened():\n",
    "  ret, frame = cap.read()\n",
    "  \n",
    "  if not ret:\n",
    "    break\n",
    "  \n",
    "  out.write(frame)    # 영상 데이터만 저장 (소리X)\n",
    "  cv2.imshow('video', frame)\n",
    "  if cv2.waitKey(1) == ord('q'):\n",
    "    break\n",
    "  \n",
    "out.release() # 자원 해제\n",
    "cap.release()\n",
    "cv2.destroyAllWindows()"
   ]
  },
  {
   "cell_type": "code",
   "execution_count": null,
   "metadata": {},
   "outputs": [],
   "source": []
  }
 ],
 "metadata": {
  "kernelspec": {
   "display_name": "Python 3.10.2 64-bit",
   "language": "python",
   "name": "python3"
  },
  "language_info": {
   "codemirror_mode": {
    "name": "ipython",
    "version": 3
   },
   "file_extension": ".py",
   "mimetype": "text/x-python",
   "name": "python",
   "nbconvert_exporter": "python",
   "pygments_lexer": "ipython3",
   "version": "3.10.2"
  },
  "orig_nbformat": 4,
  "vscode": {
   "interpreter": {
    "hash": "b95ceaaf507324f6eb38cf945572491426bdd43777f41a708ca87b1b76dbdbc8"
   }
  }
 },
 "nbformat": 4,
 "nbformat_minor": 2
}
