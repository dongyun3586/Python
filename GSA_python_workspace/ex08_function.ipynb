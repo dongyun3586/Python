{
 "cells": [
  {
   "cell_type": "markdown",
   "metadata": {},
   "source": [
    "### 1. 함수 정의"
   ]
  },
  {
   "cell_type": "code",
   "execution_count": 1,
   "metadata": {},
   "outputs": [
    {
     "name": "stdout",
     "output_type": "stream",
     "text": [
      "Hello world\n",
      "Hello world\n",
      "Hello world\n",
      "Hello world\n",
      "Hello world\n"
     ]
    }
   ],
   "source": [
    "def hello(n):\n",
    "    for i in range(n):\n",
    "        print('Hello world')\n",
    "\n",
    "hello(5)"
   ]
  },
  {
   "cell_type": "code",
   "execution_count": 2,
   "metadata": {},
   "outputs": [
    {
     "name": "stdout",
     "output_type": "stream",
     "text": [
      "7\n"
     ]
    }
   ],
   "source": [
    "def add(a, b): \n",
    "    return a + b\n",
    "\n",
    "print(add(3, 4))"
   ]
  },
  {
   "cell_type": "code",
   "execution_count": 5,
   "metadata": {},
   "outputs": [
    {
     "name": "stdout",
     "output_type": "stream",
     "text": [
      "7 -1\n"
     ]
    }
   ],
   "source": [
    "# 함수에서 값을 여러 개 반환하기\n",
    "def add_sub(a, b):\n",
    "    return a + b, a - b\n",
    "\n",
    "sum, subtract = add_sub(3, 4)\n",
    "print(sum, subtract)"
   ]
  },
  {
   "cell_type": "markdown",
   "metadata": {},
   "source": [
    "### 2. 매개변수 지정하여 호출하기"
   ]
  },
  {
   "cell_type": "code",
   "execution_count": 1,
   "metadata": {},
   "outputs": [],
   "source": [
    "def subtract(a, b):\n",
    "    return a - b\n",
    "\n",
    "print(subtract(10, 4))\n",
    "print(subtract(b=10, a=4))"
   ]
  },
  {
   "cell_type": "markdown",
   "metadata": {},
   "source": [
    "### 3. 매개변수에 초깃값 설정"
   ]
  },
  {
   "cell_type": "code",
   "execution_count": 13,
   "metadata": {},
   "outputs": [
    {
     "name": "stdout",
     "output_type": "stream",
     "text": [
      "7\n",
      "4\n"
     ]
    }
   ],
   "source": [
    "def add(a, b=1):\n",
    "    return a + b\n",
    "\n",
    "print(add(3, 4))\n",
    "print(add(3))"
   ]
  },
  {
   "cell_type": "markdown",
   "metadata": {},
   "source": [
    "### 4. 가변 매개변수(Variable Length Positional Arguments)"
   ]
  },
  {
   "cell_type": "code",
   "execution_count": 2,
   "metadata": {},
   "outputs": [
    {
     "name": "stdout",
     "output_type": "stream",
     "text": [
      "<class 'tuple'>\n",
      "6\n"
     ]
    }
   ],
   "source": [
    "def add_many(*args):\n",
    "    print(type(args))       # <class 'tuple'>\n",
    "    \n",
    "    sum = 0\n",
    "    for i in args:\n",
    "        sum += i\n",
    "    return sum\n",
    "\n",
    "print(add_many(1, 2, 3))"
   ]
  },
  {
   "cell_type": "code",
   "execution_count": 11,
   "metadata": {},
   "outputs": [
    {
     "name": "stdout",
     "output_type": "stream",
     "text": [
      "15\n",
      "120\n"
     ]
    }
   ],
   "source": [
    "def calc(operator, *args):\n",
    "    '''연산자와 숫자를 입력받아 계산된 결과를 반환하는 함수\n",
    "    \n",
    "    Args:\n",
    "        operator (str) : add | mul\n",
    "        *args : 가변 인자 \n",
    "\n",
    "    Return:\n",
    "        result : *args값들을 operator 연산자로 연산한 결과'''\n",
    "\n",
    "    if operator == \"add\": \n",
    "        result = 0\n",
    "        for i in args:\n",
    "            result += i\n",
    "    elif operator == \"mul\":\n",
    "        result = 1\n",
    "        for i in args:\n",
    "            result *= i\n",
    "    return result\n",
    "\n",
    "print(calc('add', 1,2,3,4,5))    # 15\n",
    "print(calc('mul', 1,2,3,4,5))    # 120"
   ]
  },
  {
   "cell_type": "code",
   "execution_count": 30,
   "metadata": {},
   "outputs": [
    {
     "ename": "TypeError",
     "evalue": "func_param_with_var_args() missing 1 required keyword-only argument: 'age'",
     "output_type": "error",
     "traceback": [
      "\u001b[1;31m---------------------------------------------------------------------------\u001b[0m",
      "\u001b[1;31mTypeError\u001b[0m                                 Traceback (most recent call last)",
      "\u001b[1;32m~\\AppData\\Local\\Temp/ipykernel_13356/3020674793.py\u001b[0m in \u001b[0;36m<module>\u001b[1;34m\u001b[0m\n\u001b[0;32m      6\u001b[0m \u001b[1;33m\u001b[0m\u001b[0m\n\u001b[0;32m      7\u001b[0m \u001b[1;33m\u001b[0m\u001b[0m\n\u001b[1;32m----> 8\u001b[1;33m \u001b[0mfunc_param_with_var_args\u001b[0m\u001b[1;33m(\u001b[0m\u001b[1;34m\"정우성\"\u001b[0m\u001b[1;33m,\u001b[0m \u001b[1;34m\"01012341234\"\u001b[0m\u001b[1;33m,\u001b[0m \u001b[1;34m\"seoul\"\u001b[0m\u001b[1;33m,\u001b[0m \u001b[1;36m20\u001b[0m\u001b[1;33m)\u001b[0m\u001b[1;33m\u001b[0m\u001b[1;33m\u001b[0m\u001b[0m\n\u001b[0m",
      "\u001b[1;31mTypeError\u001b[0m: func_param_with_var_args() missing 1 required keyword-only argument: 'age'"
     ]
    }
   ],
   "source": [
    "# *args and **kwargs 2\n",
    "def func_param_with_var_args(name, *args, age):\n",
    "    print(\"name=\",end=\"\"), print(name)\n",
    "    print(\"args=\",end=\"\"), print(args)\n",
    "    print(\"age=\",end=\"\"), print(age)\n",
    "\n",
    "\n",
    "func_param_with_var_args(\"정우성\", \"01012341234\", \"seoul\", 20)"
   ]
  },
  {
   "cell_type": "code",
   "execution_count": 29,
   "metadata": {},
   "outputs": [
    {
     "name": "stdout",
     "output_type": "stream",
     "text": [
      "name=정우성\n",
      "age=20\n",
      "args=('01012341234', 'seoul')\n"
     ]
    }
   ],
   "source": [
    "# *args and **kwargs 3\n",
    "def func_param_with_var_args(name, age, *args):\n",
    "    print(\"name=\",end=\"\"), print(name)\n",
    "    print(\"age=\",end=\"\"), print(age)\n",
    "    print(\"args=\",end=\"\"), print(args)\n",
    "\n",
    "\n",
    "func_param_with_var_args(\"정우성\",20, \"01012341234\", \"seoul\")"
   ]
  },
  {
   "cell_type": "code",
   "execution_count": 37,
   "metadata": {},
   "outputs": [
    {
     "ename": "SyntaxError",
     "evalue": "positional argument follows keyword argument (Temp/ipykernel_13356/518562330.py, line 7)",
     "output_type": "error",
     "traceback": [
      "\u001b[1;36m  File \u001b[1;32m\"C:\\Users\\ldy\\AppData\\Local\\Temp/ipykernel_13356/518562330.py\"\u001b[1;36m, line \u001b[1;32m7\u001b[0m\n\u001b[1;33m    func_param_with_var_args(\"정우성\", \"01012341234\", \"seoul\", age=17, 'female')\u001b[0m\n\u001b[1;37m                                                                            ^\u001b[0m\n\u001b[1;31mSyntaxError\u001b[0m\u001b[1;31m:\u001b[0m positional argument follows keyword argument\n"
     ]
    }
   ],
   "source": [
    "# *args 이후 Non-Default Keyword-Only Arguments를 받을 수 있다.\n",
    "def func_param_with_var_args(name, *args, age, s='male'):\n",
    "    print(\"name=\",end=\"\"), print(name)\n",
    "    print(\"args=\",end=\"\"), print(args)\n",
    "    print(\"age=\",end=\"\"), print(age)\n",
    "\n",
    "func_param_with_var_args(\"정우성\", \"01012341234\", \"seoul\", age=17, s='female')\n"
   ]
  },
  {
   "cell_type": "markdown",
   "metadata": {},
   "source": [
    "### 5. 키워드 파라미터 **kwargs"
   ]
  },
  {
   "cell_type": "code",
   "execution_count": 3,
   "metadata": {},
   "outputs": [
    {
     "name": "stdout",
     "output_type": "stream",
     "text": [
      "{'a': 1}\n",
      "{'name': '홍길동', 'age': 17}\n"
     ]
    }
   ],
   "source": [
    "def print_kwargs(**kwargs):         # **을 붙이면 매개변수 kwargs는 딕셔너리가 되고 모든 key=value 형태의 결괏값이 그 딕셔너리에 저장된다.\n",
    "    print(kwargs)                   # 모두 딕셔너리로 만들어져서 출력된다\n",
    "\n",
    "print_kwargs(a=1)                   # {'a': 1}\n",
    "print_kwargs(name='홍길동', age=17) # {'name': '홍길동', 'age': 17}"
   ]
  },
  {
   "cell_type": "code",
   "execution_count": 11,
   "metadata": {},
   "outputs": [
    {
     "name": "stdout",
     "output_type": "stream",
     "text": [
      "k1 Hello\n",
      "k2 world\n",
      "3 1234\n",
      "{'k1': 'Hello', 'k2': 'world', '3': 1234}\n"
     ]
    }
   ],
   "source": [
    "d = {'k1':'Hello', 'k2':'world', '3':1234}\n",
    "\n",
    "def printDic(dd):\n",
    "    for k, v in dd.items():\n",
    "        print(k, v)\n",
    "\n",
    "printDic(d)\n",
    "print_kwargs(**d)"
   ]
  },
  {
   "cell_type": "code",
   "execution_count": 12,
   "metadata": {},
   "outputs": [
    {
     "name": "stdout",
     "output_type": "stream",
     "text": [
      "홍길동\n",
      "{}\n",
      "홍길동\n",
      "{'age': 30, 'address': '서울시 용산구 이촌동'}\n"
     ]
    }
   ],
   "source": [
    "# 고정 인수와 가변 인수(키워드 인수)를 함께 사용하기\n",
    "def personal_info(name, **kwargs):\n",
    "    print(name, kwargs, sep='\\n')\n",
    "    \n",
    "personal_info('홍길동')\n",
    "personal_info('홍길동', age=30, address='서울시 용산구 이촌동')"
   ]
  },
  {
   "cell_type": "code",
   "execution_count": 31,
   "metadata": {},
   "outputs": [
    {
     "ename": "SyntaxError",
     "evalue": "invalid syntax (Temp/ipykernel_13356/900779746.py, line 2)",
     "output_type": "error",
     "traceback": [
      "\u001b[1;36m  File \u001b[1;32m\"C:\\Users\\ldy\\AppData\\Local\\Temp/ipykernel_13356/900779746.py\"\u001b[1;36m, line \u001b[1;32m2\u001b[0m\n\u001b[1;33m    def func_param_with_kwargs(name, age, **kwargs, address=0):\u001b[0m\n\u001b[1;37m                                                    ^\u001b[0m\n\u001b[1;31mSyntaxError\u001b[0m\u001b[1;31m:\u001b[0m invalid syntax\n"
     ]
    }
   ],
   "source": [
    "# *args and **kwargs 4\n",
    "def func_param_with_kwargs(name, age, **kwargs, address=0):\n",
    "    print(\"name=\",end=\"\"), print(name)\n",
    "    print(\"age=\",end=\"\"), print(age)\n",
    "    print(\"kwargs=\",end=\"\"), print(kwargs)\n",
    "    print(\"address=\",end=\"\"), print(address)\n",
    "\n",
    "\n",
    "func_param_with_kwargs(\"정우성\", \"20\", mobile=\"01012341234\", address=\"seoul\")\n"
   ]
  },
  {
   "cell_type": "code",
   "execution_count": 40,
   "metadata": {},
   "outputs": [
    {
     "name": "stdout",
     "output_type": "stream",
     "text": [
      "name=정우성\n",
      "args=('01012341234', 'male')\n",
      "age=20\n",
      "kwargs={'mobile': '01012341234'}\n",
      "address=seoul\n"
     ]
    }
   ],
   "source": [
    "def mixed_params(age, name=\"아이유\", *args, address, **kwargs):\n",
    "    print(\"name=\",end=\"\"), print(name)\n",
    "    print(\"args=\",end=\"\"), print(args)\n",
    "    print(\"age=\",end=\"\"), print(age)\n",
    "    print(\"kwargs=\",end=\"\"), print(kwargs)\n",
    "    print(\"address=\",end=\"\"), print(address)\n",
    "\n",
    "mixed_params(20, \"정우성\", \"01012341234\", \"male\" ,mobile=\"01012341234\", address=\"seoul\")"
   ]
  },
  {
   "cell_type": "code",
   "execution_count": 44,
   "metadata": {},
   "outputs": [
    {
     "name": "stdout",
     "output_type": "stream",
     "text": [
      "3\n",
      "(3, 4, 5)\n",
      "{'name': '홍길동', 'language': 'python'}\n"
     ]
    }
   ],
   "source": [
    "def print_args(a, b, *args, **kwargs):\n",
    "    print(a + b)\n",
    "    print(args)\n",
    "    print(kwargs)\n",
    "\n",
    "print_args(1,2,3,4,5, name='홍길동', language='python')"
   ]
  },
  {
   "cell_type": "markdown",
   "metadata": {},
   "source": [
    "### 6. 언패킹 사용하기"
   ]
  },
  {
   "cell_type": "code",
   "execution_count": 19,
   "metadata": {},
   "outputs": [
    {
     "name": "stdout",
     "output_type": "stream",
     "text": [
      "10 20 30\n",
      "[10, 20, 30]\n",
      "10 20 30\n"
     ]
    }
   ],
   "source": [
    "# 리스트 언패킹 \n",
    "def print_num(a, b, c):\n",
    "    print(a, b, c)\n",
    "\n",
    "num_list = [10, 20, 30]\n",
    "print_num(*num_list)\n",
    "print(num_list)\n",
    "print(*num_list)"
   ]
  },
  {
   "cell_type": "code",
   "execution_count": 26,
   "metadata": {},
   "outputs": [
    {
     "name": "stdout",
     "output_type": "stream",
     "text": [
      "이름:  홍길동\n",
      "나이:  30\n",
      "주소:  서울시 용산구 이촌동\n"
     ]
    }
   ],
   "source": [
    "# 딕셔너리 언패킹 \n",
    "def personal_info(name, age, address):\n",
    "    print('이름: ', name)\n",
    "    print('나이: ', age)\n",
    "    print('주소: ', address)\n",
    "    \n",
    "x = {'name': '홍길동', 'age': 30, 'address': '서울시 용산구 이촌동'}\n",
    "personal_info(**x)"
   ]
  },
  {
   "cell_type": "code",
   "execution_count": 25,
   "metadata": {},
   "outputs": [
    {
     "name": "stdout",
     "output_type": "stream",
     "text": [
      "name=홍길동\n",
      "age=17\n",
      "address=1\n",
      "args=(2, 3)\n"
     ]
    }
   ],
   "source": [
    "# *args, **kwargs 함께 사용하기\n",
    "def custom_print(name, age, address='서울시 용산구', *args, **kwargs):\n",
    "    print(\"name=\",end=\"\"), print(name)\n",
    "    print(\"age=\",end=\"\"), print(age)\n",
    "    print(\"address=\",end=\"\"), print(address)\n",
    "    print(\"args=\",end=\"\"), print(args)\n",
    "    # print(\"kwargs=\",end=\"\"), print(kwargs)\n",
    "    # \n",
    "    # print(\"blood=\", end=\"\"), print(blood)\n",
    "    # print(*args, **kwargs)\n",
    "\n",
    "custom_print('홍길동', 17, 1, 2, 3, sep=':', end='')"
   ]
  },
  {
   "cell_type": "markdown",
   "metadata": {},
   "source": [
    "### 7. 지역변수 & 전역변수"
   ]
  },
  {
   "cell_type": "code",
   "execution_count": 18,
   "metadata": {},
   "outputs": [
    {
     "name": "stdout",
     "output_type": "stream",
     "text": [
      "1\n"
     ]
    }
   ],
   "source": [
    "a = 1\n",
    "def vartest():\n",
    "    a = 2\n",
    "\n",
    "vartest()\n",
    "print(a)"
   ]
  },
  {
   "cell_type": "code",
   "execution_count": 19,
   "metadata": {},
   "outputs": [
    {
     "name": "stdout",
     "output_type": "stream",
     "text": [
      "2\n"
     ]
    }
   ],
   "source": [
    "a = 1\n",
    "def vartest():\n",
    "    global a\n",
    "    a = 2\n",
    "\n",
    "vartest()\n",
    "print(a)"
   ]
  },
  {
   "cell_type": "markdown",
   "metadata": {},
   "source": [
    "### 8. python의 함수는 일급 객체"
   ]
  },
  {
   "cell_type": "code",
   "execution_count": 47,
   "metadata": {},
   "outputs": [
    {
     "name": "stdout",
     "output_type": "stream",
     "text": [
      "Hello world\n",
      "<class 'function'>\n"
     ]
    }
   ],
   "source": [
    "# 함수를 변수에 저장 가능\n",
    "def hello():\n",
    "    print('Hello world')\n",
    "\n",
    "hi = hello\n",
    "hi()\n",
    "print(type(hi))"
   ]
  },
  {
   "cell_type": "code",
   "execution_count": 49,
   "metadata": {},
   "outputs": [
    {
     "name": "stdout",
     "output_type": "stream",
     "text": [
      "3와 4의 add 계산 결과: 7\n",
      "3와 4의 subtract 계산 결과: -1\n"
     ]
    }
   ],
   "source": [
    "# 사칙연산 함수 \n",
    "def add(a, b):\n",
    "    return a + b\n",
    "def subtract(a, b):\n",
    "    return a - b\n",
    "\n",
    "def calc(func, a, b):\n",
    "    print(f'{a}와 {b}의 {func.__name__} 계산 결과: {func(a,b)}')\n",
    "\n",
    "calc(add, 3, 4)\n",
    "calc(subtract, 3, 4)"
   ]
  },
  {
   "cell_type": "code",
   "execution_count": 53,
   "metadata": {},
   "outputs": [
    {
     "name": "stdout",
     "output_type": "stream",
     "text": [
      "3와 4의 덧셈 결과: 7\n",
      "3와 4의 뺄셈 결과: -1\n"
     ]
    }
   ],
   "source": [
    "# lambda는 함수를 생성할 때 사용하는 예약어로 def와 동일한 역할\n",
    "# def를 사용해야 할 정도로 복잡하지 않거나 def를 사용할 수 없는 곳에 주로 쓰인다.\n",
    "# lambda 매개변수1, 매개변수2, ... : 매개변수를 이용한 표현식\n",
    "\n",
    "def add(a, b):\n",
    "    return a + b\n",
    "\n",
    "def subtract(a, b):\n",
    "    return a - b\n",
    "\n",
    "def calc(operator, func, a, b):\n",
    "    print(f'{a}와 {b}의 {operator} 결과: {func(a, b)}') \n",
    "\n",
    "calc('덧셈', add, 3, 4)\n",
    "calc('뺄셈', subtract, 3, 4)"
   ]
  },
  {
   "cell_type": "code",
   "execution_count": 51,
   "metadata": {},
   "outputs": [
    {
     "name": "stdout",
     "output_type": "stream",
     "text": [
      "3와 4의 곱셈 결과: 12\n",
      "3와 4의 나눗셈 결과: 0.75\n"
     ]
    }
   ],
   "source": [
    "calc('곱셈', lambda a, b: a*b, 3, 4) \n",
    "calc('나눗셈', lambda a, b: a/b, 3, 4)"
   ]
  },
  {
   "cell_type": "code",
   "execution_count": 54,
   "metadata": {},
   "outputs": [
    {
     "data": {
      "text/plain": [
       "[11, 12, 13]"
      ]
     },
     "execution_count": 54,
     "metadata": {},
     "output_type": "execute_result"
    }
   ],
   "source": [
    "def plus_ten(x):\n",
    "    return x + 10\n",
    "\n",
    "list(map(plus_ten, [1, 2, 3]))"
   ]
  },
  {
   "cell_type": "code",
   "execution_count": 55,
   "metadata": {},
   "outputs": [
    {
     "data": {
      "text/plain": [
       "[11, 12, 13]"
      ]
     },
     "execution_count": 55,
     "metadata": {},
     "output_type": "execute_result"
    }
   ],
   "source": [
    "list(map(lambda x: x + 10, [1, 2, 3]))"
   ]
  },
  {
   "cell_type": "code",
   "execution_count": 56,
   "metadata": {},
   "outputs": [
    {
     "name": "stdout",
     "output_type": "stream",
     "text": [
      "hello\n"
     ]
    }
   ],
   "source": [
    "(lambda : print('hello'))()"
   ]
  },
  {
   "cell_type": "code",
   "execution_count": null,
   "metadata": {},
   "outputs": [],
   "source": []
  }
 ],
 "metadata": {
  "interpreter": {
   "hash": "5fca21ad9a88cea9ca2415063f0b9d5458bbf828e19cdb66b895214e4b1718d2"
  },
  "kernelspec": {
   "display_name": "Python 3.10.0 64-bit",
   "language": "python",
   "name": "python3"
  },
  "language_info": {
   "codemirror_mode": {
    "name": "ipython",
    "version": 3
   },
   "file_extension": ".py",
   "mimetype": "text/x-python",
   "name": "python",
   "nbconvert_exporter": "python",
   "pygments_lexer": "ipython3",
   "version": "3.10.0"
  },
  "orig_nbformat": 4
 },
 "nbformat": 4,
 "nbformat_minor": 2
}
