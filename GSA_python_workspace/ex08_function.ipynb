{
 "cells": [
  {
   "cell_type": "code",
   "execution_count": null,
   "metadata": {},
   "outputs": [],
   "source": [
    "def hello(n):\n",
    "    for i in range(n):\n",
    "        print('Hello world')\n",
    "\n",
    "hello(5)"
   ]
  },
  {
   "cell_type": "code",
   "execution_count": 2,
   "metadata": {},
   "outputs": [
    {
     "name": "stdout",
     "output_type": "stream",
     "text": [
      "7\n"
     ]
    }
   ],
   "source": [
    "def add(a, b): \n",
    "    return a + b\n",
    "\n",
    "print(add(3, 4))"
   ]
  },
  {
   "cell_type": "code",
   "execution_count": 5,
   "metadata": {},
   "outputs": [
    {
     "name": "stdout",
     "output_type": "stream",
     "text": [
      "7 -1\n"
     ]
    }
   ],
   "source": [
    "# 함수에서 값을 여러 개 반환하기\n",
    "def add_sub(a, b):\n",
    "    return a + b, a - b\n",
    "\n",
    "sum, subtract = add_sub(3, 4)\n",
    "print(sum, subtract)"
   ]
  },
  {
   "cell_type": "code",
   "execution_count": 6,
   "metadata": {},
   "outputs": [
    {
     "name": "stdout",
     "output_type": "stream",
     "text": [
      "3\n",
      "15\n",
      "15\n",
      "120\n"
     ]
    }
   ],
   "source": [
    "# 인자를 모두 더하는 함수\n",
    "def add_many(*args):\n",
    "    sum = 0\n",
    "    for i in args:\n",
    "        sum += i\n",
    "    return sum\n",
    "\n",
    "print(add_many(1, 2))           # 3\n",
    "print(add_many(1, 2, 3, 4, 5))  # 15\n",
    "\n",
    "# 연산자를 더하기와 곱하기로 구분하여 인자를 계산하는 함수\n",
    "def add_mul(choice, *args):\n",
    "    '''연산자와 숫자를 입력받아 계산된 결과를 반환하는 함수\n",
    "\n",
    "    Args:\n",
    "        choice (str) : add | mul\n",
    "        *args : 가변 인자 \n",
    "\n",
    "    Return:\n",
    "        result : *args값들을 choice로 연산한 결과'''\n",
    "\n",
    "    if choice == \"add\": \n",
    "        result = 0\n",
    "        for i in args:\n",
    "            result += i\n",
    "    elif choice == \"mul\":\n",
    "        result = 1\n",
    "        for i in args:\n",
    "            result *= i\n",
    "    return result\n",
    "\n",
    "print(add_mul('add', 1,2,3,4,5))    # 15\n",
    "print(add_mul('mul', 1,2,3,4,5))    # 120"
   ]
  },
  {
   "cell_type": "code",
   "execution_count": null,
   "metadata": {},
   "outputs": [],
   "source": []
  }
 ],
 "metadata": {
  "interpreter": {
   "hash": "5fca21ad9a88cea9ca2415063f0b9d5458bbf828e19cdb66b895214e4b1718d2"
  },
  "kernelspec": {
   "display_name": "Python 3.10.0 64-bit",
   "language": "python",
   "name": "python3"
  },
  "language_info": {
   "codemirror_mode": {
    "name": "ipython",
    "version": 3
   },
   "file_extension": ".py",
   "mimetype": "text/x-python",
   "name": "python",
   "nbconvert_exporter": "python",
   "pygments_lexer": "ipython3",
   "version": "3.10.0"
  },
  "orig_nbformat": 4
 },
 "nbformat": 4,
 "nbformat_minor": 2
}
