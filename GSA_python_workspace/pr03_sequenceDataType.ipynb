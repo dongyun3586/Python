{
 "cells": [
  {
   "cell_type": "code",
   "execution_count": 4,
   "metadata": {},
   "outputs": [
    {
     "name": "stdout",
     "output_type": "stream",
     "text": [
      "List :  ['1', ' 2', ' 3', ' 4', ' 5']\n",
      "Tuple :  ('1', ' 2', ' 3', ' 4', ' 5')\n"
     ]
    }
   ],
   "source": [
    "# 1번. 리스트와 튜플로 변환하여 출력\n",
    "values = input(\"콤마로 구분된 숫자들 입력 : \")\n",
    "l = values.split(\",\")\n",
    "print('List : ',l)\n",
    "\n",
    "t = tuple(l)\n",
    "print('Tuple : ', t)"
   ]
  },
  {
   "cell_type": "code",
   "execution_count": 3,
   "metadata": {},
   "outputs": [
    {
     "name": "stdout",
     "output_type": "stream",
     "text": [
      "['1', '2', '3', '4', '5']\n",
      "('1', '2', '3', '4', '5')\n"
     ]
    }
   ],
   "source": [
    "l = list(map(str.strip, input().split(\",\")))\n",
    "print(l)\n",
    "\n",
    "t = tuple(l)\n",
    "print(t)"
   ]
  },
  {
   "cell_type": "code",
   "execution_count": 2,
   "metadata": {},
   "outputs": [
    {
     "name": "stdout",
     "output_type": "stream",
     "text": [
      "파일의 확장자 : ipynb\n"
     ]
    }
   ],
   "source": [
    "# 2번. 확장자 출력\n",
    "filename = input(\"파일이름 입력: \")\n",
    "f_extns = filename.split(\".\")\n",
    "print (f\"파일의 확장자 : {f_extns[-1]}\" )"
   ]
  },
  {
   "cell_type": "code",
   "execution_count": 3,
   "metadata": {},
   "outputs": [
    {
     "name": "stdout",
     "output_type": "stream",
     "text": [
      "Red Black\n"
     ]
    }
   ],
   "source": [
    "# 3번. 첫 번째와 마지막 색상 이름 출력\n",
    "color_list = [\"Red\",\"Green\",\"White\" ,\"Black\"]\n",
    "print( \"%s %s\"%(color_list[0],color_list[-1]))"
   ]
  },
  {
   "cell_type": "code",
   "execution_count": null,
   "metadata": {},
   "outputs": [],
   "source": []
  }
 ],
 "metadata": {
  "interpreter": {
   "hash": "11f1dc213e07634baa4c5c321dec03c05dafae643c50f20e6d1a492290c05dc2"
  },
  "kernelspec": {
   "display_name": "Python 3.9.4 64-bit",
   "language": "python",
   "name": "python3"
  },
  "language_info": {
   "codemirror_mode": {
    "name": "ipython",
    "version": 3
   },
   "file_extension": ".py",
   "mimetype": "text/x-python",
   "name": "python",
   "nbconvert_exporter": "python",
   "pygments_lexer": "ipython3",
   "version": "3.9.4"
  },
  "orig_nbformat": 4
 },
 "nbformat": 4,
 "nbformat_minor": 2
}
