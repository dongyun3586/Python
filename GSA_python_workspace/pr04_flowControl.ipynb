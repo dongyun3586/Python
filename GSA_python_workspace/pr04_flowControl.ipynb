{
 "cells": [
  {
   "cell_type": "code",
   "execution_count": 9,
   "metadata": {},
   "outputs": [
    {
     "name": "stdout",
     "output_type": "stream",
     "text": [
      "짝수\n"
     ]
    }
   ],
   "source": [
    "# 1번. 홀수 or 짝수 판단\n",
    "n = int(input(\"자연수 입력: \"))\n",
    "\n",
    "if n%2 > 0:\n",
    "    print(\"홀수\")\n",
    "else:\n",
    "    print(\"짝수\")"
   ]
  },
  {
   "cell_type": "code",
   "execution_count": 2,
   "metadata": {},
   "outputs": [
    {
     "name": "stdout",
     "output_type": "stream",
     "text": [
      "2021년은 평년입니다.\n"
     ]
    }
   ],
   "source": [
    "# 2번. 윤년 판단\n",
    "y = int(input('년도를 입력하시오: '))\n",
    "\n",
    "if((y % 4 == 0 and y % 100 != 100) or y % 400 == 0):\n",
    "    print(f'{y}년은 윤년입니다.')\n",
    "else:\n",
    "    print(f'{y}년은 평년입니다.')       "
   ]
  },
  {
   "cell_type": "code",
   "execution_count": 6,
   "metadata": {},
   "outputs": [
    {
     "name": "stdout",
     "output_type": "stream",
     "text": [
      "IsEmpty\n"
     ]
    }
   ],
   "source": [
    "# 3번. 문자열에 \"Is\" 가 없으면 붙여서 출력\n",
    "str = input('문자열 입력: ')\n",
    "\n",
    "if len(str) >= 2 and str[:2] == \"Is\":\n",
    "    print(str)\n",
    "else:\n",
    "    print(\"Is\" + str)\n"
   ]
  },
  {
   "cell_type": "code",
   "execution_count": null,
   "metadata": {},
   "outputs": [],
   "source": [
    "# 4번. 문자 하나를 입력받아 해당 문자를 검사하여 '대문자', '소문자', '숫자', '알파벳이나 숫자가 아니다' 중 하나를 출력\n",
    "\n",
    "for i in range(4):\n",
    "    c = input('문자 하나를 입력하시오: ')\n",
    "    if c >= 'A' and c <= 'Z':\n",
    "        print(f'{c}는 대문자 입니다.')\n",
    "    elif c >= 'a' and c <= 'z':\n",
    "        print(f'{c}는 소문자 입니다.')\n",
    "    elif c >= '0' and c <= '9':\n",
    "        print(f'{c}는 숫자 입니다.')\n",
    "    else:\n",
    "        print(f'{c}는 알파벳이나 숫자가 아닙니다.')"
   ]
  },
  {
   "cell_type": "code",
   "execution_count": null,
   "metadata": {},
   "outputs": [],
   "source": [
    "# 5번. 19단 출력하기\n",
    "for i in range(2, 20):\n",
    "    for j in range(1, 20):\n",
    "        print(f'{i*j:3}', end=' ')\n",
    "    print()"
   ]
  },
  {
   "cell_type": "code",
   "execution_count": 70,
   "metadata": {},
   "outputs": [
    {
     "name": "stdout",
     "output_type": "stream",
     "text": [
      "0 1 1 2 3 "
     ]
    }
   ],
   "source": [
    "# 6번. 피보나치 수열 출력하기\n",
    "n = int(input('출력할 피보나치 수열의 개수는? '))\n",
    "a = 0; b = 1; next = 0\n",
    "\n",
    "for i in range(n):\n",
    "    print(a, end=' ')\n",
    "    next = a + b\n",
    "    a = b\n",
    "    b = next"
   ]
  },
  {
   "cell_type": "code",
   "execution_count": 26,
   "metadata": {},
   "outputs": [
    {
     "name": "stdout",
     "output_type": "stream",
     "text": [
      "0은 1자리 정수이다.\n"
     ]
    }
   ],
   "source": [
    "# 7번. 정수를 입력 받아 자릿수를 출력하기\n",
    "num = int(input('정수를 입력하시오: '))\n",
    "num2 = abs(num)\n",
    "\n",
    "n = 0\n",
    "while(num2 != 0):\n",
    "    n += 1\n",
    "    num2 //= 10\n",
    "\n",
    "if num == 0:\n",
    "    print('0은 1자리 정수이다.')\n",
    "else:\n",
    "    print(f'{num}은 {n}자리 정수이다.')"
   ]
  },
  {
   "cell_type": "code",
   "execution_count": 46,
   "metadata": {},
   "outputs": [
    {
     "name": "stdout",
     "output_type": "stream",
     "text": [
      "*\n",
      "**\n"
     ]
    }
   ],
   "source": [
    "# 8. 직각삼각형 출력하기\n",
    "h = int(input('삼각형의 높이: '))\n",
    "\n",
    "for i in range(h):\n",
    "    for j in range(i+1):\n",
    "        print('*', end='')\n",
    "    print()"
   ]
  },
  {
   "cell_type": "code",
   "execution_count": 31,
   "metadata": {},
   "outputs": [
    {
     "name": "stdout",
     "output_type": "stream",
     "text": [
      "*****\n",
      "****\n",
      "***\n",
      "**\n",
      "*\n"
     ]
    }
   ],
   "source": [
    "# 9. 뒤집힌 직각삼각형 출력하기\n",
    "h = int(input('삼각형의 높이: '))\n",
    "\n",
    "for i in range(h):\n",
    "    for j in range(h-i):\n",
    "        print('*', end='')\n",
    "    print()"
   ]
  },
  {
   "cell_type": "code",
   "execution_count": 43,
   "metadata": {},
   "outputs": [
    {
     "name": "stdout",
     "output_type": "stream",
     "text": [
      "    *\n",
      "   ***\n",
      "  *****\n",
      " *******\n",
      "*********\n"
     ]
    }
   ],
   "source": [
    "# 10. 이등변 삼각형 출력하기\n",
    "h = int(input('삼각형의 높이: '))\n",
    "\n",
    "for i in range(1, h+1):\n",
    "    # 공백 출력\n",
    "    for j in range(h-i):\n",
    "        print(' ', end='')\n",
    "    # '*' 출력\n",
    "    for k in range(i*2-1):\n",
    "        print('*', end='')\n",
    "    print()"
   ]
  },
  {
   "cell_type": "code",
   "execution_count": 64,
   "metadata": {},
   "outputs": [
    {
     "name": "stdout",
     "output_type": "stream",
     "text": [
      "정답입니다.\n",
      "오답입니다.\n",
      "정답입니다.\n",
      "정답입니다.\n",
      "4개 중 3 문제 맞았습니다.\n"
     ]
    }
   ],
   "source": [
    "\n",
    "# 11번. 랜덤 구구단 문제 풀기\n",
    "from random import randint\n",
    "\n",
    "n = int(input('구구단 문제 반복 횟수: '))\n",
    "\n",
    "count = 0\n",
    "for i in range(n):\n",
    "    dan = randint(2, 9)\n",
    "    i = randint(1, 9)\n",
    "    userAnswer = int(input(f'{dan} * {i} = '))\n",
    "    if(userAnswer == dan*i):\n",
    "        print(\"정답입니다.\")\n",
    "        count += 1\n",
    "    else:\n",
    "        print(\"오답입니다.\")\n",
    "\n",
    "print(f'{n}개 중 {count} 문제 맞았습니다.')"
   ]
  },
  {
   "cell_type": "code",
   "execution_count": null,
   "metadata": {},
   "outputs": [],
   "source": []
  }
 ],
 "metadata": {
  "interpreter": {
   "hash": "5fca21ad9a88cea9ca2415063f0b9d5458bbf828e19cdb66b895214e4b1718d2"
  },
  "kernelspec": {
   "display_name": "Python 3.10.0 64-bit",
   "language": "python",
   "name": "python3"
  },
  "language_info": {
   "codemirror_mode": {
    "name": "ipython",
    "version": 3
   },
   "file_extension": ".py",
   "mimetype": "text/x-python",
   "name": "python",
   "nbconvert_exporter": "python",
   "pygments_lexer": "ipython3",
   "version": "3.10.0"
  },
  "orig_nbformat": 4
 },
 "nbformat": 4,
 "nbformat_minor": 2
}
