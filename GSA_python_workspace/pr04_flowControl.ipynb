{
 "cells": [
  {
   "cell_type": "code",
   "execution_count": 9,
   "metadata": {},
   "outputs": [
    {
     "name": "stdout",
     "output_type": "stream",
     "text": [
      "짝수\n"
     ]
    }
   ],
   "source": [
    "# 1번. 홀수 or 짝수 판단\n",
    "n = int(input(\"자연수 입력: \"))\n",
    "\n",
    "if n%2 > 0:\n",
    "    print(\"홀수\")\n",
    "else:\n",
    "    print(\"짝수\")"
   ]
  },
  {
   "cell_type": "code",
   "execution_count": 2,
   "metadata": {},
   "outputs": [
    {
     "name": "stdout",
     "output_type": "stream",
     "text": [
      "2021년은 평년입니다.\n"
     ]
    }
   ],
   "source": [
    "# 2번. 윤년 판단\n",
    "y = int(input('년도를 입력하시오: '))\n",
    "\n",
    "if((y % 4 == 0 and y % 100 != 100) or y % 400 == 0):\n",
    "    print(f'{y}년은 윤년입니다.')\n",
    "else:\n",
    "    print(f'{y}년은 평년입니다.')       "
   ]
  },
  {
   "cell_type": "code",
   "execution_count": 6,
   "metadata": {},
   "outputs": [
    {
     "name": "stdout",
     "output_type": "stream",
     "text": [
      "IsEmpty\n"
     ]
    }
   ],
   "source": [
    "# 3번. 문자열에 \"Is\" 가 없으면 붙여서 출력\n",
    "str = input('문자열 입력: ')\n",
    "\n",
    "if len(str) >= 2 and str[:2] == \"Is\":\n",
    "    print(str)\n",
    "else:\n",
    "    print(\"Is\" + str)\n"
   ]
  },
  {
   "cell_type": "code",
   "execution_count": null,
   "metadata": {},
   "outputs": [],
   "source": [
    "# 4번. 19단 출력하기\n",
    "for i in range(2, 20):\n",
    "    for j in range(1, 20):\n",
    "        print(f'{i*j:3}', end=' ')\n",
    "    print()"
   ]
  },
  {
   "cell_type": "code",
   "execution_count": 17,
   "metadata": {},
   "outputs": [
    {
     "name": "stdout",
     "output_type": "stream",
     "text": [
      "[3, 6, 9, 12]\n",
      "[3, 6, 9, 12]\n"
     ]
    }
   ],
   "source": [
    "# for List comprehension\n",
    "a = [1,2,3,4]\n",
    "result = []\n",
    "\n",
    "for num in a:\n",
    "    result.append(num * 3)\n",
    "print(result)\n",
    "\n",
    "result = [num * 3 for num in a]\n",
    "print(result)"
   ]
  },
  {
   "cell_type": "code",
   "execution_count": 18,
   "metadata": {},
   "outputs": [
    {
     "name": "stdout",
     "output_type": "stream",
     "text": [
      "[6, 12]\n"
     ]
    }
   ],
   "source": [
    "# 짝수에만 3을 곱하여 새로운 리스트 생성\n",
    "a = [1,2,3,4]\n",
    "result = [num * 3 for num in a if num % 2 == 0]\n",
    "print(result)"
   ]
  },
  {
   "cell_type": "code",
   "execution_count": null,
   "metadata": {},
   "outputs": [],
   "source": []
  }
 ],
 "metadata": {
  "interpreter": {
   "hash": "5fca21ad9a88cea9ca2415063f0b9d5458bbf828e19cdb66b895214e4b1718d2"
  },
  "kernelspec": {
   "display_name": "Python 3.10.0 64-bit",
   "language": "python",
   "name": "python3"
  },
  "language_info": {
   "codemirror_mode": {
    "name": "ipython",
    "version": 3
   },
   "file_extension": ".py",
   "mimetype": "text/x-python",
   "name": "python",
   "nbconvert_exporter": "python",
   "pygments_lexer": "ipython3",
   "version": "3.10.0"
  },
  "orig_nbformat": 4
 },
 "nbformat": 4,
 "nbformat_minor": 2
}
