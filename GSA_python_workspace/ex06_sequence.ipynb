{
 "cells": [
  {
   "cell_type": "code",
   "execution_count": 2,
   "metadata": {},
   "outputs": [
    {
     "name": "stdout",
     "output_type": "stream",
     "text": [
      "[1, 2, 3]\n",
      "['james', 17, 175.3, True]\n",
      "[] []\n",
      "[]\n",
      "[0, 1, 2, 3, 4, 5, 6, 7, 8, 9]\n",
      "[10, 9, 8, 7, 6, 5, 4, 3, 2, 1]\n"
     ]
    }
   ],
   "source": [
    "# 리스트 만들기\n",
    "a = [1, 2, 3]\n",
    "print(a)\n",
    "\n",
    "person = ['james', 17, 175.3, True]     # 리스트에 여러 가지 자료형 저장\n",
    "print(person)\n",
    "\n",
    "a = []\n",
    "b = list()\n",
    "print(a, b)\n",
    "\n",
    "# range를 사용하여 리스트 만들기\n",
    "a = list(range(10))                     # 리스트 = list(range(시작, 끝))\n",
    "print(a)\n",
    "\n",
    "a = list(range(10, 0, -1))              # 리스트 = list(range(시작, 끝, 증가폭))\n",
    "print(a)"
   ]
  },
  {
   "cell_type": "code",
<<<<<<< Updated upstream
   "execution_count": 12,
=======
   "execution_count": 17,
>>>>>>> Stashed changes
   "metadata": {},
   "outputs": [
    {
     "name": "stdout",
     "output_type": "stream",
     "text": [
<<<<<<< Updated upstream
      "{1, 2, 3}\n",
      "set()\n",
      "[]\n",
      "{1, 2, 3, 4}\n",
      "{1, 2, 3, 4, 5, 6}\n",
      "{1, 3}\n"
=======
      "[1, 2, 3, 4, 5, 6]\n",
      "[1, 2, 3, 1, 2, 3, 1, 2, 3]\n",
      "3\n",
      "True, False\n"
>>>>>>> Stashed changes
     ]
    }
   ],
   "source": [
<<<<<<< Updated upstream
    "# 집합 만들기\n",
    "s = set([1, 2, 3, 1, 2, 3])\n",
    "print(s)                        # {1, 2, 3}\n",
    "\n",
    "s = set()\n",
    "print(s)                        # set()\n",
    "\n",
    "li = list(s)\n",
    "print(li)                       # []\n",
    "\n",
    "# 값 1개 추가하기(add)\n",
    "s1 = set([1, 2, 3])\n",
    "s1.add(4)\n",
    "print(s1)                       # {1, 2, 3, 4}\n",
    "\n",
    "# 값 여러 개 추가하기(update)\n",
    "s1 = set([1, 2, 3])\n",
    "s1.update([4, 5, 6])\n",
    "print(s1)                       # {1, 2, 3, 4, 5, 6}\n",
    "\n",
    "# 특정 값 제거하기(remove)\n",
    "s1 = set([1, 2, 3])\n",
    "s1.remove(2)\n",
    "print(s1)                       # {1, 3}"
=======
    "# 리스트 더하기(+)\n",
    "a = [1,2,3]\n",
    "b = [4, 5, 6]\n",
    "print(a + b)                                    # [1, 2, 3, 4, 5, 6]\n",
    "\n",
    "# 리스트 반복하기(*)\n",
    "a = [1, 2, 3]\n",
    "print(a * 3)                                    # [1, 2, 3, 1, 2, 3, 1, 2, 3]\n",
    "\n",
    "a = [1, 2, 3]\n",
    "print(len(a))                                   # 3\n",
    "\n",
    "# 특정 값이 있는지 확인하기\n",
    "a = [0, 10, 20, 30, 40, 50, 60, 70, 80, 90]\n",
    "print(30 in a, 100 in a, sep=', ')              # True, False"
   ]
  },
  {
   "cell_type": "code",
   "execution_count": 11,
   "metadata": {},
   "outputs": [
    {
     "name": "stdout",
     "output_type": "stream",
     "text": [
      "[1, 2, 3, 4]\n",
      "[1, 2, 3, 4, [5, 6]]\n",
      "[1, 2, 3, 4]\n",
      "['a', 'b', 'c']\n",
      "['b', 'c', 'a']\n",
      "[4, 'b', 'c', 'a']\n",
      "[4, 'b', 'c', 5, 'a']\n",
      "[1, 2, 1, 2, 3]\n",
      "3\n",
      "[1, 2]\n",
      "2\n",
      "[1, 2, 3, 4, 5]\n"
     ]
    }
   ],
   "source": [
    "# 리스트에 마지막에 요소 추가 => append()\n",
    "a = [1,2,3]\n",
    "a.append(4)\n",
    "print(a)                            # [1, 2, 3, 4]\n",
    "\n",
    "a.append([5,6])\n",
    "print(a)                            # [1, 2, 3, 4, [5, 6]]\n",
    "\n",
    "# 리스트 정렬 => sort()\n",
    "a = [1, 4, 3, 2]\n",
    "a.sort()\n",
    "print(a)                            # [1, 2, 3, 4]\n",
    "\n",
    "a = ['a', 'c', 'b']\n",
    "a.sort()\n",
    "print(a)                            # ['a', 'b', 'c']\n",
    "\n",
    "# 리스트 뒤집기 => reverse()\n",
    "a = ['a', 'c', 'b']\n",
    "a.reverse()\n",
    "print(a)                            # ['b', 'c', 'a']\n",
    "\n",
    "# 특정 위치에 추가하기 => insert()\n",
    "a.insert(0, 4)\n",
    "print(a)                            # [4, 1, 2, 3, 4]\n",
    "\n",
    "a.insert(3, 5)\n",
    "print(a)                            # [4, 'b', 'c', 5, 'a']\n",
    "\n",
    "# 리스트 요소 제거 => remove()\n",
    "a = [1, 2, 3, 1, 2, 3]\n",
    "a.remove(3)\n",
    "print(a)                            # [1, 2, 1, 2, 3]\n",
    "\n",
    "# 리스트 요소 끄집어내기 => pop()\n",
    "a = [1,2,3]\n",
    "print(a.pop())                      # 3\n",
    "print(a)                            # [1, 2]\n",
    "\n",
    "# 리스트에 포함된 요소 x의 개수 세기 => count()\n",
    "a = [1,2,3,1]\n",
    "print(a.count(1))                   # 2\n",
    "\n",
    "# 리스트 확장 => extend()\n",
    "a = [1,2,3]\n",
    "a.extend([4,5])\n",
    "print(a)                            # [1, 2, 3, 4, 5]\n"
   ]
  },
  {
   "cell_type": "code",
   "execution_count": 15,
   "metadata": {},
   "outputs": [
    {
     "name": "stdout",
     "output_type": "stream",
     "text": [
      "(38, 21, 53, 62, 19)\n",
      "(38, 21, 53, 62, 19)\n",
      "('james', 17, 175.3, True)\n",
      "(1,)\n",
      "(0, 1, 2, 3, 4, 5, 6, 7, 8, 9)\n",
      "(1, 2, 3)\n"
     ]
    }
   ],
   "source": [
    "### 튜플 만들기 ###\n",
    "a = (38, 21, 53, 62, 19)\n",
    "print(a)                    # (38, 21, 53, 62, 19)\n",
    "\n",
    "a = 38, 21, 53, 62, 19      # 괄호를 사용하지 않아도 튜플을 만들 수 있다.\n",
    "print(a)                    # (38, 21, 53, 62, 19)\n",
    "\n",
    "person = ('james', 17, 175.3, True)\n",
    "print(person)               # ('james', 17, 175.3, True)\n",
    "\n",
    "a = (1,)                    # 요소가 한 개인 튜플을 만들 때는 ( )(괄호) 안에 값 한 개를 넣고 ,(콤마)를 붙인다.\n",
    "print(a)                    # (1,)\n",
    "\n",
    "a = tuple(range(10))\n",
    "print(a)                    # (0, 1, 2, 3, 4, 5, 6, 7, 8, 9)\n",
    "\n",
    "a = [1, 2, 3]\n",
    "a = tuple(a)\n",
    "print(a)                    # (1, 2, 3)"
   ]
  },
  {
   "cell_type": "code",
   "execution_count": null,
   "metadata": {},
   "outputs": [],
   "source": [
    "x = [1, 2, 3]       # 패킹\n",
    "a, b, c = x         # 언패킹\n",
    "print(a, b, c)\n",
    "\n",
    "y = (4, 5, 6)\n",
    "d, e, f = y\n",
    "print(d, e, f)"
>>>>>>> Stashed changes
   ]
  },
  {
   "cell_type": "code",
<<<<<<< Updated upstream
   "execution_count": 10,
=======
   "execution_count": 22,
>>>>>>> Stashed changes
   "metadata": {},
   "outputs": [
    {
     "name": "stdout",
     "output_type": "stream",
     "text": [
<<<<<<< Updated upstream
      "{4, 5, 6}\n",
      "{1, 2, 3, 4, 5, 6, 7, 8, 9}\n",
      "{1, 2, 3, 4, 5, 6, 7, 8, 9}\n",
      "{1, 2, 3}\n",
      "{1, 2, 3}\n"
=======
      "{1: 'a', 2: 'b'}\n",
      "{1: 'a', 2: 'b', 'name': 'dongyun'}\n",
      "{1: 'a', 2: 'b', 'name': 'dongyun', 3: [1, 2, 3]}\n",
      "{} {}\n",
      "{2: 'b', 'name': 'dongyun', 3: [1, 2, 3]}\n"
>>>>>>> Stashed changes
     ]
    }
   ],
   "source": [
<<<<<<< Updated upstream
    "s1 = set([1, 2, 3, 4, 5, 6])\n",
    "s2 = set([4, 5, 6, 7, 8, 9])\n",
    "\n",
    "# 교집합&\n",
    "print(s1 & s2)\n",
    "\n",
    "# 합집합\n",
    "print(s1 | s2)\n",
    "print(s1.union(s2))\n",
    "\n",
    "# 차집합\n",
    "print(s1 - s2)\n",
    "print(s1.difference(s2))"
=======
    "### 딕셔너리 만들기 ###\n",
    "dic = {'name':'pey', 'phone':'0119993323', 'birth': '1118'}\n",
    "\n",
    "# 요소 추가하기\n",
    "a = {1: 'a'}                        # 딕셔너리의 키는 문자열뿐만 아니라 정수, 실수, 불도 사용할 수 있다.\n",
    "a[2] = 'b'\n",
    "print(a)                            # {1: 'a', 2: 'b'}\n",
    "\n",
    "a['name'] = 'dongyun'\n",
    "print(a)                            # {1: 'a', 2: 'b', 'name': 'dongyun'}\n",
    "\n",
    "a[3] = [1,2,3]                      # 값에는 리스트, 딕셔너리 등을 포함하여 모든 자료형을 사용할 수 있다.\n",
    "print(a)                            # {1: 'a', 2: 'b', 'name': 'dongyun', 3: [1, 2, 3]}\n",
    "\n",
    "x = {}\n",
    "y = dict()\n",
    "print(x, y)                         # {} {}\n",
    "\n",
    "# 요소 삭제하기\n",
    "del a[1]\n",
    "print(a)                            # {2: 'b', 'name': 'dongyun', 3: [1, 2, 3]}"
   ]
  },
  {
   "cell_type": "code",
   "execution_count": 25,
   "metadata": {},
   "outputs": [
    {
     "name": "stdout",
     "output_type": "stream",
     "text": [
      "b dongyun [1, 2, 3]\n",
      "True\n",
      "True\n",
      "3\n"
     ]
    }
   ],
   "source": [
    "# key값으로 value값 가져오기\n",
    "print(a[2], a['name'], a[3])        # b dongyun [1, 2, 3]\n",
    "\n",
    "# 딕셔너리에 키가 있는지 확인하기\n",
    "print('name' in a)                  # True\n",
    "print('xxx' not in a)               # True\n",
    "\n",
    "# 딕셔너리의 키 개수 구하기\n",
    "print(len(a))                       # 3"
   ]
  },
  {
   "cell_type": "code",
   "execution_count": 29,
   "metadata": {},
   "outputs": [
    {
     "name": "stdout",
     "output_type": "stream",
     "text": [
      "dict_keys(['name', 'phone', 'birth'])\n",
      "['name', 'phone', 'birth']\n",
      "dict_values(['pey', '0119993323', '1118'])\n",
      "dict_items([('name', 'pey'), ('phone', '0119993323'), ('birth', '1118')])\n",
      "{}\n",
      "None\n",
      "bar\n",
      "{'name': 'pey', 'phone': '0119993323', 'birth': '1118', 'address': 'Korea'}\n",
      "{'name': 'pey', 'phone': '0119993323', 'birth': '1118'}\n"
     ]
    }
   ],
   "source": [
    "# key값 리스트 가져오기\n",
    "a = {'name': 'pey', 'phone': '0119993323', 'birth': '1118'}\n",
    "print(a.keys())                                 # dict_keys(['name', 'phone', 'birth'])\n",
    "print(list(a.keys()))                           # ['name', 'phone', 'birth']\n",
    "\n",
    "# values값 리스트 가져오기\n",
    "print(a.values())                               # dict_values(['pey', '0119993323', '1118'])\n",
    "\n",
    "# key, value값 쌍으로 가져오기\n",
    "print(a.items())    # dict_items([('name', 'pey'), ('phone', '0119993323'), ('birth', '1118')])\n",
    "\n",
    "# 모두 지우기\n",
    "a.clear()\n",
    "print(a)                                        # {}\n",
    "\n",
    "# key값으로 value값 얻기 => a['name']을 사용했을 때와 동일한 결괏값 \n",
    "print(a.get('name'))                            # None => a['name']은 에러\n",
    "print(a.get('foo', 'bar'))                      # get(x, '디폴트 값')\n",
    "\n",
    "# 깊은 복사 => copy()\n",
    "a = {'name': 'pey', 'phone': '0119993323', 'birth': '1118'}\n",
    "b = a\n",
    "c = a.copy()\n",
    "a['address'] = 'Korea'\n",
    "print(b)\n",
    "print(c)\n"
>>>>>>> Stashed changes
   ]
  },
  {
   "cell_type": "code",
   "execution_count": null,
   "metadata": {},
   "outputs": [],
   "source": []
  }
 ],
 "metadata": {
  "interpreter": {
   "hash": "11f1dc213e07634baa4c5c321dec03c05dafae643c50f20e6d1a492290c05dc2"
  },
  "kernelspec": {
   "display_name": "Python 3.9.4 64-bit",
   "language": "python",
   "name": "python3"
  },
  "language_info": {
   "codemirror_mode": {
    "name": "ipython",
    "version": 3
   },
   "file_extension": ".py",
   "mimetype": "text/x-python",
   "name": "python",
   "nbconvert_exporter": "python",
   "pygments_lexer": "ipython3",
   "version": "3.10.0"
  },
  "orig_nbformat": 4
 },
 "nbformat": 4,
 "nbformat_minor": 2
}
