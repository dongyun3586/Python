{
 "cells": [
  {
   "cell_type": "code",
   "execution_count": 2,
   "metadata": {},
   "outputs": [
    {
     "name": "stdout",
     "output_type": "stream",
     "text": [
      "[1, 2, 3]\n",
      "['james', 17, 175.3, True]\n",
      "[]\n",
      "[0, 1, 2, 3, 4, 5, 6, 7, 8, 9]\n",
      "[10, 9, 8, 7, 6, 5, 4, 3, 2, 1]\n"
     ]
    }
   ],
   "source": [
    "# 리스트 만들기\n",
    "a = [1, 2, 3]\n",
    "print(a)\n",
    "\n",
    "person = ['james', 17, 175.3, True]     # 리스트에 여러 가지 자료형 저장\n",
    "print(person)\n",
    "\n",
    "a = []\n",
    "print(a)\n",
    "\n",
    "# range를 사용하여 리스트 만들기\n",
    "a = list(range(10))                     # 리스트 = list(range(시작, 끝))\n",
    "print(a)\n",
    "\n",
    "a = list(range(10, 0, -1))              # 리스트 = list(range(시작, 끝, 증가폭))\n",
    "print(a)"
   ]
  },
  {
   "cell_type": "code",
   "execution_count": 12,
   "metadata": {},
   "outputs": [
    {
     "name": "stdout",
     "output_type": "stream",
     "text": [
      "{1, 2, 3}\n",
      "set()\n",
      "[]\n",
      "{1, 2, 3, 4}\n",
      "{1, 2, 3, 4, 5, 6}\n",
      "{1, 3}\n"
     ]
    }
   ],
   "source": [
    "# 집합 만들기\n",
    "s = set([1, 2, 3, 1, 2, 3])\n",
    "print(s)                        # {1, 2, 3}\n",
    "\n",
    "s = set()\n",
    "print(s)                        # set()\n",
    "\n",
    "li = list(s)\n",
    "print(li)                       # []\n",
    "\n",
    "# 값 1개 추가하기(add)\n",
    "s1 = set([1, 2, 3])\n",
    "s1.add(4)\n",
    "print(s1)                       # {1, 2, 3, 4}\n",
    "\n",
    "# 값 여러 개 추가하기(update)\n",
    "s1 = set([1, 2, 3])\n",
    "s1.update([4, 5, 6])\n",
    "print(s1)                       # {1, 2, 3, 4, 5, 6}\n",
    "\n",
    "# 특정 값 제거하기(remove)\n",
    "s1 = set([1, 2, 3])\n",
    "s1.remove(2)\n",
    "print(s1)                       # {1, 3}"
   ]
  },
  {
   "cell_type": "code",
   "execution_count": 10,
   "metadata": {},
   "outputs": [
    {
     "name": "stdout",
     "output_type": "stream",
     "text": [
      "{4, 5, 6}\n",
      "{1, 2, 3, 4, 5, 6, 7, 8, 9}\n",
      "{1, 2, 3, 4, 5, 6, 7, 8, 9}\n",
      "{1, 2, 3}\n",
      "{1, 2, 3}\n"
     ]
    }
   ],
   "source": [
    "s1 = set([1, 2, 3, 4, 5, 6])\n",
    "s2 = set([4, 5, 6, 7, 8, 9])\n",
    "\n",
    "# 교집합&\n",
    "print(s1 & s2)\n",
    "\n",
    "# 합집합\n",
    "print(s1 | s2)\n",
    "print(s1.union(s2))\n",
    "\n",
    "# 차집합\n",
    "print(s1 - s2)\n",
    "print(s1.difference(s2))"
   ]
  },
  {
   "cell_type": "code",
   "execution_count": null,
   "metadata": {},
   "outputs": [],
   "source": []
  }
 ],
 "metadata": {
  "interpreter": {
   "hash": "11f1dc213e07634baa4c5c321dec03c05dafae643c50f20e6d1a492290c05dc2"
  },
  "kernelspec": {
   "display_name": "Python 3.9.4 64-bit",
   "language": "python",
   "name": "python3"
  },
  "language_info": {
   "codemirror_mode": {
    "name": "ipython",
    "version": 3
   },
   "file_extension": ".py",
   "mimetype": "text/x-python",
   "name": "python",
   "nbconvert_exporter": "python",
   "pygments_lexer": "ipython3",
   "version": "3.9.4"
  },
  "orig_nbformat": 4
 },
 "nbformat": 4,
 "nbformat_minor": 2
}
