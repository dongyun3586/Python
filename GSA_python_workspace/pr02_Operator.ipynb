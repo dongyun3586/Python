{
 "cells": [
  {
   "cell_type": "code",
   "execution_count": 5,
   "metadata": {},
   "outputs": [
    {
     "name": "stdout",
     "output_type": "stream",
     "text": [
      "삼각형의 넓이: 25.0\n",
      "원의 반지름: 314.1592653589793\n",
      "구의 부피: 904.7786842338603\n"
     ]
    }
   ],
   "source": [
    "# 1번 문제: 도형의 넓이 구하기\n",
    "from math import pi\n",
    "\n",
    "w, h = input('삼각형의 너비와 높이: ').split()  # 10 5\n",
    "w = float(w)\n",
    "h=float(h)\n",
    "\n",
    "print(f'삼각형의 넓이: {w*h/2}')\n",
    "\n",
    "r = float(input('원의 반지름: '))               # 10\n",
    "print(f'원의 반지름: {r*r*pi}')\n",
    "\n",
    "r = float(input('구의 반지름: '))               # 6\n",
    "print(f'구의 부피: {4.0/3.0*pi*r**3}')"
   ]
  },
  {
   "cell_type": "code",
   "execution_count": 6,
   "metadata": {},
   "outputs": [
    {
     "name": "stdout",
     "output_type": "stream",
     "text": [
      "*** 거스름 돈 ***\n",
      "10000원: 2장\n",
      " 5000원: 1장\n",
      " 1000원: 2장\n"
     ]
    }
   ],
   "source": [
    "# 거스름돈 계산하기\n",
    "price = int(input(\"물건 가격: \"))\n",
    "received_money = int(input(\"받은 금액: \"))\n",
    "\n",
    "change = received_money-price\n",
    "\n",
    "print('*** 거스름 돈 ***')\n",
    "print(f\"10000원: {change//10000}장\")\n",
    "change %= 10000\n",
    "print(f\" 5000원: {change//5000}장\")\n",
    "change %= 5000\n",
    "print(f\" 1000원: {change//1000}장\")"
   ]
  },
  {
   "cell_type": "code",
   "execution_count": null,
   "metadata": {},
   "outputs": [],
   "source": []
  }
 ],
 "metadata": {
  "interpreter": {
   "hash": "5fca21ad9a88cea9ca2415063f0b9d5458bbf828e19cdb66b895214e4b1718d2"
  },
  "kernelspec": {
   "display_name": "Python 3.10.0 64-bit",
   "language": "python",
   "name": "python3"
  },
  "language_info": {
   "codemirror_mode": {
    "name": "ipython",
    "version": 3
   },
   "file_extension": ".py",
   "mimetype": "text/x-python",
   "name": "python",
   "nbconvert_exporter": "python",
   "pygments_lexer": "ipython3",
   "version": "3.10.0"
  },
  "orig_nbformat": 4
 },
 "nbformat": 4,
 "nbformat_minor": 2
}
