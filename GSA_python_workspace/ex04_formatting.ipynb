{
 "cells": [
  {
   "cell_type": "code",
   "execution_count": 1,
   "metadata": {},
   "outputs": [
    {
     "name": "stdout",
     "output_type": "stream",
     "text": [
      "I eat 3 apples.\n",
      "I ate 3 apples. so I was sick for three days.\n",
      "I eat 3 apples.\n",
      "I ate 3 apples. so I was sick for three days.\n",
      "나의 이름은 홍길동 입니다. 나이는 17 입니다.\n"
     ]
    }
   ],
   "source": [
    "# 문자열 포매팅(Formatting)\n",
    "\n",
    "# 1. % 이용\n",
    "print(\"I eat %d apples.\" % 3)\n",
    "print(\"I ate %d apples. so I was sick for %s days.\" % (3, 'three'))\n",
    "\n",
    "# 2. format() 함수 사용\n",
    "print(\"I eat {0} apples.\".format(3))\n",
    "print(\"I ate {0} apples. so I was sick for {1} days.\".format(3, 'three'))\n",
    "\n",
    "# 3. f 문자열 포매팅(3.6 이상 버전부터 사용 가능)\n",
    "name = '홍길동'\n",
    "age = 17\n",
    "print(f'나의 이름은 {name} 입니다. 나이는 {age} 입니다.')"
   ]
  },
  {
   "cell_type": "markdown",
   "metadata": {},
   "source": []
  },
  {
   "cell_type": "code",
   "execution_count": 2,
   "metadata": {},
   "outputs": [
    {
     "name": "stdout",
     "output_type": "stream",
     "text": [
      "Hello world\n",
      "3.14 <class 'str'>\n"
     ]
    }
   ],
   "source": [
    "# 입력 함수 => input(\"질문 내용\")\n",
    "s = input()\n",
    "print(s)\n",
    "\n",
    "number = input(\"숫자를 입력하세요: \")\n",
    "print(number, type(number))"
   ]
  },
  {
   "cell_type": "code",
   "execution_count": null,
   "metadata": {},
   "outputs": [],
   "source": []
  }
 ],
 "metadata": {
  "interpreter": {
   "hash": "11f1dc213e07634baa4c5c321dec03c05dafae643c50f20e6d1a492290c05dc2"
  },
  "kernelspec": {
   "display_name": "Python 3.9.4 64-bit",
   "language": "python",
   "name": "python3"
  },
  "language_info": {
   "codemirror_mode": {
    "name": "ipython",
    "version": 3
   },
   "file_extension": ".py",
   "mimetype": "text/x-python",
   "name": "python",
   "nbconvert_exporter": "python",
   "pygments_lexer": "ipython3",
   "version": "3.9.4"
  },
  "orig_nbformat": 4
 },
 "nbformat": 4,
 "nbformat_minor": 2
}
