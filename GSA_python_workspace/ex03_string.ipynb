{
 "cells": [
  {
   "cell_type": "code",
   "execution_count": 1,
   "metadata": {},
   "outputs": [
    {
     "name": "stdout",
     "output_type": "stream",
     "text": [
      "Life is too short\n",
      "You need python\n",
      "\n",
      "Life is too short\n",
      "You need python\n",
      "\n"
     ]
    }
   ],
   "source": [
    "# 문자열 표현, 이스케이프 문자 사용\n",
    "multiline = \"Life is too short\\nYou need python\"\n",
    "print(multiline)\n",
    "\n",
    "multiline = \"\"\"\n",
    "Life is too short\n",
    "You need python\n",
    "\"\"\"\n",
    "print(multiline)"
   ]
  },
  {
   "cell_type": "code",
   "execution_count": 3,
   "metadata": {},
   "outputs": [
    {
     "name": "stdout",
     "output_type": "stream",
     "text": [
      "Python is fun!\n",
      "==================================================\n",
      "My Program\n",
      "==================================================\n"
     ]
    }
   ],
   "source": [
    "# 결합 +\n",
    "head = \"Python\"\n",
    "tail = \" is fun!\"\n",
    "print(head + tail)\n",
    "\n",
    "# 복제하기 *\n",
    "print(\"=\" * 50)\n",
    "print(\"My Program\")\n",
    "print(\"=\" * 50)"
   ]
  },
  {
   "cell_type": "code",
   "execution_count": 4,
   "metadata": {},
   "outputs": [
    {
     "name": "stdout",
     "output_type": "stream",
     "text": [
      "L\n",
      ",\n",
      "n\n",
      "o\n",
      "Life\n",
      "is\n",
      "You need Python\n",
      "Life is too short\n",
      "Life is too short, You need Python\n",
      "You need\n"
     ]
    }
   ],
   "source": [
    "# 문자열 인덱싱\n",
    "a = \"Life is too short, You need Python\"\n",
    "print(a[0])\n",
    "print(a[17])\n",
    "print(a[-1])\n",
    "print(a[-2])\n",
    "\n",
    "# 문자열 슬라이싱\n",
    "print(a[0:4])\n",
    "print(a[5:7])\n",
    "print(a[19:])\n",
    "print(a[:17])\n",
    "print(a[:])\n",
    "print(a[19:-7])"
   ]
  },
  {
   "cell_type": "code",
   "execution_count": 8,
   "metadata": {},
   "outputs": [
    {
     "name": "stdout",
     "output_type": "stream",
     "text": [
      "11\n",
      "['Hello', 'world']\n",
      "['Life is too short', ' You need Python']\n"
     ]
    }
   ],
   "source": [
    "a = \"Hello world\"\n",
    "\n",
    "# 문자열 길이 len()\n",
    "print(len(a))    # 시퀀스 타입에서 len()을 사용할 수 있다.\n",
    "\n",
    "# 문자열 나누기 split()\n",
    "print(a.split())\n",
    "\n",
    "a = \"Life is too short, You need Python\"\n",
    "print(a.split(sep=','))"
   ]
  },
  {
   "cell_type": "code",
   "execution_count": null,
   "metadata": {},
   "outputs": [],
   "source": []
  }
 ],
 "metadata": {
  "interpreter": {
   "hash": "11f1dc213e07634baa4c5c321dec03c05dafae643c50f20e6d1a492290c05dc2"
  },
  "kernelspec": {
   "display_name": "Python 3.9.4 64-bit",
   "language": "python",
   "name": "python3"
  },
  "language_info": {
   "codemirror_mode": {
    "name": "ipython",
    "version": 3
   },
   "file_extension": ".py",
   "mimetype": "text/x-python",
   "name": "python",
   "nbconvert_exporter": "python",
   "pygments_lexer": "ipython3",
   "version": "3.9.4"
  },
  "orig_nbformat": 4
 },
 "nbformat": 4,
 "nbformat_minor": 2
}
