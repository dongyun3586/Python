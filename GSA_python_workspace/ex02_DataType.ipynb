{
 "cells": [
  {
   "cell_type": "code",
   "execution_count": 1,
   "metadata": {},
   "outputs": [
    {
     "name": "stdout",
     "output_type": "stream",
     "text": [
      "1 <class 'int'>\n",
      "3.14 <class 'float'>\n",
      "28 <class 'int'>\n",
      "42 <class 'int'>\n"
     ]
    }
   ],
   "source": [
    "# 숫자 자료형\n",
    "a = 1\n",
    "b = 3.14\n",
    "c = 0o34\n",
    "d = 0x2A\n",
    "\n",
    "print(a, type(a))\n",
    "print(b, type(b))\n",
    "print(c, type(c))\n",
    "print(d, type(d))"
   ]
  },
  {
   "cell_type": "code",
   "execution_count": 2,
   "metadata": {},
   "outputs": [
    {
     "name": "stdout",
     "output_type": "stream",
     "text": [
      "A <class 'str'>\n",
      "A <class 'str'>\n",
      "Hello world <class 'str'>\n",
      "Hello world <class 'str'>\n"
     ]
    }
   ],
   "source": [
    "# 문자 자료형\n",
    "a = 'A'\n",
    "b = \"A\"\n",
    "c = 'Hello world'\n",
    "d = \"Hello world\"\n",
    "\n",
    "print(a, type(a))\n",
    "print(b, type(b))\n",
    "print(c, type(c))\n",
    "print(d, type(d))"
   ]
  },
  {
   "cell_type": "code",
   "execution_count": 3,
   "metadata": {},
   "outputs": [
    {
     "name": "stdout",
     "output_type": "stream",
     "text": [
      "Life is too short\n",
      "You need python\n",
      "\n",
      "Life is too short\n",
      "You need python\n",
      "\n"
     ]
    }
   ],
   "source": [
    "# 문자열 표현, 이스케이프 문자 사용\n",
    "multiline = \"Life is too short\\nYou need python\"\n",
    "print(multiline)\n",
    "\n",
    "multiline = \"\"\"\n",
    "Life is too short\n",
    "You need python\n",
    "\"\"\"\n",
    "print(multiline)"
   ]
  },
  {
   "cell_type": "code",
   "execution_count": 4,
   "metadata": {},
   "outputs": [
    {
     "name": "stdout",
     "output_type": "stream",
     "text": [
      "3 <class 'str'>\n",
      "3 <class 'int'>\n",
      "3.0 <class 'float'>\n"
     ]
    }
   ],
   "source": [
    "# 형변환(Casting)\n",
    "x = str(3)    # x will be '3'\n",
    "y = int(3)    # y will be 3\n",
    "z = float(3)  # z will be 3.0\n",
    "\n",
    "print(x, type(x))\n",
    "print(y, type(y))\n",
    "print(z, type(z))"
   ]
  },
  {
   "cell_type": "code",
   "execution_count": 5,
   "metadata": {},
   "outputs": [
    {
     "name": "stdout",
     "output_type": "stream",
     "text": [
      "Lifeistoo short\n",
      "Lifeistoo short\n",
      "Life is too short\n",
      "Hello---how are you?\n",
      "Life is too short, You need python.\n"
     ]
    }
   ],
   "source": [
    "# 큰따옴표(\")로 둘러싸인 문자열은 + 연산과 동일하다\n",
    "print(\"Life\" \"is\" \"too short\")\n",
    "print(\"Life\"+\"is\"+\"too short\")\n",
    "\n",
    "# 문자열 띄어쓰기는 콤마로 한다.\n",
    "print(\"Life\", \"is\", \"too short\")\n",
    "\n",
    "# 문자열 구분자\n",
    "print(\"Hello\", \"how are you?\", sep=\"---\")\n",
    "\n",
    "# 문자열 마지막 출력문자\n",
    "print(\"Life is too short,\", end=' ')\n",
    "print(\"You need python.\")"
   ]
  },
  {
   "cell_type": "code",
   "execution_count": null,
   "metadata": {},
   "outputs": [],
   "source": [
    "# 간단한 문자열 처리 함수들\n",
    "\n",
    "# len(문자열): 문자열 길이 구하기\n",
    "import keyword\n",
    "# print(keyword.kwlist)\n",
    "kwlist = [word.lower() for word in keyword.kwlist]\n",
    "kwlist.sort()\n",
    "\n",
    "for i in kwlist:\n",
    "    print(i)"
   ]
  },
  {
   "cell_type": "code",
   "execution_count": 2,
   "metadata": {},
   "outputs": [
    {
     "name": "stdout",
     "output_type": "stream",
     "text": [
      "2226332774592\n",
      "2226252245296\n",
      "2226252245328\n",
      "2226252245360\n"
     ]
    }
   ],
   "source": [
    "a = [1,2,3]\n",
    "\n",
    "print(id(a))\n",
    "for i in a:\n",
    "    print(id(i))"
   ]
  },
  {
   "cell_type": "code",
   "execution_count": 4,
   "metadata": {},
   "outputs": [
    {
     "name": "stdout",
     "output_type": "stream",
     "text": [
      "2226332784320\n",
      "[1, 2, 3, 4] [1, 2, 3, 4]\n",
      "a is b : True\n",
      "a == b : True\n",
      "a is b : False\n",
      "a == b : True\n",
      "[1, 2, 3] [1, 2, 3]\n",
      "[1, 2, 3] [10, 2, 3]\n"
     ]
    }
   ],
   "source": [
    "# 얉은 복사\n",
    "b = a\n",
    "print(id(b)) # 14090184\n",
    "\n",
    "b.append(4)\n",
    "print(a, b)                     # [1, 2, 3, 4] [1, 2, 3, 4]\n",
    "print(f'a is b : {a is b}')     # True (주소 비교)\n",
    "print(f'a == b : {a == b}')     # True (값 비교)\n",
    "\n",
    "# 깊은 복사\n",
    "a = [1,2,3]\n",
    "b = a[:]\n",
    "print(f'a is b : {a is b}')      # False (주소 비교)\n",
    "print(f'a == b : {a == b}')      # True (값 비교)\n",
    "\n",
    "print(a, b)                      # [1, 2, 3] [1, 2, 3]\n",
    "b[0] = 10\n",
    "print(a, b)                      # [1, 2, 3] [10, 2, 3]"
   ]
  },
  {
   "cell_type": "code",
   "execution_count": 10,
   "metadata": {},
   "outputs": [
    {
     "name": "stdout",
     "output_type": "stream",
     "text": [
      "python life\n",
      "<class 'str'>\n",
      "node js\n",
      "python life\n",
      "node.js node.js\n"
     ]
    }
   ],
   "source": [
    "a, b = ('python', 'life')  # 튜플로 여러 개의 변수에 값 대입 가능\n",
    "print(a, b)  # python life\n",
    "print(type(a))\n",
    "\n",
    "a, b = 'node', 'js'  # 튜플은 괄호 생략 가능\n",
    "print(a, b)  # node js\n",
    "\n",
    "[a, b] = ['python', 'life']\n",
    "print(a, b)  # python life\n",
    "\n",
    "a = b = 'node.js'\n",
    "print(a, b)  # node.js node.js"
   ]
  },
  {
   "cell_type": "code",
   "execution_count": 6,
   "metadata": {},
   "outputs": [
    {
     "name": "stdout",
     "output_type": "stream",
     "text": [
      "python life\n"
     ]
    }
   ],
   "source": [
    "a, b = ['python', 'life']\n",
    "print(a, b)  # python life"
   ]
  },
  {
   "cell_type": "code",
   "execution_count": 11,
   "metadata": {},
   "outputs": [
    {
     "name": "stdout",
     "output_type": "stream",
     "text": [
      "<class 'str'>\n"
     ]
    }
   ],
   "source": [
    "print(type(a))"
   ]
  },
  {
   "cell_type": "code",
   "execution_count": 4,
   "metadata": {},
   "outputs": [
    {
     "name": "stdout",
     "output_type": "stream",
     "text": [
      "<class 'bool'>\n",
      "True False\n"
     ]
    }
   ],
   "source": [
    "a = True\n",
    "b = False\n",
    "print(type(a))                  # <class 'bool'>\n",
    "\n",
    "print(1 == 1, 1 > 2)            # True False"
   ]
  },
  {
   "cell_type": "code",
   "execution_count": 20,
   "metadata": {},
   "outputs": [
    {
     "name": "stdout",
     "output_type": "stream",
     "text": [
      "1789538626128 1789538626128 True\n",
      "1789538626448 1789538626128 False\n",
      "[1, 2, 3] [1, 2, 3] 1789631847488 1789631847488 True\n",
      "[1, 8, 3] [1, 8, 3] 1789631847488 1789631847488 True\n"
     ]
    }
   ],
   "source": [
    "a = 10\n",
    "b = a\n",
    "print(id(a), id(b), a is b)\n",
    "\n",
    "a = 20\n",
    "print(id(a), id(b), a is b)\n",
    "\n",
    "a = [1,2,3]\n",
    "b = a\n",
    "print(a, b, id(a), id(b), a is b)\n",
    "\n",
    "a[1] = 8\n",
    "print(a, b, id(a), id(b), a is b)\n"
   ]
  },
  {
   "cell_type": "code",
   "execution_count": 24,
   "metadata": {},
   "outputs": [
    {
     "name": "stdout",
     "output_type": "stream",
     "text": [
      "[1, 4, 3] [1, 4, 3] 1789631678016 1789631685632 False True\n"
     ]
    }
   ],
   "source": [
    "a = [1, 2, 3]\n",
    "b = a[:]\n",
    "a[1] = 4\n",
    "b[1] = 4\n",
    "print(a, b, id(a), id(b), a is b, a == b)\n"
   ]
  },
  {
   "cell_type": "code",
   "execution_count": null,
   "metadata": {},
   "outputs": [],
   "source": []
  }
 ],
 "metadata": {
  "interpreter": {
   "hash": "11f1dc213e07634baa4c5c321dec03c05dafae643c50f20e6d1a492290c05dc2"
  },
  "kernelspec": {
   "display_name": "Python 3.9.4 64-bit",
   "language": "python",
   "name": "python3"
  },
  "language_info": {
   "codemirror_mode": {
    "name": "ipython",
    "version": 3
   },
   "file_extension": ".py",
   "mimetype": "text/x-python",
   "name": "python",
   "nbconvert_exporter": "python",
   "pygments_lexer": "ipython3",
   "version": "3.9.4"
  },
  "orig_nbformat": 4
 },
 "nbformat": 4,
 "nbformat_minor": 2
}
