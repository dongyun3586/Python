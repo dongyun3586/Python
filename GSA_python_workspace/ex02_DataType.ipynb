{
 "cells": [
  {
   "cell_type": "code",
   "execution_count": 7,
   "metadata": {},
   "outputs": [
    {
     "name": "stdout",
     "output_type": "stream",
     "text": [
      "1 <class 'int'>\n",
      "3.14 <class 'float'>\n",
      "28 <class 'int'>\n",
      "42 <class 'int'>\n"
     ]
    }
   ],
   "source": [
    "# 숫자 자료형\n",
    "a = 1\n",
    "b = 3.14\n",
    "c = 0o34\n",
    "d = 0x2A\n",
    "\n",
    "print(a, type(a))\n",
    "print(b, type(b))\n",
    "print(c, type(c))\n",
    "print(d, type(d))"
   ]
  },
  {
   "cell_type": "code",
   "execution_count": null,
   "metadata": {},
   "outputs": [
    {
     "name": "stdout",
     "output_type": "stream",
     "text": [
      "A <class 'str'>\n",
      "A <class 'str'>\n",
      "Hello world <class 'str'>\n",
      "Hello world <class 'str'>\n"
     ]
    }
   ],
   "source": [
    "# 문자 자료형\n",
    "a = 'A'\n",
    "b = \"A\"\n",
    "c = 'Hello world'\n",
    "d = \"Hello world\"\n",
    "\n",
    "print(a, type(a))\n",
    "print(b, type(b))\n",
    "print(c, type(c))\n",
    "print(d, type(d))"
   ]
  },
  {
   "cell_type": "code",
   "execution_count": 17,
   "metadata": {},
   "outputs": [
    {
     "name": "stdout",
     "output_type": "stream",
     "text": [
      "3 <class 'str'>\n",
      "3 <class 'int'>\n",
      "3.0 <class 'float'>\n"
     ]
    }
   ],
   "source": [
    "# 형변환(Casting)\n",
    "x = str(3)    # x will be '3'\n",
    "y = int(3)    # y will be 3\n",
    "z = float(3)  # z will be 3.0\n",
    "\n",
    "print(x, type(x))\n",
    "print(y, type(y))\n",
    "print(z, type(z))"
   ]
  },
  {
   "cell_type": "code",
   "execution_count": 3,
   "metadata": {},
   "outputs": [
    {
     "name": "stdout",
     "output_type": "stream",
     "text": [
      "Life is too short\n",
      "You need python\n",
      "\n",
      "Life is too short\n",
      "You need python\n",
      "\n"
     ]
    }
   ],
   "source": [
    "# 문자열 표현, 이스케이프 문자 사용\n",
    "multiline = \"Life is too short\\nYou need python\"\n",
    "print(multiline)\n",
    "\n",
    "multiline = \"\"\"\n",
    "Life is too short\n",
    "You need python\n",
    "\"\"\"\n",
    "print(multiline)"
   ]
  },
  {
   "cell_type": "code",
   "execution_count": 5,
   "metadata": {},
   "outputs": [
    {
     "name": "stdout",
     "output_type": "stream",
     "text": [
      "I eat 3 apples.\n",
      "I ate 3 apples. so I was sick for three days.\n",
      "I eat 3 apples.\n",
      "I ate 3 apples. so I was sick for three days.\n",
      "나의 이름은 홍길동 입니다. 나이는 17 입니다.\n"
     ]
    }
   ],
   "source": [
    "# 문자열 포매팅(Formatting)\n",
    "# 문자열 포매팅(Formatting)\n",
    "# 1. % 이용\n",
    "print(\"I eat %d apples.\" % 3)\n",
    "print(\"I ate %d apples. so I was sick for %s days.\" % (3, 'three'))\n",
    "\n",
    "# 2. format() 함수 사용\n",
    "print(\"I eat {0} apples.\".format(3))\n",
    "print(\"I ate {0} apples. so I was sick for {1} days.\".format(3, 'three'))\n",
    "\n",
    "# 3. f 문자열 포매팅(3.6 이상 버전부터 사용 가능)\n",
    "name = '홍길동'\n",
    "age = 17\n",
    "print(f'나의 이름은 {name} 입니다. 나이는 {age} 입니다.')"
   ]
  },
  {
   "cell_type": "code",
   "execution_count": 14,
   "metadata": {},
   "outputs": [
    {
     "name": "stdout",
     "output_type": "stream",
     "text": [
      "Lifeistoo short\n",
      "Lifeistoo short\n",
      "Life is too short\n",
      "Hello---how are you?\n",
      "Life is too short, You need python.\n"
     ]
    }
   ],
   "source": [
    "# 큰따옴표(\")로 둘러싸인 문자열은 + 연산과 동일하다\n",
    "print(\"Life\" \"is\" \"too short\")\n",
    "print(\"Life\"+\"is\"+\"too short\")\n",
    "\n",
    "# 문자열 띄어쓰기는 콤마로 한다.\n",
    "print(\"Life\", \"is\", \"too short\")\n",
    "\n",
    "# 문자열 구분자\n",
    "print(\"Hello\", \"how are you?\", sep=\"---\")\n",
    "\n",
    "# 문자열 마지막 출력문자\n",
    "print(\"Life is too short,\", end=' ')\n",
    "print(\"You need python.\")"
   ]
  },
  {
   "cell_type": "code",
   "execution_count": 13,
   "metadata": {},
   "outputs": [
    {
     "name": "stdout",
     "output_type": "stream",
     "text": [
      "Hello\n",
      "3.14 <class 'str'>\n"
     ]
    }
   ],
   "source": [
    "# 입력 함수 => input(\"질문 내용\")\n",
    "s = input()\n",
    "print(s)\n",
    "\n",
    "number = input(\"숫자를 입력하세요: \")\n",
    "print(number, type(number))"
   ]
  },
  {
   "cell_type": "code",
   "execution_count": 20,
   "metadata": {},
   "outputs": [
    {
     "name": "stdout",
     "output_type": "stream",
     "text": [
      "a=3, b=4\n",
      "a=4, b=3\n"
     ]
    }
   ],
   "source": [
    "# (연습문제3) 변수값 교환하기\n",
    "a = input(\"첫 번째 숫자 입력: \")\n",
    "b = input(\"두 번째 숫자 입력: \")\n",
    "print(f'a={a}, b={b}')\n",
    "\n",
    "a, b = b, a\n",
    "print(f'a={a}, b={b}')"
   ]
  },
  {
   "cell_type": "code",
   "execution_count": null,
   "metadata": {},
   "outputs": [],
   "source": []
  }
 ],
 "metadata": {
  "interpreter": {
   "hash": "5fca21ad9a88cea9ca2415063f0b9d5458bbf828e19cdb66b895214e4b1718d2"
  },
  "kernelspec": {
   "display_name": "Python 3.10.0 64-bit",
   "language": "python",
   "name": "python3"
  },
  "language_info": {
   "codemirror_mode": {
    "name": "ipython",
    "version": 3
   },
   "file_extension": ".py",
   "mimetype": "text/x-python",
   "name": "python",
   "nbconvert_exporter": "python",
   "pygments_lexer": "ipython3",
   "version": "3.10.0"
  },
  "orig_nbformat": 4
 },
 "nbformat": 4,
 "nbformat_minor": 2
}
