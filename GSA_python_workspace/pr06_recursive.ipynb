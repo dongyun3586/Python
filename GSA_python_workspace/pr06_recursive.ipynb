{
 "cells": [
  {
   "cell_type": "code",
   "execution_count": 1,
   "metadata": {},
   "outputs": [
    {
     "name": "stdout",
     "output_type": "stream",
     "text": [
      "1 2 3 4 5 6 7 8 9 10 "
     ]
    }
   ],
   "source": [
    "# 1번. print_numbers(n)을 호출하면 1 ~ n까지의 숫자들을 출력하는 함수\n",
    "def print_numbers(n):\n",
    "    if n == 0:\n",
    "        return\n",
    "    print_numbers(n-1)    \n",
    "    print(n, end=' ')\n",
    "\n",
    "print_numbers(10)\n",
    "    "
   ]
  },
  {
   "cell_type": "code",
   "execution_count": 5,
   "metadata": {},
   "outputs": [
    {
     "name": "stdout",
     "output_type": "stream",
     "text": [
      "f(3) : 3 4 5 "
     ]
    }
   ],
   "source": [
    "# 2번. print_numbers(n))을 호출하면 n ~ END_NUM까지의 숫자들을 출력하는 함수\n",
    "END_NUM = 5\n",
    "\n",
    "def print_numbers(n):\n",
    "    if n > END_NUM: \n",
    "        return\n",
    "    print(n, end=' ')\n",
    "    print_numbers(n + 1)\n",
    "\n",
    "n = int(input())\n",
    "print(f'f({n}) : ', end='')\n",
    "print_numbers(n)\n",
    "    "
   ]
  },
  {
   "cell_type": "code",
   "execution_count": 6,
   "metadata": {},
   "outputs": [
    {
     "name": "stdout",
     "output_type": "stream",
     "text": [
      "4995\n"
     ]
    }
   ],
   "source": [
    "# 3번. sum(a, b)를 호출하면 a ~ b까지의 합계를 반환하는 함수\n",
    "def sum(a, b):\n",
    "    if a == b:\n",
    "        return a\n",
    "    \n",
    "    return a + sum(a+1, b)\n",
    "\n",
    "a, b = map(int, input('a, b값 입력: ').split())\n",
    "print(sum(a, b))"
   ]
  },
  {
   "cell_type": "code",
   "execution_count": 8,
   "metadata": {},
   "outputs": [
    {
     "name": "stdout",
     "output_type": "stream",
     "text": [
      "1 2 3 4 5 4 3 2 1 "
     ]
    }
   ],
   "source": [
    "# 4번. END_NUM = 5 으로 지정하고, f(1)을 호출하면 1 ~ END_NUM ~ 1을 출력하는 함수\n",
    "END_NUM = 5\n",
    "\n",
    "def f(n):\n",
    "    if n >= END_NUM:\n",
    "        print(n, end=' ')\n",
    "        return\n",
    "    print(n, end=' ')\n",
    "    f(n+1)\n",
    "    print(n, end=' ')\n",
    "    \n",
    "f(1)"
   ]
  },
  {
   "cell_type": "code",
   "execution_count": 9,
   "metadata": {},
   "outputs": [
    {
     "name": "stdout",
     "output_type": "stream",
     "text": [
      "1 2 3 4 5 1 2 3 4 5 "
     ]
    }
   ],
   "source": [
    "# 5번. END_NUM = 5 으로 지정하고, f(1)을 호출하면 1 ~ END_NUM 1 ~ END_NUM을 출력하는 함수\n",
    "END_NUM = 5\n",
    "\n",
    "def f(n):\n",
    "    if n > END_NUM:\n",
    "        return\n",
    "    \n",
    "    print(n, end=' ')   # 1 2 3 4 5\n",
    "    f(n+1)\n",
    "    print(END_NUM - n + 1, end=' ')\n",
    "    \n",
    "f(1)"
   ]
  },
  {
   "cell_type": "code",
   "execution_count": 10,
   "metadata": {},
   "outputs": [
    {
     "name": "stdout",
     "output_type": "stream",
     "text": [
      "1 \n",
      "1 2 \n",
      "1 2 3 \n",
      "1 2 3 4 \n",
      "1 2 3 4 5 \n"
     ]
    }
   ],
   "source": [
    "# 6번. END_NUM = 5를 설정하고 f(1)을 호출하면 아래와 같이 출력하는 함수\n",
    "# 1\n",
    "# 1 2\n",
    "# 1 2 3\n",
    "# 1 2 3 4\n",
    "# 1 2 3 4 5\n",
    "\n",
    "END_NUM = 5\n",
    "\n",
    "def f(n):\n",
    "    if n > END_NUM:\n",
    "        return\n",
    "    \n",
    "    for i in range(1, n+1):\n",
    "        print(i, end=' ')\n",
    "    print()\n",
    "    f(n+1)\n",
    "\n",
    "f(1)"
   ]
  },
  {
   "cell_type": "code",
   "execution_count": 16,
   "metadata": {},
   "outputs": [
    {
     "name": "stdout",
     "output_type": "stream",
     "text": [
      "[0, 0, 0, 0]\n",
      "[0, 0, 0, 1]\n",
      "[0, 0, 1, 0]\n",
      "[0, 0, 1, 1]\n",
      "[0, 1, 0, 0]\n",
      "[0, 1, 0, 1]\n",
      "[0, 1, 1, 0]\n",
      "[0, 1, 1, 1]\n",
      "[1, 0, 0, 0]\n",
      "[1, 0, 0, 1]\n",
      "[1, 0, 1, 0]\n",
      "[1, 0, 1, 1]\n",
      "[1, 1, 0, 0]\n",
      "[1, 1, 0, 1]\n",
      "[1, 1, 1, 0]\n",
      "[1, 1, 1, 1]\n"
     ]
    }
   ],
   "source": [
    "# 7번. 부분집합 출력하기\n",
    "END_NUM = int(input('부분집합 요소의 개수: '))\n",
    "subset = [0] * END_NUM\n",
    "\n",
    "def dfs(n):\n",
    "    if n >= END_NUM:\n",
    "        print(subset)\n",
    "        return\n",
    "    \n",
    "    subset[n] = 0\n",
    "    dfs(n+1)\n",
    "    subset[n] = 1\n",
    "    dfs(n+1)\n",
    "    \n",
    "dfs(0)\n",
    "        "
   ]
  },
  {
   "cell_type": "code",
   "execution_count": 18,
   "metadata": {},
   "outputs": [
    {
     "name": "stdout",
     "output_type": "stream",
     "text": [
      "i= 0  [0, 0, 0, 0]\n",
      "i= 1  [0, 0, 0, 1]\n",
      "i= 2  [0, 0, 1, 0]\n",
      "i= 3  [0, 0, 1, 1]\n",
      "i= 4  [0, 1, 0, 0]\n",
      "i= 5  [0, 1, 0, 1]\n",
      "i= 6  [0, 1, 1, 0]\n",
      "i= 7  [0, 1, 1, 1]\n",
      "i= 8  [1, 0, 0, 0]\n",
      "i= 9  [1, 0, 0, 1]\n",
      "i=10  [1, 0, 1, 0]\n",
      "i=11  [1, 0, 1, 1]\n",
      "i=12  [1, 1, 0, 0]\n",
      "i=13  [1, 1, 0, 1]\n",
      "i=14  [1, 1, 1, 0]\n",
      "i=15  [1, 1, 1, 1]\n"
     ]
    }
   ],
   "source": [
    "# 비트연산\n",
    "n = int(input('부분집합 요소의 개수: '))\n",
    "subset = [0] * n\n",
    "\n",
    "for i in range(1<<n):\n",
    "    for j in range(n):\n",
    "        subset[j] = 1 if i & (1<<j) else 0\n",
    "    print(f'i={i:2d} ', list(reversed(subset)))"
   ]
  },
  {
   "cell_type": "code",
   "execution_count": null,
   "metadata": {},
   "outputs": [],
   "source": []
  }
 ],
 "metadata": {
  "interpreter": {
   "hash": "5fca21ad9a88cea9ca2415063f0b9d5458bbf828e19cdb66b895214e4b1718d2"
  },
  "kernelspec": {
   "display_name": "Python 3.10.0 64-bit",
   "language": "python",
   "name": "python3"
  },
  "language_info": {
   "codemirror_mode": {
    "name": "ipython",
    "version": 3
   },
   "file_extension": ".py",
   "mimetype": "text/x-python",
   "name": "python",
   "nbconvert_exporter": "python",
   "pygments_lexer": "ipython3",
   "version": "3.10.0"
  },
  "orig_nbformat": 4
 },
 "nbformat": 4,
 "nbformat_minor": 2
}
