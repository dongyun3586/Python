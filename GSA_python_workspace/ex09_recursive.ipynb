{
 "cells": [
  {
   "cell_type": "code",
   "execution_count": 45,
   "metadata": {},
   "outputs": [
    {
     "name": "stdout",
     "output_type": "stream",
     "text": [
      "3\n",
      "2\n",
      "1\n",
      "0\n"
     ]
    }
   ],
   "source": [
    "# count_down(n)을 호출하면 n ~ 0까지 카운트다운 숫자를 출력\n",
    "def count_down(n):\n",
    "    print(n)\n",
    "    \n",
    "    if n > 0:\n",
    "        count_down(n-1)\n",
    "\n",
    "count_down(3)"
   ]
  },
  {
   "cell_type": "code",
   "execution_count": 41,
   "metadata": {},
   "outputs": [
    {
     "name": "stdout",
     "output_type": "stream",
     "text": [
      "3\n",
      "2\n",
      "1\n",
      "0\n"
     ]
    }
   ],
   "source": [
    "def count_down(n):\n",
    "    print(n)\n",
    "    \n",
    "    if n == 0: \n",
    "        return 0\n",
    "    count_down(n-1)\n",
    "\n",
    "count_down(3)"
   ]
  },
  {
   "cell_type": "code",
   "execution_count": 2,
   "metadata": {},
   "outputs": [
    {
     "name": "stdout",
     "output_type": "stream",
     "text": [
      "3\n",
      "2\n",
      "1\n",
      "0\n"
     ]
    }
   ],
   "source": [
    "def count_down(n):\n",
    "    if n < 0: \n",
    "        return\n",
    "    \n",
    "    print(n)\n",
    "    count_down(n-1)\n",
    "\n",
    "count_down(3)"
   ]
  },
  {
   "cell_type": "code",
   "execution_count": 56,
   "metadata": {},
   "outputs": [
    {
     "name": "stdout",
     "output_type": "stream",
     "text": [
      "f(0) : 5 4 3 2 1 0 "
     ]
    }
   ],
   "source": [
    "# print_numbers(n))을 호출하면 END_NUM ~ n까지의 숫자들을 출력하는 함수\n",
    "END_NUM = 5\n",
    "\n",
    "def print_numbers(n):\n",
    "    if n > END_NUM: \n",
    "        return \n",
    "    print_numbers(n + 1)\n",
    "    print(n, end=' ')\n",
    "\n",
    "n = 0\n",
    "print(f'f({n}) : ', end='')\n",
    "print_numbers(n)"
   ]
  },
  {
   "cell_type": "code",
   "execution_count": 1,
   "metadata": {},
   "outputs": [
    {
     "name": "stdout",
     "output_type": "stream",
     "text": [
      "fibonacci( 1) =  0\n",
      "fibonacci( 2) =  1\n",
      "fibonacci( 3) =  1\n",
      "fibonacci( 4) =  2\n",
      "fibonacci( 5) =  3\n",
      "fibonacci( 6) =  5\n",
      "fibonacci( 7) =  8\n",
      "fibonacci( 8) = 13\n",
      "fibonacci( 9) = 21\n",
      "fibonacci(10) = 34\n",
      "fibonacci(11) = 55\n",
      "fibonacci(12) = 89\n",
      "fibonacci(13) = 144\n",
      "fibonacci(14) = 233\n",
      "fibonacci(15) = 377\n",
      "fibonacci(16) = 610\n",
      "fibonacci(17) = 987\n",
      "fibonacci(18) = 1597\n",
      "fibonacci(19) = 2584\n",
      "fibonacci(20) = 4181\n",
      "fibonacci(21) = 6765\n",
      "fibonacci(22) = 10946\n",
      "fibonacci(23) = 17711\n",
      "fibonacci(24) = 28657\n",
      "fibonacci(25) = 46368\n",
      "fibonacci(26) = 75025\n",
      "fibonacci(27) = 121393\n",
      "fibonacci(28) = 196418\n",
      "fibonacci(29) = 317811\n",
      "fibonacci(30) = 514229\n",
      "fibonacci(31) = 832040\n",
      "fibonacci(32) = 1346269\n",
      "fibonacci(33) = 2178309\n",
      "fibonacci(34) = 3524578\n",
      "fibonacci(35) = 5702887\n",
      "fibonacci(36) = 9227465\n",
      "fibonacci(37) = 14930352\n",
      "fibonacci(38) = 24157817\n",
      "fibonacci(39) = 39088169\n",
      "fibonacci(40) = 63245986\n"
     ]
    }
   ],
   "source": [
    "# 피보나치 수열\n",
    "def fibonacci(n):\n",
    "    if n == 0 or n == 1:\n",
    "        return n\n",
    "    \n",
    "    return fibonacci(n-1) + fibonacci(n-2)\n",
    "\n",
    "for i in range(40):\n",
    "    print(f'fibonacci({i+1:2d}) = {fibonacci(i):2d}')"
   ]
  },
  {
   "cell_type": "code",
   "execution_count": 10,
   "metadata": {},
   "outputs": [
    {
     "name": "stdout",
     "output_type": "stream",
     "text": [
      "102334155 331160281\n"
     ]
    }
   ],
   "source": [
    "# 피보나치 수열 => 함수 호출 횟수 세기\n",
    "def fibonacci(n):\n",
    "    global count\n",
    "    count += 1\n",
    "    if n == 0 or n == 1:\n",
    "        return n\n",
    "    \n",
    "    return fibonacci(n-1) + fibonacci(n-2)\n",
    "\n",
    "count = 0\n",
    "\n",
    "print(fibonacci(40), count)"
   ]
  },
  {
   "cell_type": "code",
   "execution_count": 11,
   "metadata": {},
   "outputs": [
    {
     "name": "stdout",
     "output_type": "stream",
     "text": [
      "63245986\n",
      "{1: 0, 2: 1, 3: 1, 4: 2, 5: 3, 6: 5, 7: 8, 8: 13, 9: 21, 10: 34, 11: 55, 12: 89, 13: 144, 14: 233, 15: 377, 16: 610, 17: 987, 18: 1597, 19: 2584, 20: 4181, 21: 6765, 22: 10946, 23: 17711, 24: 28657, 25: 46368, 26: 75025, 27: 121393, 28: 196418, 29: 317811, 30: 514229, 31: 832040, 32: 1346269, 33: 2178309, 34: 3524578, 35: 5702887, 36: 9227465, 37: 14930352, 38: 24157817, 39: 39088169, 40: 63245986}\n"
     ]
    }
   ],
   "source": [
    "# 피보나치 수열 memorization 기법\n",
    "memo = {1:0, 2:1}\n",
    "\n",
    "def fibonacci(n):\n",
    "    if n in memo:\n",
    "        return memo[n]\n",
    "    else:\n",
    "        output = fibonacci(n-1) + fibonacci(n-2)\n",
    "        memo[n] = output\n",
    "        return output\n",
    "\n",
    "print(fibonacci(40))\n",
    "print(memo)"
   ]
  },
  {
   "cell_type": "code",
   "execution_count": 28,
   "metadata": {},
   "outputs": [
    {
     "name": "stdout",
     "output_type": "stream",
     "text": [
      "1 2 3 4 5 5 4 3 2 1 "
     ]
    }
   ],
   "source": [
    "# END_NUM = 5 으로 지정하고, f(1)을 호출하면 1 ~ END_NUM END_NUM ~ 1을 출력하는 함수\n",
    "END_NUM = 5\n",
    "\n",
    "def f(n):\n",
    "    if n > END_NUM:\n",
    "        return\n",
    "    print(n, end=' ')\n",
    "    f(n+1)\n",
    "    print(n, end=' ')\n",
    "    \n",
    "f(1)"
   ]
  },
  {
   "cell_type": "code",
   "execution_count": 83,
   "metadata": {},
   "outputs": [
    {
     "name": "stdout",
     "output_type": "stream",
     "text": [
      "1 2 3 3 3 2 3 3 3 2 1 2 3 3 3 2 3 3 3 2 1 "
     ]
    }
   ],
   "source": [
    "# 재귀함수 안에서 재귀호출을 2회 이상 하는 경우, 실행과정을 분석해보자. \n",
    "END_NUM = 3\n",
    "\n",
    "def f(n):\n",
    "    if n > END_NUM:\n",
    "        return\n",
    "    \n",
    "    print(n, end=' ')\n",
    "    f(n+1)\n",
    "    print(n, end=' ')\n",
    "    f(n+1)\n",
    "    print(n, end=' ')\n",
    "\n",
    "f(1)"
   ]
  },
  {
   "cell_type": "code",
   "execution_count": 33,
   "metadata": {},
   "outputs": [
    {
     "name": "stdout",
     "output_type": "stream",
     "text": [
      "[0, 0, 0]\n",
      "[0, 0, 1]\n",
      "[0, 1, 0]\n",
      "[0, 1, 1]\n",
      "[1, 0, 0]\n",
      "[1, 0, 1]\n",
      "[1, 1, 0]\n",
      "[1, 1, 1]\n"
     ]
    }
   ],
   "source": [
    "# for문으로 부분집합 표현\n",
    "subset = [0] * 3\n",
    "for i in range(2):\n",
    "    subset[0] = i\n",
    "    for j in range(2):\n",
    "        subset[1] = j\n",
    "        for k in range(2):\n",
    "            subset[2] = k\n",
    "            print(subset)\n",
    "                \n",
    "    "
   ]
  },
  {
   "cell_type": "code",
   "execution_count": null,
   "metadata": {},
   "outputs": [],
   "source": [
    "# 부분집합의 개념\n",
    "0개 : {}\n",
    "1개 : {1}, {2}, {3}, {4}\n",
    "2개 : {1, 2}, {1, 3}, {1, 4}, {2, 3}, {2, 4}, {3, 4}\n",
    "3개 : {1, 2, 3}, {1, 2, 4}, {1, 3, 4}, {2, 3, 4}\n",
    "4개 : {1, 2, 3, 4}\n",
    "1 + 4 + 6 + 4 + 1 = 16개"
   ]
  },
  {
   "cell_type": "code",
   "execution_count": 91,
   "metadata": {},
   "outputs": [
    {
     "name": "stdout",
     "output_type": "stream",
     "text": [
      "1\n",
      "2\n",
      "4\n",
      "8\n"
     ]
    }
   ],
   "source": [
    "# 비트 연산이란?\n",
    "1<<4\n",
    "2**4\n",
    "for i in range(4):\n",
    "    print(1<<i)"
   ]
  },
  {
   "cell_type": "code",
   "execution_count": 106,
   "metadata": {},
   "outputs": [
    {
     "name": "stdout",
     "output_type": "stream",
     "text": [
      "      1 2 4 8\n",
      "i=0 : 0 0 0 0 \n",
      "i=1 : 1 0 0 0 \n",
      "i=2 : 0 2 0 0 \n",
      "i=3 : 1 2 0 0 \n",
      "i=4 : 0 0 4 0 \n",
      "i=5 : 1 0 4 0 \n",
      "i=6 : 0 2 4 0 \n",
      "i=7 : 1 2 4 0 \n",
      "i=8 : 0 0 0 8 \n"
     ]
    }
   ],
   "source": [
    "# & 연산\n",
    "print('      1 2 4 8')\n",
    "for i in range(9):\n",
    "    print(f'i={i} : ', end='')\n",
    "    for j in range(4):\n",
    "        print(i & 1<<j, end=' ')\n",
    "    print()"
   ]
  },
  {
   "cell_type": "code",
   "execution_count": 26,
   "metadata": {},
   "outputs": [
    {
     "name": "stdout",
     "output_type": "stream",
     "text": [
      "Delivering presents to Eric's house\n",
      "Delivering presents to Kenny's house\n",
      "Delivering presents to Kyle's house\n",
      "Delivering presents to Stan's house\n"
     ]
    }
   ],
   "source": [
    "houses = [\"Eric's house\", \"Kenny's house\", \"Kyle's house\", \"Stan's house\"]\n",
    "\n",
    "def deliver_presents_iteratively():\n",
    "    for house in houses:\n",
    "        print(\"Delivering presents to\", house)\n",
    "\n",
    "deliver_presents_iteratively()"
   ]
  },
  {
   "cell_type": "code",
   "execution_count": 29,
   "metadata": {},
   "outputs": [
    {
     "name": "stdout",
     "output_type": "stream",
     "text": [
      "Delivering presents to Eric's house\n",
      "Delivering presents to Kenny's house\n",
      "Delivering presents to Kyle's house\n",
      "Delivering presents to Stan's house\n"
     ]
    }
   ],
   "source": [
    "houses = [\"Eric's house\", \"Kenny's house\", \"Kyle's house\", \"Stan's house\"]\n",
    "\n",
    "# Each function call represents an elf doing his work \n",
    "def deliver_presents_recursively(houses):\n",
    "    # Worker elf doing his work\n",
    "    if len(houses) == 1:\n",
    "        house = houses[0]\n",
    "        print(\"Delivering presents to\", house)\n",
    "\n",
    "    # Manager elf doing his work\n",
    "    else:\n",
    "        mid = len(houses) // 2\n",
    "        first_half = houses[:mid]\n",
    "        second_half = houses[mid:]\n",
    "\n",
    "        # Divides his work among two elves\n",
    "        deliver_presents_recursively(first_half)\n",
    "        deliver_presents_recursively(second_half)\n",
    "        \n",
    "deliver_presents_recursively(houses)"
   ]
  },
  {
   "cell_type": "code",
   "execution_count": 25,
   "metadata": {},
   "outputs": [
    {
     "name": "stdout",
     "output_type": "stream",
     "text": [
      "Delivering presents to Eric's house\n",
      "Delivering presents to Kenny's house\n",
      "Delivering presents to Kyle's house\n",
      "Delivering presents to Stan's house\n"
     ]
    }
   ],
   "source": [
    "deliver_presents_recursively(houses)"
   ]
  },
  {
   "cell_type": "code",
   "execution_count": null,
   "metadata": {},
   "outputs": [],
   "source": []
  }
 ],
 "metadata": {
  "interpreter": {
   "hash": "1b962963a6bb670d7ed207e7afec9dc3d3102a18b62a5651cb056d257a210f2c"
  },
  "kernelspec": {
   "display_name": "Python 3.8.8 64-bit (conda)",
   "language": "python",
   "name": "python3"
  },
  "language_info": {
   "codemirror_mode": {
    "name": "ipython",
    "version": 3
   },
   "file_extension": ".py",
   "mimetype": "text/x-python",
   "name": "python",
   "nbconvert_exporter": "python",
   "pygments_lexer": "ipython3",
   "version": "3.8.8"
  },
  "orig_nbformat": 4
 },
 "nbformat": 4,
 "nbformat_minor": 2
}
