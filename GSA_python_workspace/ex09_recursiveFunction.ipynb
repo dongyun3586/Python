{
 "cells": [
  {
   "cell_type": "code",
   "execution_count": 10,
   "metadata": {},
   "outputs": [
    {
     "name": "stdout",
     "output_type": "stream",
     "text": [
      "1 2 3 4 5 "
     ]
    }
   ],
   "source": [
    "# f(1)을 호출하면 1 2 3 4 5까지 5개의 숫자를 출력하는 재귀함수\n",
    "N = 5\n",
    "def f(level):\n",
    "    if level > N:\n",
    "        return \n",
    "    print(level, end=' ')\n",
    "    f(level + 1)\n",
    "\n",
    "f(1)\n",
    "    "
   ]
  },
  {
   "cell_type": "code",
   "execution_count": 11,
   "metadata": {},
   "outputs": [
    {
     "name": "stdout",
     "output_type": "stream",
     "text": [
      "5 4 3 2 1 "
     ]
    }
   ],
   "source": [
    "# f(1)을 호출하면 5 4 3 2 1까지 5개의 숫자를 출력하는 재귀함수\n",
    "N = 5\n",
    "def f(level):\n",
    "    if level > N:\n",
    "        return \n",
    "    f(level + 1)\n",
    "    print(level, end=' ')\n",
    "\n",
    "f(1)"
   ]
  },
  {
   "cell_type": "code",
   "execution_count": null,
   "metadata": {},
   "outputs": [],
   "source": []
  }
 ],
 "metadata": {
  "interpreter": {
   "hash": "1b962963a6bb670d7ed207e7afec9dc3d3102a18b62a5651cb056d257a210f2c"
  },
  "kernelspec": {
   "display_name": "Python 3.8.8 64-bit (conda)",
   "language": "python",
   "name": "python3"
  },
  "language_info": {
   "codemirror_mode": {
    "name": "ipython",
    "version": 3
   },
   "file_extension": ".py",
   "mimetype": "text/x-python",
   "name": "python",
   "nbconvert_exporter": "python",
   "pygments_lexer": "ipython3",
   "version": "3.8.8"
  },
  "orig_nbformat": 4
 },
 "nbformat": 4,
 "nbformat_minor": 2
}
