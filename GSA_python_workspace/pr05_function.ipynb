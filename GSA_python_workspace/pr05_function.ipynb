{
 "cells": [
  {
   "cell_type": "code",
   "execution_count": 1,
   "metadata": {},
   "outputs": [
    {
     "name": "stdout",
     "output_type": "stream",
     "text": [
      "5! = 120\n"
     ]
    }
   ],
   "source": [
    "# 1번. 팩토리얼 계산 함수\n",
    "def factorial(n):\n",
    "    result = 1\n",
    "    for i in range(1, n+1):\n",
    "        result*=i\n",
    "    return result\n",
    "\n",
    "n = int(input('팩토리얼 값? '))\n",
    "print(f'{n}! = {factorial(n)}')"
   ]
  },
  {
   "cell_type": "code",
   "execution_count": 24,
   "metadata": {},
   "outputs": [
    {
     "name": "stdout",
     "output_type": "stream",
     "text": [
      "C(10, 3) = 120\n"
     ]
    }
   ],
   "source": [
    "# 2번. 조합(combination) 계산하기\n",
    "def combination(n, r):\n",
    "    return factorial(n)//(factorial(n-r)*factorial(r))\n",
    "\n",
    "n, r = map(int, input(\"조합을 계산할 n과 r을 입력하시오: \").split())\n",
    "print(f'C({n}, {r}) = {combination(n, r)}')"
   ]
  },
  {
   "cell_type": "code",
   "execution_count": 3,
   "metadata": {},
   "outputs": [
    {
     "name": "stdout",
     "output_type": "stream",
     "text": [
      "2 3 5 7 11 13 17 19 23 29 31 37 41 43 47 53 59 61 67 71 73 79 83 89 97 \n",
      "1~100 사이의 소수: 25개\n"
     ]
    }
   ],
   "source": [
    "# 3번. a~b 사이의 모든 소수와 소수의 개수 출력\n",
    "def checkPrimeNumber(n):\n",
    "    if n<2: return False\n",
    "    for i in range(2, n):\n",
    "        if n%i==0: return False\n",
    "    return True\n",
    "\n",
    "a, b = map(int, input(\"소수를 구할 범위(양의 정수, a<=b)를 입력하시오: \").split())\n",
    "\n",
    "# a~b 사이의 소수 모두 출력\n",
    "count=0\n",
    "for i in range(a, b+1):\n",
    "    if checkPrimeNumber(i): \n",
    "        print(i, end=' ')\n",
    "        count+=1\n",
    "print()\n",
    "\n",
    "# a~b 사이의 소수의 개수 출력 => count 변수 출력\n",
    "print(f'{a}~{b} 사이의 소수: {count}개')"
   ]
  },
  {
   "cell_type": "code",
   "execution_count": 12,
   "metadata": {},
   "outputs": [
    {
     "name": "stdout",
     "output_type": "stream",
     "text": [
      "100 = 3 + 97\n",
      "100 = 11 + 89\n",
      "100 = 17 + 83\n",
      "100 = 29 + 71\n",
      "100 = 41 + 59\n",
      "100 = 47 + 53\n"
     ]
    }
   ],
   "source": [
    "# 4번. 양의 정수를 소수의 합으로 표현하기\n",
    "n = int(input(\"양의 정수: \"))\n",
    "\n",
    "flag = True\n",
    "for i in range(n//2):\n",
    "    if checkPrimeNumber(i) and checkPrimeNumber(n-i):\n",
    "        print(f'{n} = {i} + {n-i}')\n",
    "        flag = False\n",
    "\n",
    "if flag:\n",
    "    print(f'{n}은 소수의 합으로 표현할 수 없습니다.')\n",
    "\n",
    "    "
   ]
  },
  {
   "cell_type": "code",
   "execution_count": 58,
   "metadata": {},
   "outputs": [
    {
     "name": "stdout",
     "output_type": "stream",
     "text": [
      "[826, 874, 849, 887, 122, 299, 11, 364, 653, 981]\n",
      "리스트에서 가장 큰 값: 981\n",
      "리스트에서 가장 작은 값: 11\n"
     ]
    }
   ],
   "source": [
    "# 5번. 리스트에서 가장 큰 값, 작은 값 찾기\n",
    "from random import randint\n",
    "\n",
    "arr = []\n",
    "#  리스트에 1~1000 사이의 랜덤값 저장\n",
    "for i in range(10):\n",
    "    arr.append(randint(1, 1000))\n",
    "\n",
    "# 리스트의 모든 요소 출력하기\n",
    "print(arr)\n",
    "\n",
    "# 리스트에서 가장 큰 값과 작은 값 출력하기     \n",
    "min = max = arr[0]\n",
    "for i in arr:\n",
    "    if min>i: min=i\n",
    "    if max<i: max=i\n",
    "\n",
    "print(f'리스트에서 가장 큰 값: {max}')\n",
    "print(f'리스트에서 가장 작은 값: {min}')"
   ]
  },
  {
   "cell_type": "code",
   "execution_count": 73,
   "metadata": {},
   "outputs": [
    {
     "name": "stdout",
     "output_type": "stream",
     "text": [
      "[43.95436106248467, 19.00855205747075, 64.85272503046018, 95.94145283601227, 1.7976407459968202]\n",
      "평균: 45.11094634648494\n",
      "분산: 1106.44\n",
      "표준 편차: 33.26\n"
     ]
    }
   ],
   "source": [
    "import random\n",
    "from math import pow, sqrt\n",
    "\n",
    "# 랜덤 리스트 생성 함수\n",
    "def generateRandomNum(n):\n",
    "    arr = []\n",
    "    for i in range(n):\n",
    "        arr.append(random.random()*100)\n",
    "    return arr\n",
    "\n",
    "# 표준편차 계산 함수\n",
    "def calculateSD(n):\n",
    "    global arr\n",
    "    \n",
    "    # 평균 계산\n",
    "    mean = sum(arr)/n\n",
    "    print(f'평균: {mean}')\n",
    "    \n",
    "    # 분산 계산\n",
    "    sd = 0\n",
    "    for i in range(n):\n",
    "        sd += pow(arr[i]-mean, 2)\n",
    "    sd /= n\n",
    "    print(f'분산: {sd:0.2f}')\n",
    "    \n",
    "    return sqrt(sd)\n",
    "        \n",
    "\n",
    "n = 5\n",
    "# n개 요소로 이루어진 리스트 생성\n",
    "arr = generateRandomNum(n)\n",
    "# arr = [1,2,3,4,5]\n",
    "\n",
    "# 리스트 출력\n",
    "print(arr)\n",
    "\n",
    "# 표준 편차 출력\n",
    "print(f'표준 편차: {calculateSD(n):0.2f}')\n",
    "\n"
   ]
  },
  {
   "cell_type": "code",
   "execution_count": 76,
   "metadata": {},
   "outputs": [
    {
     "name": "stdout",
     "output_type": "stream",
     "text": [
      "[95.20099956960829, 92.19927787101844, 30.26746077360354, 16.42236798762603, 86.95785276396593]\n",
      "평균: 64.20959179316444\n",
      "분산: 1139.41\n",
      "표준 편차: 33.76\n"
     ]
    }
   ],
   "source": [
    "import random\n",
    "from math import pow, sqrt\n",
    "\n",
    "# 랜덤 리스트 생성 함수\n",
    "def generateRandomNum(n):\n",
    "    arr = []\n",
    "    for i in range(n):\n",
    "        arr.append(random.random()*100)\n",
    "    return arr\n",
    "\n",
    "# 표준편차 계산 함수\n",
    "def calculateSD(arr, n):\n",
    "    # 평균 계산\n",
    "    mean = sum(arr)/n\n",
    "    print(f'평균: {mean}')\n",
    "    \n",
    "    # 분산 계산\n",
    "    sd = 0\n",
    "    for i in range(n):\n",
    "        sd += pow(arr[i]-mean, 2)\n",
    "    sd /= n\n",
    "    print(f'분산: {sd:0.2f}')\n",
    "    \n",
    "    return sqrt(sd)\n",
    "        \n",
    "\n",
    "n = 5\n",
    "# n개 요소로 이루어진 리스트 생성\n",
    "arr = generateRandomNum(n)\n",
    "# arr = [1,2,3,4,5]\n",
    "\n",
    "# 리스트 출력\n",
    "print(arr)\n",
    "\n",
    "# 표준 편차 출력\n",
    "print(f'표준 편차: {calculateSD(arr, n):0.2f}')\n",
    "\n"
   ]
  },
  {
   "cell_type": "code",
   "execution_count": null,
   "metadata": {},
   "outputs": [],
   "source": [
    "from random import randint\n",
    "\n",
    "n = 100\n",
    "\n",
    "# 1~100사이의 랜덤 요소를 가진 리스트 생성\n",
    "arr = [randint(1, 100) for i in range(n)]\n",
    "\n",
    "# 리스트 출력\n",
    "print(f'초기 랜덤 리스트의 크기 : {len(arr)}')\n",
    "print(arr)\n",
    "\n",
    "# 정렬 후 리스트 출력\n",
    "arr.sort()\n",
    "print('\\n정렬 후 리스트\\n', arr)\n",
    "\n",
    "# 중복 요소들의 빈도수\n",
    "freq = [0] * n\n",
    "for i in range(n):\n",
    "    count = 1\n",
    "    for j in range(i+1, n):\n",
    "        if arr[i] == arr[j]:\n",
    "            count += 1\n",
    "            freq[j] = -1\n",
    "    if(freq[i] == 0):\n",
    "        freq[i] = count\n",
    "\n",
    "print('\\n중복 요소들의 빈도수')\n",
    "for i in range(n):\n",
    "    if(freq[i]>0):\n",
    "        print(f'{arr[i]}:{freq[i]}', end=' ')\n",
    "\n",
    "# 중복 요소 제거\n",
    "arr = list(set(arr))\n",
    "arr.sort()\n",
    "\n",
    "print(f'\\n\\n중복 요소를 제거한 리스트의 크기: {len(arr)}')\n",
    "print(arr)"
   ]
  },
  {
   "cell_type": "code",
   "execution_count": 118,
   "metadata": {},
   "outputs": [
    {
     "name": "stdout",
     "output_type": "stream",
     "text": [
      "5050\n"
     ]
    }
   ],
   "source": [
    "def recursive_sum(n):\n",
    "    if n==1:\n",
    "        return n\n",
    "    return n + recursive_sum(n-1)\n",
    "\n",
    "print(reculsive_sum(100))"
   ]
  },
  {
   "cell_type": "code",
   "execution_count": 120,
   "metadata": {},
   "outputs": [
    {
     "name": "stdout",
     "output_type": "stream",
     "text": [
      "fibonacci(1) = 0\n",
      "fibonacci(2) = 1\n",
      "fibonacci(3) = 1\n",
      "fibonacci(4) = 2\n",
      "fibonacci(5) = 3\n",
      "fibonacci(6) = 5\n",
      "fibonacci(7) = 8\n",
      "fibonacci(8) = 13\n",
      "fibonacci(9) = 21\n",
      "fibonacci(10) = 34\n",
      "fibonacci(11) = 55\n",
      "fibonacci(12) = 89\n",
      "fibonacci(13) = 144\n",
      "fibonacci(14) = 233\n",
      "fibonacci(15) = 377\n",
      "fibonacci(16) = 610\n",
      "fibonacci(17) = 987\n",
      "fibonacci(18) = 1597\n",
      "fibonacci(19) = 2584\n",
      "fibonacci(20) = 4181\n"
     ]
    }
   ],
   "source": [
    "def fibonacci(n):\n",
    "    if n==0 or n==1:\n",
    "        return n;\n",
    "    return fibonacci(n-1) + fibonacci(n-2)\n",
    "\n",
    "for i in range(20):\n",
    "    print(f'fibonacci({i+1}) = {fibonacci(i)}')"
   ]
  },
  {
   "cell_type": "code",
   "execution_count": null,
   "metadata": {},
   "outputs": [],
   "source": []
  }
 ],
 "metadata": {
  "interpreter": {
   "hash": "5fca21ad9a88cea9ca2415063f0b9d5458bbf828e19cdb66b895214e4b1718d2"
  },
  "kernelspec": {
   "display_name": "Python 3.10.0 64-bit",
   "language": "python",
   "name": "python3"
  },
  "language_info": {
   "codemirror_mode": {
    "name": "ipython",
    "version": 3
   },
   "file_extension": ".py",
   "mimetype": "text/x-python",
   "name": "python",
   "nbconvert_exporter": "python",
   "pygments_lexer": "ipython3",
   "version": "3.10.0"
  },
  "orig_nbformat": 4
 },
 "nbformat": 4,
 "nbformat_minor": 2
}
